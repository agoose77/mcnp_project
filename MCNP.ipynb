{
 "cells": [
  {
   "cell_type": "markdown",
   "metadata": {},
   "source": [
    "# MCNP project simulations"
   ]
  },
  {
   "cell_type": "markdown",
   "metadata": {},
   "source": [
    "Lessons learned from MCNP4\n",
    "* Plotting window doesn't show boundary errors necessarily intuitively \n",
    "* KCODE may require specifying upper bound on alloc space (10x n hist here)\n",
    "* VOL card ignores cell numbers, and instead uses definition order"
   ]
  },
  {
   "cell_type": "code",
   "execution_count": null,
   "metadata": {},
   "outputs": [],
   "source": [
    "from bokeh import plotting as plt\n",
    "from bokeh.io import output_notebook\n",
    "output_notebook()"
   ]
  },
  {
   "cell_type": "code",
   "execution_count": null,
   "metadata": {},
   "outputs": [],
   "source": [
    "import sys\n",
    "sys.path.append(\"py_cfg_parsing\")"
   ]
  },
  {
   "cell_type": "code",
   "execution_count": null,
   "metadata": {},
   "outputs": [],
   "source": [
    "import pathlib\n",
    "mcnp_dir = pathlib.Path.cwd() / \"mcnp\""
   ]
  },
  {
   "cell_type": "markdown",
   "metadata": {},
   "source": [
    "# Load secrets"
   ]
  },
  {
   "cell_type": "code",
   "execution_count": null,
   "metadata": {},
   "outputs": [],
   "source": [
    "from plumbum import cmd\n",
    "\n",
    "lookup_secret = lambda field: cmd.secret_tool(\"lookup\", \"app\", \"phymat\", \"field\", field).strip()\n",
    "user = lookup_secret(\"user\")\n",
    "domain = lookup_secret(\"domain\")\n",
    "port = lookup_secret(\"port\")\n",
    "password = lookup_secret(\"password\")"
   ]
  },
  {
   "cell_type": "markdown",
   "metadata": {},
   "source": [
    "# Start SSH file system"
   ]
  },
  {
   "cell_type": "code",
   "execution_count": null,
   "metadata": {},
   "outputs": [],
   "source": [
    "import pexpect\n",
    "p = pexpect.spawn('bash')\n",
    "p.sendline(f'sshfs {user}@{domain}:mcnp {mcnp_dir} -p {port}')\n",
    "p.expect(\"password:\")\n",
    "p.sendline(password)\n",
    "p.sendline('exit')\n",
    "p.expect_exact(pexpect.EOF)"
   ]
  },
  {
   "cell_type": "markdown",
   "metadata": {},
   "source": [
    "# Define SSH session & commands"
   ]
  },
  {
   "cell_type": "code",
   "execution_count": null,
   "metadata": {},
   "outputs": [],
   "source": [
    "from plumbum.machines.paramiko_machine import ParamikoMachine\n",
    "    \n",
    "remote = ParamikoMachine(domain, user, port, password, keep_alive=30)\n",
    "remote._cwd = remote.cwd.chdir('mcnp')\n",
    "        \n",
    "mcnp = remote['./mcnp']\n",
    "\n",
    "def clean():\n",
    "    z =  [(\"-I\", n) for n in (\"mcnp\", \"examples\", \"utils\", \"pt1.tex\", \"*.ip\")] \n",
    "    filenames = remote['ls'](*chain(*z)).splitlines()\n",
    "    if filenames:\n",
    "        remote['rm'](*filenames)"
   ]
  },
  {
   "cell_type": "markdown",
   "metadata": {},
   "source": [
    "# Output highlighting"
   ]
  },
  {
   "cell_type": "code",
   "execution_count": null,
   "metadata": {},
   "outputs": [],
   "source": [
    "from colorama import Fore\n",
    "from itertools import chain\n",
    "import re\n",
    "\n",
    "replacers = {r'warning\\.': Fore.YELLOW, r'fatal error\\.': Fore.RED, \n",
    "             r'\\d+ particles got lost.': Fore.RED}\n",
    "\n",
    "def _highlight(string, replacers):\n",
    "    pattern = '|'.join(f'({p})' for p in replacers)\n",
    "    def replacer(m):\n",
    "        code = next(v for i, v in enumerate(replacers.values()) if m.groups()[i] is not None)\n",
    "        return f\"{code}{m.group(0)}{Fore.RESET}\"\n",
    "    return re.sub(pattern, replacer, string)\n",
    "    \n",
    "def prettify(text):\n",
    "    print(_highlight(text, replacers))"
   ]
  },
  {
   "cell_type": "markdown",
   "metadata": {},
   "source": [
    "# Part 1"
   ]
  },
  {
   "cell_type": "code",
   "execution_count": null,
   "metadata": {},
   "outputs": [],
   "source": [
    "%%writefile mcnp/1.ip\n",
    "MESSAGE:\n",
    "\n",
    "Practical Monte Carlo part 1. Angus Hollands\n",
    "C\n",
    "C Cells\n",
    "1 1 -7.92 1 -2 3 -4 5 -6 (-7:8:-9:10:-11) $ Walls\n",
    "2 0 (-1:2:-3:4:-5:6) $ Void\n",
    "3 2 -1.0 7 -8 9 -10 11 -12 $ Water\n",
    "4 0 7 -8 9 -10 12 -6 $ Air gap (void)\n",
    "\n",
    "C Surfaces\n",
    "C Define outer walls\n",
    "1 PX -5.20\n",
    "2 PX 5.20\n",
    "3 PY -10.20\n",
    "4 PY 10.20\n",
    "5 PZ 0.0\n",
    "6 PZ 20.0\n",
    "C Define XY wall surfaces\n",
    "7 PX -5.00\n",
    "8 PX 5.00\n",
    "9 PY -10.0\n",
    "10 PY 10.0\n",
    "C Define Z wall / water surfaces\n",
    "11 PZ 0.20\n",
    "12 PZ 19.0\n",
    "\n",
    "C Cell importance MAP\n",
    "IMP:N 1 0 1 1         $  s\n",
    "M1   26000.42c -0.74 24000.42c -0.18 28000.42c -0.08 $ Stainless steel\n",
    "M2   1001.42c 2.0  8016.42c 1.0   $ Pure water\n",
    "MT2 lwtr.01\n",
    "C Tallying energy fluence (nX where X is type (2) and n an ID: {1, 2, ...})\n",
    "F12:N (1 2)\n",
    "F22:N (3 4)\n",
    "C F32:N (1 2 3 4)\n",
    "C Tally energy bins for all tallies (log 10 space)\n",
    "E0 1E-9 1E-8 1E-7 1E-6 1E-5 1E-4 1E-3 1E-2 1E-1 1 10\n",
    "C MC type\n",
    "MODE N\n",
    "C Thermal neutron induced fission of 235U at (0,0,22mm)\n",
    "SDEF POS=0.0 0.0 2.2 ERG=D1\n",
    "SP1  -3 0.988 2.249\n",
    "C NUMBER OF PARTICLE HISTORIES TO RUN\n",
    "NPS  210000\n",
    "PRDMP 0 0 1 1 0"
   ]
  },
  {
   "cell_type": "code",
   "execution_count": null,
   "metadata": {},
   "outputs": [],
   "source": [
    "clean()"
   ]
  },
  {
   "cell_type": "code",
   "execution_count": null,
   "metadata": {},
   "outputs": [],
   "source": [
    "prettify(mcnp(\"inp=1.ip\", \"mctal=1.b.ta\"))"
   ]
  },
  {
   "cell_type": "markdown",
   "metadata": {},
   "source": [
    "# Part 3"
   ]
  },
  {
   "cell_type": "code",
   "execution_count": null,
   "metadata": {},
   "outputs": [],
   "source": [
    "part_3_template =\\\n",
    "\"\"\"MESSAGE:\n",
    "\n",
    "{description}\n",
    "C Cells\n",
    "1 4 -19.2 -3 -2 11 $ Uranium source 1\n",
    "2 4 -19.2 -4 -2 11 $ Uranium source 2\n",
    "3 4 -19.2 -5 -2 11 $ Uranium source 3\n",
    "4 4 -19.2 -6 -2 11 $ Uranium source 4\n",
    "5 3 -{moderator_density} 13 -14 15 -16 11 -12 ((3 4 5 6):2) $ Moderator\n",
    "6 1 -7.92 7 -8 9 -10 17 -18 (-13:14:-15:16:-11) $ Wall\n",
    "7 2 -2.3 -17 19 -20 $ Concrete floor\n",
    "C Void region within bounding volume, outside of the bucket, including air gap:\n",
    "8 0      (17 -18 -20 (-7:8:-9:10)):(13 -14 15 -16 12 -18) \n",
    "9 0      (20:-19:18) $ Bounding cylindrical void region of 0 neutron importance\n",
    "\n",
    "C Source surfaces\n",
    "2 PZ 25.2\n",
    "3 C/Z -20 0 7.5\n",
    "4 C/Z 0 20 7.5\n",
    "5 C/Z 20 0 7.5\n",
    "6 C/Z 0 -20 7.5\n",
    "C External surfaces\n",
    "7 PX -50.2\n",
    "8 PX 50.2\n",
    "9 PY -50.2\n",
    "10 PY 50.2\n",
    "11 PZ 0.2\n",
    "12 PZ 58.0\n",
    "C Internal surfaces\n",
    "13 PX -50\n",
    "14 PX 50\n",
    "15 PY -50\n",
    "16 PY 50\n",
    "17 PZ 0\n",
    "18 PZ 60\n",
    "C Concrete floor lower surface\n",
    "19 PZ -150.0 \n",
    "20 CZ 200\n",
    "\n",
    "MODE N\n",
    "KCODE 1000 1.0 200 1000\n",
    "KSRC 20 0 12.7 -20 0 12.7 0 20 12.7 0 -20 12.7\n",
    "M1  26000.42c -0.74 24000.42c -0.18 28000.42c -0.08 $ Stainless steel\n",
    "M2  8016.42c -0.53 14000.42c -0.34 20000.42c -0.10 1001.42c -0.03 $ Concrete\n",
    "M3  {moderator_def}\n",
    "MT3 {moderator_treatment}\n",
    "M4  92238.42c -{x_238} 92235.42c -{x_235} $ 80% 238U, 20% 235U\n",
    "IMP:N 1 1 1 1 1 1 1 1 0\"\"\""
   ]
  },
  {
   "cell_type": "markdown",
   "metadata": {},
   "source": [
    "# Define async running tools"
   ]
  },
  {
   "cell_type": "code",
   "execution_count": null,
   "metadata": {},
   "outputs": [],
   "source": [
    "import ipywidgets as widgets \n",
    "from plumbum import BG\n",
    "from re import compile\n",
    "import asyncio\n",
    "\n",
    "tab = widgets.Tab()\n",
    "\n",
    "k_pattern = compile(f\"final k\\(col\\/abs\\/trk len\\) = (\\d+\\.\\d+)     std dev = (\\d+\\.\\d+)\") \n",
    "err_pattern = compile(f\"fatal error.  (.+)\\n\") \n",
    "\n",
    "def parse_stdout_for_k_eff(string):\n",
    "    match = k_pattern.search(string)\n",
    "    if match is None:\n",
    "        return err_pattern.search(string).group()\n",
    "    return match.group() \n",
    "\n",
    "\n",
    "async def wait_proc(proc, sleep_interval=0.2):\n",
    "    while not proc.poll():\n",
    "        await asyncio.sleep(sleep_interval)\n",
    "\n",
    "\n",
    "def run_mcnp_async(input_name, tally_name):\n",
    "    async def coro():\n",
    "        try:\n",
    "            label = widgets.Label('Waiting ...')\n",
    "            tab.children = [*tab.children, label]\n",
    "            tab.set_title(len(tab.children)-1, input_name)\n",
    "\n",
    "            process = mcnp[f\"inp={input_name}\", f\"mctal={tally_name}\"] & BG\n",
    "            await wait_proc(process)\n",
    "\n",
    "            result = parse_stdout_for_k_eff(process.stdout)\n",
    "            label.value = result\n",
    "            return result\n",
    "        \n",
    "        finally:\n",
    "            import traceback\n",
    "            traceback.print_exc()\n",
    "    return asyncio.ensure_future(coro())"
   ]
  },
  {
   "cell_type": "markdown",
   "metadata": {},
   "source": [
    "# 3.a"
   ]
  },
  {
   "cell_type": "code",
   "execution_count": null,
   "metadata": {},
   "outputs": [],
   "source": [
    "x_235 = 0.2\n",
    "source_info = dict(x_235=x_235, x_238=1-x_235)\n",
    "water_info = dict(moderator_def=\"1001.42c 2 8016.42c 1\",\n",
    "                  moderator_treatment=\"lwtr.01\",\n",
    "                  moderator_density=1.0)\n",
    "\n",
    "(mcnp_dir/\"3.a.ip\").write_text(\n",
    "    part_3_template.format(**water_info, **source_info, description=\"Water moderated example\")\n",
    ")"
   ]
  },
  {
   "cell_type": "markdown",
   "metadata": {},
   "source": [
    "# 3.c Replace water with graphite"
   ]
  },
  {
   "cell_type": "code",
   "execution_count": null,
   "metadata": {},
   "outputs": [],
   "source": [
    "graphite_info = dict(moderator_def=\"6012.42c 1.0   $ Graphite\", \n",
    "                     moderator_treatment=\"GRPH.01\",\n",
    "                     moderator_density=1.7)\n",
    "\n",
    "(mcnp_dir/\"3.c.ip\").write_text(\n",
    "    part_3_template.format(**graphite_info, **source_info, description=\"Graphite moderated example\")\n",
    ")"
   ]
  },
  {
   "cell_type": "markdown",
   "metadata": {},
   "source": [
    "# 3.d Graphite and Uranium increased enrichment"
   ]
  },
  {
   "cell_type": "code",
   "execution_count": null,
   "metadata": {},
   "outputs": [],
   "source": [
    "x_235 = 0.25\n",
    "source_info = dict(x_235=x_235, x_238=1-x_235)\n",
    "\n",
    "(mcnp_dir/\"3.d.1.ip\").write_text(\n",
    "    part_3_template.format(**water_info, **source_info, description=\"Water moderated example\")\n",
    ")\n",
    "\n",
    "(mcnp_dir/\"3.d.2.ip\").write_text(\n",
    "    part_3_template.format(**graphite_info, **source_info, description=\"Graphite moderated example\")\n",
    ")"
   ]
  },
  {
   "cell_type": "markdown",
   "metadata": {},
   "source": [
    "# Run simulations"
   ]
  },
  {
   "cell_type": "code",
   "execution_count": null,
   "metadata": {},
   "outputs": [],
   "source": [
    "async def as_finished(futures):\n",
    "    pending = set(futures)\n",
    "    \n",
    "    queue = asyncio.Queue()\n",
    "    def _on_done(fut):\n",
    "        queue.put_nowait(fut)\n",
    "    \n",
    "    for f in futures:\n",
    "        f.add_done_callback(_on_done)\n",
    "        \n",
    "    while pending:\n",
    "        fut = await queue.get()\n",
    "        yield fut\n",
    "        pending.remove(fut)\n",
    "        \n",
    "\n",
    "async def print_as_finished(*tasks):\n",
    "    import re\n",
    "    p = re.compile(r\"final k\\(col/abs/trk len\\) = ([^ ]+)     std dev = ([^ ]+)\")\n",
    "    async for t in as_finished(tasks):\n",
    "        i = tasks.index(t)\n",
    "\n",
    "        x, dx = p.match(t.result()).groups((1,2))\n",
    "        print(rf\"result[{i}] = \\num{{{x} \\pm {dx}}}\")"
   ]
  },
  {
   "cell_type": "code",
   "execution_count": null,
   "metadata": {},
   "outputs": [],
   "source": [
    "f1 = run_mcnp_async(\"3.a.ip\", \"tal3.a\")\n",
    "f2 = run_mcnp_async(\"3.c.ip\", \"tal3.c\")\n",
    "f3 = run_mcnp_async(\"3.d.1.ip\", \"tal3.d.1\")\n",
    "f4 = run_mcnp_async(\"3.d.2.ip\", \"tal3.d.2\")\n",
    "asyncio.ensure_future(print_as_finished(f1, f2, f3, f4))\n",
    "tab"
   ]
  },
  {
   "cell_type": "markdown",
   "metadata": {},
   "source": [
    "# Plotting"
   ]
  },
  {
   "cell_type": "code",
   "execution_count": null,
   "metadata": {},
   "outputs": [],
   "source": [
    "from mctal import tokenizer\n",
    "from derp import parse\n",
    "import numpy as np\n",
    "from mctal import g\n",
    "\n",
    "from bokeh.palettes import Spectral10\n",
    "from bokeh.io import export_svgs\n",
    "from bokeh.models import Whisker, ColumnDataSource\n",
    "\n",
    "colours = iter(Spectral10)\n",
    "\n",
    "\n",
    "fig = plt.figure(x_axis_type='log', x_axis_label=\"Energy /MeV\", y_axis_label=\"Flux (1/cm^2)\", \n",
    "                 plot_width=1200, plot_height=400, \n",
    "                 tools='crosshair,pan,wheel_zoom,box_zoom,reset,hover',\n",
    "                 output_backend='svg')\n",
    "\n",
    "name = \"tallies.svg\"\n",
    "for p in mcnp_dir.glob(\"1.b.ta\"):\n",
    "    tokens = [*tokenizer.tokenize_file(p)]\n",
    "    mctal = next(iter(parse(g.mctal, tokens)))\n",
    "\n",
    "    for i, tally in enumerate(mctal.tallies):\n",
    "        edges = np.array(tally.energies.values)\n",
    "        x = (np.r_[0, edges[:-1]] + edges) / 2        \n",
    "        data = np.array(tally.data)[:-1]\n",
    "        y,err = data.T\n",
    "        \n",
    "#         area = (y * edges).sum()\n",
    "#         y/=area\n",
    "        source_error = ColumnDataSource(data=dict(base=x, lower=y*(1-err), upper=y*(1+err)))\n",
    "\n",
    "        fig.add_layout(\n",
    "            Whisker(source=source_error, base=\"base\", upper=\"upper\", lower=\"lower\")\n",
    "        )\n",
    "        fig.line(x, y, color=next(colours), legend=f'Tally {tally.problem_id}')\n",
    "        print(f'Tally {tally.problem_id}', np.sqrt(((err*y)**2).sum()))\n",
    "        \n",
    "plt.show(fig)\n",
    "export_svgs(fig, name)\n",
    "!inkscape {name} -e {name[:-4]}.png --without-gui"
   ]
  },
  {
   "cell_type": "code",
   "execution_count": null,
   "metadata": {},
   "outputs": [],
   "source": [
    "def f(E, a, b):\n",
    "    return np.exp(-E/a)*np.sinh(np.sqrt(b*E))\n",
    "def fm(E, Em, Km):\n",
    "    return Km * np.sqrt(E)*np.exp(-E/Em)\n",
    "def fw(E,aw,bw,Kw):\n",
    "    return Kw * np.exp(-E/aw)*np.sinh(np.sqrt(bw*E))\n",
    "def f(E,aw,bw,Kw,Km,Em,wm):\n",
    "    return wm*fm(E,Em,Km) + (1-wm)*fw(E,aw,bw,Kw)\n",
    "\n",
    "x = np.logspace(np.log10(0.1*MeV), np.log10(14*MeV), 1000) \n",
    "y = f(x,\n",
    "      aw=.6859*MeV,\n",
    "      bw=9.366/MeV,\n",
    "      Km=1,\n",
    "      Kw=1,\n",
    "      Em=1.316 * MeV,\n",
    "      wm=.7424\n",
    "     )\n",
    "\n",
    "\n",
    "fig = plt.figure(x_axis_type='log', x_axis_label=\"Energy /MeV\", y_axis_label=\"f(x)\", \n",
    "                 plot_width=1200, plot_height=400, \n",
    "                 tools='crosshair,pan,wheel_zoom,box_zoom,reset,hover',\n",
    "                 output_backend='svg')\n",
    "fig.line(x, y)\n",
    "plt.show(fig)\n",
    "export_svgs(fig, 'watt_spectrum_235_u.svg')\n",
    "!inkscape 'watt_spectrum_235_u.svg' -e 'watt_spectrum_235_u.png' --without-gui\n",
    "# !inkscape {name} -e {name[:-4]}.png --without-gui!"
   ]
  },
  {
   "cell_type": "code",
   "execution_count": null,
   "metadata": {},
   "outputs": [],
   "source": [
    "# plot two exponentials against one another"
   ]
  },
  {
   "cell_type": "code",
   "execution_count": null,
   "metadata": {},
   "outputs": [],
   "source": [
    "from contextlib import contextmanager\n",
    "\n",
    "@contextmanager\n",
    "def preserve_fs():\n",
    "    files = remote['ls']().split()\n",
    "    yield\n",
    "    new_files = set(remote['ls']().split()).difference(files)\n",
    "    if new_files:\n",
    "        remote['rm'](*new_files)"
   ]
  },
  {
   "cell_type": "code",
   "execution_count": null,
   "metadata": {},
   "outputs": [],
   "source": [
    "# with preserve_fs():\n",
    "#     prettify(mcnp(\"inp=hc.ip\", \"mctal=hc.ta\"))"
   ]
  },
  {
   "cell_type": "markdown",
   "metadata": {},
   "source": [
    "## Emin's work"
   ]
  },
  {
   "cell_type": "code",
   "execution_count": null,
   "metadata": {},
   "outputs": [],
   "source": [
    "%%writefile mcnp/hc.ip\n",
    "Hazel Carter - Problem 1\n",
    "C\n",
    "C\n",
    "C CELL CARDS\n",
    "C FORMAT: [Cell id number][Material id number][Material density][Surfaces]$[Comment]\n",
    "C  \n",
    "1 1 -7.92 6 -8 2 -4 9 -11 (-5:7:-1:3:-10) $Bucket Walls - Stainless Steel [density 7.92g/cm^3]\n",
    "C\n",
    "2 0 (-6:8:-2:4:11:-13)  $Void outside Bucket\n",
    "C\n",
    "3 2 -1.0 5 -7 1 -3 10 -12  $Water inside Bucket - Pure Water [density 1 g/cm^3]\n",
    "C\n",
    "4 0 5 -7 1 -3 12 -11  $Air gap - void\n",
    "C\n",
    "5 3 -2.3 -9 13 6 -8 2 -4 $Concrete floor - Concrete [density 2.3 g/cm^3]\n",
    "C\n",
    "6 4 -19.2 10 -14 -18 $Uranium Rod 1\n",
    "7 4 -19.2 10 -15 -18 $Uranium Rod 2\n",
    "8 4 -19.2 10 -16 -18 $Uranium Rod 3\n",
    "9 4 -19.2 10 -17 -18 $Uranium Rod 4\n",
    "C\n",
    "\n",
    "C\n",
    "C SURFACE CARDS\n",
    "C FORMAT: [Surface id number][Surface type][Characteristic dimensions, cm]\n",
    "C\n",
    "C Stainless Steel Bucket:\n",
    "1     PX   -50.0\n",
    "2     PX   -50.2\n",
    "3     PX   50.0\n",
    "4     PX   50.2\n",
    "5     PY   -50.0\n",
    "6     PY   -50.2\n",
    "7     PY   50.0\n",
    "8     PY   50.2\n",
    "9     PZ   0.0\n",
    "10    PZ   0.2\n",
    "11    PZ   60.0 $Bucket Top\n",
    "C Water Level:\n",
    "12    PZ   58.0 $Water Surface\n",
    "C\n",
    "C Concrete floor:\n",
    "13    PZ -60.0\n",
    "C\n",
    "C Uranium Rods:\n",
    "14 C/Z 0 -20 7.5  $Cylinder of radius 7.5 parrel to z axis \n",
    "15 C/Z 0 20 7.5\n",
    "16 C/Z 20 0 7.5\n",
    "17 C/Z -20 0 7.5\n",
    "18 PZ 25.2\n",
    "C\n",
    "\n",
    "C\n",
    "C CELL IMPORTANCE MAP  \n",
    "C FORMAT: [Particle type][Importance of Cell in order they appear in file]\n",
    "IMP:N 1 0 1 1 1 1 1 1 1\n",
    "C\n",
    "C\n",
    "C MATERIAL CARDS\n",
    "C FORMAT: M[Material id number][ZZ][AAA][id][Concentration]\n",
    "C\n",
    "M1   26000.42c -0.74 24000.42c -0.18 28000.42c -0.08 $Stainless Steel: 74% iron, 18% chromium, 8% nickel.\n",
    "M2   1001.42c 2.0 8016.42c 1.0 $Pure Water: 2 hyrdogen, 1 oxygen.\n",
    "M3   8016.42c -0.53 14000.42c -0.34 20000.42c -0.10 1001.42c -0.03 $Concrete: 53% oxygen, 34% silicon, 10% calcium, 3% hydrogen.\n",
    "M4   92238.42c -0.8 92235.42c -0.2 $Enriched Uranium: 80% U-238, 20% U-235.\n",
    "C\n",
    "C\n",
    "C MODE CARD\n",
    "C FORMAT: MODE[Particle Type]\n",
    "MODE N $Neutrons Only                        \n",
    "C\n",
    "C\n",
    "C SOURCE DEFINITION (KCODE)\n",
    "C FORMAT: [NSRCK][RKK][IKZ][KCT][MSRK][KNRM][MRKP][KC8]\n",
    "C\n",
    "C KCODE 1000 0.8 100 1100\n",
    "C KSRC 20 20 12.5 20 -20 12.5 -20 20 12.5 -20 -20 12.5 "
   ]
  },
  {
   "cell_type": "code",
   "execution_count": null,
   "metadata": {},
   "outputs": [],
   "source": [
    "tab.children = []\n",
    "tab"
   ]
  },
  {
   "cell_type": "code",
   "execution_count": null,
   "metadata": {},
   "outputs": [],
   "source": [
    "from itertools import count\n",
    "\n",
    "async def launch():\n",
    "    counter = count()\n",
    "\n",
    "    futs = []\n",
    "    for x_235 in [0.2, 0.25]:\n",
    "        source_info = dict(x_235=x_235, x_238=1-x_235)\n",
    "\n",
    "        for mod_info in (water_info, graphite_info):\n",
    "            i = next(counter)\n",
    "            f_name = f\"em.{i}.ip\"\n",
    "\n",
    "            (mcnp_dir/f_name).write_text(\n",
    "                emin_template.format(**mod_info, **source_info, description=\"Water moderated example\")\n",
    "            )\n",
    "            fut = run_mcnp_async(f_name, \"emin.tal\")\n",
    "            futs.append(fut)\n",
    "            await asyncio.sleep(3.0)\n",
    "    await print_as_finished(futs)\n",
    "            \n",
    "asyncio.ensure_future(launch())"
   ]
  },
  {
   "cell_type": "code",
   "execution_count": null,
   "metadata": {},
   "outputs": [],
   "source": [
    "import pexpect\n",
    "emin_mcnp_dir = pathlib.Path.cwd() / \"emin\"\n",
    "\n",
    "user = \"exh478\"\n",
    "password = \"1Forrest1\"\n",
    "p = pexpect.spawn('bash')\n",
    "p.sendline(f'sshfs {user}@{domain}:mcnpdir {emin_mcnp_dir} -p {port}')\n",
    "p.expect(\"password:\")\n",
    "p.sendline(password)\n",
    "p.sendline('exit')\n",
    "p.expect_exact(pexpect.EOF)\n",
    "\n",
    "for i in range(1, 5):\n",
    "    fname = f\"em.{i}.ip\"\n",
    "    (emin_mcnp_dir/fname).write_text((mcnp_dir / fname).read_text())"
   ]
  },
  {
   "cell_type": "code",
   "execution_count": null,
   "metadata": {},
   "outputs": [],
   "source": []
  },
  {
   "cell_type": "code",
   "execution_count": null,
   "metadata": {},
   "outputs": [],
   "source": [
    "from pygments.lexer import RegexLexer\n",
    "from pygments.token import *\n",
    "\n",
    "class DiffLexer(RegexLexer):\n",
    "    name = 'Diff'\n",
    "    aliases = ['diff']\n",
    "    filenames = ['*.diff']\n",
    "\n",
    "    tokens = {\n",
    "        'root': [\n",
    "            (r' .*\\n', Text),\n",
    "            (r'\\+.*\\n', Generic.Inserted),\n",
    "            (r'-.*\\n', Generic.Deleted),\n",
    "            (r'@.*\\n', Generic.Subheading),\n",
    "            (r'Index.*\\n', Generic.Heading),\n",
    "            (r'=.*\\n', Generic.Heading),\n",
    "            (r'.*\\n', Text),\n",
    "        ]\n",
    "    }\n"
   ]
  }
 ],
 "metadata": {
  "kernelspec": {
   "display_name": "Python 3",
   "language": "python",
   "name": "python3"
  },
  "language_info": {
   "codemirror_mode": {
    "name": "ipython",
    "version": 3
   },
   "file_extension": ".py",
   "mimetype": "text/x-python",
   "name": "python",
   "nbconvert_exporter": "python",
   "pygments_lexer": "ipython3",
   "version": "3.6.3"
  }
 },
 "nbformat": 4,
 "nbformat_minor": 2
}
