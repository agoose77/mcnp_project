{
 "cells": [
  {
   "cell_type": "markdown",
   "metadata": {},
   "source": [
    "# MCNP project simulations"
   ]
  },
  {
   "cell_type": "markdown",
   "metadata": {},
   "source": [
    "Lessons learned from MCNP4\n",
    "* Plotting window doesn't show boundary errors necessarily intuitively \n",
    "* KCODE may require specifying upper bound on alloc space (10x n hist here)\n",
    "* VOL card ignores cell numbers, and instead uses definition order"
   ]
  },
  {
   "cell_type": "code",
   "execution_count": 59,
   "metadata": {},
   "outputs": [
    {
     "name": "stdout",
     "output_type": "stream",
     "text": [
      "Collecting jupyterlab_latex\n",
      "  Downloading jupyterlab_latex-0.2.1-py3-none-any.whl\n",
      "Requirement already satisfied: notebook in /home/angus/.local/share/virtualenvs/mcnp_project-EYhqo_wP/lib/python3.6/site-packages (from jupyterlab_latex)\n",
      "Requirement already satisfied: Send2Trash in /home/angus/.local/share/virtualenvs/mcnp_project-EYhqo_wP/lib/python3.6/site-packages (from notebook->jupyterlab_latex)\n",
      "Requirement already satisfied: jupyter-core>=4.4.0 in /home/angus/.local/share/virtualenvs/mcnp_project-EYhqo_wP/lib/python3.6/site-packages (from notebook->jupyterlab_latex)\n",
      "Requirement already satisfied: tornado>=4 in /home/angus/.local/share/virtualenvs/mcnp_project-EYhqo_wP/lib/python3.6/site-packages (from notebook->jupyterlab_latex)\n",
      "Requirement already satisfied: terminado>=0.8.1 in /home/angus/.local/share/virtualenvs/mcnp_project-EYhqo_wP/lib/python3.6/site-packages (from notebook->jupyterlab_latex)\n",
      "Requirement already satisfied: jinja2 in /home/angus/.local/share/virtualenvs/mcnp_project-EYhqo_wP/lib/python3.6/site-packages (from notebook->jupyterlab_latex)\n",
      "Requirement already satisfied: nbconvert in /home/angus/.local/share/virtualenvs/mcnp_project-EYhqo_wP/lib/python3.6/site-packages (from notebook->jupyterlab_latex)\n",
      "Requirement already satisfied: traitlets>=4.2.1 in /home/angus/.local/share/virtualenvs/mcnp_project-EYhqo_wP/lib/python3.6/site-packages (from notebook->jupyterlab_latex)\n",
      "Requirement already satisfied: ipython-genutils in /home/angus/.local/share/virtualenvs/mcnp_project-EYhqo_wP/lib/python3.6/site-packages (from notebook->jupyterlab_latex)\n",
      "Requirement already satisfied: nbformat in /home/angus/.local/share/virtualenvs/mcnp_project-EYhqo_wP/lib/python3.6/site-packages (from notebook->jupyterlab_latex)\n",
      "Requirement already satisfied: jupyter-client>=5.2.0 in /home/angus/.local/share/virtualenvs/mcnp_project-EYhqo_wP/lib/python3.6/site-packages (from notebook->jupyterlab_latex)\n",
      "Requirement already satisfied: ipykernel in /home/angus/.local/share/virtualenvs/mcnp_project-EYhqo_wP/lib/python3.6/site-packages (from notebook->jupyterlab_latex)\n",
      "Requirement already satisfied: ptyprocess; os_name != \"nt\" in /home/angus/.local/share/virtualenvs/mcnp_project-EYhqo_wP/lib/python3.6/site-packages (from terminado>=0.8.1->notebook->jupyterlab_latex)\n",
      "Requirement already satisfied: MarkupSafe>=0.23 in /home/angus/.local/share/virtualenvs/mcnp_project-EYhqo_wP/lib/python3.6/site-packages (from jinja2->notebook->jupyterlab_latex)\n",
      "Requirement already satisfied: mistune>=0.7.4 in /home/angus/.local/share/virtualenvs/mcnp_project-EYhqo_wP/lib/python3.6/site-packages (from nbconvert->notebook->jupyterlab_latex)\n",
      "Requirement already satisfied: pandocfilters>=1.4.1 in /home/angus/.local/share/virtualenvs/mcnp_project-EYhqo_wP/lib/python3.6/site-packages (from nbconvert->notebook->jupyterlab_latex)\n",
      "Requirement already satisfied: bleach in /home/angus/.local/share/virtualenvs/mcnp_project-EYhqo_wP/lib/python3.6/site-packages (from nbconvert->notebook->jupyterlab_latex)\n",
      "Requirement already satisfied: entrypoints>=0.2.2 in /home/angus/.local/share/virtualenvs/mcnp_project-EYhqo_wP/lib/python3.6/site-packages (from nbconvert->notebook->jupyterlab_latex)\n",
      "Requirement already satisfied: pygments in /home/angus/.local/share/virtualenvs/mcnp_project-EYhqo_wP/lib/python3.6/site-packages (from nbconvert->notebook->jupyterlab_latex)\n",
      "Requirement already satisfied: testpath in /home/angus/.local/share/virtualenvs/mcnp_project-EYhqo_wP/lib/python3.6/site-packages (from nbconvert->notebook->jupyterlab_latex)\n",
      "Requirement already satisfied: decorator in /home/angus/.local/share/virtualenvs/mcnp_project-EYhqo_wP/lib/python3.6/site-packages (from traitlets>=4.2.1->notebook->jupyterlab_latex)\n",
      "Requirement already satisfied: six in /home/angus/.local/share/virtualenvs/mcnp_project-EYhqo_wP/lib/python3.6/site-packages (from traitlets>=4.2.1->notebook->jupyterlab_latex)\n",
      "Requirement already satisfied: jsonschema!=2.5.0,>=2.4 in /home/angus/.local/share/virtualenvs/mcnp_project-EYhqo_wP/lib/python3.6/site-packages (from nbformat->notebook->jupyterlab_latex)\n",
      "Requirement already satisfied: python-dateutil>=2.1 in /home/angus/.local/share/virtualenvs/mcnp_project-EYhqo_wP/lib/python3.6/site-packages (from jupyter-client>=5.2.0->notebook->jupyterlab_latex)\n",
      "Requirement already satisfied: pyzmq>=13 in /home/angus/.local/share/virtualenvs/mcnp_project-EYhqo_wP/lib/python3.6/site-packages (from jupyter-client>=5.2.0->notebook->jupyterlab_latex)\n",
      "Requirement already satisfied: ipython>=4.0.0 in /home/angus/.local/share/virtualenvs/mcnp_project-EYhqo_wP/lib/python3.6/site-packages (from ipykernel->notebook->jupyterlab_latex)\n",
      "Requirement already satisfied: html5lib!=1.0b1,!=1.0b2,!=1.0b3,!=1.0b4,!=1.0b5,!=1.0b6,!=1.0b7,!=1.0b8,>=0.99999999pre in /home/angus/.local/share/virtualenvs/mcnp_project-EYhqo_wP/lib/python3.6/site-packages (from bleach->nbconvert->notebook->jupyterlab_latex)\n",
      "Requirement already satisfied: pexpect; sys_platform != \"win32\" in /home/angus/.local/share/virtualenvs/mcnp_project-EYhqo_wP/lib/python3.6/site-packages (from ipython>=4.0.0->ipykernel->notebook->jupyterlab_latex)\n",
      "Requirement already satisfied: prompt-toolkit<2.0.0,>=1.0.15 in /home/angus/.local/share/virtualenvs/mcnp_project-EYhqo_wP/lib/python3.6/site-packages (from ipython>=4.0.0->ipykernel->notebook->jupyterlab_latex)\n",
      "Requirement already satisfied: backcall in /home/angus/.local/share/virtualenvs/mcnp_project-EYhqo_wP/lib/python3.6/site-packages (from ipython>=4.0.0->ipykernel->notebook->jupyterlab_latex)\n",
      "Requirement already satisfied: simplegeneric>0.8 in /home/angus/.local/share/virtualenvs/mcnp_project-EYhqo_wP/lib/python3.6/site-packages (from ipython>=4.0.0->ipykernel->notebook->jupyterlab_latex)\n",
      "Requirement already satisfied: setuptools>=18.5 in /home/angus/.local/share/virtualenvs/mcnp_project-EYhqo_wP/lib/python3.6/site-packages (from ipython>=4.0.0->ipykernel->notebook->jupyterlab_latex)\n",
      "Requirement already satisfied: jedi>=0.10 in /home/angus/.local/share/virtualenvs/mcnp_project-EYhqo_wP/lib/python3.6/site-packages (from ipython>=4.0.0->ipykernel->notebook->jupyterlab_latex)\n",
      "Requirement already satisfied: pickleshare in /home/angus/.local/share/virtualenvs/mcnp_project-EYhqo_wP/lib/python3.6/site-packages (from ipython>=4.0.0->ipykernel->notebook->jupyterlab_latex)\n",
      "Requirement already satisfied: webencodings in /home/angus/.local/share/virtualenvs/mcnp_project-EYhqo_wP/lib/python3.6/site-packages (from html5lib!=1.0b1,!=1.0b2,!=1.0b3,!=1.0b4,!=1.0b5,!=1.0b6,!=1.0b7,!=1.0b8,>=0.99999999pre->bleach->nbconvert->notebook->jupyterlab_latex)\n",
      "Requirement already satisfied: wcwidth in /home/angus/.local/share/virtualenvs/mcnp_project-EYhqo_wP/lib/python3.6/site-packages (from prompt-toolkit<2.0.0,>=1.0.15->ipython>=4.0.0->ipykernel->notebook->jupyterlab_latex)\n",
      "Requirement already satisfied: parso==0.1.1 in /home/angus/.local/share/virtualenvs/mcnp_project-EYhqo_wP/lib/python3.6/site-packages (from jedi>=0.10->ipython>=4.0.0->ipykernel->notebook->jupyterlab_latex)\n",
      "Installing collected packages: jupyterlab-latex\n",
      "Successfully installed jupyterlab-latex-0.2.1\n"
     ]
    }
   ],
   "source": [
    "!pip3 install jupyterlab_latex"
   ]
  },
  {
   "cell_type": "code",
   "execution_count": 2,
   "metadata": {},
   "outputs": [
    {
     "name": "stdout",
     "output_type": "stream",
     "text": [
      "> /usr/bin/npm pack @jupyterlab/latex\n",
      "jupyterlab-latex-0.2.1.tgz\n",
      "\u001b[?25h\u001b[0G\u001b[K\u001b[?25h\u001b[0G\u001b[K> node /home/angus/.local/share/virtualenvs/mcnp_project-EYhqo_wP/lib/python3.6/site-packages/jupyterlab/staging/yarn.js install\n",
      "\u001b[2K\u001b[1G\u001b[1myarn install v1.3.2\u001b[22m\n",
      "\u001b[2K\u001b[1G\u001b[34minfo\u001b[39m No lockfile found.\n",
      "\u001b[2K\u001b[1G\u001b[2m[1/4]\u001b[22m Resolving packages...\n",
      "\u001b[1G⠁ \u001b[0K\u001b[1G⠂ @jupyterlab/application@^0.15.4\u001b[0K\u001b[1G⠄ @jupyterlab/application@^0.15.4\u001b[0K\u001b[1G⡀ @jupyterlab/application@^0.15.4\u001b[0K\u001b[1G⢀ @jupyterlab/application@^0.15.4\u001b[0K\u001b[1G⠠ @jupyterlab/application@^0.15.4\u001b[0K\u001b[1G⠐ @jupyterlab/application@^0.15.4\u001b[0K\u001b[1G⠈ @jupyterlab/application@^0.15.4\u001b[0K\u001b[1G⠁ @jupyterlab/application@^0.15.4\u001b[0K\u001b[1G⠂ @jupyterlab/application@^0.15.4\u001b[0K\u001b[1G⠄ @jupyterlab/application@^0.15.4\u001b[0K\u001b[1G⡀ @jupyterlab/application@^0.15.4\u001b[0K\u001b[1G⢀ @jupyterlab/application@^0.15.4\u001b[0K\u001b[1G⠠ @jupyterlab/application@^0.15.4\u001b[0K\u001b[1G⠐ @jupyterlab/application@^0.15.4\u001b[0K\u001b[1G⠈ @jupyterlab/application@^0.15.4\u001b[0K\u001b[1G⠁ @jupyterlab/application@^0.15.4\u001b[0K\u001b[1G⠂ @jupyterlab/application@^0.15.4\u001b[0K\u001b[1G⠄ @phosphor/widgets@^1.5.0\u001b[0K\u001b[1G⡀ @phosphor/widgets@^1.5.0\u001b[0K\u001b[1G⢀ @phosphor/widgets@^1.5.0\u001b[0K\u001b[1G⠠ @phosphor/widgets@^1.5.0\u001b[0K\u001b[1G⠐ @phosphor/widgets@^1.5.0\u001b[0K\u001b[1G⠈ @phosphor/widgets@^1.5.0\u001b[0K\u001b[1G⠁ @phosphor/widgets@^1.5.0\u001b[0K\u001b[1G⠂ @phosphor/widgets@^1.5.0\u001b[0K\u001b[1G⠄ @phosphor/widgets@^1.5.0\u001b[0K\u001b[1G⡀ @phosphor/widgets@^1.5.0\u001b[0K\u001b[1G⢀ @phosphor/widgets@^1.5.0\u001b[0K\u001b[1G⠠ @phosphor/widgets@^1.5.0\u001b[0K\u001b[1G⠐ @phosphor/widgets@^1.5.0\u001b[0K\u001b[1G⠈ ws@~1.1.4\u001b[0K\u001b[1G⠁ @jupyterlab/codemirror@^0.15.4\u001b[0K\u001b[1G⠂ @jupyterlab/codemirror@^0.15.4\u001b[0K\u001b[1G⠄ @jupyterlab/codemirror@^0.15.4\u001b[0K\u001b[1G⡀ @jupyterlab/codemirror@^0.15.4\u001b[0K\u001b[1G⢀ url-parse@~1.1.9\u001b[0K\u001b[1G⠠ is-stream@^1.0.1\u001b[0K\u001b[1G⠐ ultron@1.0.x\u001b[0K\u001b[1G⠈ ultron@1.0.x\u001b[0K\u001b[1G⠁ marked@~0.3.9\u001b[0K\u001b[1G⠂ marked@~0.3.9\u001b[0K\u001b[1G⠄ marked@~0.3.9\u001b[0K\u001b[1G⡀ marked@~0.3.9\u001b[0K\u001b[1G⢀ @phosphor/collections@^1.1.2\u001b[0K\u001b[1G⠠ @phosphor/collections@^1.1.2\u001b[0K\u001b[1G⠐ @phosphor/collections@^1.1.2\u001b[0K\u001b[1G⠈ @phosphor/collections@^1.1.2\u001b[0K\u001b[1G⠁ @phosphor/collections@^1.1.2\u001b[0K\u001b[1G⠂ @phosphor/collections@^1.1.2\u001b[0K\u001b[1G⠄ @phosphor/collections@^1.1.2\u001b[0K\u001b[1G⡀ @phosphor/collections@^1.1.2\u001b[0K\u001b[1G⢀ @phosphor/collections@^1.1.2\u001b[0K\u001b[1G⠠ @phosphor/dragdrop@^1.3.0\u001b[0K\u001b[1G⠐ json-stable-stringify@^1.0.1\u001b[0K\u001b[1G⠈ prop-types@^15.6.0\u001b[0K\u001b[1G⠁ prop-types@^15.6.0\u001b[0K\u001b[1G⠂ codemirror@~5.24.2\u001b[0K\u001b[1G⠄ ua-parser-js@^0.7.9\u001b[0K\u001b[1G⡀ readable-stream@^2.0.2\u001b[0K\u001b[1G⢀ whatwg-fetch@>=0.10.0\u001b[0K\u001b[1G⠠ asap@~2.0.3\u001b[0K\u001b[1G⠐ domelementtype@1\u001b[0K\u001b[1G⠈ dom-serializer@0\u001b[0K\u001b[1G⠁ safe-buffer@~5.1.0\u001b[0K\u001b[1G⠂ entities@~1.1.1\u001b[0K\u001b[1G⠄ entities@~1.1.1\u001b[0K\u001b[1G⡀ entities@~1.1.1\u001b[0K\u001b[1G⢀ entities@~1.1.1\u001b[0K\u001b[1G⠠ @jupyterlab/application-extension@^0.15.4\u001b[0K\u001b[1G⠐ @jupyterlab/application-extension@^0.15.4\u001b[0K\u001b[1G⠈ @jupyterlab/application-extension@^0.15.4\u001b[0K\u001b[1G⠁ @jupyterlab/apputils-extension@^0.15.4\u001b[0K\u001b[1G⠂ @jupyterlab/apputils-extension@^0.15.4\u001b[0K\u001b[1G⠄ @jupyterlab/apputils-extension@^0.15.4\u001b[0K\u001b[1G⡀ es6-promise@~4.1.1\u001b[0K\u001b[1G⢀ es6-promise@~4.1.1\u001b[0K\u001b[1G⠠ es6-promise@~4.1.1\u001b[0K\u001b[1G⠐ es6-promise@~4.1.1\u001b[0K\u001b[1G⠈ es6-promise@~4.1.1\u001b[0K\u001b[1G⠁ es6-promise@~4.1.1\u001b[0K\u001b[1G⠂ es6-promise@~4.1.1\u001b[0K\u001b[1G⠄ es6-promise@~4.1.1\u001b[0K\u001b[1G⡀ es6-promise@~4.1.1\u001b[0K\u001b[1G⢀ es6-promise@~4.1.1\u001b[0K\u001b[1G⠠ es6-promise@~4.1.1\u001b[0K\u001b[1G⠐ es6-promise@~4.1.1\u001b[0K\u001b[1G⠈ @jupyterlab/cells@^0.15.4\u001b[0K\u001b[1G⠁ @jupyterlab/cells@^0.15.4\u001b[0K\u001b[1G⠂ @jupyterlab/cells@^0.15.4\u001b[0K\u001b[1G⠄ @jupyterlab/cells@^0.15.4\u001b[0K\u001b[1G⡀ @jupyterlab/cells@^0.15.4\u001b[0K\u001b[1G⢀ @jupyterlab/cells@^0.15.4\u001b[0K\u001b[1G⠠ @jupyterlab/cells@^0.15.4\u001b[0K\u001b[1G⠐ @jupyterlab/cells@^0.15.4\u001b[0K\u001b[1G⠈ @jupyterlab/cells@^0.15.4\u001b[0K\u001b[1G⠁ @jupyterlab/cells@^0.15.4\u001b[0K\u001b[1G⠂ @jupyterlab/cells@^0.15.4\u001b[0K\u001b[1G⠄ @jupyterlab/outputarea@^0.15.4\u001b[0K\u001b[1G⡀ @jupyterlab/outputarea@^0.15.4\u001b[0K\u001b[1G⢀ @jupyterlab/outputarea@^0.15.4\u001b[0K\u001b[1G⠠ @jupyterlab/outputarea@^0.15.4\u001b[0K\u001b[1G⠐ @jupyterlab/outputarea@^0.15.4\u001b[0K\u001b[1G⠈ @jupyterlab/outputarea@^0.15.4\u001b[0K\u001b[1G⠁ @jupyterlab/outputarea@^0.15.4\u001b[0K\u001b[1G⠂ @jupyterlab/outputarea@^0.15.4\u001b[0K\u001b[1G⠄ @jupyterlab/outputarea@^0.15.4\u001b[0K\u001b[1G⡀ @jupyterlab/outputarea@^0.15.4\u001b[0K\u001b[1G⢀ @jupyterlab/outputarea@^0.15.4\u001b[0K\u001b[1G⠠ @jupyterlab/outputarea@^0.15.4\u001b[0K\u001b[1G⠐ @jupyterlab/codemirror-extension@^0.15.4\u001b[0K\u001b[1G⠈ @jupyterlab/codemirror-extension@^0.15.4\u001b[0K\u001b[1G⠁ @jupyterlab/codemirror-extension@^0.15.4\u001b[0K\u001b[1G⠂ @jupyterlab/codemirror-extension@^0.15.4\u001b[0K\u001b[1G⠄ @jupyterlab/codemirror-extension@^0.15.4\u001b[0K\u001b[1G⡀ @jupyterlab/codemirror-extension@^0.15.4\u001b[0K\u001b[1G⢀ @jupyterlab/codemirror-extension@^0.15.4\u001b[0K\u001b[1G⠠ @jupyterlab/codemirror-extension@^0.15.4\u001b[0K\u001b[1G⠐ @jupyterlab/codemirror-extension@^0.15.4\u001b[0K\u001b[1G⠈ @jupyterlab/codemirror-extension@^0.15.4\u001b[0K\u001b[1G⠁ @jupyterlab/codemirror-extension@^0.15.4\u001b[0K\u001b[1G⠂ @jupyterlab/codemirror-extension@^0.15.4\u001b[0K\u001b[1G⠄ @jupyterlab/codemirror-extension@^0.15.4\u001b[0K\u001b[1G⡀ @jupyterlab/codemirror-extension@^0.15.4\u001b[0K\u001b[1G⢀ @jupyterlab/fileeditor@^0.15.4\u001b[0K\u001b[1G⠠ @jupyterlab/fileeditor@^0.15.4\u001b[0K\u001b[1G⠐ @jupyterlab/fileeditor@^0.15.4\u001b[0K\u001b[1G⠈ @jupyterlab/fileeditor@^0.15.4\u001b[0K\u001b[1G⠁ @jupyterlab/fileeditor@^0.15.4\u001b[0K\u001b[1G⠂ @jupyterlab/fileeditor@^0.15.4\u001b[0K\u001b[1G⠄ @jupyterlab/fileeditor@^0.15.4\u001b[0K\u001b[1G⡀ @jupyterlab/fileeditor@^0.15.4\u001b[0K\u001b[1G⢀ @jupyterlab/fileeditor@^0.15.4\u001b[0K\u001b[1G⠠ @jupyterlab/fileeditor@^0.15.4\u001b[0K\u001b[1G⠐ @jupyterlab/fileeditor@^0.15.4\u001b[0K\u001b[1G⠈ @jupyterlab/fileeditor@^0.15.4\u001b[0K\u001b[1G⠁ @jupyterlab/fileeditor@^0.15.4\u001b[0K\u001b[1G⠂ @jupyterlab/completer@^0.15.5\u001b[0K\u001b[1G⠄ @jupyterlab/completer@^0.15.5\u001b[0K\u001b[1G⡀ @jupyterlab/completer@^0.15.5\u001b[0K\u001b[1G⢀ @jupyterlab/completer@^0.15.5\u001b[0K\u001b[1G⠠ @jupyterlab/completer@^0.15.5\u001b[0K\u001b[1G⠐ @jupyterlab/completer@^0.15.5\u001b[0K\u001b[1G⠈ @jupyterlab/completer@^0.15.5\u001b[0K\u001b[1G⠁ @jupyterlab/completer@^0.15.5\u001b[0K\u001b[1G⠂ @jupyterlab/completer@^0.15.5\u001b[0K\u001b[1G⠄ @jupyterlab/completer@^0.15.5\u001b[0K\u001b[1G⡀ @jupyterlab/completer@^0.15.5\u001b[0K\u001b[1G⢀ @jupyterlab/completer-extension@^0.15.4\u001b[0K\u001b[1G⠠ @jupyterlab/completer-extension@^0.15.4\u001b[0K\u001b[1G⠐ @jupyterlab/completer-extension@^0.15.4\u001b[0K\u001b[1G⠈ @jupyterlab/completer-extension@^0.15.4\u001b[0K\u001b[1G⠁ @jupyterlab/completer-extension@^0.15.4\u001b[0K\u001b[1G⠂ @jupyterlab/completer-extension@^0.15.4\u001b[0K\u001b[1G⠄ @jupyterlab/completer-extension@^0.15.4\u001b[0K\u001b[1G⡀ @jupyterlab/completer-extension@^0.15.4\u001b[0K\u001b[1G⢀ @jupyterlab/completer-extension@^0.15.4\u001b[0K\u001b[1G⠠ @jupyterlab/completer-extension@^0.15.4\u001b[0K\u001b[1G⠐ @jupyterlab/completer-extension@^0.15.4\u001b[0K\u001b[1G⠈ @jupyterlab/completer-extension@^0.15.4\u001b[0K\u001b[1G⠁ @jupyterlab/notebook@^0.15.4\u001b[0K\u001b[1G⠂ @jupyterlab/notebook@^0.15.4\u001b[0K\u001b[1G⠄ @jupyterlab/notebook@^0.15.4\u001b[0K\u001b[1G⡀ @jupyterlab/notebook@^0.15.4\u001b[0K\u001b[1G⢀ @jupyterlab/notebook@^0.15.4\u001b[0K\u001b[1G⠠ @jupyterlab/notebook@^0.15.4\u001b[0K\u001b[1G⠐ @jupyterlab/notebook@^0.15.4\u001b[0K\u001b[1G⠈ @jupyterlab/notebook@^0.15.4\u001b[0K\u001b[1G⠁ @jupyterlab/notebook@^0.15.4\u001b[0K\u001b[1G⠂ @jupyterlab/notebook@^0.15.4\u001b[0K\u001b[1G⠄ @jupyterlab/notebook@^0.15.4\u001b[0K\u001b[1G⡀ @jupyterlab/notebook@^0.15.4\u001b[0K\u001b[1G⢀ @jupyterlab/console-extension@^0.15.4\u001b[0K\u001b[1G⠠ @jupyterlab/console-extension@^0.15.4\u001b[0K\u001b[1G⠐ @jupyterlab/console-extension@^0.15.4\u001b[0K\u001b[1G⠈ @jupyterlab/console-extension@^0.15.4\u001b[0K\u001b[1G⠁ @jupyterlab/console-extension@^0.15.4\u001b[0K\u001b[1G⠂ @jupyterlab/console-extension@^0.15.4\u001b[0K\u001b[1G⠄ @jupyterlab/console-extension@^0.15.4\u001b[0K\u001b[1G⡀ @jupyterlab/console-extension@^0.15.4\u001b[0K\u001b[1G⢀ @jupyterlab/console-extension@^0.15.4\u001b[0K\u001b[1G⠠ @jupyterlab/console-extension@^0.15.4\u001b[0K\u001b[1G⠐ @jupyterlab/console-extension@^0.15.4\u001b[0K\u001b[1G⠈ @jupyterlab/console-extension@^0.15.4\u001b[0K\u001b[1G⠁ @jupyterlab/launcher@^0.15.4\u001b[0K\u001b[1G⠂ @jupyterlab/launcher@^0.15.4\u001b[0K\u001b[1G⠄ @jupyterlab/launcher@^0.15.4\u001b[0K\u001b[1G⡀ @jupyterlab/launcher@^0.15.4\u001b[0K\u001b[1G⢀ @jupyterlab/launcher@^0.15.4\u001b[0K\u001b[1G⠠ @jupyterlab/launcher@^0.15.4\u001b[0K\u001b[1G⠐ @jupyterlab/docmanager@^0.15.4\u001b[0K\u001b[1G⠈ @jupyterlab/docmanager@^0.15.4\u001b[0K\u001b[1G⠁ @jupyterlab/docmanager@^0.15.4\u001b[0K\u001b[1G⠂ @jupyterlab/docmanager@^0.15.4\u001b[0K\u001b[1G⠄ @jupyterlab/docmanager@^0.15.4\u001b[0K\u001b[1G⡀ @jupyterlab/docmanager@^0.15.4\u001b[0K\u001b[1G⢀ @jupyterlab/docmanager@^0.15.4\u001b[0K\u001b[1G⠠ @jupyterlab/docmanager@^0.15.4\u001b[0K\u001b[1G⠐ @jupyterlab/docmanager@^0.15.4\u001b[0K\u001b[1G⠈ @jupyterlab/docmanager@^0.15.4\u001b[0K\u001b[1G⠁ @jupyterlab/docmanager@^0.15.4\u001b[0K\u001b[1G⠂ @jupyterlab/docmanager@^0.15.4\u001b[0K\u001b[1G⠄ @jupyterlab/docmanager@^0.15.4\u001b[0K\u001b[1G⡀ @jupyterlab/csvviewer@^0.15.4\u001b[0K\u001b[1G⢀ @jupyterlab/csvviewer@^0.15.4\u001b[0K\u001b[1G⠠ @jupyterlab/csvviewer@^0.15.4\u001b[0K\u001b[1G⠐ @jupyterlab/csvviewer@^0.15.4\u001b[0K\u001b[1G⠈ @jupyterlab/csvviewer@^0.15.4\u001b[0K\u001b[1G⠁ @jupyterlab/csvviewer@^0.15.4\u001b[0K\u001b[1G⠂ @jupyterlab/csvviewer@^0.15.4\u001b[0K\u001b[1G⠄ @jupyterlab/csvviewer@^0.15.4\u001b[0K\u001b[1G⡀ @jupyterlab/csvviewer@^0.15.4\u001b[0K\u001b[1G⢀ @jupyterlab/csvviewer@^0.15.4\u001b[0K\u001b[1G⠠ @jupyterlab/csvviewer@^0.15.4\u001b[0K\u001b[1G⠐ @jupyterlab/csvviewer@^0.15.4\u001b[0K\u001b[1G⠈ @jupyterlab/csvviewer@^0.15.4\u001b[0K\u001b[1G⠁ d3-dsv@~1.0.7\u001b[0K\u001b[1G⠂ d3-dsv@~1.0.7\u001b[0K\u001b[1G⠄ d3-dsv@~1.0.7\u001b[0K\u001b[1G⡀ d3-dsv@~1.0.7\u001b[0K\u001b[1G⢀ d3-dsv@~1.0.7\u001b[0K\u001b[1G⠠ d3-dsv@~1.0.7\u001b[0K\u001b[1G⠐ rw@1\u001b[0K\u001b[1G⠈ rw@1\u001b[0K\u001b[1G⠁ rw@1\u001b[0K\u001b[1G⠂ rw@1\u001b[0K\u001b[1G⠄ rw@1\u001b[0K\u001b[1G⡀ rw@1\u001b[0K\u001b[1G⢀ @jupyterlab/csvviewer-extension@^0.15.4\u001b[0K\u001b[1G⠠ @jupyterlab/csvviewer-extension@^0.15.4\u001b[0K\u001b[1G⠐ @jupyterlab/csvviewer-extension@^0.15.4\u001b[0K\u001b[1G⠈ @jupyterlab/csvviewer-extension@^0.15.4\u001b[0K\u001b[1G⠁ @jupyterlab/csvviewer-extension@^0.15.4\u001b[0K\u001b[1G⠂ @jupyterlab/csvviewer-extension@^0.15.4\u001b[0K\u001b[1G⠄ @jupyterlab/csvviewer-extension@^0.15.4\u001b[0K\u001b[1G⡀ @jupyterlab/csvviewer-extension@^0.15.4\u001b[0K\u001b[1G⢀ @jupyterlab/csvviewer-extension@^0.15.4\u001b[0K\u001b[1G⠠ @jupyterlab/csvviewer-extension@^0.15.4\u001b[0K\u001b[1G⠐ @jupyterlab/csvviewer-extension@^0.15.4\u001b[0K\u001b[1G⠈ @jupyterlab/csvviewer-extension@^0.15.4\u001b[0K\u001b[1G⠁ @jupyterlab/docmanager-extension@^0.15.4\u001b[0K\u001b[1G⠂ @jupyterlab/docmanager-extension@^0.15.4\u001b[0K\u001b[1G⠄ @jupyterlab/docmanager-extension@^0.15.4\u001b[0K\u001b[1G⡀ @jupyterlab/docmanager-extension@^0.15.4\u001b[0K\u001b[1G⢀ @jupyterlab/docmanager-extension@^0.15.4\u001b[0K\u001b[1G⠠ @jupyterlab/docmanager-extension@^0.15.4\u001b[0K\u001b[1G⠐ @jupyterlab/docmanager-extension@^0.15.4\u001b[0K\u001b[1G⠈ @jupyterlab/docmanager-extension@^0.15.4\u001b[0K\u001b[1G⠁ @jupyterlab/docmanager-extension@^0.15.4\u001b[0K\u001b[1G⠂ @jupyterlab/docmanager-extension@^0.15.4\u001b[0K\u001b[1G⠄ @jupyterlab/docmanager-extension@^0.15.4\u001b[0K\u001b[1G⡀ @jupyterlab/faq-extension@^0.15.5\u001b[0K\u001b[1G⢀ @jupyterlab/faq-extension@^0.15.5\u001b[0K\u001b[1G⠠ @jupyterlab/faq-extension@^0.15.5\u001b[0K\u001b[1G⠐ @jupyterlab/faq-extension@^0.15.5\u001b[0K\u001b[1G⠈ @jupyterlab/faq-extension@^0.15.5\u001b[0K\u001b[1G⠁ @jupyterlab/faq-extension@^0.15.5\u001b[0K\u001b[1G⠂ @jupyterlab/faq-extension@^0.15.5\u001b[0K\u001b[1G⠄ @jupyterlab/faq-extension@^0.15.5\u001b[0K\u001b[1G⡀ @jupyterlab/faq-extension@^0.15.5\u001b[0K\u001b[1G⢀ @jupyterlab/faq-extension@^0.15.5\u001b[0K\u001b[1G⠠ @jupyterlab/faq-extension@^0.15.5\u001b[0K\u001b[1G⠐ @jupyterlab/faq-extension@^0.15.5\u001b[0K\u001b[1G⠈ @jupyterlab/filebrowser-extension@^0.15.5\u001b[0K\u001b[1G⠁ @jupyterlab/filebrowser-extension@^0.15.5\u001b[0K\u001b[1G⠂ @jupyterlab/filebrowser-extension@^0.15.5\u001b[0K\u001b[1G⠄ @jupyterlab/filebrowser-extension@^0.15.5\u001b[0K\u001b[1G⡀ @jupyterlab/filebrowser-extension@^0.15.5\u001b[0K\u001b[1G⢀ @jupyterlab/filebrowser-extension@^0.15.5\u001b[0K\u001b[1G⠠ @jupyterlab/filebrowser-extension@^0.15.5\u001b[0K\u001b[1G⠐ @jupyterlab/filebrowser-extension@^0.15.5\u001b[0K\u001b[1G⠈ @jupyterlab/filebrowser-extension@^0.15.5\u001b[0K\u001b[1G⠁ @jupyterlab/filebrowser-extension@^0.15.5\u001b[0K\u001b[1G⠂ @jupyterlab/filebrowser-extension@^0.15.5\u001b[0K\u001b[1G⠄ @jupyterlab/filebrowser-extension@^0.15.5\u001b[0K\u001b[1G⡀ @jupyterlab/fileeditor-extension@^0.15.4\u001b[0K\u001b[1G⢀ @jupyterlab/fileeditor-extension@^0.15.4\u001b[0K\u001b[1G⠠ @jupyterlab/fileeditor-extension@^0.15.4\u001b[0K\u001b[1G⠐ @jupyterlab/fileeditor-extension@^0.15.4\u001b[0K\u001b[1G⠈ @jupyterlab/fileeditor-extension@^0.15.4\u001b[0K\u001b[1G⠁ @jupyterlab/fileeditor-extension@^0.15.4\u001b[0K\u001b[1G⠂ @jupyterlab/fileeditor-extension@^0.15.4\u001b[0K\u001b[1G⠄ @jupyterlab/fileeditor-extension@^0.15.4\u001b[0K\u001b[1G⡀ @jupyterlab/fileeditor-extension@^0.15.4\u001b[0K\u001b[1G⢀ @jupyterlab/fileeditor-extension@^0.15.4\u001b[0K\u001b[1G⠠ @jupyterlab/fileeditor-extension@^0.15.4\u001b[0K\u001b[1G⠐ @jupyterlab/fileeditor-extension@^0.15.4\u001b[0K\u001b[1G⠈ @jupyterlab/help-extension@^0.15.4\u001b[0K\u001b[1G⠁ @jupyterlab/help-extension@^0.15.4\u001b[0K\u001b[1G⠂ @jupyterlab/help-extension@^0.15.4\u001b[0K\u001b[1G⠄ @jupyterlab/help-extension@^0.15.4\u001b[0K\u001b[1G⡀ @jupyterlab/help-extension@^0.15.4\u001b[0K\u001b[1G⢀ @jupyterlab/help-extension@^0.15.4\u001b[0K\u001b[1G⠠ @jupyterlab/help-extension@^0.15.4\u001b[0K\u001b[1G⠐ @jupyterlab/help-extension@^0.15.4\u001b[0K\u001b[1G⠈ @jupyterlab/help-extension@^0.15.4\u001b[0K\u001b[1G⠁ @jupyterlab/help-extension@^0.15.4\u001b[0K\u001b[1G⠂ @jupyterlab/help-extension@^0.15.4\u001b[0K\u001b[1G⠄ @jupyterlab/help-extension@^0.15.4\u001b[0K\u001b[1G⡀ @jupyterlab/imageviewer@^0.15.4\u001b[0K\u001b[1G⢀ @jupyterlab/imageviewer@^0.15.4\u001b[0K\u001b[1G⠠ @jupyterlab/imageviewer@^0.15.4\u001b[0K\u001b[1G⠐ @jupyterlab/imageviewer@^0.15.4\u001b[0K\u001b[1G⠈ @jupyterlab/imageviewer@^0.15.4\u001b[0K\u001b[1G⠁ @jupyterlab/imageviewer@^0.15.4\u001b[0K\u001b[1G⠂ @jupyterlab/imageviewer@^0.15.4\u001b[0K\u001b[1G⠄ @jupyterlab/imageviewer@^0.15.4\u001b[0K\u001b[1G⡀ @jupyterlab/imageviewer@^0.15.4\u001b[0K\u001b[1G⢀ @jupyterlab/imageviewer@^0.15.4\u001b[0K\u001b[1G⠠ @jupyterlab/imageviewer@^0.15.4\u001b[0K\u001b[1G⠐ @jupyterlab/imageviewer@^0.15.4\u001b[0K\u001b[1G⠈ @jupyterlab/imageviewer-extension@^0.15.4\u001b[0K\u001b[1G⠁ @jupyterlab/imageviewer-extension@^0.15.4\u001b[0K\u001b[1G⠂ @jupyterlab/imageviewer-extension@^0.15.4\u001b[0K\u001b[1G⠄ @jupyterlab/imageviewer-extension@^0.15.4\u001b[0K\u001b[1G⡀ @jupyterlab/imageviewer-extension@^0.15.4\u001b[0K\u001b[1G⢀ @jupyterlab/imageviewer-extension@^0.15.4\u001b[0K\u001b[1G⠠ @jupyterlab/imageviewer-extension@^0.15.4\u001b[0K\u001b[1G⠐ @jupyterlab/imageviewer-extension@^0.15.4\u001b[0K\u001b[1G⠈ @jupyterlab/imageviewer-extension@^0.15.4\u001b[0K\u001b[1G⠁ @jupyterlab/imageviewer-extension@^0.15.4\u001b[0K\u001b[1G⠂ @jupyterlab/imageviewer-extension@^0.15.4\u001b[0K\u001b[1G⠄ @jupyterlab/imageviewer-extension@^0.15.4\u001b[0K\u001b[1G⡀ @jupyterlab/imageviewer-extension@^0.15.4\u001b[0K\u001b[1G⢀ @jupyterlab/inspector@^0.15.4\u001b[0K\u001b[1G⠠ @jupyterlab/inspector@^0.15.4\u001b[0K\u001b[1G⠐ @jupyterlab/inspector@^0.15.4\u001b[0K\u001b[1G⠈ @jupyterlab/inspector@^0.15.4\u001b[0K\u001b[1G⠁ @jupyterlab/inspector-extension@^0.15.4\u001b[0K\u001b[1G⠂ @jupyterlab/inspector-extension@^0.15.4\u001b[0K\u001b[1G⠄ @jupyterlab/inspector-extension@^0.15.4\u001b[0K\u001b[1G⡀ @jupyterlab/inspector-extension@^0.15.4\u001b[0K\u001b[1G⢀ @jupyterlab/inspector-extension@^0.15.4\u001b[0K\u001b[1G⠠ @jupyterlab/inspector-extension@^0.15.4\u001b[0K\u001b[1G⠐ @jupyterlab/inspector-extension@^0.15.4\u001b[0K\u001b[1G⠈ @jupyterlab/inspector-extension@^0.15.4\u001b[0K\u001b[1G⠁ @jupyterlab/inspector-extension@^0.15.4\u001b[0K\u001b[1G⠂ @jupyterlab/inspector-extension@^0.15.4\u001b[0K\u001b[1G⠄ @jupyterlab/inspector-extension@^0.15.4\u001b[0K\u001b[1G⡀ @jupyterlab/inspector-extension@^0.15.4\u001b[0K\u001b[1G⢀ @jupyterlab/inspector-extension@^0.15.4\u001b[0K\u001b[1G⠠ @jupyterlab/inspector-extension@^0.15.4\u001b[0K\u001b[1G⠐ @jupyterlab/inspector-extension@^0.15.4\u001b[0K\u001b[1G⠈ @jupyterlab/json-extension@^0.15.4\u001b[0K\u001b[1G⠁ @jupyterlab/json-extension@^0.15.4\u001b[0K\u001b[1G⠂ @jupyterlab/json-extension@^0.15.4\u001b[0K\u001b[1G⠄ @jupyterlab/json-extension@^0.15.4\u001b[0K\u001b[1G⡀ @jupyterlab/json-extension@^0.15.4\u001b[0K\u001b[1G⢀ @jupyterlab/json-extension@^0.15.4\u001b[0K\u001b[1G⠠ @jupyterlab/json-extension@^0.15.4\u001b[0K\u001b[1G⠐ @jupyterlab/json-extension@^0.15.4\u001b[0K\u001b[1G⠈ @jupyterlab/json-extension@^0.15.4\u001b[0K\u001b[1G⠁ @jupyterlab/json-extension@^0.15.4\u001b[0K\u001b[1G⠂ @jupyterlab/json-extension@^0.15.4\u001b[0K\u001b[1G⠄ @jupyterlab/json-extension@^0.15.4\u001b[0K\u001b[1G⡀ react-json-tree@^0.10.9\u001b[0K\u001b[1G⢀ react-base16-styling@^0.5.1\u001b[0K\u001b[1G⠠ pure-color@^1.2.0\u001b[0K\u001b[1G⠐ escape-string-regexp@^1.0.5\u001b[0K\u001b[1G⠈ fbjs@^0.8.9\u001b[0K\u001b[1G⠁ fbjs@^0.8.9\u001b[0K\u001b[1G⠂ @jupyterlab/launcher-extension@^0.15.4\u001b[0K\u001b[1G⠄ @jupyterlab/launcher-extension@^0.15.4\u001b[0K\u001b[1G⡀ @jupyterlab/launcher-extension@^0.15.4\u001b[0K\u001b[1G⢀ @jupyterlab/launcher-extension@^0.15.4\u001b[0K\u001b[1G⠠ @jupyterlab/launcher-extension@^0.15.4\u001b[0K\u001b[1G⠐ @jupyterlab/launcher-extension@^0.15.4\u001b[0K\u001b[1G⠈ @jupyterlab/launcher-extension@^0.15.4\u001b[0K\u001b[1G⠁ @jupyterlab/launcher-extension@^0.15.4\u001b[0K\u001b[1G⠂ @jupyterlab/launcher-extension@^0.15.4\u001b[0K\u001b[1G⠄ @jupyterlab/launcher-extension@^0.15.4\u001b[0K\u001b[1G⡀ @jupyterlab/launcher-extension@^0.15.4\u001b[0K\u001b[1G⢀ @jupyterlab/launcher-extension@^0.15.4\u001b[0K\u001b[1G⠠ @jupyterlab/mainmenu-extension@^0.4.5\u001b[0K\u001b[1G⠐ @jupyterlab/mainmenu-extension@^0.4.5\u001b[0K\u001b[1G⠈ @jupyterlab/mainmenu-extension@^0.4.5\u001b[0K\u001b[1G⠁ @jupyterlab/mainmenu-extension@^0.4.5\u001b[0K\u001b[1G⠂ @jupyterlab/mainmenu-extension@^0.4.5\u001b[0K\u001b[1G⠄ @jupyterlab/mainmenu-extension@^0.4.5\u001b[0K\u001b[1G⡀ @jupyterlab/mainmenu-extension@^0.4.5\u001b[0K\u001b[1G⢀ @jupyterlab/mainmenu-extension@^0.4.5\u001b[0K\u001b[1G⠠ @jupyterlab/mainmenu-extension@^0.4.5\u001b[0K\u001b[1G⠐ @jupyterlab/mainmenu-extension@^0.4.5\u001b[0K\u001b[1G⠈ @jupyterlab/mainmenu-extension@^0.4.5\u001b[0K\u001b[1G⠁ @jupyterlab/mainmenu-extension@^0.4.5\u001b[0K\u001b[1G⠂ @jupyterlab/mainmenu-extension@^0.4.5\u001b[0K\u001b[1G⠄ @jupyterlab/mainmenu-extension@^0.4.5\u001b[0K\u001b[1G⡀ @jupyterlab/markdownviewer-extension@^0.15.4\u001b[0K\u001b[1G⢀ @jupyterlab/markdownviewer-extension@^0.15.4\u001b[0K\u001b[1G⠠ @jupyterlab/markdownviewer-extension@^0.15.4\u001b[0K\u001b[1G⠐ @jupyterlab/markdownviewer-extension@^0.15.4\u001b[0K\u001b[1G⠈ @jupyterlab/markdownviewer-extension@^0.15.4\u001b[0K\u001b[1G⠁ @jupyterlab/markdownviewer-extension@^0.15.4\u001b[0K\u001b[1G⠂ @jupyterlab/markdownviewer-extension@^0.15.4\u001b[0K\u001b[1G⠄ @jupyterlab/markdownviewer-extension@^0.15.4\u001b[0K\u001b[1G⡀ @jupyterlab/markdownviewer-extension@^0.15.4\u001b[0K\u001b[1G⢀ @jupyterlab/markdownviewer-extension@^0.15.4\u001b[0K\u001b[1G⠠ @jupyterlab/markdownviewer-extension@^0.15.4\u001b[0K\u001b[1G⠐ @jupyterlab/markdownviewer-extension@^0.15.4\u001b[0K\u001b[1G⠈ @jupyterlab/markdownviewer-extension@^0.15.4\u001b[0K\u001b[1G⠁ @jupyterlab/markdownviewer-extension@^0.15.4\u001b[0K\u001b[1G⠂ @jupyterlab/mathjax2-extension@^0.3.4\u001b[0K\u001b[1G⠄ @jupyterlab/mathjax2-extension@^0.3.4\u001b[0K\u001b[1G⡀ @jupyterlab/mathjax2-extension@^0.3.4\u001b[0K\u001b[1G⢀ @jupyterlab/mathjax2-extension@^0.3.4\u001b[0K\u001b[1G⠠ @jupyterlab/mathjax2-extension@^0.3.4\u001b[0K\u001b[1G⠐ @jupyterlab/mathjax2-extension@^0.3.4\u001b[0K\u001b[1G⠈ @jupyterlab/mathjax2-extension@^0.3.4\u001b[0K\u001b[1G⠁ @jupyterlab/mathjax2-extension@^0.3.4\u001b[0K\u001b[1G⠂ @jupyterlab/mathjax2-extension@^0.3.4\u001b[0K\u001b[1G⠄ @jupyterlab/mathjax2-extension@^0.3.4\u001b[0K\u001b[1G⡀ @jupyterlab/mathjax2-extension@^0.3.4\u001b[0K\u001b[1G⢀ @jupyterlab/mathjax2-extension@^0.3.4\u001b[0K\u001b[1G⠠ @jupyterlab/mathjax2-extension@^0.3.4\u001b[0K\u001b[1G⠐ @jupyterlab/notebook-extension@^0.15.4\u001b[0K\u001b[1G⠈ @jupyterlab/notebook-extension@^0.15.4\u001b[0K\u001b[1G⠁ @jupyterlab/notebook-extension@^0.15.4\u001b[0K\u001b[1G⠂ @jupyterlab/notebook-extension@^0.15.4\u001b[0K\u001b[1G⠄ @jupyterlab/notebook-extension@^0.15.4\u001b[0K\u001b[1G⡀ @jupyterlab/notebook-extension@^0.15.4\u001b[0K\u001b[1G⢀ @jupyterlab/notebook-extension@^0.15.4\u001b[0K\u001b[1G⠠ @jupyterlab/notebook-extension@^0.15.4\u001b[0K\u001b[1G⠐ @jupyterlab/notebook-extension@^0.15.4\u001b[0K\u001b[1G⠈ @jupyterlab/notebook-extension@^0.15.4\u001b[0K\u001b[1G⠁ @jupyterlab/notebook-extension@^0.15.4\u001b[0K\u001b[1G⠂ @jupyterlab/notebook-extension@^0.15.4\u001b[0K\u001b[1G⠄ @jupyterlab/notebook-extension@^0.15.4\u001b[0K\u001b[1G⡀ @jupyterlab/notebook-extension@^0.15.4\u001b[0K\u001b[1G⢀ @jupyterlab/notebook-extension@^0.15.4\u001b[0K\u001b[1G⠠ @jupyterlab/notebook-extension@^0.15.4\u001b[0K\u001b[1G⠐ @jupyterlab/notebook-extension@^0.15.4\u001b[0K\u001b[1G⠈ @jupyterlab/notebook-extension@^0.15.4\u001b[0K\u001b[1G⠁ @jupyterlab/notebook-extension@^0.15.4\u001b[0K\u001b[1G⠂ @jupyterlab/notebook-extension@^0.15.4\u001b[0K\u001b[1G⠄ @jupyterlab/notebook-extension@^0.15.4\u001b[0K\u001b[1G⡀ @jupyterlab/notebook-extension@^0.15.4\u001b[0K\u001b[1G⢀ @jupyterlab/notebook-extension@^0.15.4\u001b[0K\u001b[1G⠠ @jupyterlab/notebook-extension@^0.15.4\u001b[0K\u001b[1G⠐ @jupyterlab/notebook-extension@^0.15.4\u001b[0K\u001b[1G⠈ @jupyterlab/notebook-extension@^0.15.4\u001b[0K\u001b[1G⠁ @jupyterlab/notebook-extension@^0.15.4\u001b[0K\u001b[1G⠂ @jupyterlab/notebook-extension@^0.15.4\u001b[0K\u001b[1G⠄ @jupyterlab/notebook-extension@^0.15.4\u001b[0K\u001b[1G⡀ @jupyterlab/pdf-extension@^0.7.4\u001b[0K\u001b[1G⢀ @jupyterlab/pdf-extension@^0.7.4\u001b[0K\u001b[1G⠠ @jupyterlab/pdf-extension@^0.7.4\u001b[0K\u001b[1G⠐ @jupyterlab/pdf-extension@^0.7.4\u001b[0K\u001b[1G⠈ @jupyterlab/pdf-extension@^0.7.4\u001b[0K\u001b[1G⠁ @jupyterlab/pdf-extension@^0.7.4\u001b[0K\u001b[1G⠂ @jupyterlab/pdf-extension@^0.7.4\u001b[0K\u001b[1G⠄ @jupyterlab/pdf-extension@^0.7.4\u001b[0K\u001b[1G⡀ @jupyterlab/pdf-extension@^0.7.4\u001b[0K\u001b[1G⢀ @jupyterlab/pdf-extension@^0.7.4\u001b[0K\u001b[1G⠠ @jupyterlab/pdf-extension@^0.7.4\u001b[0K\u001b[1G⠐ @jupyterlab/pdf-extension@^0.7.4\u001b[0K\u001b[1G⠈ @jupyterlab/pdf-extension@^0.7.4\u001b[0K\u001b[1G⠁ @jupyterlab/pdf-extension@^0.7.4\u001b[0K\u001b[1G⠂ @jupyterlab/rendermime-extension@^0.9.4\u001b[0K\u001b[1G⠄ @jupyterlab/rendermime-extension@^0.9.4\u001b[0K\u001b[1G⡀ @jupyterlab/rendermime-extension@^0.9.4\u001b[0K\u001b[1G⢀ @jupyterlab/rendermime-extension@^0.9.4\u001b[0K\u001b[1G⠠ @jupyterlab/rendermime-extension@^0.9.4\u001b[0K\u001b[1G⠐ @jupyterlab/rendermime-extension@^0.9.4\u001b[0K\u001b[1G⠈ @jupyterlab/rendermime-extension@^0.9.4\u001b[0K\u001b[1G⠁ @jupyterlab/rendermime-extension@^0.9.4\u001b[0K\u001b[1G⠂ @jupyterlab/rendermime-extension@^0.9.4\u001b[0K\u001b[1G⠄ @jupyterlab/rendermime-extension@^0.9.4\u001b[0K\u001b[1G⡀ @jupyterlab/rendermime-extension@^0.9.4\u001b[0K\u001b[1G⢀ @jupyterlab/rendermime-extension@^0.9.4\u001b[0K\u001b[1G⠠ @jupyterlab/rendermime-extension@^0.9.4\u001b[0K\u001b[1G⠐ @jupyterlab/rendermime-extension@^0.9.4\u001b[0K\u001b[1G⠈ @jupyterlab/rendermime-extension@^0.9.4\u001b[0K\u001b[1G⠁ @jupyterlab/running@^0.15.4\u001b[0K\u001b[1G⠂ @jupyterlab/running@^0.15.4\u001b[0K\u001b[1G⠄ @jupyterlab/running@^0.15.4\u001b[0K\u001b[1G⡀ @jupyterlab/running@^0.15.4\u001b[0K\u001b[1G⢀ @jupyterlab/running@^0.15.4\u001b[0K\u001b[1G⠠ @jupyterlab/running@^0.15.4\u001b[0K\u001b[1G⠐ @jupyterlab/running@^0.15.4\u001b[0K\u001b[1G⠈ @jupyterlab/running@^0.15.4\u001b[0K\u001b[1G⠁ @jupyterlab/running@^0.15.4\u001b[0K\u001b[1G⠂ @jupyterlab/running@^0.15.4\u001b[0K\u001b[1G⠄ @jupyterlab/running@^0.15.4\u001b[0K\u001b[1G⡀ @jupyterlab/running@^0.15.4\u001b[0K\u001b[1G⢀ @jupyterlab/running-extension@^0.15.4\u001b[0K\u001b[1G⠠ @jupyterlab/running-extension@^0.15.4\u001b[0K\u001b[1G⠐ @jupyterlab/running-extension@^0.15.4\u001b[0K\u001b[1G⠈ @jupyterlab/running-extension@^0.15.4\u001b[0K\u001b[1G⠁ @jupyterlab/running-extension@^0.15.4\u001b[0K\u001b[1G⠂ @jupyterlab/running-extension@^0.15.4\u001b[0K\u001b[1G⠄ @jupyterlab/running-extension@^0.15.4\u001b[0K\u001b[1G⡀ @jupyterlab/running-extension@^0.15.4\u001b[0K\u001b[1G⢀ @jupyterlab/running-extension@^0.15.4\u001b[0K\u001b[1G⠠ @jupyterlab/running-extension@^0.15.4\u001b[0K\u001b[1G⠐ @jupyterlab/running-extension@^0.15.4\u001b[0K\u001b[1G⠈ @jupyterlab/running-extension@^0.15.4\u001b[0K\u001b[1G⠁ @jupyterlab/settingeditor@^0.4.4\u001b[0K\u001b[1G⠂ @jupyterlab/settingeditor@^0.4.4\u001b[0K\u001b[1G⠄ @jupyterlab/settingeditor@^0.4.4\u001b[0K\u001b[1G⡀ @jupyterlab/settingeditor@^0.4.4\u001b[0K\u001b[1G⢀ @jupyterlab/settingeditor@^0.4.4\u001b[0K\u001b[1G⠠ @jupyterlab/settingeditor@^0.4.4\u001b[0K\u001b[1G⠐ @jupyterlab/settingeditor@^0.4.4\u001b[0K\u001b[1G⠈ @jupyterlab/settingeditor@^0.4.4\u001b[0K\u001b[1G⠁ @jupyterlab/settingeditor@^0.4.4\u001b[0K\u001b[1G⠂ @jupyterlab/settingeditor@^0.4.4\u001b[0K\u001b[1G⠄ @jupyterlab/settingeditor@^0.4.4\u001b[0K\u001b[1G⡀ @jupyterlab/settingeditor@^0.4.4\u001b[0K\u001b[1G⢀ @jupyterlab/settingeditor@^0.4.4\u001b[0K\u001b[1G⠠ @jupyterlab/settingeditor@^0.4.4\u001b[0K\u001b[1G⠐ @jupyterlab/settingeditor@^0.4.4\u001b[0K\u001b[1G⠈ @jupyterlab/settingeditor@^0.4.4\u001b[0K\u001b[1G⠁ @jupyterlab/settingeditor@^0.4.4\u001b[0K\u001b[1G⠂ @jupyterlab/settingeditor-extension@^0.10.4\u001b[0K\u001b[1G⠄ @jupyterlab/settingeditor-extension@^0.10.4\u001b[0K\u001b[1G⡀ @jupyterlab/settingeditor-extension@^0.10.4\u001b[0K\u001b[1G⢀ @jupyterlab/settingeditor-extension@^0.10.4\u001b[0K\u001b[1G⠠ @jupyterlab/settingeditor-extension@^0.10.4\u001b[0K\u001b[1G⠐ @jupyterlab/settingeditor-extension@^0.10.4\u001b[0K\u001b[1G⠈ @jupyterlab/settingeditor-extension@^0.10.4\u001b[0K\u001b[1G⠁ @jupyterlab/settingeditor-extension@^0.10.4\u001b[0K\u001b[1G⠂ @jupyterlab/settingeditor-extension@^0.10.4\u001b[0K\u001b[1G⠄ @jupyterlab/settingeditor-extension@^0.10.4\u001b[0K\u001b[1G⡀ @jupyterlab/settingeditor-extension@^0.10.4\u001b[0K\u001b[1G⢀ @jupyterlab/settingeditor-extension@^0.10.4\u001b[0K\u001b[1G⠠ @jupyterlab/settingeditor-extension@^0.10.4\u001b[0K\u001b[1G⠐ @jupyterlab/shortcuts-extension@^0.15.4\u001b[0K\u001b[1G⠈ @jupyterlab/shortcuts-extension@^0.15.4\u001b[0K\u001b[1G⠁ @jupyterlab/shortcuts-extension@^0.15.4\u001b[0K\u001b[1G⠂ @jupyterlab/shortcuts-extension@^0.15.4\u001b[0K\u001b[1G⠄ @jupyterlab/shortcuts-extension@^0.15.4\u001b[0K\u001b[1G⡀ @jupyterlab/shortcuts-extension@^0.15.4\u001b[0K\u001b[1G⢀ @jupyterlab/shortcuts-extension@^0.15.4\u001b[0K\u001b[1G⠠ @jupyterlab/shortcuts-extension@^0.15.4\u001b[0K\u001b[1G⠐ @jupyterlab/shortcuts-extension@^0.15.4\u001b[0K\u001b[1G⠈ @jupyterlab/shortcuts-extension@^0.15.4\u001b[0K\u001b[1G⠁ @jupyterlab/shortcuts-extension@^0.15.4\u001b[0K\u001b[1G⠂ @jupyterlab/shortcuts-extension@^0.15.4\u001b[0K\u001b[1G⠄ @jupyterlab/tabmanager-extension@^0.15.4\u001b[0K\u001b[1G⡀ @jupyterlab/tabmanager-extension@^0.15.4\u001b[0K\u001b[1G⢀ @jupyterlab/tabmanager-extension@^0.15.4\u001b[0K\u001b[1G⠠ @jupyterlab/tabmanager-extension@^0.15.4\u001b[0K\u001b[1G⠐ @jupyterlab/terminal@^0.15.4\u001b[0K\u001b[1G⠈ @jupyterlab/terminal@^0.15.4\u001b[0K\u001b[1G⠁ @jupyterlab/terminal@^0.15.4\u001b[0K\u001b[1G⠂ @jupyterlab/terminal@^0.15.4\u001b[0K\u001b[1G⠄ @jupyterlab/terminal@^0.15.4\u001b[0K\u001b[1G⡀ @jupyterlab/terminal@^0.15.4\u001b[0K\u001b[1G⢀ @jupyterlab/terminal@^0.15.4\u001b[0K\u001b[1G⠠ @jupyterlab/terminal@^0.15.4\u001b[0K\u001b[1G⠐ @jupyterlab/terminal@^0.15.4\u001b[0K\u001b[1G⠈ @jupyterlab/terminal@^0.15.4\u001b[0K\u001b[1G⠁ @jupyterlab/terminal@^0.15.4\u001b[0K\u001b[1G⠂ @jupyterlab/terminal@^0.15.4\u001b[0K\u001b[1G⠄ @jupyterlab/terminal@^0.15.4\u001b[0K\u001b[1G⡀ xterm@~2.8.1\u001b[0K\u001b[1G⢀ xterm@~2.8.1\u001b[0K\u001b[1G⠠ xterm@~2.8.1\u001b[0K\u001b[1G⠐ xterm@~2.8.1\u001b[0K\u001b[1G⠈ @jupyterlab/terminal-extension@^0.15.4\u001b[0K\u001b[1G⠁ @jupyterlab/terminal-extension@^0.15.4\u001b[0K\u001b[1G⠂ @jupyterlab/terminal-extension@^0.15.4\u001b[0K\u001b[1G⠄ @jupyterlab/terminal-extension@^0.15.4\u001b[0K\u001b[1G⡀ @jupyterlab/terminal-extension@^0.15.4\u001b[0K\u001b[1G⢀ @jupyterlab/terminal-extension@^0.15.4\u001b[0K\u001b[1G⠠ @jupyterlab/terminal-extension@^0.15.4\u001b[0K\u001b[1G⠐ @jupyterlab/terminal-extension@^0.15.4\u001b[0K\u001b[1G⠈ @jupyterlab/terminal-extension@^0.15.4\u001b[0K\u001b[1G⠁ @jupyterlab/terminal-extension@^0.15.4\u001b[0K\u001b[1G⠂ @jupyterlab/terminal-extension@^0.15.4\u001b[0K\u001b[1G⠄ @jupyterlab/terminal-extension@^0.15.4\u001b[0K\u001b[1G⡀ @jupyterlab/terminal-extension@^0.15.4\u001b[0K\u001b[1G⢀ @jupyterlab/theme-dark-extension@^0.15.4\u001b[0K\u001b[1G⠠ @jupyterlab/theme-dark-extension@^0.15.4\u001b[0K\u001b[1G⠐ @jupyterlab/theme-dark-extension@^0.15.4\u001b[0K\u001b[1G⠈ @jupyterlab/theme-dark-extension@^0.15.4\u001b[0K\u001b[1G⠁ @jupyterlab/theme-dark-extension@^0.15.4\u001b[0K\u001b[1G⠂ @jupyterlab/theme-dark-extension@^0.15.4\u001b[0K\u001b[1G⠄ @jupyterlab/theme-dark-extension@^0.15.4\u001b[0K\u001b[1G⡀ @jupyterlab/theme-dark-extension@^0.15.4\u001b[0K\u001b[1G⢀ @jupyterlab/theme-dark-extension@^0.15.4\u001b[0K\u001b[1G⠠ @jupyterlab/theme-dark-extension@^0.15.4\u001b[0K\u001b[1G⠐ @jupyterlab/theme-dark-extension@^0.15.4\u001b[0K\u001b[1G⠈ @jupyterlab/theme-dark-extension@^0.15.4\u001b[0K\u001b[1G⠁ @jupyterlab/theme-dark-extension@^0.15.4\u001b[0K\u001b[1G⠂ @jupyterlab/theme-dark-extension@^0.15.4\u001b[0K\u001b[1G⠄ font-awesome@~4.7.0\u001b[0K\u001b[1G⡀ font-awesome@~4.7.0\u001b[0K\u001b[1G⢀ font-awesome@~4.7.0\u001b[0K\u001b[1G⠠ font-awesome@~4.7.0\u001b[0K\u001b[1G⠐ @jupyterlab/theme-light-extension@^0.15.4\u001b[0K\u001b[1G⠈ @jupyterlab/theme-light-extension@^0.15.4\u001b[0K\u001b[1G⠁ @jupyterlab/theme-light-extension@^0.15.4\u001b[0K\u001b[1G⠂ @jupyterlab/theme-light-extension@^0.15.4\u001b[0K\u001b[1G⠄ @jupyterlab/theme-light-extension@^0.15.4\u001b[0K\u001b[1G⡀ @jupyterlab/theme-light-extension@^0.15.4\u001b[0K\u001b[1G⢀ @jupyterlab/theme-light-extension@^0.15.4\u001b[0K\u001b[1G⠠ @jupyterlab/theme-light-extension@^0.15.4\u001b[0K\u001b[1G⠐ @jupyterlab/theme-light-extension@^0.15.4\u001b[0K\u001b[1G⠈ @jupyterlab/theme-light-extension@^0.15.4\u001b[0K\u001b[1G⠁ @jupyterlab/theme-light-extension@^0.15.4\u001b[0K\u001b[1G⠂ @jupyterlab/theme-light-extension@^0.15.4\u001b[0K\u001b[1G⠄ @jupyterlab/tooltip@^0.15.4\u001b[0K\u001b[1G⡀ @jupyterlab/tooltip@^0.15.4\u001b[0K\u001b[1G⢀ @jupyterlab/tooltip@^0.15.4\u001b[0K\u001b[1G⠠ @jupyterlab/tooltip@^0.15.4\u001b[0K\u001b[1G⠐ @jupyterlab/tooltip@^0.15.4\u001b[0K\u001b[1G⠈ @jupyterlab/tooltip@^0.15.4\u001b[0K\u001b[1G⠁ @jupyterlab/tooltip@^0.15.4\u001b[0K\u001b[1G⠂ @jupyterlab/tooltip@^0.15.4\u001b[0K\u001b[1G⠄ @jupyterlab/tooltip@^0.15.4\u001b[0K\u001b[1G⡀ @jupyterlab/tooltip@^0.15.4\u001b[0K\u001b[1G⢀ @jupyterlab/tooltip@^0.15.4\u001b[0K\u001b[1G⠠ @jupyterlab/tooltip@^0.15.4\u001b[0K\u001b[1G⠐ @jupyterlab/tooltip@^0.15.4\u001b[0K\u001b[1G⠈ @jupyterlab/tooltip-extension@^0.15.4\u001b[0K\u001b[1G⠁ @jupyterlab/tooltip-extension@^0.15.4\u001b[0K\u001b[1G⠂ @jupyterlab/tooltip-extension@^0.15.4\u001b[0K\u001b[1G⠄ @jupyterlab/tooltip-extension@^0.15.4\u001b[0K\u001b[1G⡀ @jupyterlab/tooltip-extension@^0.15.4\u001b[0K\u001b[1G⢀ @jupyterlab/tooltip-extension@^0.15.4\u001b[0K\u001b[1G⠠ @jupyterlab/tooltip-extension@^0.15.4\u001b[0K\u001b[1G⠐ @jupyterlab/tooltip-extension@^0.15.4\u001b[0K\u001b[1G⠈ @jupyterlab/tooltip-extension@^0.15.4\u001b[0K\u001b[1G⠁ @jupyterlab/tooltip-extension@^0.15.4\u001b[0K\u001b[1G⠂ @jupyterlab/tooltip-extension@^0.15.4\u001b[0K\u001b[1G⠄ @jupyterlab/tooltip-extension@^0.15.4\u001b[0K\u001b[1G⡀ @jupyterlab/vdom-extension@^0.15.4\u001b[0K\u001b[1G⢀ @jupyterlab/vdom-extension@^0.15.4\u001b[0K\u001b[1G⠠ @jupyterlab/vdom-extension@^0.15.4\u001b[0K\u001b[1G⠐ @jupyterlab/vdom-extension@^0.15.4\u001b[0K\u001b[1G⠈ @jupyterlab/vdom-extension@^0.15.4\u001b[0K\u001b[1G⠁ @jupyterlab/vdom-extension@^0.15.4\u001b[0K\u001b[1G⠂ @jupyterlab/vdom-extension@^0.15.4\u001b[0K\u001b[1G⠄ @jupyterlab/vdom-extension@^0.15.4\u001b[0K\u001b[1G⡀ @jupyterlab/vdom-extension@^0.15.4\u001b[0K\u001b[1G⢀ @jupyterlab/vdom-extension@^0.15.4\u001b[0K\u001b[1G⠠ @jupyterlab/vdom-extension@^0.15.4\u001b[0K\u001b[1G⠐ @jupyterlab/vdom-extension@^0.15.4\u001b[0K\u001b[1G⠈ @jupyterlab/vdom-extension@^0.15.4\u001b[0K\u001b[1G⠁ @nteract/transform-vdom@^1.1.1\u001b[0K\u001b[1G⠂ @nteract/transform-vdom@^1.1.1\u001b[0K\u001b[1G⠄ @nteract/transform-vdom@^1.1.1\u001b[0K\u001b[1G⡀ @nteract/transform-vdom@^1.1.1\u001b[0K\u001b[1G⢀ @nteract/transform-vdom@^1.1.1\u001b[0K\u001b[1G⠠ @nteract/transform-vdom@^1.1.1\u001b[0K\u001b[1G⠐ @nteract/transform-vdom@^1.1.1\u001b[0K\u001b[1G⠈ @nteract/transform-vdom@^1.1.1\u001b[0K\u001b[1G⠁ @nteract/transform-vdom@^1.1.1\u001b[0K\u001b[1G⠂ @nteract/transform-vdom@^1.1.1\u001b[0K\u001b[1G⠄ @nteract/transform-vdom@^1.1.1\u001b[0K\u001b[1G⡀ @nteract/transform-vdom@^1.1.1\u001b[0K\u001b[1G⢀ @jupyterlab/vega2-extension@^0.15.5\u001b[0K\u001b[1G⠠ @jupyterlab/vega2-extension@^0.15.5\u001b[0K\u001b[1G⠐ @jupyterlab/vega2-extension@^0.15.5\u001b[0K\u001b[1G⠈ @jupyterlab/vega2-extension@^0.15.5\u001b[0K\u001b[1G⠁ @jupyterlab/vega2-extension@^0.15.5\u001b[0K\u001b[1G⠂ @jupyterlab/vega2-extension@^0.15.5\u001b[0K\u001b[1G⠄ @jupyterlab/vega2-extension@^0.15.5\u001b[0K\u001b[1G⡀ @jupyterlab/vega2-extension@^0.15.5\u001b[0K\u001b[1G⢀ @jupyterlab/vega2-extension@^0.15.5\u001b[0K\u001b[1G⠠ @jupyterlab/vega2-extension@^0.15.5\u001b[0K\u001b[1G⠐ @jupyterlab/vega2-extension@^0.15.5\u001b[0K\u001b[1G⠈ @jupyterlab/vega2-extension@^0.15.5\u001b[0K\u001b[1G⠁ @jupyterlab/vega2-extension@^0.15.5\u001b[0K\u001b[1G⠂ vega-embed-v2@^0.0.3\u001b[0K\u001b[1G⠄ vega-embed-v2@^0.0.3\u001b[0K\u001b[1G⡀ vega-embed-v2@^0.0.3\u001b[0K\u001b[1G⢀ vega-lite@~1.3.1\u001b[0K\u001b[1G⠠ vega-lite@~1.3.1\u001b[0K\u001b[1G⠐ vega-lite@~1.3.1\u001b[0K\u001b[1G⠈ canvas@^1.3.4\u001b[0K\u001b[1G⠁ shapefile@0.3\u001b[0K\u001b[1G⠂ d3-dispatch@^1.0.3\u001b[0K\u001b[1G⠄ brfs@^1.3.0\u001b[0K\u001b[1G⡀ sync-request@^2.1.0\u001b[0K\u001b[1G⢀ wrap-ansi@^2.0.0\u001b[0K\u001b[1G⠠ lcid@^1.0.0\u001b[0K\u001b[1G⠐ minimist@^1.1.3\u001b[0K\u001b[1G⠈ path-parse@^1.0.5\u001b[0K\u001b[1G⠁ through2@~2.0.3\u001b[0K\u001b[1G⠂ then-request@^2.0.1\u001b[0K\u001b[1G⠄ punycode@^1.4.1\u001b[0K\u001b[1G⡀ source-map@~0.6.1\u001b[0K\u001b[1G⢀ source-map@^0.5.6\u001b[0K\u001b[1G⠠ bcrypt-pbkdf@^1.0.0\u001b[0K\u001b[1G⠐ strip-bom@^2.0.0\u001b[0K\u001b[1G⠈ fast-levenshtein@~2.0.4\u001b[0K\u001b[1G⠁ validate-npm-package-license@^3.0.1\u001b[0K\u001b[1G⠂ error-ex@^1.2.0\u001b[0K\u001b[1G⠄ is-arrayish@^0.2.1\u001b[0K\u001b[1G⡀ spdx-license-ids@^3.0.0\u001b[0K\u001b[1G⢀ http-response-object@^1.0.0\u001b[0K\u001b[1G⠠ spdx-exceptions@^2.1.0\u001b[0K\u001b[1G⠐ @jupyterlab/latex@file:../extensions/jupyterlab-latex-0.2.1.tgz\u001b[0K\u001b[1G⠈ pdfjs-dist@2.0.104\u001b[0K\u001b[1G⠁ worker-loader@^1.0.0\u001b[0K\u001b[1G⠂ worker-loader@^1.0.0\u001b[0K\u001b[1G⠄ worker-loader@^1.0.0\u001b[0K\u001b[1G⡀ schema-utils@^0.4.0\u001b[0K\u001b[1G⢀ json5@^0.5.0\u001b[0K\u001b[1G⠠ punycode@^2.1.0\u001b[0K\u001b[1G⠐ punycode@^2.1.0\u001b[0K\u001b[1G⠈ punycode@^2.1.0\u001b[0K\u001b[1G⠁ punycode@^2.1.0\u001b[0K\u001b[1G⠂ punycode@^2.1.0\u001b[0K\u001b[1G⠄ punycode@^2.1.0\u001b[0K\u001b[1G⡀ punycode@^2.1.0\u001b[0K\u001b[1G⢀ semver@^5.1.0\u001b[0K\u001b[1G⠠ semver@^5.1.0\u001b[0K\u001b[1G⠐ semver@^5.1.0\u001b[0K\u001b[1G⠈ semver@^5.1.0\u001b[0K\u001b[1G⠁ semver@^5.1.0\u001b[0K\u001b[1G⠂ semver@^5.1.0\u001b[0K\u001b[1G⠄ semver@^5.1.0\u001b[0K\u001b[1G⡀ semver@^5.1.0\u001b[0K\u001b[1G⢀ semver@^5.1.0\u001b[0K\u001b[1G⠠ semver@^5.1.0\u001b[0K\u001b[1G⠐ semver@^5.1.0\u001b[0K\u001b[1G⠈ semver@^5.1.0\u001b[0K\u001b[1G⠁ @types/jquery@*\u001b[0K\u001b[1G⠂ underscore@^1.8.3\u001b[0K\u001b[1G⠄ underscore@^1.8.3\u001b[0K\u001b[1G⡀ underscore@^1.8.3\u001b[0K\u001b[1G⢀ underscore@^1.8.3\u001b[0K\u001b[1G⠠ underscore@^1.8.3\u001b[0K\u001b[1G⠐ underscore@^1.8.3\u001b[0K\u001b[1G⠈ underscore@^1.8.3\u001b[0K\u001b[1G⠁ underscore@^1.8.3\u001b[0K\u001b[1G⠂ underscore@^1.8.3\u001b[0K\u001b[1G⠄ underscore@^1.8.3\u001b[0K\u001b[1G⡀ underscore@^1.8.3\u001b[0K\u001b[1G⢀ underscore@^1.8.3\u001b[0K\u001b[1G⠠ @jupyterlab/buildutils@^0.6.4\u001b[0K\u001b[1G⠐ @jupyterlab/buildutils@^0.6.4\u001b[0K\u001b[1G⠈ @jupyterlab/buildutils@^0.6.4\u001b[0K\u001b[1G⠁ @jupyterlab/buildutils@^0.6.4\u001b[0K\u001b[1G⠂ @jupyterlab/buildutils@^0.6.4\u001b[0K\u001b[1G⠄ @jupyterlab/buildutils@^0.6.4\u001b[0K\u001b[1G⡀ @jupyterlab/buildutils@^0.6.4\u001b[0K\u001b[1G⢀ @jupyterlab/buildutils@^0.6.4\u001b[0K\u001b[1G⠠ @jupyterlab/buildutils@^0.6.4\u001b[0K\u001b[1G⠐ @jupyterlab/buildutils@^0.6.4\u001b[0K\u001b[1G⠈ @jupyterlab/buildutils@^0.6.4\u001b[0K\u001b[1G⠁ @jupyterlab/buildutils@^0.6.4\u001b[0K\u001b[1G⠂ @jupyterlab/buildutils@^0.6.4\u001b[0K\u001b[1G⠄ @jupyterlab/buildutils@^0.6.4\u001b[0K\u001b[1G⡀ universalify@^0.1.0\u001b[0K\u001b[1G⢀ graceful-fs@^4.1.6\u001b[0K\u001b[1G⠠ graceful-fs@^4.1.6\u001b[0K\u001b[1G⠐ rx-lite@*\u001b[0K\u001b[1G⠈ color-name@^1.1.1\u001b[0K\u001b[1G⠁ concat-map@0.0.1\u001b[0K\u001b[1G⠂ source-list-map@^2.0.0\u001b[0K\u001b[1G⠄ regexpu-core@^1.0.0\u001b[0K\u001b[1G⡀ has-flag@^1.0.0\u001b[0K\u001b[1G⢀ postcss-selector-parser@^2.0.0\u001b[0K\u001b[1G⠠ postcss@^5.0.5\u001b[0K\u001b[1G⠐ css-color-names@0.0.4\u001b[0K\u001b[1G⠈ csso@~2.3.1\u001b[0K\u001b[1G⠁ html-comment-regex@^1.1.0\u001b[0K\u001b[1G⠂ q@^1.1.2\u001b[0K\u001b[1G⠄ color-name@^1.0.0\u001b[0K\u001b[1G⡀ file-loader@~0.10.1\u001b[0K\u001b[1G⢀ amdefine@>=0.0.4\u001b[0K\u001b[1G⠠ wordwrap@0.0.2\u001b[0K\u001b[1G⠐ lazy-cache@^1.0.3\u001b[0K\u001b[1G⠈ is-buffer@^1.1.5\u001b[0K\u001b[1G⠁ loader-utils@^1.1.0\u001b[0K\u001b[1G⠂ through@~2.3.6\u001b[0K\u001b[1G⠄ source-map@~0.6.1\u001b[0K\u001b[1G⡀ lower-case@^1.1.1\u001b[0K\u001b[1G⢀ html-webpack-plugin@~2.30.1\u001b[0K\u001b[1G⠠ renderkid@^2.0.1\u001b[0K\u001b[1G⠐ inherits@~2.0.1\u001b[0K\u001b[1G⠈ inherits@~2.0.1\u001b[0K\u001b[1G⠁ nth-check@~1.0.1\u001b[0K\u001b[1G⠂ json-loader@~0.5.7\u001b[0K\u001b[1G⠄ raw-loader@~0.5.1\u001b[0K\u001b[1G⡀ rimraf@~2.6.2\u001b[0K\u001b[1G⢀ style-loader@~0.13.2\u001b[0K\u001b[1G⠠ style-loader@~0.13.2\u001b[0K\u001b[1G⠐ uglifyjs-webpack-plugin@~1.1.5\u001b[0K\u001b[1G⠈ worker-farm@^1.5.2\u001b[0K\u001b[1G⠁ unique-slug@^2.0.0\u001b[0K\u001b[1G⠂ once@^1.4.0\u001b[0K\u001b[1G⠄ path-exists@^3.0.0\u001b[0K\u001b[1G⡀ p-try@^1.0.0\u001b[0K\u001b[1G⢀ p-try@^1.0.0\u001b[0K\u001b[1G⠠ mime@1.3.x\u001b[0K\u001b[1G⠐ webpack@~2.7.0\u001b[0K\u001b[1G⠈ yargs-parser@^4.2.0\u001b[0K\u001b[1G⠁ acorn@^4.0.3\u001b[0K\u001b[1G⠂ isarray@^1.0.0\u001b[0K\u001b[1G⠄ set-immediate-shim@^1.0.1\u001b[0K\u001b[1G⡀ safe-buffer@^5.1.0\u001b[0K\u001b[1G⢀ snapdragon-util@^3.0.1\u001b[0K\u001b[1G⠠ sshpk@^1.7.0\u001b[0K\u001b[1G⠐ expand-brackets@^2.1.4\u001b[0K\u001b[1G⠈ ms@2.0.0\u001b[0K\u001b[1G⠁ is-plain-object@^2.0.4\u001b[0K\u001b[1G⠂ minimalistic-crypto-utils@^1.0.1\u001b[0K\u001b[1G⠄ posix-character-classes@^0.1.0\u001b[0K\u001b[1G⡀ unset-value@^1.0.0\u001b[0K\u001b[1G⢀ rimraf@2\u001b[0K\u001b[1G⠠ object-copy@^0.1.0\u001b[0K\u001b[1G⠐ is-plain-object@^2.0.1\u001b[0K\u001b[1G⠈ isarray@1.0.0\u001b[0K\u001b[1G⠁ isarray@1.0.0\u001b[0K\u001b[1G⠂ browserify-aes@^1.0.0\u001b[0K\u001b[1G⠄ browserify-aes@^1.0.0\u001b[0K\u001b[2K\u001b[1G\u001b[2K\u001b[1G\u001b[2m[2/4]\u001b[22m Fetching packages...\n",
      "\u001b[2K\u001b[1G\u001b[1G[-----------------------------------------------------------------------] 0/825\u001b[1G[#####-----------------------------------------------------------------] 58/825\u001b[1G[#########------------------------------------------------------------] 105/825\u001b[1G[#############--------------------------------------------------------] 154/825\u001b[1G[##################---------------------------------------------------] 210/825\u001b[1G[#######################----------------------------------------------] 279/825\u001b[1G[###########################------------------------------------------] 324/825\u001b[1G[#############################----------------------------------------] 343/825\u001b[1G[##################################-----------------------------------] 403/825\u001b[1G[#########################################----------------------------] 489/825\u001b[1G[###############################################----------------------] 560/825\u001b[1G[###################################################------------------] 613/825\u001b[1G[#######################################################--------------] 657/825\u001b[1G[############################################################---------] 714/825\u001b[1G[################################################################-----] 768/825\u001b[1G[#####################################################################] 821/825\u001b[1G[#####################################################################] 822/825\u001b[1G[#####################################################################] 824/825\u001b[2K\u001b[1G\u001b[34minfo\u001b[39m fsevents@1.1.3: The platform \"linux\" is incompatible with this module.\n",
      "\u001b[2K\u001b[1G\u001b[34minfo\u001b[39m \"fsevents@1.1.3\" is an optional dependency and failed compatibility check. Excluding it from installation.\n",
      "\u001b[2K\u001b[1G\u001b[2m[3/4]\u001b[22m Linking dependencies...\n",
      "\u001b[2K\u001b[1G\u001b[33mwarning\u001b[39m \"@jupyterlab/json-extension > react-json-tree@0.10.9\" has unmet peer dependency \"react@^15.0.0\".\n",
      "\u001b[2K\u001b[1G\u001b[33mwarning\u001b[39m \"@jupyterlab/json-extension > react-json-tree@0.10.9\" has unmet peer dependency \"react-dom@^15.0.0\".\n",
      "\u001b[2K\u001b[1G\u001b[33mwarning\u001b[39m \"@jupyterlab/json-extension > react-highlighter@0.4.2\" has unmet peer dependency \"react@^0.14.0 || ^15.0.0 || ^16.0.0\".\n",
      "\u001b[2K\u001b[1G\u001b[33mwarning\u001b[39m \"@jupyterlab/vdom-extension > @nteract/transform-vdom@1.1.1\" has unmet peer dependency \"react@^15.6.1\".\n",
      "\u001b[1G[#####################################################################] 825/825\u001b[2K\u001b[1G\u001b[2K\u001b[1G\u001b[1G[-----------------------------------------------------------------------] 0/845\u001b[2K\u001b[1G\u001b[2K\u001b[1G\u001b[1G[----------------------------------------------------------------------] 0/1881\u001b[1G[#######-------------------------------------------------------------] 188/1881\u001b[1G[###############-----------------------------------------------------] 403/1881\u001b[1G[#######################---------------------------------------------] 650/1881\u001b[1G[###############################-------------------------------------] 868/1881\u001b[1G[#######################################----------------------------] 1093/1881\u001b[1G[###############################################--------------------] 1321/1881\u001b[1G[#######################################################------------] 1557/1881\u001b[1G[###############################################################----] 1771/1881\u001b[1G[###################################################################] 1881/1881\u001b[2K\u001b[1G\u001b[2K\u001b[1G\u001b[1G[----------------------------------------------------------------------] 0/1554\u001b[1G[##############------------------------------------------------------] 313/1554\u001b[1G[#################################-----------------------------------] 749/1554\u001b[1G[######################################------------------------------] 864/1554\u001b[2K\u001b[1G\u001b[2m[4/4]\u001b[22m Building fresh packages...\n",
      "\u001b[2K\u001b[1G\n",
      "\u001b[2K\u001b[1G\n",
      "\u001b[2K\u001b[1G\n",
      "\u001b[2K\u001b[1G\n",
      "\u001b[1G⠁ \u001b[0K\u001b[1G\u001b[1A⠁ \u001b[0K\u001b[1G\u001b[1B\u001b[1G\u001b[2A⠁ \u001b[0K\u001b[1G\u001b[2B\u001b[1G\u001b[3A⠁ \u001b[0K\u001b[1G\u001b[3B\u001b[1G\u001b[4A⠁ \u001b[0K\u001b[1G\u001b[4B\u001b[1G[#######################################-----------------------------] 884/1554\u001b[1G\u001b[2m[-/2]\u001b[22m ⠂ waiting...\u001b[0K\u001b[1G\u001b[1A\u001b[2m[-/2]\u001b[22m ⠂ waiting...\u001b[0K\u001b[1G\u001b[1B\u001b[1G\u001b[2A\u001b[2m[-/2]\u001b[22m ⠂ waiting...\u001b[0K\u001b[1G\u001b[2B\u001b[1G\u001b[3A\u001b[2m[2/2]\u001b[22m ⠂ canvas\u001b[0K\u001b[1G\u001b[3B\u001b[1G\u001b[4A\u001b[2m[1/2]\u001b[22m ⠂ spawn-sync\u001b[0K\u001b[1G\u001b[4B\u001b[1G\u001b[2m[-/2]\u001b[22m ⠄ waiting...\u001b[0K\u001b[1G\u001b[1A\u001b[2m[-/2]\u001b[22m ⠄ waiting...\u001b[0K\u001b[1G\u001b[1B\u001b[1G\u001b[2A\u001b[2m[-/2]\u001b[22m ⠄ waiting...\u001b[0K\u001b[1G\u001b[2B\u001b[1G\u001b[3A\u001b[2m[2/2]\u001b[22m ⠄ canvas\u001b[0K\u001b[1G\u001b[3B\u001b[1G\u001b[4A\u001b[2m[1/2]\u001b[22m ⠄ spawn-sync\u001b[0K\u001b[1G\u001b[4B\u001b[1G\u001b[2m[-/2]\u001b[22m ⡀ waiting...\u001b[0K\u001b[1G\u001b[1A\u001b[2m[-/2]\u001b[22m ⡀ waiting...\u001b[0K\u001b[1G\u001b[1B\u001b[1G\u001b[2A\u001b[2m[-/2]\u001b[22m ⡀ waiting...\u001b[0K\u001b[1G\u001b[2B\u001b[1G\u001b[3A\u001b[2m[2/2]\u001b[22m ⡀ canvas: node@6.11.4 | linux | x64\u001b[0K\u001b[1G\u001b[3B\u001b[1G\u001b[4A\u001b[2m[-/2]\u001b[22m ⡀ waiting...\u001b[0K\u001b[1G\u001b[4B\u001b[1G\u001b[2m[-/2]\u001b[22m ⢀ waiting...\u001b[0K\u001b[1G\u001b[1A\u001b[2m[-/2]\u001b[22m ⢀ waiting...\u001b[0K\u001b[1G\u001b[1B\u001b[1G\u001b[2A\u001b[2m[-/2]\u001b[22m ⢀ waiting...\u001b[0K\u001b[1G\u001b[2B\u001b[1G\u001b[3A\u001b[2m[2/2]\u001b[22m ⢀ canvas: gyp\u001b[0K\u001b[1G\u001b[3B\u001b[1G\u001b[4A\u001b[2m[-/2]\u001b[22m ⢀ waiting...\u001b[0K\u001b[1G\u001b[4B\u001b[1G\u001b[2m[-/2]\u001b[22m ⠠ waiting...\u001b[0K\u001b[1G\u001b[1A\u001b[2m[-/2]\u001b[22m ⠠ waiting...\u001b[0K\u001b[1G\u001b[1B\u001b[1G\u001b[2A\u001b[2m[-/2]\u001b[22m ⠠ waiting...\u001b[0K\u001b[1G\u001b[2B\u001b[1G\u001b[3A\u001b[2m[2/2]\u001b[22m ⠠ canvas: spawn args   '-Goutput_dir=.' ]\u001b[0K\u001b[1G\u001b[3B\u001b[1G\u001b[4A\u001b[2m[-/2]\u001b[22m ⠠ waiting...\u001b[0K\u001b[1G\u001b[4B\u001b[1G\u001b[2m[-/2]\u001b[22m ⠐ waiting...\u001b[0K\u001b[1G\u001b[1A\u001b[2m[-/2]\u001b[22m ⠐ waiting...\u001b[0K\u001b[1G\u001b[1B\u001b[1G\u001b[2A\u001b[2m[-/2]\u001b[22m ⠐ waiting...\u001b[0K\u001b[1G\u001b[2B\u001b[1G\u001b[3A\u001b[2m[2/2]\u001b[22m ⠐ canvas: spawn args   '-Goutput_dir=.' ]\u001b[0K\u001b[1G\u001b[3B\u001b[1G\u001b[4A\u001b[2m[-/2]\u001b[22m ⠐ waiting...\u001b[0K\u001b[1G\u001b[4B\u001b[1G\u001b[2m[-/2]\u001b[22m ⠈ waiting...\u001b[0K\u001b[1G\u001b[1A\u001b[2m[-/2]\u001b[22m ⠈ waiting...\u001b[0K\u001b[1G\u001b[1B\u001b[1G\u001b[2A\u001b[2m[-/2]\u001b[22m ⠈ waiting...\u001b[0K\u001b[1G\u001b[2B\u001b[1G\u001b[3A\u001b[2m[2/2]\u001b[22m ⠈ canvas: spawn args   '-Goutput_dir=.' ]\u001b[0K\u001b[1G\u001b[3B\u001b[1G\u001b[4A\u001b[2m[-/2]\u001b[22m ⠈ waiting...\u001b[0K\u001b[1G\u001b[4B\u001b[1G\u001b[2m[-/2]\u001b[22m ⠁ waiting...\u001b[0K\u001b[1G\u001b[1A\u001b[2m[-/2]\u001b[22m ⠁ waiting...\u001b[0K\u001b[1G\u001b[1B\u001b[1G\u001b[2A\u001b[2m[-/2]\u001b[22m ⠁ waiting...\u001b[0K\u001b[1G\u001b[2B\u001b[1G\u001b[3A\u001b[2m[2/2]\u001b[22m ⠁ canvas: spawn args   '-Goutput_dir=.' ]\u001b[0K\u001b[1G\u001b[3B\u001b[1G\u001b[4A\u001b[2m[-/2]\u001b[22m ⠁ waiting...\u001b[0K\u001b[1G\u001b[4B\u001b[1G\u001b[2m[-/2]\u001b[22m ⠂ waiting...\u001b[0K\u001b[1G\u001b[1A\u001b[2m[-/2]\u001b[22m ⠂ waiting...\u001b[0K\u001b[1G\u001b[1B\u001b[1G\u001b[2A\u001b[2m[-/2]\u001b[22m ⠂ waiting...\u001b[0K\u001b[1G\u001b[2B\u001b[1G\u001b[3A\u001b[2m[2/2]\u001b[22m ⠂ canvas: spawn args   '-Goutput_dir=.' ]\u001b[0K\u001b[1G\u001b[3B\u001b[1G\u001b[4A\u001b[2m[-/2]\u001b[22m ⠂ waiting...\u001b[0K\u001b[1G\u001b[4B\u001b[1G\u001b[2m[-/2]\u001b[22m ⠄ waiting...\u001b[0K\u001b[1G\u001b[1A\u001b[2m[-/2]\u001b[22m ⠄ waiting...\u001b[0K\u001b[1G\u001b[1B\u001b[1G\u001b[2A\u001b[2m[-/2]\u001b[22m ⠄ waiting...\u001b[0K\u001b[1G\u001b[2B\u001b[1G\u001b[3A\u001b[2m[2/2]\u001b[22m ⠄ canvas: SOLINK_MODULE(target) Release/obj.target/canvas-postbui\u001b[0K\u001b[1G\u001b[3B\u001b[1G\u001b[4A\u001b[2m[-/2]\u001b[22m ⠄ waiting...\u001b[0K\u001b[1G\u001b[4B\u001b[1G\u001b[2m[-/2]\u001b[22m ⡀ waiting...\u001b[0K\u001b[1G\u001b[1A\u001b[2m[-/2]\u001b[22m ⡀ waiting...\u001b[0K\u001b[1G\u001b[1B\u001b[1G\u001b[2A\u001b[2m[-/2]\u001b[22m ⡀ waiting...\u001b[0K\u001b[1G\u001b[2B\u001b[1G\u001b[3A\u001b[2m[2/2]\u001b[22m ⡀ canvas: CXX(target) Release/obj.target/canvas/src/Canvas.o\u001b[0K\u001b[1G\u001b[3B\u001b[1G\u001b[4A\u001b[2m[-/2]\u001b[22m ⡀ waiting...\u001b[0K\u001b[1G\u001b[4B\u001b[1G\u001b[2m[-/2]\u001b[22m ⢀ waiting...\u001b[0K\u001b[1G\u001b[1A\u001b[2m[-/2]\u001b[22m ⢀ waiting...\u001b[0K\u001b[1G\u001b[1B\u001b[1G\u001b[2A\u001b[2m[-/2]\u001b[22m ⢀ waiting...\u001b[0K\u001b[1G\u001b[2B\u001b[1G\u001b[3A\u001b[2m[2/2]\u001b[22m ⢀ canvas: CXX(target) Release/obj.target/canvas/src/Canvas.o\u001b[0K\u001b[1G\u001b[3B\u001b[1G\u001b[4A\u001b[2m[-/2]\u001b[22m ⢀ waiting...\u001b[0K\u001b[1G\u001b[4B\u001b[1G\u001b[2m[-/2]\u001b[22m ⠠ waiting...\u001b[0K\u001b[1G\u001b[1A\u001b[2m[-/2]\u001b[22m ⠠ waiting...\u001b[0K\u001b[1G\u001b[1B\u001b[1G\u001b[2A\u001b[2m[-/2]\u001b[22m ⠠ waiting...\u001b[0K\u001b[1G\u001b[2B\u001b[1G\u001b[3A\u001b[2m[2/2]\u001b[22m ⠠ canvas: CXX(target) Release/obj.target/canvas/src/Canvas.o\u001b[0K\u001b[1G\u001b[3B\u001b[1G\u001b[4A\u001b[2m[-/2]\u001b[22m ⠠ waiting...\u001b[0K\u001b[1G\u001b[4B\u001b[1G\u001b[2m[-/2]\u001b[22m ⠐ waiting...\u001b[0K\u001b[1G\u001b[1A\u001b[2m[-/2]\u001b[22m ⠐ waiting...\u001b[0K\u001b[1G\u001b[1B\u001b[1G\u001b[2A\u001b[2m[-/2]\u001b[22m ⠐ waiting...\u001b[0K\u001b[1G\u001b[2B\u001b[1G\u001b[3A\u001b[2m[2/2]\u001b[22m ⠐ canvas: CXX(target) Release/obj.target/canvas/src/Canvas.o\u001b[0K\u001b[1G\u001b[3B\u001b[1G\u001b[4A\u001b[2m[-/2]\u001b[22m ⠐ waiting...\u001b[0K\u001b[1G\u001b[4B\u001b[1G\u001b[2m[-/2]\u001b[22m ⠈ waiting...\u001b[0K\u001b[1G\u001b[1A\u001b[2m[-/2]\u001b[22m ⠈ waiting...\u001b[0K\u001b[1G\u001b[1B\u001b[1G\u001b[2A\u001b[2m[-/2]\u001b[22m ⠈ waiting...\u001b[0K\u001b[1G\u001b[2B\u001b[1G\u001b[3A\u001b[2m[2/2]\u001b[22m ⠈ canvas: CXX(target) Release/obj.target/canvas/src/Canvas.o\u001b[0K\u001b[1G\u001b[3B\u001b[1G\u001b[4A\u001b[2m[-/2]\u001b[22m ⠈ waiting...\u001b[0K\u001b[1G\u001b[4B\u001b[1G\u001b[2m[-/2]\u001b[22m ⠁ waiting...\u001b[0K\u001b[1G\u001b[1A\u001b[2m[-/2]\u001b[22m ⠁ waiting...\u001b[0K\u001b[1G\u001b[1B\u001b[1G\u001b[2A\u001b[2m[-/2]\u001b[22m ⠁ waiting...\u001b[0K\u001b[1G\u001b[2B\u001b[1G\u001b[3A\u001b[2m[2/2]\u001b[22m ⠁ canvas: CXX(target) Release/obj.target/canvas/src/Canvas.o\u001b[0K\u001b[1G\u001b[3B\u001b[1G\u001b[4A\u001b[2m[-/2]\u001b[22m ⠁ waiting...\u001b[0K\u001b[1G\u001b[4B\u001b[1G\u001b[2m[-/2]\u001b[22m ⠂ waiting...\u001b[0K\u001b[1G\u001b[1A\u001b[2m[-/2]\u001b[22m ⠂ waiting...\u001b[0K\u001b[1G\u001b[1B\u001b[1G\u001b[2A\u001b[2m[-/2]\u001b[22m ⠂ waiting...\u001b[0K\u001b[1G\u001b[2B\u001b[1G\u001b[3A\u001b[2m[2/2]\u001b[22m ⠂ canvas: CXX(target) Release/obj.target/canvas/src/Canvas.o\u001b[0K\u001b[1G\u001b[3B\u001b[1G\u001b[4A\u001b[2m[-/2]\u001b[22m ⠂ waiting...\u001b[0K\u001b[1G\u001b[4B\u001b[1G\u001b[2m[-/2]\u001b[22m ⠄ waiting...\u001b[0K\u001b[1G\u001b[1A\u001b[2m[-/2]\u001b[22m ⠄ waiting...\u001b[0K\u001b[1G\u001b[1B\u001b[1G\u001b[2A\u001b[2m[-/2]\u001b[22m ⠄ waiting...\u001b[0K\u001b[1G\u001b[2B\u001b[1G\u001b[3A\u001b[2m[2/2]\u001b[22m ⠄ canvas: CXX(target) Release/obj.target/canvas/src/Canvas.o\u001b[0K\u001b[1G\u001b[3B\u001b[1G\u001b[4A\u001b[2m[-/2]\u001b[22m ⠄ waiting...\u001b[0K\u001b[1G\u001b[4B\u001b[1G\u001b[2m[-/2]\u001b[22m ⡀ waiting...\u001b[0K\u001b[1G\u001b[1A\u001b[2m[-/2]\u001b[22m ⡀ waiting...\u001b[0K\u001b[1G\u001b[1B\u001b[1G\u001b[2A\u001b[2m[-/2]\u001b[22m ⡀ waiting...\u001b[0K\u001b[1G\u001b[2B\u001b[1G\u001b[3A\u001b[2m[2/2]\u001b[22m ⡀ canvas: CXX(target) Release/obj.target/canvas/src/Canvas.o\u001b[0K\u001b[1G\u001b[3B\u001b[1G\u001b[4A\u001b[2m[-/2]\u001b[22m ⡀ waiting...\u001b[0K\u001b[1G\u001b[4B\u001b[1G\u001b[2m[-/2]\u001b[22m ⢀ waiting...\u001b[0K\u001b[1G\u001b[1A\u001b[2m[-/2]\u001b[22m ⢀ waiting...\u001b[0K\u001b[1G\u001b[1B\u001b[1G\u001b[2A\u001b[2m[-/2]\u001b[22m ⢀ waiting...\u001b[0K\u001b[1G\u001b[2B\u001b[1G\u001b[3A\u001b[2m[2/2]\u001b[22m ⢀ canvas:                                               ^~~~~~~~~\u001b[0K\u001b[1G\u001b[3B\u001b[1G\u001b[4A\u001b[2m[-/2]\u001b[22m ⢀ waiting...\u001b[0K\u001b[1G\u001b[4B\u001b[1G\u001b[2m[-/2]\u001b[22m ⠠ waiting...\u001b[0K\u001b[1G\u001b[1A\u001b[2m[-/2]\u001b[22m ⠠ waiting...\u001b[0K\u001b[1G\u001b[1B\u001b[1G\u001b[2A\u001b[2m[-/2]\u001b[22m ⠠ waiting...\u001b[0K\u001b[1G\u001b[2B\u001b[1G\u001b[3A\u001b[2m[2/2]\u001b[22m ⠠ canvas:                                               ^~~~~~~~~\u001b[0K\u001b[1G\u001b[3B\u001b[1G\u001b[4A\u001b[2m[-/2]\u001b[22m ⠠ waiting...\u001b[0K\u001b[1G\u001b[4B\u001b[1G\u001b[2m[-/2]\u001b[22m ⠐ waiting...\u001b[0K\u001b[1G\u001b[1A\u001b[2m[-/2]\u001b[22m ⠐ waiting...\u001b[0K\u001b[1G\u001b[1B\u001b[1G\u001b[2A\u001b[2m[-/2]\u001b[22m ⠐ waiting...\u001b[0K\u001b[1G\u001b[2B\u001b[1G\u001b[3A\u001b[2m[2/2]\u001b[22m ⠐ canvas:                                               ^~~~~~~~~\u001b[0K\u001b[1G\u001b[3B\u001b[1G\u001b[4A\u001b[2m[-/2]\u001b[22m ⠐ waiting...\u001b[0K\u001b[1G\u001b[4B\u001b[1G\u001b[2m[-/2]\u001b[22m ⠈ waiting...\u001b[0K\u001b[1G\u001b[1A\u001b[2m[-/2]\u001b[22m ⠈ waiting...\u001b[0K\u001b[1G\u001b[1B\u001b[1G\u001b[2A\u001b[2m[-/2]\u001b[22m ⠈ waiting...\u001b[0K\u001b[1G\u001b[2B\u001b[1G\u001b[3A\u001b[2m[2/2]\u001b[22m ⠈ canvas:                                               ^~~~~~~~~\u001b[0K\u001b[1G\u001b[3B\u001b[1G\u001b[4A\u001b[2m[-/2]\u001b[22m ⠈ waiting...\u001b[0K\u001b[1G\u001b[4B\u001b[1G\u001b[2m[-/2]\u001b[22m ⠁ waiting...\u001b[0K\u001b[1G\u001b[1A\u001b[2m[-/2]\u001b[22m ⠁ waiting...\u001b[0K\u001b[1G\u001b[1B\u001b[1G\u001b[2A\u001b[2m[-/2]\u001b[22m ⠁ waiting...\u001b[0K\u001b[1G\u001b[2B\u001b[1G\u001b[3A\u001b[2m[2/2]\u001b[22m ⠁ canvas:                     ^~~~~~\u001b[0K\u001b[1G\u001b[3B\u001b[1G\u001b[4A\u001b[2m[-/2]\u001b[22m ⠁ waiting...\u001b[0K\u001b[1G\u001b[4B\u001b[1G\u001b[2m[-/2]\u001b[22m ⠂ waiting...\u001b[0K\u001b[1G\u001b[1A\u001b[2m[-/2]\u001b[22m ⠂ waiting...\u001b[0K\u001b[1G\u001b[1B\u001b[1G\u001b[2A\u001b[2m[-/2]\u001b[22m ⠂ waiting...\u001b[0K\u001b[1G\u001b[2B\u001b[1G\u001b[3A\u001b[2m[2/2]\u001b[22m ⠂ canvas:                     ^~~~~~\u001b[0K\u001b[1G\u001b[3B\u001b[1G\u001b[4A\u001b[2m[-/2]\u001b[22m ⠂ waiting...\u001b[0K\u001b[1G\u001b[4B\u001b[1G\u001b[2m[-/2]\u001b[22m ⠄ waiting...\u001b[0K\u001b[1G\u001b[1A\u001b[2m[-/2]\u001b[22m ⠄ waiting...\u001b[0K\u001b[1G\u001b[1B\u001b[1G\u001b[2A\u001b[2m[-/2]\u001b[22m ⠄ waiting...\u001b[0K\u001b[1G\u001b[2B\u001b[1G\u001b[3A\u001b[2m[2/2]\u001b[22m ⠄ canvas:                     ^~~~~~\u001b[0K\u001b[1G\u001b[3B\u001b[1G\u001b[4A\u001b[2m[-/2]\u001b[22m ⠄ waiting...\u001b[0K\u001b[1G\u001b[4B\u001b[1G\u001b[2m[-/2]\u001b[22m ⡀ waiting...\u001b[0K\u001b[1G\u001b[1A\u001b[2m[-/2]\u001b[22m ⡀ waiting...\u001b[0K\u001b[1G\u001b[1B\u001b[1G\u001b[2A\u001b[2m[-/2]\u001b[22m ⡀ waiting...\u001b[0K\u001b[1G\u001b[2B\u001b[1G\u001b[3A\u001b[2m[2/2]\u001b[22m ⡀ canvas:                     ^~~~~~\u001b[0K\u001b[1G\u001b[3B\u001b[1G\u001b[4A\u001b[2m[-/2]\u001b[22m ⡀ waiting...\u001b[0K\u001b[1G\u001b[4B\u001b[1G\u001b[2m[-/2]\u001b[22m ⢀ waiting...\u001b[0K\u001b[1G\u001b[1A\u001b[2m[-/2]\u001b[22m ⢀ waiting...\u001b[0K\u001b[1G\u001b[1B\u001b[1G\u001b[2A\u001b[2m[-/2]\u001b[22m ⢀ waiting...\u001b[0K\u001b[1G\u001b[2B\u001b[1G\u001b[3A\u001b[2m[2/2]\u001b[22m ⢀ canvas:                     ^~~~~~\u001b[0K\u001b[1G\u001b[3B\u001b[1G\u001b[4A\u001b[2m[-/2]\u001b[22m ⢀ waiting...\u001b[0K\u001b[1G\u001b[4B\u001b[1G\u001b[2m[-/2]\u001b[22m ⠠ waiting...\u001b[0K\u001b[1G\u001b[1A\u001b[2m[-/2]\u001b[22m ⠠ waiting...\u001b[0K\u001b[1G\u001b[1B\u001b[1G\u001b[2A\u001b[2m[-/2]\u001b[22m ⠠ waiting...\u001b[0K\u001b[1G\u001b[2B\u001b[1G\u001b[3A\u001b[2m[2/2]\u001b[22m ⠠ canvas:                     ^~~~~~\u001b[0K\u001b[1G\u001b[3B\u001b[1G\u001b[4A\u001b[2m[-/2]\u001b[22m ⠠ waiting...\u001b[0K\u001b[1G\u001b[4B\u001b[1G\u001b[2m[-/2]\u001b[22m ⠐ waiting...\u001b[0K\u001b[1G\u001b[1A\u001b[2m[-/2]\u001b[22m ⠐ waiting...\u001b[0K\u001b[1G\u001b[1B\u001b[1G\u001b[2A\u001b[2m[-/2]\u001b[22m ⠐ waiting...\u001b[0K\u001b[1G\u001b[2B\u001b[1G\u001b[3A\u001b[2m[2/2]\u001b[22m ⠐ canvas: CXX(target) Release/obj.target/canvas/src/CanvasGradien\u001b[0K\u001b[1G\u001b[3B\u001b[1G\u001b[4A\u001b[2m[-/2]\u001b[22m ⠐ waiting...\u001b[0K\u001b[1G\u001b[4B\u001b[1G\u001b[2m[-/2]\u001b[22m ⠈ waiting...\u001b[0K\u001b[1G\u001b[1A\u001b[2m[-/2]\u001b[22m ⠈ waiting...\u001b[0K\u001b[1G\u001b[1B\u001b[1G\u001b[2A\u001b[2m[-/2]\u001b[22m ⠈ waiting...\u001b[0K\u001b[1G\u001b[2B\u001b[1G\u001b[3A\u001b[2m[2/2]\u001b[22m ⠈ canvas: CXX(target) Release/obj.target/canvas/src/CanvasGradien\u001b[0K\u001b[1G\u001b[3B\u001b[1G\u001b[4A\u001b[2m[-/2]\u001b[22m ⠈ waiting...\u001b[0K\u001b[1G\u001b[4B\u001b[1G\u001b[2m[-/2]\u001b[22m ⠁ waiting...\u001b[0K\u001b[1G\u001b[1A\u001b[2m[-/2]\u001b[22m ⠁ waiting...\u001b[0K\u001b[1G\u001b[1B\u001b[1G\u001b[2A\u001b[2m[-/2]\u001b[22m ⠁ waiting...\u001b[0K\u001b[1G\u001b[2B\u001b[1G\u001b[3A\u001b[2m[2/2]\u001b[22m ⠁ canvas: CXX(target) Release/obj.target/canvas/src/CanvasGradien\u001b[0K\u001b[1G\u001b[3B\u001b[1G\u001b[4A\u001b[2m[-/2]\u001b[22m ⠁ waiting...\u001b[0K\u001b[1G\u001b[4B\u001b[1G\u001b[2m[-/2]\u001b[22m ⠂ waiting...\u001b[0K\u001b[1G\u001b[1A\u001b[2m[-/2]\u001b[22m ⠂ waiting...\u001b[0K\u001b[1G\u001b[1B\u001b[1G\u001b[2A\u001b[2m[-/2]\u001b[22m ⠂ waiting...\u001b[0K\u001b[1G\u001b[2B\u001b[1G\u001b[3A\u001b[2m[2/2]\u001b[22m ⠂ canvas: CXX(target) Release/obj.target/canvas/src/CanvasGradien\u001b[0K\u001b[1G\u001b[3B\u001b[1G\u001b[4A\u001b[2m[-/2]\u001b[22m ⠂ waiting...\u001b[0K\u001b[1G\u001b[4B\u001b[1G\u001b[2m[-/2]\u001b[22m ⠄ waiting...\u001b[0K\u001b[1G\u001b[1A\u001b[2m[-/2]\u001b[22m ⠄ waiting...\u001b[0K\u001b[1G\u001b[1B\u001b[1G\u001b[2A\u001b[2m[-/2]\u001b[22m ⠄ waiting...\u001b[0K\u001b[1G\u001b[2B\u001b[1G\u001b[3A\u001b[2m[2/2]\u001b[22m ⠄ canvas: CXX(target) Release/obj.target/canvas/src/CanvasGradien\u001b[0K\u001b[1G\u001b[3B\u001b[1G\u001b[4A\u001b[2m[-/2]\u001b[22m ⠄ waiting...\u001b[0K\u001b[1G\u001b[4B\u001b[1G\u001b[2m[-/2]\u001b[22m ⡀ waiting...\u001b[0K\u001b[1G\u001b[1A\u001b[2m[-/2]\u001b[22m ⡀ waiting...\u001b[0K\u001b[1G\u001b[1B\u001b[1G\u001b[2A\u001b[2m[-/2]\u001b[22m ⡀ waiting...\u001b[0K\u001b[1G\u001b[2B\u001b[1G\u001b[3A\u001b[2m[2/2]\u001b[22m ⡀ canvas: CXX(target) Release/obj.target/canvas/src/CanvasGradien\u001b[0K\u001b[1G\u001b[3B\u001b[1G\u001b[4A\u001b[2m[-/2]\u001b[22m ⡀ waiting...\u001b[0K\u001b[1G\u001b[4B\u001b[1G\u001b[2m[-/2]\u001b[22m ⢀ waiting...\u001b[0K\u001b[1G\u001b[1A\u001b[2m[-/2]\u001b[22m ⢀ waiting...\u001b[0K\u001b[1G\u001b[1B\u001b[1G\u001b[2A\u001b[2m[-/2]\u001b[22m ⢀ waiting...\u001b[0K\u001b[1G\u001b[2B\u001b[1G\u001b[3A\u001b[2m[2/2]\u001b[22m ⢀ canvas: CXX(target) Release/obj.target/canvas/src/CanvasGradien\u001b[0K\u001b[1G\u001b[3B\u001b[1G\u001b[4A\u001b[2m[-/2]\u001b[22m ⢀ waiting...\u001b[0K\u001b[1G\u001b[4B\u001b[1G\u001b[2m[-/2]\u001b[22m ⠠ waiting...\u001b[0K\u001b[1G\u001b[1A\u001b[2m[-/2]\u001b[22m ⠠ waiting...\u001b[0K\u001b[1G\u001b[1B\u001b[1G\u001b[2A\u001b[2m[-/2]\u001b[22m ⠠ waiting...\u001b[0K\u001b[1G\u001b[2B\u001b[1G\u001b[3A\u001b[2m[2/2]\u001b[22m ⠠ canvas: CXX(target) Release/obj.target/canvas/src/CanvasGradien\u001b[0K\u001b[1G\u001b[3B\u001b[1G\u001b[4A\u001b[2m[-/2]\u001b[22m ⠠ waiting...\u001b[0K\u001b[1G\u001b[4B\u001b[1G\u001b[2m[-/2]\u001b[22m ⠐ waiting...\u001b[0K\u001b[1G\u001b[1A\u001b[2m[-/2]\u001b[22m ⠐ waiting...\u001b[0K\u001b[1G\u001b[1B\u001b[1G\u001b[2A\u001b[2m[-/2]\u001b[22m ⠐ waiting...\u001b[0K\u001b[1G\u001b[2B\u001b[1G\u001b[3A\u001b[2m[2/2]\u001b[22m ⠐ canvas: CXX(target) Release/obj.target/canvas/src/CanvasGradien\u001b[0K\u001b[1G\u001b[3B\u001b[1G\u001b[4A\u001b[2m[-/2]\u001b[22m ⠐ waiting...\u001b[0K\u001b[1G\u001b[4B\u001b[1G\u001b[2m[-/2]\u001b[22m ⠈ waiting...\u001b[0K\u001b[1G\u001b[1A\u001b[2m[-/2]\u001b[22m ⠈ waiting...\u001b[0K\u001b[1G\u001b[1B\u001b[1G\u001b[2A\u001b[2m[-/2]\u001b[22m ⠈ waiting...\u001b[0K\u001b[1G\u001b[2B\u001b[1G\u001b[3A\u001b[2m[2/2]\u001b[22m ⠈ canvas: CXX(target) Release/obj.target/canvas/src/CanvasGradien\u001b[0K\u001b[1G\u001b[3B\u001b[1G\u001b[4A\u001b[2m[-/2]\u001b[22m ⠈ waiting...\u001b[0K\u001b[1G\u001b[4B\u001b[1G\u001b[2m[-/2]\u001b[22m ⠁ waiting...\u001b[0K\u001b[1G\u001b[1A\u001b[2m[-/2]\u001b[22m ⠁ waiting...\u001b[0K\u001b[1G\u001b[1B\u001b[1G\u001b[2A\u001b[2m[-/2]\u001b[22m ⠁ waiting...\u001b[0K\u001b[1G\u001b[2B\u001b[1G\u001b[3A\u001b[2m[2/2]\u001b[22m ⠁ canvas: CXX(target) Release/obj.target/canvas/src/CanvasPattern\u001b[0K\u001b[1G\u001b[3B\u001b[1G\u001b[4A\u001b[2m[-/2]\u001b[22m ⠁ waiting...\u001b[0K\u001b[1G\u001b[4B\u001b[1G\u001b[2m[-/2]\u001b[22m ⠂ waiting...\u001b[0K\u001b[1G\u001b[1A\u001b[2m[-/2]\u001b[22m ⠂ waiting...\u001b[0K\u001b[1G\u001b[1B\u001b[1G\u001b[2A\u001b[2m[-/2]\u001b[22m ⠂ waiting...\u001b[0K\u001b[1G\u001b[2B\u001b[1G\u001b[3A\u001b[2m[2/2]\u001b[22m ⠂ canvas: CXX(target) Release/obj.target/canvas/src/CanvasPattern\u001b[0K\u001b[1G\u001b[3B\u001b[1G\u001b[4A\u001b[2m[-/2]\u001b[22m ⠂ waiting...\u001b[0K\u001b[1G\u001b[4B\u001b[2K\u001b[1G\u001b[33mwarning\u001b[39m Error running install script for optional dependency: \"/home/angus/.local/share/virtualenvs/mcnp_project-EYhqo_wP/share/jupyter/lab/staging/node_modules/canvas: Command failed.\\nExit code: 1\\nCommand: node-gyp rebuild\\nArguments: \\nDirectory: /home/angus/.local/share/virtualenvs/mcnp_project-EYhqo_wP/share/jupyter/lab/staging/node_modules/canvas\\nOutput:\\ngyp info it worked if it ends with ok\\ngyp info using node-gyp@3.4.0\\ngyp info using node@6.11.4 | linux | x64\\ngyp info spawn /usr/bin/python2\\ngyp info spawn args [ '/usr/share/node-gyp/gyp/gyp_main.py',\\ngyp info spawn args   'binding.gyp',\\ngyp info spawn args   '-f',\\ngyp info spawn args   'make',\\ngyp info spawn args   '-I',\\ngyp info spawn args   '/home/angus/.local/share/virtualenvs/mcnp_project-EYhqo_wP/share/jupyter/lab/staging/node_modules/canvas/build/config.gypi',\\ngyp info spawn args   '-I',\\ngyp info spawn args   '/usr/share/node-gyp/addon.gypi',\\ngyp info spawn args   '-I',\\ngyp info spawn args   '/usr/include/nodejs/common.gypi',\\ngyp info spawn args   '-Dlibrary=shared_library',\\ngyp info spawn args   '-Dvisibility=default',\\ngyp info spawn args   '-Dnode_root_dir=/usr/include/nodejs',\\ngyp info spawn args   '-Dnode_gyp_dir=/usr/share/node-gyp',\\ngyp info spawn args   '-Dnode_lib_file=node.lib',\\ngyp info spawn args   '-Dmodule_root_dir=/home/angus/.local/share/virtualenvs/mcnp_project-EYhqo_wP/share/jupyter/lab/staging/node_modules/canvas',\\ngyp info spawn args   '--depth=.',\\ngyp info spawn args   '--no-parallel',\\ngyp info spawn args   '--generator-output',\\ngyp info spawn args   'build',\\ngyp info spawn args   '-Goutput_dir=.' ]\\ngyp info spawn make\\ngyp info spawn args [ 'BUILDTYPE=Release', '-C', 'build' ]\\nmake: Entering directory '/home/angus/.local/share/virtualenvs/mcnp_project-EYhqo_wP/share/jupyter/lab/staging/node_modules/canvas/build'\\n  SOLINK_MODULE(target) Release/obj.target/canvas-postbuild.node\\n  COPY Release/canvas-postbuild.node\\n  CXX(target) Release/obj.target/canvas/src/Canvas.o\\nIn file included from ../src/Canvas.cc:20:0:\\n../src/JPEGStream.h: In function ‘boolean empty_closure_output_buffer(j_compress_ptr)’:\\n../src/JPEGStream.h:42:108: warning: ‘v8::Local<v8::Value> Nan::MakeCallback(v8::Local<v8::Object>, v8::Local<v8::Function>, int, v8::Local<v8::Value>*)’ is deprecated [-Wdeprecated-declarations]\\n   Nan::MakeCallback(Nan::GetCurrentContext()->Global(), (v8::Local<v8::Function>)dest->closure->fn, 2, argv);\\n                                                                                                            ^\\nIn file included from ../src/Canvas.h:22:0,\\n                 from ../src/Canvas.cc:7:\\n../../nan/nan.h:929:46: note: declared here\\n   NAN_DEPRECATED inline v8::Local<v8::Value> MakeCallback(\\n                                              ^~~~~~~~~~~~\\nIn file included from ../src/Canvas.cc:20:0:\\n../src/JPEGStream.h: In function ‘void term_closure_destination(j_compress_ptr)’:\\n../src/JPEGStream.h:63:113: warning: ‘v8::Local<v8::Value> Nan::MakeCallback(v8::Local<v8::Object>, v8::Local<v8::Function>, int, v8::Local<v8::Value>*)’ is deprecated [-Wdeprecated-declarations]\\n   Nan::MakeCallback(Nan::GetCurrentContext()->Global(), (v8::Local<v8::Function>)dest->closure->fn, 2, data_argv);\\n                                                                                                                 ^\\nIn file included from ../src/Canvas.h:22:0,\\n                 from ../src/Canvas.cc:7:\\n../../nan/nan.h:929:46: note: declared here\\n   NAN_DEPRECATED inline v8::Local<v8::Value> MakeCallback(\\n                                              ^~~~~~~~~~~~\\nIn file included from ../src/Canvas.cc:20:0:\\n../src/JPEGStream.h:71:112: warning: ‘v8::Local<v8::Value> Nan::MakeCallback(v8::Local<v8::Object>, v8::Local<v8::Function>, int, v8::Local<v8::Value>*)’ is deprecated [-Wdeprecated-declarations]\\n   Nan::MakeCallback(Nan::GetCurrentContext()->Global(), (v8::Local<v8::Function>)dest->closure->fn, 2, end_argv);\\n                                                                                                                ^\\nIn file included from ../src/Canvas.h:22:0,\\n                 from ../src/Canvas.cc:7:\\n../../nan/nan.h:929:46: note: declared here\\n   NAN_DEPRECATED inline v8::Local<v8::Value> MakeCallback(\\n                                              ^~~~~~~~~~~~\\n../src/Canvas.cc: In static member function ‘static void Canvas::ToBufferAsyncAfter(uv_work_t*)’:\\n../src/Canvas.cc:221:31: warning: ‘v8::Local<v8::Value> Nan::Callback::Call(int, v8::Local<v8::Value>*) const’ is deprecated [-Wdeprecated-declarations]\\n     closure->pfn->Call(1, argv);\\n                               ^\\nIn file included from ../src/Canvas.h:22:0,\\n                 from ../src/Canvas.cc:7:\\n../../nan/nan.h:1618:3: note: declared here\\n   Call(int argc, v8::Local<v8::Value> argv[]) const {\\n   ^~~~\\n../src/Canvas.cc:226:31: warning: ‘v8::Local<v8::Value> Nan::Callback::Call(int, v8::Local<v8::Value>*) const’ is deprecated [-Wdeprecated-declarations]\\n     closure->pfn->Call(2, argv);\\n                               ^\\nIn file included from ../src/Canvas.h:22:0,\\n                 from ../src/Canvas.cc:7:\\n../../nan/nan.h:1618:3: note: declared here\\n   Call(int argc, v8::Local<v8::Value> argv[]) const {\\n   ^~~~\\n../src/Canvas.cc: In function ‘cairo_status_t streamPNG(void*, const uint8_t*, unsigned int)’:\\n../src/Canvas.cc:377:102: warning: ‘v8::Local<v8::Value> Nan::MakeCallback(v8::Local<v8::Object>, v8::Local<v8::Function>, int, v8::Local<v8::Value>*)’ is deprecated [-Wdeprecated-declarations]\\n   Nan::MakeCallback(Nan::GetCurrentContext()->Global(), (v8::Local<v8::Function>)closure->fn, 3, argv);\\n                                                                                                      ^\\nIn file included from ../src/Canvas.h:22:0,\\n                 from ../src/Canvas.cc:7:\\n../../nan/nan.h:929:46: note: declared here\\n   NAN_DEPRECATED inline v8::Local<v8::Value> MakeCallback(\\n                                              ^~~~~~~~~~~~\\n../src/Canvas.cc: In static member function ‘static Nan::NAN_METHOD_RETURN_TYPE Canvas::StreamPNGSync(Nan::NAN_METHOD_ARGS_TYPE)’:\\n../src/Canvas.cc:446:103: warning: ‘v8::Local<v8::Value> Nan::MakeCallback(v8::Local<v8::Object>, v8::Local<v8::Function>, int, v8::Local<v8::Value>*)’ is deprecated [-Wdeprecated-declarations]\\n     Nan::MakeCallback(Nan::GetCurrentContext()->Global(), (v8::Local<v8::Function>)closure.fn, 1, argv);\\n                                                                                                       ^\\nIn file included from ../src/Canvas.h:22:0,\\n                 from ../src/Canvas.cc:7:\\n../../nan/nan.h:929:46: note: declared here\\n   NAN_DEPRECATED inline v8::Local<v8::Value> MakeCallback(\\n                                              ^~~~~~~~~~~~\\n../src/Canvas.cc:452:103: warning: ‘v8::Local<v8::Value> Nan::MakeCallback(v8::Local<v8::Object>, v8::Local<v8::Function>, int, v8::Local<v8::Value>*)’ is deprecated [-Wdeprecated-declarations]\\n     Nan::MakeCallback(Nan::GetCurrentContext()->Global(), (v8::Local<v8::Function>)closure.fn, 1, argv);\\n                                                                                                       ^\\nIn file included from ../src/Canvas.h:22:0,\\n                 from ../src/Canvas.cc:7:\\n../../nan/nan.h:929:46: note: declared here\\n   NAN_DEPRECATED inline v8::Local<v8::Value> MakeCallback(\\n                                              ^~~~~~~~~~~~\\n../src/Canvas.cc: In function ‘cairo_status_t streamPDF(void*, const uint8_t*, unsigned int)’:\\n../src/Canvas.cc:476:77: warning: ‘v8::Local<v8::Value> Nan::MakeCallback(v8::Local<v8::Object>, v8::Local<v8::Function>, int, v8::Local<v8::Value>*)’ is deprecated [-Wdeprecated-declarations]\\n   Nan::MakeCallback(Nan::GetCurrentContext()->Global(), closure->fn, 3, argv);\\n                                                                             ^\\nIn file included from ../src/Canvas.h:22:0,\\n                 from ../src/Canvas.cc:7:\\n../../nan/nan.h:929:46: note: declared here\\n   NAN_DEPRECATED inline v8::Local<v8::Value> MakeCallback(\\n                                              ^~~~~~~~~~~~\\nIn file included from ../src/Canvas.cc:8:0:\\n../src/PNG.h: In function ‘cairo_status_t canvas_write_png(cairo_surface_t*, png_rw_ptr, void*)’:\\n../src/PNG.h:73:20: warning: variable ‘status’ might be clobbered by ‘longjmp’ or ‘vfork’ [-Wclobbered]\\n     cairo_status_t status = CAIRO_STATUS_SUCCESS;\\n                    ^~~~~~\\n  CXX(target) Release/obj.target/canvas/src/CanvasGradient.o\\n  CXX(target) Release/obj.target/canvas/src/CanvasPattern.o\\nIn file included from ../src/CanvasPattern.cc:9:0:\\n../src/Image.h:19:10: fatal error: gif_lib.h: No such file or directory\\n #include <gif_lib.h>\\n          ^~~~~~~~~~~\\ncompilation terminated.\\ncanvas.target.mk:126: recipe for target 'Release/obj.target/canvas/src/CanvasPattern.o' failed\\nmake: *** [Release/obj.target/canvas/src/CanvasPattern.o] Error 1\\nmake: Leaving directory '/home/angus/.local/share/virtualenvs/mcnp_project-EYhqo_wP/share/jupyter/lab/staging/node_modules/canvas/build'\\ngyp ERR! build error \\ngyp ERR! stack Error: `make` failed with exit code: 2\\ngyp ERR! stack     at ChildProcess.onExit (/usr/share/node-gyp/lib/build.js:276:23)\\ngyp ERR! stack     at emitTwo (events.js:106:13)\\ngyp ERR! stack     at ChildProcess.emit (events.js:191:7)\\ngyp ERR! stack     at Process.ChildProcess._handle.onexit (internal/child_process.js:219:12)\\ngyp ERR! System Linux 4.13.0-38-generic\\ngyp ERR! command \\\"/usr/bin/node\\\" \\\"/usr/bin/node-gyp\\\" \\\"rebuild\\\"\\ngyp ERR! cwd /home/angus/.local/share/virtualenvs/mcnp_project-EYhqo_wP/share/jupyter/lab/staging/node_modules/canvas\\ngyp ERR! node -v v6.11.4\\ngyp ERR! node-gyp -v v3.4.0\\ngyp ERR! not ok\"\n",
      "\u001b[2K\u001b[1G\u001b[34minfo\u001b[39m This module is OPTIONAL, you can safely ignore this error\n",
      "\u001b[1G\u001b[4A\u001b[2K\u001b[4B\u001b[1G\u001b[3A\u001b[2K\u001b[3B\u001b[1G\u001b[2A\u001b[2K\u001b[2B\u001b[1G\u001b[1A\u001b[2K\u001b[1B\u001b[2K\u001b[1G\u001b[4A\u001b[2K\u001b[1G\u001b[32msuccess\u001b[39m Saved lockfile.\n",
      "\u001b[2K\u001b[1G\u001b[33mwarning\u001b[39m Your current version of Yarn is out of date. The latest version is \"1.5.1\" while you're on \"1.3.2\".\n",
      "\u001b[2K\u001b[1G\u001b[2K\u001b[1GDone in 58.30s.\n",
      "> node /home/angus/.local/share/virtualenvs/mcnp_project-EYhqo_wP/lib/python3.6/site-packages/jupyterlab/staging/yarn.js run build:prod\n",
      "\u001b[2K\u001b[1G\u001b[1myarn run v1.3.2\u001b[22m\n",
      "\u001b[2K\u001b[1G\u001b[2m$ webpack --config webpack.prod.config.js\u001b[22m\n",
      "Hash: \u001b[1m6ac7579cd648d8e0a490\u001b[39m\u001b[22m\n",
      "Version: webpack \u001b[1m2.7.0\u001b[39m\u001b[22m\n",
      "Time: \u001b[1m46801\u001b[39m\u001b[22mms\n",
      "                                 \u001b[1mAsset\u001b[39m\u001b[22m       \u001b[1mSize\u001b[39m\u001b[22m  \u001b[1mChunks\u001b[39m\u001b[22m  \u001b[1m\u001b[39m\u001b[22m           \u001b[1m\u001b[39m\u001b[22m       \u001b[1mChunk Names\u001b[39m\u001b[22m\n",
      "             \u001b[1m\u001b[33m3.a8e41096b9f51bac3393.js\u001b[39m\u001b[22m     \u001b[1m\u001b[33m766 kB\u001b[39m\u001b[22m       \u001b[1m3\u001b[39m\u001b[22m  \u001b[1m\u001b[32m[emitted]\u001b[39m\u001b[22m  \u001b[1m\u001b[33m[big]\u001b[39m\u001b[22m  \n",
      "        \u001b[1m\u001b[33m71eadbf017e90b78e837.worker.js\u001b[39m\u001b[22m     \u001b[1m\u001b[33m768 kB\u001b[39m\u001b[22m        \u001b[1m\u001b[39m\u001b[22m  \u001b[1m\u001b[32m[emitted]\u001b[39m\u001b[22m  \u001b[1m\u001b[33m[big]\u001b[39m\u001b[22m  \n",
      "  \u001b[1m\u001b[32m674f50d287a8c48dc19ba404d20fe713.eot\u001b[39m\u001b[22m     166 kB        \u001b[1m\u001b[39m\u001b[22m  \u001b[1m\u001b[32m[emitted]\u001b[39m\u001b[22m         \n",
      "  \u001b[1m\u001b[32mfaa74e8c61fc64d5edb11613c7eead2c.gif\u001b[39m\u001b[22m    2.54 kB        \u001b[1m\u001b[39m\u001b[22m  \u001b[1m\u001b[32m[emitted]\u001b[39m\u001b[22m         \n",
      "  \u001b[1m\u001b[32mbf677598a57b9539055834af51cf6062.png\u001b[39m\u001b[22m  290 bytes        \u001b[1m\u001b[39m\u001b[22m  \u001b[1m\u001b[32m[emitted]\u001b[39m\u001b[22m         \n",
      "\u001b[1m\u001b[32maf7ae505a9eed503f8b8e6982036873e.woff2\u001b[39m\u001b[22m    77.2 kB        \u001b[1m\u001b[39m\u001b[22m  \u001b[1m\u001b[32m[emitted]\u001b[39m\u001b[22m         \n",
      " \u001b[1m\u001b[32mfee66e712a8a08eef5805a46892932ad.woff\u001b[39m\u001b[22m      98 kB        \u001b[1m\u001b[39m\u001b[22m  \u001b[1m\u001b[32m[emitted]\u001b[39m\u001b[22m         \n",
      "  \u001b[1m\u001b[32mb06871f281fee6b241d60582ae9369b9.ttf\u001b[39m\u001b[22m     166 kB        \u001b[1m\u001b[39m\u001b[22m  \u001b[1m\u001b[32m[emitted]\u001b[39m\u001b[22m         \n",
      "  \u001b[1m\u001b[33m912ec66d7572ff821749319396470bde.svg\u001b[39m\u001b[22m     \u001b[1m\u001b[33m444 kB\u001b[39m\u001b[22m        \u001b[1m\u001b[39m\u001b[22m  \u001b[1m\u001b[32m[emitted]\u001b[39m\u001b[22m  \u001b[1m\u001b[33m[big]\u001b[39m\u001b[22m  \n",
      "             \u001b[1m\u001b[33m0.c9182e9a91f1f32f3c84.js\u001b[39m\u001b[22m     \u001b[1m\u001b[33m621 kB\u001b[39m\u001b[22m       \u001b[1m0\u001b[39m\u001b[22m  \u001b[1m\u001b[32m[emitted]\u001b[39m\u001b[22m  \u001b[1m\u001b[33m[big]\u001b[39m\u001b[22m  vega2\n",
      "             \u001b[1m\u001b[33m1.697f116e8467e0f2ccc6.js\u001b[39m\u001b[22m     \u001b[1m\u001b[33m458 kB\u001b[39m\u001b[22m       \u001b[1m1\u001b[39m\u001b[22m  \u001b[1m\u001b[32m[emitted]\u001b[39m\u001b[22m  \u001b[1m\u001b[33m[big]\u001b[39m\u001b[22m  \n",
      "             \u001b[1m\u001b[32m2.7217935e84e60f859cec.js\u001b[39m\u001b[22m     138 kB       \u001b[1m2\u001b[39m\u001b[22m  \u001b[1m\u001b[32m[emitted]\u001b[39m\u001b[22m         @jupyter-widgets/controls\n",
      "    \u001b[1m\u001b[32m71eadbf017e90b78e837.worker.js.map\u001b[39m\u001b[22m    2.46 MB        \u001b[1m\u001b[39m\u001b[22m  \u001b[1m\u001b[32m[emitted]\u001b[39m\u001b[22m         \n",
      "          \u001b[1m\u001b[33mmain.fa818cb49eb85881dd8d.js\u001b[39m\u001b[22m    \u001b[1m\u001b[33m2.06 MB\u001b[39m\u001b[22m       \u001b[1m4\u001b[39m\u001b[22m  \u001b[1m\u001b[32m[emitted]\u001b[39m\u001b[22m  \u001b[1m\u001b[33m[big]\u001b[39m\u001b[22m  main\n",
      "        \u001b[1m\u001b[33mvendor.89eddee609ad78429bfb.js\u001b[39m\u001b[22m    \u001b[1m\u001b[33m1.58 MB\u001b[39m\u001b[22m       \u001b[1m5\u001b[39m\u001b[22m  \u001b[1m\u001b[32m[emitted]\u001b[39m\u001b[22m  \u001b[1m\u001b[33m[big]\u001b[39m\u001b[22m  vendor\n",
      "      \u001b[1m\u001b[32mmanifest.85774663666f125b6dde.js\u001b[39m\u001b[22m     1.7 kB       \u001b[1m6\u001b[39m\u001b[22m  \u001b[1m\u001b[32m[emitted]\u001b[39m\u001b[22m         manifest\n",
      "         \u001b[1m\u001b[32m0.c9182e9a91f1f32f3c84.js.map\u001b[39m\u001b[22m    2.29 MB       \u001b[1m0\u001b[39m\u001b[22m  \u001b[1m\u001b[32m[emitted]\u001b[39m\u001b[22m         vega2\n",
      "         \u001b[1m\u001b[32m1.697f116e8467e0f2ccc6.js.map\u001b[39m\u001b[22m    1.34 MB       \u001b[1m1\u001b[39m\u001b[22m  \u001b[1m\u001b[32m[emitted]\u001b[39m\u001b[22m         \n",
      "         \u001b[1m\u001b[32m2.7217935e84e60f859cec.js.map\u001b[39m\u001b[22m     455 kB       \u001b[1m2\u001b[39m\u001b[22m  \u001b[1m\u001b[32m[emitted]\u001b[39m\u001b[22m         @jupyter-widgets/controls\n",
      "         \u001b[1m\u001b[32m3.a8e41096b9f51bac3393.js.map\u001b[39m\u001b[22m    2.45 MB       \u001b[1m3\u001b[39m\u001b[22m  \u001b[1m\u001b[32m[emitted]\u001b[39m\u001b[22m         \n",
      "      \u001b[1m\u001b[32mmain.fa818cb49eb85881dd8d.js.map\u001b[39m\u001b[22m    7.01 MB       \u001b[1m4\u001b[39m\u001b[22m  \u001b[1m\u001b[32m[emitted]\u001b[39m\u001b[22m         main\n",
      "    \u001b[1m\u001b[32mvendor.89eddee609ad78429bfb.js.map\u001b[39m\u001b[22m    5.72 MB       \u001b[1m5\u001b[39m\u001b[22m  \u001b[1m\u001b[32m[emitted]\u001b[39m\u001b[22m         vendor\n",
      "  \u001b[1m\u001b[32mmanifest.85774663666f125b6dde.js.map\u001b[39m\u001b[22m    8.39 kB       \u001b[1m6\u001b[39m\u001b[22m  \u001b[1m\u001b[32m[emitted]\u001b[39m\u001b[22m         manifest\n",
      "                            \u001b[1m\u001b[32mindex.html\u001b[39m\u001b[22m    1.53 kB        \u001b[1m\u001b[39m\u001b[22m  \u001b[1m\u001b[32m[emitted]\u001b[39m\u001b[22m         \n",
      "[+HaM] \u001b[1m./~/@phosphor/messaging/lib/index.js\u001b[39m\u001b[22m 18.5 kB {\u001b[1m\u001b[33m5\u001b[39m\u001b[22m}\u001b[1m\u001b[32m [built]\u001b[39m\u001b[22m\n",
      "[8U58] \u001b[1m./~/codemirror/lib/codemirror.js\u001b[39m\u001b[22m 352 kB {\u001b[1m\u001b[33m5\u001b[39m\u001b[22m}\u001b[1m\u001b[32m [built]\u001b[39m\u001b[22m\n",
      "[CUbq] \u001b[1m./~/@phosphor/signaling/lib/index.js\u001b[39m\u001b[22m 18.1 kB {\u001b[1m\u001b[33m5\u001b[39m\u001b[22m}\u001b[1m\u001b[32m [built]\u001b[39m\u001b[22m\n",
      "[GiK3] \u001b[1m./~/react/index.js\u001b[39m\u001b[22m 190 bytes {\u001b[1m\u001b[33m5\u001b[39m\u001b[22m}\u001b[1m\u001b[32m [built]\u001b[39m\u001b[22m\n",
      "[O27J] \u001b[1m./~/react-dom/index.js\u001b[39m\u001b[22m 1.36 kB {\u001b[1m\u001b[33m5\u001b[39m\u001b[22m}\u001b[1m\u001b[32m [built]\u001b[39m\u001b[22m\n",
      "[PJh5] \u001b[1m./~/moment/moment.js\u001b[39m\u001b[22m 132 kB {\u001b[1m\u001b[33m5\u001b[39m\u001b[22m}\u001b[1m\u001b[32m [built]\u001b[39m\u001b[22m\n",
      "[cYMN] \u001b[1m./~/@phosphor/virtualdom/lib/index.js\u001b[39m\u001b[22m 21 kB {\u001b[1m\u001b[33m5\u001b[39m\u001b[22m}\u001b[1m\u001b[32m [built]\u001b[39m\u001b[22m\n",
      "[lMhA] \u001b[1m./~/@phosphor/dragdrop/lib/index.js\u001b[39m\u001b[22m 33.7 kB {\u001b[1m\u001b[33m5\u001b[39m\u001b[22m}\u001b[1m\u001b[32m [built]\u001b[39m\u001b[22m\n",
      "[qzHn] \u001b[1m./~/@phosphor/coreutils/lib/index.js\u001b[39m\u001b[22m 721 bytes {\u001b[1m\u001b[33m5\u001b[39m\u001b[22m}\u001b[1m\u001b[32m [built]\u001b[39m\u001b[22m\n",
      "[rplX] \u001b[1m./~/whatwg-fetch/fetch.js\u001b[39m\u001b[22m 13 kB {\u001b[1m\u001b[33m4\u001b[39m\u001b[22m}\u001b[1m\u001b[32m [built]\u001b[39m\u001b[22m\n",
      "[ug+F] \u001b[1m./~/xterm/lib/xterm.js\u001b[39m\u001b[22m 52.7 kB {\u001b[1m\u001b[33m5\u001b[39m\u001b[22m}\u001b[1m\u001b[32m [built]\u001b[39m\u001b[22m\n",
      "   [9] \u001b[1mmulti @phosphor/algorithm @phosphor/application @phosphor/commands @phosphor/coreutils @phosphor/datagrid @phosphor/disposable @phosphor/domutils @phosphor/dragdrop @phosphor/messaging @phosphor/properties @phosphor/signaling @phosphor/virtualdom @phosphor/widgets ajv ansi_up codemirror comment-json es6-promise marked moment path-posix react react-dom sanitize-html url-parse xterm\u001b[39m\u001b[22m 328 bytes {\u001b[1m\u001b[33m5\u001b[39m\u001b[22m}\u001b[1m\u001b[32m [built]\u001b[39m\u001b[22m\n",
      "  [10] \u001b[1mmulti whatwg-fetch ./build/index.out.js\u001b[39m\u001b[22m 40 bytes {\u001b[1m\u001b[33m4\u001b[39m\u001b[22m}\u001b[1m\u001b[32m [built]\u001b[39m\u001b[22m\n",
      "[wr2+] \u001b[1m./~/@phosphor/properties/lib/index.js\u001b[39m\u001b[22m 6.58 kB {\u001b[1m\u001b[33m5\u001b[39m\u001b[22m}\u001b[1m\u001b[32m [built]\u001b[39m\u001b[22m\n",
      "[y7VK] \u001b[1m./~/@phosphor/algorithm/lib/index.js\u001b[39m\u001b[22m 1.03 kB {\u001b[1m\u001b[33m5\u001b[39m\u001b[22m}\u001b[1m\u001b[32m [built]\u001b[39m\u001b[22m\n",
      "    + 1586 hidden modules\n",
      "Child \u001b[1mhtml-webpack-plugin for \"index.html\"\u001b[39m\u001b[22m:\n",
      "    [3IRH] \u001b[1m(webpack)/buildin/module.js\u001b[39m\u001b[22m 517 bytes {\u001b[1m\u001b[33m0\u001b[39m\u001b[22m}\u001b[1m\u001b[32m [built]\u001b[39m\u001b[22m\n",
      "    [DuR2] \u001b[1m(webpack)/buildin/global.js\u001b[39m\u001b[22m 509 bytes {\u001b[1m\u001b[33m0\u001b[39m\u001b[22m}\u001b[1m\u001b[32m [built]\u001b[39m\u001b[22m\n",
      "    [GTAU] \u001b[1m./~/html-loader!./templates/partial.html\u001b[39m\u001b[22m 420 bytes {\u001b[1m\u001b[33m0\u001b[39m\u001b[22m}\u001b[1m\u001b[32m [built]\u001b[39m\u001b[22m\n",
      "    [M4fF] \u001b[1m./~/lodash/lodash.js\u001b[39m\u001b[22m 540 kB {\u001b[1m\u001b[33m0\u001b[39m\u001b[22m}\u001b[1m\u001b[32m [built]\u001b[39m\u001b[22m\n",
      "    [vxCX] \u001b[1m./~/html-webpack-plugin/lib/loader.js!./templates/template.html\u001b[39m\u001b[22m 1.41 kB {\u001b[1m\u001b[33m0\u001b[39m\u001b[22m}\u001b[1m\u001b[32m [built]\u001b[39m\u001b[22m\n",
      "Child \u001b[1mworker\u001b[39m\u001b[22m:\n",
      "                                 \u001b[1mAsset\u001b[39m\u001b[22m     \u001b[1mSize\u001b[39m\u001b[22m  \u001b[1mChunks\u001b[39m\u001b[22m  \u001b[1m\u001b[39m\u001b[22m           \u001b[1m\u001b[39m\u001b[22m       \u001b[1mChunk Names\u001b[39m\u001b[22m\n",
      "        \u001b[1m\u001b[33m71eadbf017e90b78e837.worker.js\u001b[39m\u001b[22m   \u001b[1m\u001b[33m768 kB\u001b[39m\u001b[22m       \u001b[1m0\u001b[39m\u001b[22m  \u001b[1m\u001b[32m[emitted]\u001b[39m\u001b[22m  \u001b[1m\u001b[33m[big]\u001b[39m\u001b[22m  main\n",
      "    \u001b[1m\u001b[32m71eadbf017e90b78e837.worker.js.map\u001b[39m\u001b[22m  2.46 MB       \u001b[1m0\u001b[39m\u001b[22m  \u001b[1m\u001b[32m[emitted]\u001b[39m\u001b[22m         main\n",
      "    [DuR2] \u001b[1m(webpack)/buildin/global.js\u001b[39m\u001b[22m 509 bytes {\u001b[1m\u001b[33m0\u001b[39m\u001b[22m}\u001b[1m\u001b[32m [built]\u001b[39m\u001b[22m\n",
      "    [W2nU] \u001b[1m./~/process/browser.js\u001b[39m\u001b[22m 5.42 kB {\u001b[1m\u001b[33m0\u001b[39m\u001b[22m}\u001b[1m\u001b[32m [built]\u001b[39m\u001b[22m\n",
      "    [wk5V] \u001b[1m./~/pdfjs-dist/build/pdf.worker.js\u001b[39m\u001b[22m 1.51 MB {\u001b[1m\u001b[33m0\u001b[39m\u001b[22m}\u001b[1m\u001b[32m [built]\u001b[39m\u001b[22m\n",
      "\u001b[2K\u001b[1GDone in 48.42s.\n"
     ]
    }
   ],
   "source": [
    "!jupyter labextension install @jupyterlab/latex"
   ]
  },
  {
   "cell_type": "code",
   "execution_count": 55,
   "metadata": {},
   "outputs": [
    {
     "name": "stdout",
     "output_type": "stream",
     "text": [
      "[master 7ba785e] snapshot\n",
      " 15 files changed, 1824 insertions(+), 3653 deletions(-)\n",
      " rewrite .ipynb_checkpoints/MCNP-checkpoint.ipynb (98%)\n",
      " rewrite MCNP.ipynb (98%)\n",
      " delete mode 100644 _minted-report/66FB3B26DA26BBD71BF87557AEC60F2F04DDAEA9A02F8C7CDAB948C071E54D0A.pygtex\n",
      " delete mode 100644 _minted-report/87114635DF6BE3E6B2C1A56D824FF9E0B982531BF50A3B299F2BB1254B9B96AC.pygtex\n",
      " rewrite report.synctex.gz (99%)\n",
      " rewrite tallies.png (99%)\n",
      " rewrite tallies.svg (75%)\n",
      " rewrite tallies_norm.png (99%)\n",
      " rewrite tallies_norm.svg (87%)\n",
      "Counting objects: 16, done.\n",
      "Delta compression using up to 12 threads.\n",
      "Compressing objects: 100% (16/16), done.\n",
      "Writing objects: 100% (16/16), 523.38 KiB | 6.46 MiB/s, done.\n",
      "Total 16 (delta 9), reused 0 (delta 0)\n",
      "remote: Resolving deltas: 100% (9/9), completed with 9 local objects.\u001b[K\n",
      "To github.com:agoose77/mcnp_project.git\n",
      "   7cb9ed7..7ba785e  master -> master\n"
     ]
    }
   ],
   "source": [
    "!git commit -am \"snapshot\" && git push"
   ]
  },
  {
   "cell_type": "code",
   "execution_count": null,
   "metadata": {},
   "outputs": [],
   "source": [
    "from bokeh import plotting as plt\n",
    "from bokeh.io import output_notebook\n",
    "output_notebook()"
   ]
  },
  {
   "cell_type": "code",
   "execution_count": null,
   "metadata": {},
   "outputs": [],
   "source": [
    "import sys\n",
    "sys.path.append(\"py_cfg_parsing\")"
   ]
  },
  {
   "cell_type": "code",
   "execution_count": null,
   "metadata": {},
   "outputs": [],
   "source": [
    "import pathlib\n",
    "mcnp_dir = pathlib.Path.cwd() / \"mcnp\""
   ]
  },
  {
   "cell_type": "markdown",
   "metadata": {},
   "source": [
    "# Load secrets"
   ]
  },
  {
   "cell_type": "code",
   "execution_count": null,
   "metadata": {},
   "outputs": [],
   "source": [
    "from plumbum import cmd\n",
    "\n",
    "lookup_secret = lambda field: cmd.secret_tool(\"lookup\", \"app\", \"phymat\", \"field\", field).strip()\n",
    "user = lookup_secret(\"user\")\n",
    "domain = lookup_secret(\"domain\")\n",
    "port = lookup_secret(\"port\")\n",
    "password = lookup_secret(\"password\")"
   ]
  },
  {
   "cell_type": "markdown",
   "metadata": {},
   "source": [
    "# Start SSH file system"
   ]
  },
  {
   "cell_type": "code",
   "execution_count": null,
   "metadata": {},
   "outputs": [],
   "source": [
    "import pexpect\n",
    "p = pexpect.spawn('bash')\n",
    "p.sendline(f'sshfs {user}@{domain}:mcnp {mcnp_dir} -p {port}')\n",
    "p.expect(\"password:\")\n",
    "p.sendline(password)\n",
    "p.sendline('exit')\n",
    "p.expect_exact(pexpect.EOF)"
   ]
  },
  {
   "cell_type": "markdown",
   "metadata": {},
   "source": [
    "# Define SSH session & commands"
   ]
  },
  {
   "cell_type": "code",
   "execution_count": null,
   "metadata": {},
   "outputs": [],
   "source": [
    "from plumbum.machines.paramiko_machine import ParamikoMachine\n",
    "    \n",
    "remote = ParamikoMachine(domain, user, port, password, keep_alive=30)\n",
    "remote._cwd = remote.cwd.chdir('mcnp')\n",
    "        \n",
    "mcnp = remote['./mcnp']\n",
    "\n",
    "def clean():\n",
    "    z =  [(\"-I\", n) for n in (\"mcnp\", \"examples\", \"utils\", \"pt1.tex\", \"*.ip\")] \n",
    "    filenames = remote['ls'](*chain(*z)).splitlines()\n",
    "    if filenames:\n",
    "        remote['rm'](*filenames)"
   ]
  },
  {
   "cell_type": "markdown",
   "metadata": {},
   "source": [
    "# Output highlighting"
   ]
  },
  {
   "cell_type": "code",
   "execution_count": null,
   "metadata": {},
   "outputs": [],
   "source": [
    "from colorama import Fore\n",
    "from itertools import chain\n",
    "import re\n",
    "\n",
    "replacers = {r'warning\\.': Fore.YELLOW, r'fatal error\\.': Fore.RED, \n",
    "             r'\\d+ particles got lost.': Fore.RED}\n",
    "\n",
    "def _highlight(string, replacers):\n",
    "    pattern = '|'.join(f'({p})' for p in replacers)\n",
    "    def replacer(m):\n",
    "        code = next(v for i, v in enumerate(replacers.values()) if m.groups()[i] is not None)\n",
    "        return f\"{code}{m.group(0)}{Fore.RESET}\"\n",
    "    return re.sub(pattern, replacer, string)\n",
    "    \n",
    "def prettify(text):\n",
    "    print(_highlight(text, replacers))"
   ]
  },
  {
   "cell_type": "markdown",
   "metadata": {},
   "source": [
    "# Part 1"
   ]
  },
  {
   "cell_type": "code",
   "execution_count": null,
   "metadata": {},
   "outputs": [],
   "source": [
    "%%writefile mcnp/1.ip\n",
    "MESSAGE:\n",
    "\n",
    "Practical Monte Carlo part 1. Angus Hollands\n",
    "C\n",
    "C Cells\n",
    "1 1 -7.92 1 -2 3 -4 5 -6 (-7:8:-9:10:-11) $ Walls\n",
    "2 0 (-1:2:-3:4:-5:6) $ Void\n",
    "3 2 -1.0 7 -8 9 -10 11 -12 $ Water\n",
    "4 0 7 -8 9 -10 12 -6 $ Air gap (void)\n",
    "\n",
    "C Surfaces\n",
    "C Define outer walls\n",
    "1 PX -5.20\n",
    "2 PX 5.20\n",
    "3 PY -10.20\n",
    "4 PY 10.20\n",
    "5 PZ 0.0\n",
    "6 PZ 20.0\n",
    "C Define XY wall surfaces\n",
    "7 PX -5.00\n",
    "8 PX 5.00\n",
    "9 PY -10.0\n",
    "10 PY 10.0\n",
    "C Define Z wall / water surfaces\n",
    "11 PZ 0.20\n",
    "12 PZ 19.0\n",
    "\n",
    "C Cell importance MAP\n",
    "IMP:N 1 0 1 1         $  s\n",
    "M1   26000.42c -0.74 24000.42c -0.18 28000.42c -0.08 $ Stainless steel\n",
    "M2   1001.42c 2.0  8016.42c 1.0   $ Pure water\n",
    "MT2 lwtr.01\n",
    "C Tallying energy fluence (nX where X is type (2) and n an ID: {1, 2, ...})\n",
    "F12:N (1 2)\n",
    "F22:N (3 4)\n",
    "C F32:N (1 2 3 4)\n",
    "C Tally energy bins for all tallies (log 10 space)\n",
    "E0 1E-9 1E-8 1E-7 1E-6 1E-5 1E-4 1E-3 1E-2 1E-1 1 10\n",
    "C MC type\n",
    "MODE N\n",
    "C Thermal neutron induced fission of 235U at (0,0,22mm)\n",
    "SDEF POS=0.0 0.0 2.2 ERG=D1\n",
    "SP1  -3 0.988 2.249\n",
    "C NUMBER OF PARTICLE HISTORIES TO RUN\n",
    "NPS  210000\n",
    "PRDMP 0 0 1 1 0"
   ]
  },
  {
   "cell_type": "code",
   "execution_count": null,
   "metadata": {},
   "outputs": [],
   "source": [
    "clean()"
   ]
  },
  {
   "cell_type": "code",
   "execution_count": null,
   "metadata": {},
   "outputs": [],
   "source": [
    "prettify(mcnp(\"inp=1.ip\", \"mctal=1.b.ta\"))"
   ]
  },
  {
   "cell_type": "markdown",
   "metadata": {},
   "source": [
    "# Part 3"
   ]
  },
  {
   "cell_type": "code",
   "execution_count": null,
   "metadata": {},
   "outputs": [],
   "source": [
    "part_3_template =\\\n",
    "\"\"\"MESSAGE:\n",
    "\n",
    "{description}\n",
    "C Cells\n",
    "1 4 -19.2 -3 -2 11 $ Uranium source 1\n",
    "2 4 -19.2 -4 -2 11 $ Uranium source 2\n",
    "3 4 -19.2 -5 -2 11 $ Uranium source 3\n",
    "4 4 -19.2 -6 -2 11 $ Uranium source 4\n",
    "5 3 -{moderator_density} 13 -14 15 -16 11 -12 ((3 4 5 6):2) $ Moderator\n",
    "6 1 -7.92 7 -8 9 -10 17 -18 (-13:14:-15:16:-11) $ Wall\n",
    "7 2 -2.3 -17 19 -20 $ Concrete floor\n",
    "C Void region within bounding volume, outside of the bucket, including air gap:\n",
    "8 0      (17 -18 -20 (-7:8:-9:10)):(13 -14 15 -16 12 -18) \n",
    "9 0      (20:-19:18) $ Bounding cylindrical void region of 0 neutron importance\n",
    "\n",
    "C Source surfaces\n",
    "2 PZ 25.2\n",
    "3 C/Z -20 0 7.5\n",
    "4 C/Z 0 20 7.5\n",
    "5 C/Z 20 0 7.5\n",
    "6 C/Z 0 -20 7.5\n",
    "C External surfaces\n",
    "7 PX -50.2\n",
    "8 PX 50.2\n",
    "9 PY -50.2\n",
    "10 PY 50.2\n",
    "11 PZ 0.2\n",
    "12 PZ 58.0\n",
    "C Internal surfaces\n",
    "13 PX -50\n",
    "14 PX 50\n",
    "15 PY -50\n",
    "16 PY 50\n",
    "17 PZ 0\n",
    "18 PZ 60\n",
    "C Concrete floor lower surface\n",
    "19 PZ -150.0 \n",
    "20 CZ 200\n",
    "\n",
    "MODE N\n",
    "KCODE 1000 1.0 200 1000\n",
    "KSRC 20 0 12.7 -20 0 12.7 0 20 12.7 0 -20 12.7\n",
    "M1  26000.42c -0.74 24000.42c -0.18 28000.42c -0.08 $ Stainless steel\n",
    "M2  8016.42c -0.53 14000.42c -0.34 20000.42c -0.10 1001.42c -0.03 $ Concrete\n",
    "M3  {moderator_def}\n",
    "MT3 {moderator_treatment}\n",
    "M4  92238.42c -{x_238} 92235.42c -{x_235} $ 80% 238U, 20% 235U\n",
    "IMP:N 1 1 1 1 1 1 1 1 0\"\"\""
   ]
  },
  {
   "cell_type": "markdown",
   "metadata": {},
   "source": [
    "# Define async running tools"
   ]
  },
  {
   "cell_type": "code",
   "execution_count": null,
   "metadata": {},
   "outputs": [],
   "source": [
    "import ipywidgets as widgets \n",
    "from plumbum import BG\n",
    "from re import compile\n",
    "import asyncio\n",
    "\n",
    "tab = widgets.Tab()\n",
    "\n",
    "k_pattern = compile(f\"final k\\(col\\/abs\\/trk len\\) = (\\d+\\.\\d+)     std dev = (\\d+\\.\\d+)\") \n",
    "err_pattern = compile(f\"fatal error.  (.+)\\n\") \n",
    "\n",
    "def parse_stdout_for_k_eff(string):\n",
    "    match = k_pattern.search(string)\n",
    "    if match is None:\n",
    "        return err_pattern.search(string).group()\n",
    "    return match.group() \n",
    "\n",
    "\n",
    "async def wait_proc(proc, sleep_interval=0.2):\n",
    "    while not proc.poll():\n",
    "        await asyncio.sleep(sleep_interval)\n",
    "\n",
    "\n",
    "def run_mcnp_async(input_name, tally_name):\n",
    "    async def coro():\n",
    "        try:\n",
    "            label = widgets.Label('Waiting ...')\n",
    "            tab.children = [*tab.children, label]\n",
    "            tab.set_title(len(tab.children)-1, input_name)\n",
    "\n",
    "            process = mcnp[f\"inp={input_name}\", f\"mctal={tally_name}\"] & BG\n",
    "            await wait_proc(process)\n",
    "\n",
    "            result = parse_stdout_for_k_eff(process.stdout)\n",
    "            label.value = result\n",
    "            return result\n",
    "        \n",
    "        finally:\n",
    "            import traceback\n",
    "            traceback.print_exc()\n",
    "    return asyncio.ensure_future(coro())"
   ]
  },
  {
   "cell_type": "markdown",
   "metadata": {},
   "source": [
    "# 3.a"
   ]
  },
  {
   "cell_type": "code",
   "execution_count": null,
   "metadata": {},
   "outputs": [],
   "source": [
    "x_235 = 0.2\n",
    "source_info = dict(x_235=x_235, x_238=1-x_235)\n",
    "water_info = dict(moderator_def=\"1001.42c 2 8016.42c 1\",\n",
    "                  moderator_treatment=\"lwtr.01\",\n",
    "                  moderator_density=1.0)\n",
    "\n",
    "(mcnp_dir/\"3.a.ip\").write_text(\n",
    "    part_3_template.format(**water_info, **source_info, description=\"Water moderated example\")\n",
    ")"
   ]
  },
  {
   "cell_type": "markdown",
   "metadata": {},
   "source": [
    "# 3.c Replace water with graphite"
   ]
  },
  {
   "cell_type": "code",
   "execution_count": null,
   "metadata": {},
   "outputs": [],
   "source": [
    "graphite_info = dict(moderator_def=\"6012.42c 1.0   $ Graphite\", \n",
    "                     moderator_treatment=\"GRPH.01\",\n",
    "                     moderator_density=1.7)\n",
    "\n",
    "(mcnp_dir/\"3.c.ip\").write_text(\n",
    "    part_3_template.format(**graphite_info, **source_info, description=\"Graphite moderated example\")\n",
    ")"
   ]
  },
  {
   "cell_type": "markdown",
   "metadata": {},
   "source": [
    "# 3.d Graphite and Uranium increased enrichment"
   ]
  },
  {
   "cell_type": "code",
   "execution_count": null,
   "metadata": {},
   "outputs": [],
   "source": [
    "x_235 = 0.25\n",
    "source_info = dict(x_235=x_235, x_238=1-x_235)\n",
    "\n",
    "(mcnp_dir/\"3.d.1.ip\").write_text(\n",
    "    part_3_template.format(**water_info, **source_info, description=\"Water moderated example\")\n",
    ")\n",
    "\n",
    "(mcnp_dir/\"3.d.2.ip\").write_text(\n",
    "    part_3_template.format(**graphite_info, **source_info, description=\"Graphite moderated example\")\n",
    ")"
   ]
  },
  {
   "cell_type": "markdown",
   "metadata": {},
   "source": [
    "# Run simulations"
   ]
  },
  {
   "cell_type": "code",
   "execution_count": null,
   "metadata": {},
   "outputs": [],
   "source": [
    "async def as_finished(futures):\n",
    "    pending = set(futures)\n",
    "    \n",
    "    queue = asyncio.Queue()\n",
    "    def _on_done(fut):\n",
    "        queue.put_nowait(fut)\n",
    "    \n",
    "    for f in futures:\n",
    "        f.add_done_callback(_on_done)\n",
    "        \n",
    "    while pending:\n",
    "        fut = await queue.get()\n",
    "        yield fut\n",
    "        pending.remove(fut)\n",
    "        \n",
    "\n",
    "async def print_as_finished(*tasks):\n",
    "    import re\n",
    "    p = re.compile(r\"final k\\(col/abs/trk len\\) = ([^ ]+)     std dev = ([^ ]+)\")\n",
    "    async for t in as_finished(tasks):\n",
    "        i = tasks.index(t)\n",
    "\n",
    "        x, dx = p.match(t.result()).groups((1,2))\n",
    "        print(rf\"result[{i}] = \\num{{{x} \\pm {dx}}}\")"
   ]
  },
  {
   "cell_type": "code",
   "execution_count": null,
   "metadata": {},
   "outputs": [],
   "source": [
    "f1 = run_mcnp_async(\"3.a.ip\", \"tal3.a\")\n",
    "f2 = run_mcnp_async(\"3.c.ip\", \"tal3.c\")\n",
    "f3 = run_mcnp_async(\"3.d.1.ip\", \"tal3.d.1\")\n",
    "f4 = run_mcnp_async(\"3.d.2.ip\", \"tal3.d.2\")\n",
    "asyncio.ensure_future(print_as_finished(f1, f2, f3, f4))\n",
    "tab"
   ]
  },
  {
   "cell_type": "markdown",
   "metadata": {},
   "source": [
    "# Plotting"
   ]
  },
  {
   "cell_type": "code",
   "execution_count": null,
   "metadata": {},
   "outputs": [],
   "source": [
    "from mctal import tokenizer\n",
    "from derp import parse\n",
    "import numpy as np\n",
    "from mctal import g\n",
    "\n",
    "from bokeh.palettes import Spectral10\n",
    "from bokeh.io import export_svgs\n",
    "from bokeh.models import Whisker, ColumnDataSource\n",
    "\n",
    "colours = iter(Spectral10)\n",
    "\n",
    "\n",
    "fig = plt.figure(x_axis_type='log', x_axis_label=\"Energy /MeV\", y_axis_label=\"Flux (1/cm^2)\", \n",
    "                 plot_width=1200, plot_height=400, \n",
    "                 tools='crosshair,pan,wheel_zoom,box_zoom,reset,hover',\n",
    "                 output_backend='svg')\n",
    "\n",
    "name = \"tallies.svg\"\n",
    "for p in mcnp_dir.glob(\"1.b.ta\"):\n",
    "    tokens = [*tokenizer.tokenize_file(p)]\n",
    "    mctal = next(iter(parse(g.mctal, tokens)))\n",
    "\n",
    "    for i, tally in enumerate(mctal.tallies):\n",
    "        edges = np.array(tally.energies.values)\n",
    "        x = (np.r_[0, edges[:-1]] + edges) / 2        \n",
    "        data = np.array(tally.data)[:-1]\n",
    "        y,err = data.T\n",
    "        \n",
    "#         area = (y * edges).sum()\n",
    "#         y/=area\n",
    "        source_error = ColumnDataSource(data=dict(base=x, lower=y*(1-err), upper=y*(1+err)))\n",
    "\n",
    "        fig.add_layout(\n",
    "            Whisker(source=source_error, base=\"base\", upper=\"upper\", lower=\"lower\")\n",
    "        )\n",
    "        fig.line(x, y, color=next(colours), legend=f'Tally {tally.problem_id}')\n",
    "        print(f'Tally {tally.problem_id}', np.sqrt(((err*y)**2).sum()))\n",
    "        \n",
    "plt.show(fig)\n",
    "export_svgs(fig, name)\n",
    "!inkscape {name} -e {name[:-4]}.png --without-gui"
   ]
  },
  {
   "cell_type": "code",
   "execution_count": null,
   "metadata": {},
   "outputs": [],
   "source": [
    "def f(E, a, b):\n",
    "    return np.exp(-E/a)*np.sinh(np.sqrt(b*E))\n",
    "def fm(E, Em, Km):\n",
    "    return Km * np.sqrt(E)*np.exp(-E/Em)\n",
    "def fw(E,aw,bw,Kw):\n",
    "    return Kw * np.exp(-E/aw)*np.sinh(np.sqrt(bw*E))\n",
    "def f(E,aw,bw,Kw,Km,Em,wm):\n",
    "    return wm*fm(E,Em,Km) + (1-wm)*fw(E,aw,bw,Kw)\n",
    "\n",
    "x = np.logspace(np.log10(0.1*MeV), np.log10(14*MeV), 1000) \n",
    "y = f(x,\n",
    "      aw=.6859*MeV,\n",
    "      bw=9.366/MeV,\n",
    "      Km=1,\n",
    "      Kw=1,\n",
    "      Em=1.316 * MeV,\n",
    "      wm=.7424\n",
    "     )\n",
    "\n",
    "\n",
    "fig = plt.figure(x_axis_type='log', x_axis_label=\"Energy /MeV\", y_axis_label=\"f(x)\", \n",
    "                 plot_width=1200, plot_height=400, \n",
    "                 tools='crosshair,pan,wheel_zoom,box_zoom,reset,hover',\n",
    "                 output_backend='svg')\n",
    "fig.line(x, y)\n",
    "plt.show(fig)\n",
    "export_svgs(fig, 'watt_spectrum_235_u.svg')\n",
    "!inkscape 'watt_spectrum_235_u.svg' -e 'watt_spectrum_235_u.png' --without-gui\n",
    "# !inkscape {name} -e {name[:-4]}.png --without-gui!"
   ]
  },
  {
   "cell_type": "code",
   "execution_count": null,
   "metadata": {},
   "outputs": [],
   "source": [
    "# plot two exponentials against one another"
   ]
  },
  {
   "cell_type": "code",
   "execution_count": null,
   "metadata": {},
   "outputs": [],
   "source": [
    "from contextlib import contextmanager\n",
    "\n",
    "@contextmanager\n",
    "def preserve_fs():\n",
    "    files = remote['ls']().split()\n",
    "    yield\n",
    "    new_files = set(remote['ls']().split()).difference(files)\n",
    "    if new_files:\n",
    "        remote['rm'](*new_files)"
   ]
  },
  {
   "cell_type": "code",
   "execution_count": null,
   "metadata": {},
   "outputs": [],
   "source": [
    "# with preserve_fs():\n",
    "#     prettify(mcnp(\"inp=hc.ip\", \"mctal=hc.ta\"))"
   ]
  },
  {
   "cell_type": "markdown",
   "metadata": {},
   "source": [
    "## Emin's work"
   ]
  },
  {
   "cell_type": "code",
   "execution_count": null,
   "metadata": {},
   "outputs": [],
   "source": [
    "%%writefile mcnp/hc.ip\n",
    "Hazel Carter - Problem 1\n",
    "C\n",
    "C\n",
    "C CELL CARDS\n",
    "C FORMAT: [Cell id number][Material id number][Material density][Surfaces]$[Comment]\n",
    "C  \n",
    "1 1 -7.92 6 -8 2 -4 9 -11 (-5:7:-1:3:-10) $Bucket Walls - Stainless Steel [density 7.92g/cm^3]\n",
    "C\n",
    "2 0 (-6:8:-2:4:11:-13)  $Void outside Bucket\n",
    "C\n",
    "3 2 -1.0 5 -7 1 -3 10 -12  $Water inside Bucket - Pure Water [density 1 g/cm^3]\n",
    "C\n",
    "4 0 5 -7 1 -3 12 -11  $Air gap - void\n",
    "C\n",
    "5 3 -2.3 -9 13 6 -8 2 -4 $Concrete floor - Concrete [density 2.3 g/cm^3]\n",
    "C\n",
    "6 4 -19.2 10 -14 -18 $Uranium Rod 1\n",
    "7 4 -19.2 10 -15 -18 $Uranium Rod 2\n",
    "8 4 -19.2 10 -16 -18 $Uranium Rod 3\n",
    "9 4 -19.2 10 -17 -18 $Uranium Rod 4\n",
    "C\n",
    "\n",
    "C\n",
    "C SURFACE CARDS\n",
    "C FORMAT: [Surface id number][Surface type][Characteristic dimensions, cm]\n",
    "C\n",
    "C Stainless Steel Bucket:\n",
    "1     PX   -50.0\n",
    "2     PX   -50.2\n",
    "3     PX   50.0\n",
    "4     PX   50.2\n",
    "5     PY   -50.0\n",
    "6     PY   -50.2\n",
    "7     PY   50.0\n",
    "8     PY   50.2\n",
    "9     PZ   0.0\n",
    "10    PZ   0.2\n",
    "11    PZ   60.0 $Bucket Top\n",
    "C Water Level:\n",
    "12    PZ   58.0 $Water Surface\n",
    "C\n",
    "C Concrete floor:\n",
    "13    PZ -60.0\n",
    "C\n",
    "C Uranium Rods:\n",
    "14 C/Z 0 -20 7.5  $Cylinder of radius 7.5 parrel to z axis \n",
    "15 C/Z 0 20 7.5\n",
    "16 C/Z 20 0 7.5\n",
    "17 C/Z -20 0 7.5\n",
    "18 PZ 25.2\n",
    "C\n",
    "\n",
    "C\n",
    "C CELL IMPORTANCE MAP  \n",
    "C FORMAT: [Particle type][Importance of Cell in order they appear in file]\n",
    "IMP:N 1 0 1 1 1 1 1 1 1\n",
    "C\n",
    "C\n",
    "C MATERIAL CARDS\n",
    "C FORMAT: M[Material id number][ZZ][AAA][id][Concentration]\n",
    "C\n",
    "M1   26000.42c -0.74 24000.42c -0.18 28000.42c -0.08 $Stainless Steel: 74% iron, 18% chromium, 8% nickel.\n",
    "M2   1001.42c 2.0 8016.42c 1.0 $Pure Water: 2 hyrdogen, 1 oxygen.\n",
    "M3   8016.42c -0.53 14000.42c -0.34 20000.42c -0.10 1001.42c -0.03 $Concrete: 53% oxygen, 34% silicon, 10% calcium, 3% hydrogen.\n",
    "M4   92238.42c -0.8 92235.42c -0.2 $Enriched Uranium: 80% U-238, 20% U-235.\n",
    "C\n",
    "C\n",
    "C MODE CARD\n",
    "C FORMAT: MODE[Particle Type]\n",
    "MODE N $Neutrons Only                        \n",
    "C\n",
    "C\n",
    "C SOURCE DEFINITION (KCODE)\n",
    "C FORMAT: [NSRCK][RKK][IKZ][KCT][MSRK][KNRM][MRKP][KC8]\n",
    "C\n",
    "C KCODE 1000 0.8 100 1100\n",
    "C KSRC 20 20 12.5 20 -20 12.5 -20 20 12.5 -20 -20 12.5 "
   ]
  },
  {
   "cell_type": "code",
   "execution_count": null,
   "metadata": {},
   "outputs": [],
   "source": [
    "tab.children = []\n",
    "tab"
   ]
  },
  {
   "cell_type": "code",
   "execution_count": null,
   "metadata": {},
   "outputs": [],
   "source": [
    "from itertools import count\n",
    "\n",
    "async def launch():\n",
    "    counter = count()\n",
    "\n",
    "    futs = []\n",
    "    for x_235 in [0.2, 0.25]:\n",
    "        source_info = dict(x_235=x_235, x_238=1-x_235)\n",
    "\n",
    "        for mod_info in (water_info, graphite_info):\n",
    "            i = next(counter)\n",
    "            f_name = f\"em.{i}.ip\"\n",
    "\n",
    "            (mcnp_dir/f_name).write_text(\n",
    "                emin_template.format(**mod_info, **source_info, description=\"Water moderated example\")\n",
    "            )\n",
    "            fut = run_mcnp_async(f_name, \"emin.tal\")\n",
    "            futs.append(fut)\n",
    "            await asyncio.sleep(3.0)\n",
    "    await print_as_finished(futs)\n",
    "            \n",
    "asyncio.ensure_future(launch())"
   ]
  },
  {
   "cell_type": "code",
   "execution_count": null,
   "metadata": {},
   "outputs": [],
   "source": [
    "import pexpect\n",
    "emin_mcnp_dir = pathlib.Path.cwd() / \"emin\"\n",
    "\n",
    "user = \"exh478\"\n",
    "password = \"1Forrest1\"\n",
    "p = pexpect.spawn('bash')\n",
    "p.sendline(f'sshfs {user}@{domain}:mcnpdir {emin_mcnp_dir} -p {port}')\n",
    "p.expect(\"password:\")\n",
    "p.sendline(password)\n",
    "p.sendline('exit')\n",
    "p.expect_exact(pexpect.EOF)\n",
    "\n",
    "for i in range(1, 5):\n",
    "    fname = f\"em.{i}.ip\"\n",
    "    (emin_mcnp_dir/fname).write_text((mcnp_dir / fname).read_text())"
   ]
  },
  {
   "cell_type": "code",
   "execution_count": null,
   "metadata": {},
   "outputs": [],
   "source": []
  },
  {
   "cell_type": "code",
   "execution_count": null,
   "metadata": {},
   "outputs": [],
   "source": [
    "from pygments.lexer import RegexLexer\n",
    "from pygments.token import *\n",
    "\n",
    "class DiffLexer(RegexLexer):\n",
    "    name = 'Diff'\n",
    "    aliases = ['diff']\n",
    "    filenames = ['*.diff']\n",
    "\n",
    "    tokens = {\n",
    "        'root': [\n",
    "            (r' .*\\n', Text),\n",
    "            (r'\\+.*\\n', Generic.Inserted),\n",
    "            (r'-.*\\n', Generic.Deleted),\n",
    "            (r'@.*\\n', Generic.Subheading),\n",
    "            (r'Index.*\\n', Generic.Heading),\n",
    "            (r'=.*\\n', Generic.Heading),\n",
    "            (r'.*\\n', Text),\n",
    "        ]\n",
    "    }\n"
   ]
  }
 ],
 "metadata": {
  "kernelspec": {
   "display_name": "Python 3",
   "language": "python",
   "name": "python3"
  },
  "language_info": {
   "codemirror_mode": {
    "name": "ipython",
    "version": 3
   },
   "file_extension": ".py",
   "mimetype": "text/x-python",
   "name": "python",
   "nbconvert_exporter": "python",
   "pygments_lexer": "ipython3",
   "version": "3.6.3"
  }
 },
 "nbformat": 4,
 "nbformat_minor": 2
}
