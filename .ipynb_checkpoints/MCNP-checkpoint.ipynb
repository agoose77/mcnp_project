{
 "cells": [
  {
   "cell_type": "code",
   "execution_count": 1,
   "metadata": {},
   "outputs": [
    {
     "name": "stdout",
     "output_type": "stream",
     "text": [
      "'texy' already exists in the index\n"
     ]
    }
   ],
   "source": [
    "!git submodule add https://github.com/agoose77/texy"
   ]
  },
  {
   "cell_type": "code",
   "execution_count": 2,
   "metadata": {},
   "outputs": [
    {
     "name": "stdout",
     "output_type": "stream",
     "text": [
      "[master ea2accf] snapshot\n",
      " 32 files changed, 3421 insertions(+), 1377 deletions(-)\n",
      " create mode 100644 .ipynb_checkpoints/output-checkpoint.tex\n",
      " create mode 100644 .ipynb_checkpoints/report-checkpoint.out\n",
      " delete mode 100644 .ipynb_checkpoints/tallies-checkpoint.png\n",
      " create mode 100644 .ipynb_checkpoints/tallies_20k-checkpoint.png\n",
      " rename tallies.png => .ipynb_checkpoints/tallies_210k-checkpoint.png (100%)\n",
      " rename tallies_norm.png => .ipynb_checkpoints/tallies_210k_norm-checkpoint.png (100%)\n",
      " delete mode 100644 .ipynb_checkpoints/tallies_norm-checkpoint.png\n",
      " create mode 100644 output.tex\n",
      " create mode 100644 report.bbl\n",
      " create mode 100644 report.blg\n",
      " create mode 100644 report.out\n",
      " rewrite report.pdf (95%)\n",
      " create mode 100644 report.run.xml\n",
      " create mode 100644 tallies_20k.png\n",
      " create mode 100644 tallies_20k.svg\n",
      " create mode 100644 tallies_20k_norm.png\n",
      " create mode 100644 tallies_20k_norm.svg\n",
      " create mode 100644 tallies_210k.png\n",
      " rename tallies.svg => tallies_210k.svg (98%)\n",
      " create mode 100644 tallies_210k_norm.png\n",
      " rename tallies_norm.svg => tallies_210k_norm.svg (98%)\n",
      " create mode 160000 texy\n",
      "Counting objects: 25, done.\n",
      "Delta compression using up to 12 threads.\n",
      "Compressing objects: 100% (24/24), done.\n",
      "Writing objects: 100% (25/25), 383.21 KiB | 5.55 MiB/s, done.\n",
      "Total 25 (delta 11), reused 0 (delta 0)\n",
      "remote: Resolving deltas: 100% (11/11), completed with 7 local objects.\u001b[K\n",
      "To github.com:agoose77/mcnp_project.git\n",
      "   2ad263a..ea2accf  master -> master\n"
     ]
    }
   ],
   "source": [
    "!git add . && git commit -am \"snapshot\" && git push"
   ]
  },
  {
   "cell_type": "markdown",
   "metadata": {},
   "source": [
    "# MCNP project simulations"
   ]
  },
  {
   "cell_type": "markdown",
   "metadata": {},
   "source": [
    "Lessons learned from MCNP4\n",
    "* Plotting window doesn't show boundary errors necessarily intuitively \n",
    "* KCODE may require specifying upper bound on alloc space (10x n hist here)\n",
    "* VOL card ignores cell numbers, and instead uses definition order"
   ]
  },
  {
   "cell_type": "code",
   "execution_count": 3,
   "metadata": {},
   "outputs": [
    {
     "data": {
      "text/html": [
       "\n",
       "    <div class=\"bk-root\">\n",
       "        <a href=\"https://bokeh.pydata.org\" target=\"_blank\" class=\"bk-logo bk-logo-small bk-logo-notebook\"></a>\n",
       "        <span id=\"7cfb4916-f145-4302-8d36-d532aaf826bc\">Loading BokehJS ...</span>\n",
       "    </div>"
      ]
     },
     "metadata": {},
     "output_type": "display_data"
    },
    {
     "data": {
      "application/javascript": [
       "\n",
       "(function(root) {\n",
       "  function now() {\n",
       "    return new Date();\n",
       "  }\n",
       "\n",
       "  var force = true;\n",
       "\n",
       "  if (typeof (root._bokeh_onload_callbacks) === \"undefined\" || force === true) {\n",
       "    root._bokeh_onload_callbacks = [];\n",
       "    root._bokeh_is_loading = undefined;\n",
       "  }\n",
       "\n",
       "  var JS_MIME_TYPE = 'application/javascript';\n",
       "  var HTML_MIME_TYPE = 'text/html';\n",
       "  var EXEC_MIME_TYPE = 'application/vnd.bokehjs_exec.v0+json';\n",
       "  var CLASS_NAME = 'output_bokeh rendered_html';\n",
       "\n",
       "  /**\n",
       "   * Render data to the DOM node\n",
       "   */\n",
       "  function render(props, node) {\n",
       "    var script = document.createElement(\"script\");\n",
       "    node.appendChild(script);\n",
       "  }\n",
       "\n",
       "  /**\n",
       "   * Handle when an output is cleared or removed\n",
       "   */\n",
       "  function handleClearOutput(event, handle) {\n",
       "    var cell = handle.cell;\n",
       "\n",
       "    var id = cell.output_area._bokeh_element_id;\n",
       "    var server_id = cell.output_area._bokeh_server_id;\n",
       "    // Clean up Bokeh references\n",
       "    if (id !== undefined) {\n",
       "      Bokeh.index[id].model.document.clear();\n",
       "      delete Bokeh.index[id];\n",
       "    }\n",
       "\n",
       "    if (server_id !== undefined) {\n",
       "      // Clean up Bokeh references\n",
       "      var cmd = \"from bokeh.io.state import curstate; print(curstate().uuid_to_server['\" + server_id + \"'].get_sessions()[0].document.roots[0]._id)\";\n",
       "      cell.notebook.kernel.execute(cmd, {\n",
       "        iopub: {\n",
       "          output: function(msg) {\n",
       "            var element_id = msg.content.text.trim();\n",
       "            Bokeh.index[element_id].model.document.clear();\n",
       "            delete Bokeh.index[element_id];\n",
       "          }\n",
       "        }\n",
       "      });\n",
       "      // Destroy server and session\n",
       "      var cmd = \"import bokeh.io.notebook as ion; ion.destroy_server('\" + server_id + \"')\";\n",
       "      cell.notebook.kernel.execute(cmd);\n",
       "    }\n",
       "  }\n",
       "\n",
       "  /**\n",
       "   * Handle when a new output is added\n",
       "   */\n",
       "  function handleAddOutput(event, handle) {\n",
       "    var output_area = handle.output_area;\n",
       "    var output = handle.output;\n",
       "\n",
       "    // limit handleAddOutput to display_data with EXEC_MIME_TYPE content only\n",
       "    if ((output.output_type != \"display_data\") || (!output.data.hasOwnProperty(EXEC_MIME_TYPE))) {\n",
       "      return\n",
       "    }\n",
       "\n",
       "    var toinsert = output_area.element.find(\".\" + CLASS_NAME.split(' ')[0]);\n",
       "\n",
       "    if (output.metadata[EXEC_MIME_TYPE][\"id\"] !== undefined) {\n",
       "      toinsert[toinsert.length - 1].firstChild.textContent = output.data[JS_MIME_TYPE];\n",
       "      // store reference to embed id on output_area\n",
       "      output_area._bokeh_element_id = output.metadata[EXEC_MIME_TYPE][\"id\"];\n",
       "    }\n",
       "    if (output.metadata[EXEC_MIME_TYPE][\"server_id\"] !== undefined) {\n",
       "      var bk_div = document.createElement(\"div\");\n",
       "      bk_div.innerHTML = output.data[HTML_MIME_TYPE];\n",
       "      var script_attrs = bk_div.children[0].attributes;\n",
       "      for (var i = 0; i < script_attrs.length; i++) {\n",
       "        toinsert[toinsert.length - 1].firstChild.setAttribute(script_attrs[i].name, script_attrs[i].value);\n",
       "      }\n",
       "      // store reference to server id on output_area\n",
       "      output_area._bokeh_server_id = output.metadata[EXEC_MIME_TYPE][\"server_id\"];\n",
       "    }\n",
       "  }\n",
       "\n",
       "  function register_renderer(events, OutputArea) {\n",
       "\n",
       "    function append_mime(data, metadata, element) {\n",
       "      // create a DOM node to render to\n",
       "      var toinsert = this.create_output_subarea(\n",
       "        metadata,\n",
       "        CLASS_NAME,\n",
       "        EXEC_MIME_TYPE\n",
       "      );\n",
       "      this.keyboard_manager.register_events(toinsert);\n",
       "      // Render to node\n",
       "      var props = {data: data, metadata: metadata[EXEC_MIME_TYPE]};\n",
       "      render(props, toinsert[toinsert.length - 1]);\n",
       "      element.append(toinsert);\n",
       "      return toinsert\n",
       "    }\n",
       "\n",
       "    /* Handle when an output is cleared or removed */\n",
       "    events.on('clear_output.CodeCell', handleClearOutput);\n",
       "    events.on('delete.Cell', handleClearOutput);\n",
       "\n",
       "    /* Handle when a new output is added */\n",
       "    events.on('output_added.OutputArea', handleAddOutput);\n",
       "\n",
       "    /**\n",
       "     * Register the mime type and append_mime function with output_area\n",
       "     */\n",
       "    OutputArea.prototype.register_mime_type(EXEC_MIME_TYPE, append_mime, {\n",
       "      /* Is output safe? */\n",
       "      safe: true,\n",
       "      /* Index of renderer in `output_area.display_order` */\n",
       "      index: 0\n",
       "    });\n",
       "  }\n",
       "\n",
       "  // register the mime type if in Jupyter Notebook environment and previously unregistered\n",
       "  if (root.Jupyter !== undefined) {\n",
       "    var events = require('base/js/events');\n",
       "    var OutputArea = require('notebook/js/outputarea').OutputArea;\n",
       "\n",
       "    if (OutputArea.prototype.mime_types().indexOf(EXEC_MIME_TYPE) == -1) {\n",
       "      register_renderer(events, OutputArea);\n",
       "    }\n",
       "  }\n",
       "\n",
       "  \n",
       "  if (typeof (root._bokeh_timeout) === \"undefined\" || force === true) {\n",
       "    root._bokeh_timeout = Date.now() + 5000;\n",
       "    root._bokeh_failed_load = false;\n",
       "  }\n",
       "\n",
       "  var NB_LOAD_WARNING = {'data': {'text/html':\n",
       "     \"<div style='background-color: #fdd'>\\n\"+\n",
       "     \"<p>\\n\"+\n",
       "     \"BokehJS does not appear to have successfully loaded. If loading BokehJS from CDN, this \\n\"+\n",
       "     \"may be due to a slow or bad network connection. Possible fixes:\\n\"+\n",
       "     \"</p>\\n\"+\n",
       "     \"<ul>\\n\"+\n",
       "     \"<li>re-rerun `output_notebook()` to attempt to load from CDN again, or</li>\\n\"+\n",
       "     \"<li>use INLINE resources instead, as so:</li>\\n\"+\n",
       "     \"</ul>\\n\"+\n",
       "     \"<code>\\n\"+\n",
       "     \"from bokeh.resources import INLINE\\n\"+\n",
       "     \"output_notebook(resources=INLINE)\\n\"+\n",
       "     \"</code>\\n\"+\n",
       "     \"</div>\"}};\n",
       "\n",
       "  function display_loaded() {\n",
       "    var el = document.getElementById(\"7cfb4916-f145-4302-8d36-d532aaf826bc\");\n",
       "    if (el != null) {\n",
       "      el.textContent = \"BokehJS is loading...\";\n",
       "    }\n",
       "    if (root.Bokeh !== undefined) {\n",
       "      if (el != null) {\n",
       "        el.textContent = \"BokehJS \" + root.Bokeh.version + \" successfully loaded.\";\n",
       "      }\n",
       "    } else if (Date.now() < root._bokeh_timeout) {\n",
       "      setTimeout(display_loaded, 100)\n",
       "    }\n",
       "  }\n",
       "\n",
       "\n",
       "  function run_callbacks() {\n",
       "    try {\n",
       "      root._bokeh_onload_callbacks.forEach(function(callback) { callback() });\n",
       "    }\n",
       "    finally {\n",
       "      delete root._bokeh_onload_callbacks\n",
       "    }\n",
       "    console.info(\"Bokeh: all callbacks have finished\");\n",
       "  }\n",
       "\n",
       "  function load_libs(js_urls, callback) {\n",
       "    root._bokeh_onload_callbacks.push(callback);\n",
       "    if (root._bokeh_is_loading > 0) {\n",
       "      console.log(\"Bokeh: BokehJS is being loaded, scheduling callback at\", now());\n",
       "      return null;\n",
       "    }\n",
       "    if (js_urls == null || js_urls.length === 0) {\n",
       "      run_callbacks();\n",
       "      return null;\n",
       "    }\n",
       "    console.log(\"Bokeh: BokehJS not loaded, scheduling load and callback at\", now());\n",
       "    root._bokeh_is_loading = js_urls.length;\n",
       "    for (var i = 0; i < js_urls.length; i++) {\n",
       "      var url = js_urls[i];\n",
       "      var s = document.createElement('script');\n",
       "      s.src = url;\n",
       "      s.async = false;\n",
       "      s.onreadystatechange = s.onload = function() {\n",
       "        root._bokeh_is_loading--;\n",
       "        if (root._bokeh_is_loading === 0) {\n",
       "          console.log(\"Bokeh: all BokehJS libraries loaded\");\n",
       "          run_callbacks()\n",
       "        }\n",
       "      };\n",
       "      s.onerror = function() {\n",
       "        console.warn(\"failed to load library \" + url);\n",
       "      };\n",
       "      console.log(\"Bokeh: injecting script tag for BokehJS library: \", url);\n",
       "      document.getElementsByTagName(\"head\")[0].appendChild(s);\n",
       "    }\n",
       "  };var element = document.getElementById(\"7cfb4916-f145-4302-8d36-d532aaf826bc\");\n",
       "  if (element == null) {\n",
       "    console.log(\"Bokeh: ERROR: autoload.js configured with elementid '7cfb4916-f145-4302-8d36-d532aaf826bc' but no matching script tag was found. \")\n",
       "    return false;\n",
       "  }\n",
       "\n",
       "  var js_urls = [\"https://cdn.pydata.org/bokeh/release/bokeh-0.12.15.min.js\", \"https://cdn.pydata.org/bokeh/release/bokeh-widgets-0.12.15.min.js\", \"https://cdn.pydata.org/bokeh/release/bokeh-tables-0.12.15.min.js\", \"https://cdn.pydata.org/bokeh/release/bokeh-gl-0.12.15.min.js\"];\n",
       "\n",
       "  var inline_js = [\n",
       "    function(Bokeh) {\n",
       "      Bokeh.set_log_level(\"info\");\n",
       "    },\n",
       "    \n",
       "    function(Bokeh) {\n",
       "      \n",
       "    },\n",
       "    function(Bokeh) {\n",
       "      console.log(\"Bokeh: injecting CSS: https://cdn.pydata.org/bokeh/release/bokeh-0.12.15.min.css\");\n",
       "      Bokeh.embed.inject_css(\"https://cdn.pydata.org/bokeh/release/bokeh-0.12.15.min.css\");\n",
       "      console.log(\"Bokeh: injecting CSS: https://cdn.pydata.org/bokeh/release/bokeh-widgets-0.12.15.min.css\");\n",
       "      Bokeh.embed.inject_css(\"https://cdn.pydata.org/bokeh/release/bokeh-widgets-0.12.15.min.css\");\n",
       "      console.log(\"Bokeh: injecting CSS: https://cdn.pydata.org/bokeh/release/bokeh-tables-0.12.15.min.css\");\n",
       "      Bokeh.embed.inject_css(\"https://cdn.pydata.org/bokeh/release/bokeh-tables-0.12.15.min.css\");\n",
       "    }\n",
       "  ];\n",
       "\n",
       "  function run_inline_js() {\n",
       "    \n",
       "    if ((root.Bokeh !== undefined) || (force === true)) {\n",
       "      for (var i = 0; i < inline_js.length; i++) {\n",
       "        inline_js[i].call(root, root.Bokeh);\n",
       "      }if (force === true) {\n",
       "        display_loaded();\n",
       "      }} else if (Date.now() < root._bokeh_timeout) {\n",
       "      setTimeout(run_inline_js, 100);\n",
       "    } else if (!root._bokeh_failed_load) {\n",
       "      console.log(\"Bokeh: BokehJS failed to load within specified timeout.\");\n",
       "      root._bokeh_failed_load = true;\n",
       "    } else if (force !== true) {\n",
       "      var cell = $(document.getElementById(\"7cfb4916-f145-4302-8d36-d532aaf826bc\")).parents('.cell').data().cell;\n",
       "      cell.output_area.append_execute_result(NB_LOAD_WARNING)\n",
       "    }\n",
       "\n",
       "  }\n",
       "\n",
       "  if (root._bokeh_is_loading === 0) {\n",
       "    console.log(\"Bokeh: BokehJS loaded, going straight to plotting\");\n",
       "    run_inline_js();\n",
       "  } else {\n",
       "    load_libs(js_urls, function() {\n",
       "      console.log(\"Bokeh: BokehJS plotting callback run at\", now());\n",
       "      run_inline_js();\n",
       "    });\n",
       "  }\n",
       "}(window));"
      ],
      "application/vnd.bokehjs_load.v0+json": "\n(function(root) {\n  function now() {\n    return new Date();\n  }\n\n  var force = true;\n\n  if (typeof (root._bokeh_onload_callbacks) === \"undefined\" || force === true) {\n    root._bokeh_onload_callbacks = [];\n    root._bokeh_is_loading = undefined;\n  }\n\n  \n\n  \n  if (typeof (root._bokeh_timeout) === \"undefined\" || force === true) {\n    root._bokeh_timeout = Date.now() + 5000;\n    root._bokeh_failed_load = false;\n  }\n\n  var NB_LOAD_WARNING = {'data': {'text/html':\n     \"<div style='background-color: #fdd'>\\n\"+\n     \"<p>\\n\"+\n     \"BokehJS does not appear to have successfully loaded. If loading BokehJS from CDN, this \\n\"+\n     \"may be due to a slow or bad network connection. Possible fixes:\\n\"+\n     \"</p>\\n\"+\n     \"<ul>\\n\"+\n     \"<li>re-rerun `output_notebook()` to attempt to load from CDN again, or</li>\\n\"+\n     \"<li>use INLINE resources instead, as so:</li>\\n\"+\n     \"</ul>\\n\"+\n     \"<code>\\n\"+\n     \"from bokeh.resources import INLINE\\n\"+\n     \"output_notebook(resources=INLINE)\\n\"+\n     \"</code>\\n\"+\n     \"</div>\"}};\n\n  function display_loaded() {\n    var el = document.getElementById(\"7cfb4916-f145-4302-8d36-d532aaf826bc\");\n    if (el != null) {\n      el.textContent = \"BokehJS is loading...\";\n    }\n    if (root.Bokeh !== undefined) {\n      if (el != null) {\n        el.textContent = \"BokehJS \" + root.Bokeh.version + \" successfully loaded.\";\n      }\n    } else if (Date.now() < root._bokeh_timeout) {\n      setTimeout(display_loaded, 100)\n    }\n  }\n\n\n  function run_callbacks() {\n    try {\n      root._bokeh_onload_callbacks.forEach(function(callback) { callback() });\n    }\n    finally {\n      delete root._bokeh_onload_callbacks\n    }\n    console.info(\"Bokeh: all callbacks have finished\");\n  }\n\n  function load_libs(js_urls, callback) {\n    root._bokeh_onload_callbacks.push(callback);\n    if (root._bokeh_is_loading > 0) {\n      console.log(\"Bokeh: BokehJS is being loaded, scheduling callback at\", now());\n      return null;\n    }\n    if (js_urls == null || js_urls.length === 0) {\n      run_callbacks();\n      return null;\n    }\n    console.log(\"Bokeh: BokehJS not loaded, scheduling load and callback at\", now());\n    root._bokeh_is_loading = js_urls.length;\n    for (var i = 0; i < js_urls.length; i++) {\n      var url = js_urls[i];\n      var s = document.createElement('script');\n      s.src = url;\n      s.async = false;\n      s.onreadystatechange = s.onload = function() {\n        root._bokeh_is_loading--;\n        if (root._bokeh_is_loading === 0) {\n          console.log(\"Bokeh: all BokehJS libraries loaded\");\n          run_callbacks()\n        }\n      };\n      s.onerror = function() {\n        console.warn(\"failed to load library \" + url);\n      };\n      console.log(\"Bokeh: injecting script tag for BokehJS library: \", url);\n      document.getElementsByTagName(\"head\")[0].appendChild(s);\n    }\n  };var element = document.getElementById(\"7cfb4916-f145-4302-8d36-d532aaf826bc\");\n  if (element == null) {\n    console.log(\"Bokeh: ERROR: autoload.js configured with elementid '7cfb4916-f145-4302-8d36-d532aaf826bc' but no matching script tag was found. \")\n    return false;\n  }\n\n  var js_urls = [\"https://cdn.pydata.org/bokeh/release/bokeh-0.12.15.min.js\", \"https://cdn.pydata.org/bokeh/release/bokeh-widgets-0.12.15.min.js\", \"https://cdn.pydata.org/bokeh/release/bokeh-tables-0.12.15.min.js\", \"https://cdn.pydata.org/bokeh/release/bokeh-gl-0.12.15.min.js\"];\n\n  var inline_js = [\n    function(Bokeh) {\n      Bokeh.set_log_level(\"info\");\n    },\n    \n    function(Bokeh) {\n      \n    },\n    function(Bokeh) {\n      console.log(\"Bokeh: injecting CSS: https://cdn.pydata.org/bokeh/release/bokeh-0.12.15.min.css\");\n      Bokeh.embed.inject_css(\"https://cdn.pydata.org/bokeh/release/bokeh-0.12.15.min.css\");\n      console.log(\"Bokeh: injecting CSS: https://cdn.pydata.org/bokeh/release/bokeh-widgets-0.12.15.min.css\");\n      Bokeh.embed.inject_css(\"https://cdn.pydata.org/bokeh/release/bokeh-widgets-0.12.15.min.css\");\n      console.log(\"Bokeh: injecting CSS: https://cdn.pydata.org/bokeh/release/bokeh-tables-0.12.15.min.css\");\n      Bokeh.embed.inject_css(\"https://cdn.pydata.org/bokeh/release/bokeh-tables-0.12.15.min.css\");\n    }\n  ];\n\n  function run_inline_js() {\n    \n    if ((root.Bokeh !== undefined) || (force === true)) {\n      for (var i = 0; i < inline_js.length; i++) {\n        inline_js[i].call(root, root.Bokeh);\n      }if (force === true) {\n        display_loaded();\n      }} else if (Date.now() < root._bokeh_timeout) {\n      setTimeout(run_inline_js, 100);\n    } else if (!root._bokeh_failed_load) {\n      console.log(\"Bokeh: BokehJS failed to load within specified timeout.\");\n      root._bokeh_failed_load = true;\n    } else if (force !== true) {\n      var cell = $(document.getElementById(\"7cfb4916-f145-4302-8d36-d532aaf826bc\")).parents('.cell').data().cell;\n      cell.output_area.append_execute_result(NB_LOAD_WARNING)\n    }\n\n  }\n\n  if (root._bokeh_is_loading === 0) {\n    console.log(\"Bokeh: BokehJS loaded, going straight to plotting\");\n    run_inline_js();\n  } else {\n    load_libs(js_urls, function() {\n      console.log(\"Bokeh: BokehJS plotting callback run at\", now());\n      run_inline_js();\n    });\n  }\n}(window));"
     },
     "metadata": {},
     "output_type": "display_data"
    }
   ],
   "source": [
    "from bokeh import plotting as plt\n",
    "from bokeh.io import output_notebook\n",
    "output_notebook()"
   ]
  },
  {
   "cell_type": "code",
   "execution_count": 4,
   "metadata": {},
   "outputs": [],
   "source": [
    "import sys\n",
    "sys.path.append(\"py_cfg_parsing\")\n",
    "sys.path.append(\"texy\")"
   ]
  },
  {
   "cell_type": "code",
   "execution_count": 5,
   "metadata": {},
   "outputs": [],
   "source": [
    "import pathlib\n",
    "this_dir = pathlib.Path.cwd()\n",
    "mcnp_dir = this_dir / \"mcnp\""
   ]
  },
  {
   "cell_type": "markdown",
   "metadata": {},
   "source": [
    "# Load secrets"
   ]
  },
  {
   "cell_type": "code",
   "execution_count": 6,
   "metadata": {},
   "outputs": [],
   "source": [
    "from plumbum import cmd\n",
    "\n",
    "lookup_secret = lambda field: cmd.secret_tool(\"lookup\", \"app\", \"phymat\", \"field\", field).strip()\n",
    "user = lookup_secret(\"user\")\n",
    "domain = lookup_secret(\"domain\")\n",
    "port = lookup_secret(\"port\")\n",
    "password = lookup_secret(\"password\")"
   ]
  },
  {
   "cell_type": "markdown",
   "metadata": {},
   "source": [
    "# Start SSH file system"
   ]
  },
  {
   "cell_type": "code",
   "execution_count": 7,
   "metadata": {},
   "outputs": [
    {
     "data": {
      "text/plain": [
       "0"
      ]
     },
     "execution_count": 7,
     "metadata": {},
     "output_type": "execute_result"
    }
   ],
   "source": [
    "import pexpect\n",
    "p = pexpect.spawn('bash')\n",
    "p.sendline(f'sshfs {user}@{domain}:mcnp {mcnp_dir} -p {port}')\n",
    "p.expect(\"password:\")\n",
    "p.sendline(password)\n",
    "p.sendline('exit')\n",
    "p.expect_exact(pexpect.EOF)"
   ]
  },
  {
   "cell_type": "markdown",
   "metadata": {},
   "source": [
    "# Define SSH session & commands"
   ]
  },
  {
   "cell_type": "code",
   "execution_count": 8,
   "metadata": {},
   "outputs": [],
   "source": [
    "from plumbum.machines.paramiko_machine import ParamikoMachine\n",
    "    \n",
    "remote = ParamikoMachine(domain, user, port, password, keep_alive=30)\n",
    "remote._cwd = remote.cwd.chdir('mcnp')\n",
    "        \n",
    "mcnp = remote['./mcnp']\n",
    "\n",
    "def clean():\n",
    "    z =  [(\"-I\", n) for n in (\"mcnp\", \"examples\", \"utils\", \"pt1.tex\", \"*.ip\")] \n",
    "    filenames = remote['ls'](*chain(*z)).splitlines()\n",
    "    if filenames:\n",
    "        remote['rm'](*filenames)"
   ]
  },
  {
   "cell_type": "markdown",
   "metadata": {},
   "source": [
    "# Output highlighting"
   ]
  },
  {
   "cell_type": "code",
   "execution_count": 9,
   "metadata": {},
   "outputs": [],
   "source": [
    "from colorama import Fore\n",
    "from itertools import chain\n",
    "import re\n",
    "\n",
    "replacers = {r'warning\\.': Fore.YELLOW, r'fatal error\\.': Fore.RED, \n",
    "             r'\\d+ particles got lost.': Fore.RED}\n",
    "\n",
    "def _highlight(string, replacers):\n",
    "    pattern = '|'.join(f'({p})' for p in replacers)\n",
    "    def replacer(m):\n",
    "        code = next(v for i, v in enumerate(replacers.values()) if m.groups()[i] is not None)\n",
    "        return f\"{code}{m.group(0)}{Fore.RESET}\"\n",
    "    return re.sub(pattern, replacer, string)\n",
    "    \n",
    "def prettify(text):\n",
    "    print(_highlight(text, replacers))"
   ]
  },
  {
   "cell_type": "markdown",
   "metadata": {},
   "source": [
    "# Part 1"
   ]
  },
  {
   "cell_type": "code",
   "execution_count": 51,
   "metadata": {},
   "outputs": [],
   "source": [
    "part_1_template = \"\"\"MESSAGE:\n",
    "\n",
    "Practical Monte Carlo part 1. Angus Hollands\n",
    "C\n",
    "C Cells\n",
    "1 1 -7.92 1 -2 3 -4 5 -6 (-7:8:-9:10:-11) $ Walls\n",
    "2 0 (-1:2:-3:4:-5:6) $ Void\n",
    "3 2 -1.0 7 -8 9 -10 11 -12 $ Water\n",
    "4 0 7 -8 9 -10 12 -6 $ Air gap (void)\n",
    "\n",
    "C Surfaces\n",
    "C Define outer walls\n",
    "1 PX -5.20\n",
    "2 PX 5.20\n",
    "3 PY -10.20\n",
    "4 PY 10.20\n",
    "5 PZ 0.0\n",
    "6 PZ 20.0\n",
    "C Define XY wall surfaces\n",
    "7 PX -5.00\n",
    "8 PX 5.00\n",
    "9 PY -10.0\n",
    "10 PY 10.0\n",
    "C Define Z wall / water surfaces\n",
    "11 PZ 0.20\n",
    "12 PZ 19.0\n",
    "\n",
    "C Cell importance MAP\n",
    "IMP:N 1 0 1 1         $  s\n",
    "M1   26000.42c -0.74 24000.42c -0.18 28000.42c -0.08 $ Stainless steel\n",
    "M2   1001.42c 2.0  8016.42c 1.0   $ Pure water\n",
    "MT2 lwtr.01\n",
    "C Tallying energy fluence (nX where X is type (2) and n an ID: [1, 2, ...])\n",
    "F12:N (1 2)\n",
    "F22:N (3 4)\n",
    "C Tally energy bins for all tallies (log 10 space)\n",
    "E0 1E-9 1E-8 1E-7 1E-6 1E-5 1E-4 1E-3 1E-2 1E-1 1 10\n",
    "C MC type\n",
    "MODE N\n",
    "C Thermal neutron induced fission of 235U at (0,0,22mm)\n",
    "SDEF POS=0.0 0.0 2.2 ERG=D1\n",
    "SP1  -3 0.988 2.249\n",
    "C NUMBER OF PARTICLE HISTORIES TO RUN\n",
    "NPS  {nps}\n",
    "PRDMP 0 0 1 1 0\n",
    "\"\"\""
   ]
  },
  {
   "cell_type": "code",
   "execution_count": 55,
   "metadata": {},
   "outputs": [],
   "source": [
    "from mctal import tokenizer\n",
    "from derp import parse\n",
    "from mctal import g\n",
    "\n",
    "def load_mctal(path):\n",
    "    tokens = tokenizer.tokenize_file(path)\n",
    "    return next(iter(parse(g.mctal, tokens)))"
   ]
  },
  {
   "cell_type": "code",
   "execution_count": 56,
   "metadata": {},
   "outputs": [],
   "source": [
    "clean()"
   ]
  },
  {
   "cell_type": "markdown",
   "metadata": {},
   "source": [
    "# Perform 1.a run"
   ]
  },
  {
   "cell_type": "code",
   "execution_count": 261,
   "metadata": {},
   "outputs": [
    {
     "name": "stdout",
     "output_type": "stream",
     "text": [
      " mcnp     ver=4c2  ld=01/20/01     04/27/18 21:53:22                  \n",
      " outp already exists.  outq is created instead.\n",
      " outq already exists.  outr is created instead.\n",
      " outr already exists.  outs is created instead.\n",
      " outs already exists.  outt is created instead.\n",
      " \u001b[33mwarning.\u001b[39m    1 materials had unnormalized fractions. print table 40.\n",
      " imcn   is done\n",
      " runtpe already exists.  runtpf is created instead.\n",
      " runtpf already exists.  runtpg is created instead.\n",
      " runtpg already exists.  runtph is created instead.\n",
      " runtph already exists.  runtpi is created instead.\n",
      " \u001b[33mwarning.\u001b[39m  neutron energy cutoff is below some cross-section tables.\n",
      " \u001b[33mwarning.\u001b[39m     5 cross sections modified by free gas thermal treatment.\n",
      " dump    1 on file runtpi     nps =         0    coll =              0\n",
      "                              ctm =      0.00     nrn =              0\n",
      " xact   is done\n",
      " dynamic storage =    197816 words,     791264 bytes.      cp0 =  0.00\n",
      " \u001b[33mwarning.\u001b[39m tally not scored beyond last energy bin.                    \n",
      " nps =      2946     tal =   12     erg = 1.0309E+01      \n",
      " \u001b[33mwarning.\u001b[39m tally not scored beyond last energy bin.                    \n",
      " nps =     16331     tal =   22     erg = 1.1372E+01      \n",
      " run terminated when     20000 particle histories were done.\n",
      " \u001b[33mwarning.\u001b[39m  tally  22 tfc bin did not pass  2 of 10 statistical checks.\n",
      " \u001b[33mwarning.\u001b[39m     1 of   2 tallies did not pass all 10 statistical checks.\n",
      " \u001b[33mwarning.\u001b[39m     2 of   2 tallies had bins with large relative errors.\n",
      " dump    2 on file runtpi     nps =     20000    coll =         805252\n",
      "                              ctm =      0.01     nrn =        6750308\n",
      " 1.a.ta already exists.  2.a.ta is created instead.\n",
      " 2.a.ta already exists.  3.a.ta is created instead.\n",
      " tally data written to file 3.a.ta  \n",
      " mcrun  is done\n",
      "\n"
     ]
    }
   ],
   "source": [
    "(mcnp_dir / \"1.a.ip\").write_text(part_1_template.format(nps=20_000))\n",
    "prettify(mcnp(\"inp=1.a.ip\", \"mctal=1.a.ta\"))\n",
    "mctal_1_a = load_mctal(mcnp_dir / \"1.a.ta\")"
   ]
  },
  {
   "cell_type": "code",
   "execution_count": 262,
   "metadata": {},
   "outputs": [
    {
     "name": "stdout",
     "output_type": "stream",
     "text": [
      " mcnp     ver=4c2  ld=01/20/01     04/27/18 21:53:24                  \n",
      " outp already exists.  outq is created instead.\n",
      " outq already exists.  outr is created instead.\n",
      " outr already exists.  outs is created instead.\n",
      " outs already exists.  outt is created instead.\n",
      " outt already exists.  outu is created instead.\n",
      " \u001b[33mwarning.\u001b[39m    1 materials had unnormalized fractions. print table 40.\n",
      " imcn   is done\n",
      " runtpe already exists.  runtpf is created instead.\n",
      " runtpf already exists.  runtpg is created instead.\n",
      " runtpg already exists.  runtph is created instead.\n",
      " runtph already exists.  runtpi is created instead.\n",
      " runtpi already exists.  runtpj is created instead.\n",
      " \u001b[33mwarning.\u001b[39m  neutron energy cutoff is below some cross-section tables.\n",
      " \u001b[33mwarning.\u001b[39m     5 cross sections modified by free gas thermal treatment.\n",
      " dump    1 on file runtpj     nps =         0    coll =              0\n",
      "                              ctm =      0.00     nrn =              0\n",
      " xact   is done\n",
      " dynamic storage =    197816 words,     791264 bytes.      cp0 =  0.00\n",
      " \u001b[33mwarning.\u001b[39m tally not scored beyond last energy bin.                    \n",
      " nps =      2946     tal =   12     erg = 1.0309E+01      \n",
      " \u001b[33mwarning.\u001b[39m tally not scored beyond last energy bin.                    \n",
      " nps =     16331     tal =   22     erg = 1.1372E+01      \n",
      " run terminated when    210000 particle histories were done.\n",
      " \u001b[33mwarning.\u001b[39m     2 of   2 tallies had bins with large relative errors.\n",
      " dump    2 on file runtpj     nps =    210000    coll =        8457957\n",
      "                              ctm =      0.14     nrn =       70880644\n",
      " 1.b.ta already exists.  2.b.ta is created instead.\n",
      " 2.b.ta already exists.  3.b.ta is created instead.\n",
      " tally data written to file 3.b.ta  \n",
      " mcrun  is done\n",
      "\n"
     ]
    }
   ],
   "source": [
    "(mcnp_dir / \"1.b.ip\").write_text(part_1_template.format(nps=210_000))\n",
    "prettify(mcnp(\"inp=1.b.ip\", \"mctal=1.b.ta\"))\n",
    "mctal_1_b = load_mctal(mcnp_dir / \"1.b.ta\")"
   ]
  },
  {
   "cell_type": "markdown",
   "metadata": {},
   "source": [
    "# Plotting"
   ]
  },
  {
   "cell_type": "code",
   "execution_count": 257,
   "metadata": {},
   "outputs": [],
   "source": [
    "from mctal import tokenizer\n",
    "from derp import parse\n",
    "import numpy as np\n",
    "from mctal import g\n",
    "\n",
    "from bokeh.palettes import Spectral10\n",
    "from bokeh.io import export_svgs\n",
    "from bokeh.models import Whisker, ColumnDataSource\n",
    "\n",
    "\n",
    "def plot_tallies(output_path, mctal, normalise=False):\n",
    "    colours = iter(Spectral10)\n",
    "    fig = plt.figure(x_axis_type='log', x_axis_label=\"Energy /MeV\", y_axis_label=\"Flux (1/cm^2)\", \n",
    "                     plot_width=1200, plot_height=400, \n",
    "                     tools='crosshair,pan,wheel_zoom,box_zoom,reset,hover',\n",
    "                     output_backend='svg')\n",
    "\n",
    "    for i, tally in enumerate(mctal.tallies):\n",
    "        edges = np.array(tally.energies.values)\n",
    "        x = (np.r_[0, edges[:-1]] + edges) / 2        \n",
    "        data = np.array(tally.data)[:-1]\n",
    "        y, err = data.T\n",
    "        if normalise:\n",
    "            area = (y * edges).sum()\n",
    "            y /= area\n",
    "            #err /= area\n",
    "        source_error = ColumnDataSource(data=dict(base=x, lower=y*(1-err), upper=y*(1+err)))\n",
    "\n",
    "        fig.add_layout(\n",
    "            Whisker(source=source_error, base=\"base\", upper=\"upper\", lower=\"lower\")\n",
    "        )\n",
    "        fig.line(x, y, color=next(colours), legend=f'Tally {tally.problem_id}')\n",
    "        \n",
    "#         print(f'Tally {tally.problem_id}', np.sqrt(((err*y)**2).sum()))\n",
    "        \n",
    "    plt.show(fig)\n",
    "    svg_output_path = output_path.parent / f\"{output_path.stem}.svg\"\n",
    "    export_svgs(fig, str(svg_output_path))\n",
    "    !inkscape {svg_output_path} -z -e {output_path}"
   ]
  },
  {
   "cell_type": "code",
   "execution_count": 78,
   "metadata": {},
   "outputs": [
    {
     "data": {
      "text/html": [
       "\n",
       "<div class=\"bk-root\">\n",
       "    <div class=\"bk-plotdiv\" id=\"f1262259-8c2e-4f29-ba45-7c3e3dfd89a1\"></div>\n",
       "</div>"
      ]
     },
     "metadata": {},
     "output_type": "display_data"
    },
    {
     "data": {
      "application/javascript": [
       "(function(root) {\n",
       "  function embed_document(root) {\n",
       "    \n",
       "  var docs_json = {\"acfe2c84-f5fd-4b04-a13b-c85f8eaeaaff\":{\"roots\":{\"references\":[{\"attributes\":{\"base\":{\"field\":\"base\",\"units\":\"data\"},\"lower\":{\"field\":\"lower\",\"units\":\"data\"},\"lower_head\":{\"id\":\"de9cc45d-f43e-48cb-a468-c0b5bb83327a\",\"type\":\"TeeHead\"},\"plot\":{\"id\":\"9fa53ccc-409c-493d-b6e7-cf6b6ed0b452\",\"subtype\":\"Figure\",\"type\":\"Plot\"},\"source\":{\"id\":\"1ed9477e-1a0b-43bf-98c1-fc5069e0e067\",\"type\":\"ColumnDataSource\"},\"upper\":{\"field\":\"upper\",\"units\":\"data\"},\"upper_head\":{\"id\":\"13a82cc7-af9d-4049-9a62-231238e35bbe\",\"type\":\"TeeHead\"}},\"id\":\"d586007d-edaf-4dd3-abf3-20f75fa2471c\",\"type\":\"Whisker\"},{\"attributes\":{\"base\":{\"field\":\"base\",\"units\":\"data\"},\"lower\":{\"field\":\"lower\",\"units\":\"data\"},\"lower_head\":{\"id\":\"11dd19f3-669a-458d-b660-0212cb027520\",\"type\":\"TeeHead\"},\"plot\":{\"id\":\"9fa53ccc-409c-493d-b6e7-cf6b6ed0b452\",\"subtype\":\"Figure\",\"type\":\"Plot\"},\"source\":{\"id\":\"545f7201-9ead-4125-83e5-0b691a91f08e\",\"type\":\"ColumnDataSource\"},\"upper\":{\"field\":\"upper\",\"units\":\"data\"},\"upper_head\":{\"id\":\"eb7c5e3b-d410-4714-8938-bf1a16f0690e\",\"type\":\"TeeHead\"}},\"id\":\"5e3c767c-97bd-4dea-ad56-5264f4a37765\",\"type\":\"Whisker\"},{\"attributes\":{\"label\":{\"value\":\"Tally 22\"},\"renderers\":[{\"id\":\"38e5bc31-0b6e-449c-a99c-014f3a790c38\",\"type\":\"GlyphRenderer\"}]},\"id\":\"78d0d3a4-ba97-4ed8-b469-e3a032ed2ea7\",\"type\":\"LegendItem\"},{\"attributes\":{\"line_color\":\"#3288bd\",\"x\":{\"field\":\"x\"},\"y\":{\"field\":\"y\"}},\"id\":\"bde8c3e6-91f6-43ec-b6fd-d9e4870d9c72\",\"type\":\"Line\"},{\"attributes\":{\"source\":{\"id\":\"e82b39c2-529d-4a0e-bcc5-598b3f6f891c\",\"type\":\"ColumnDataSource\"}},\"id\":\"3a14bf09-f9db-47cc-a518-abbf55805f53\",\"type\":\"CDSView\"},{\"attributes\":{},\"id\":\"9ebfd470-7e7f-4bf0-908c-786a90d87ce4\",\"type\":\"ResetTool\"},{\"attributes\":{},\"id\":\"580228d4-0b61-47be-b098-eab76c01654f\",\"type\":\"PanTool\"},{\"attributes\":{\"source\":{\"id\":\"c3ba1d6f-ad4f-4ad3-ab81-d7b981874d24\",\"type\":\"ColumnDataSource\"}},\"id\":\"32dbf36c-d31e-452f-a9f6-f061ba7f5983\",\"type\":\"CDSView\"},{\"attributes\":{\"dimension\":1,\"plot\":{\"id\":\"9fa53ccc-409c-493d-b6e7-cf6b6ed0b452\",\"subtype\":\"Figure\",\"type\":\"Plot\"},\"ticker\":{\"id\":\"643b7493-6d89-46ca-b1d0-aac75d4ae247\",\"type\":\"BasicTicker\"}},\"id\":\"40640121-58e4-4e02-83dc-9648fc6cc96b\",\"type\":\"Grid\"},{\"attributes\":{\"overlay\":{\"id\":\"9f47e0ed-22c3-40ff-98cf-e28b3f057723\",\"type\":\"BoxAnnotation\"}},\"id\":\"fd647af0-bbee-4d49-a7be-ac1ff744ddce\",\"type\":\"BoxZoomTool\"},{\"attributes\":{},\"id\":\"643b7493-6d89-46ca-b1d0-aac75d4ae247\",\"type\":\"BasicTicker\"},{\"attributes\":{\"line_alpha\":0.1,\"line_color\":\"#1f77b4\",\"x\":{\"field\":\"x\"},\"y\":{\"field\":\"y\"}},\"id\":\"86349c67-6149-405f-8fb1-43d8ae7f6869\",\"type\":\"Line\"},{\"attributes\":{\"line_color\":\"#5e4fa2\",\"x\":{\"field\":\"x\"},\"y\":{\"field\":\"y\"}},\"id\":\"d004fe2a-1e11-48c3-a848-9463a5634def\",\"type\":\"Line\"},{\"attributes\":{\"callback\":null},\"id\":\"1e14412a-69ab-4803-b779-27f28f2b59ca\",\"type\":\"DataRange1d\"},{\"attributes\":{\"axis_label\":\"Flux (1/cm^2)\",\"formatter\":{\"id\":\"210ef178-cc02-40e7-b389-8e480ac0f219\",\"type\":\"BasicTickFormatter\"},\"plot\":{\"id\":\"9fa53ccc-409c-493d-b6e7-cf6b6ed0b452\",\"subtype\":\"Figure\",\"type\":\"Plot\"},\"ticker\":{\"id\":\"643b7493-6d89-46ca-b1d0-aac75d4ae247\",\"type\":\"BasicTicker\"}},\"id\":\"8c2165de-a207-4d89-9fc6-7fc8c4b8b703\",\"type\":\"LinearAxis\"},{\"attributes\":{\"callback\":null},\"id\":\"0fd5dbcc-57ce-4b2a-90e7-08053e25fa74\",\"type\":\"DataRange1d\"},{\"attributes\":{},\"id\":\"210ef178-cc02-40e7-b389-8e480ac0f219\",\"type\":\"BasicTickFormatter\"},{\"attributes\":{},\"id\":\"74496f76-b52a-4889-80c7-bb4d9fa86249\",\"type\":\"LogScale\"},{\"attributes\":{\"level\":\"underlay\",\"plot\":null,\"size\":10},\"id\":\"eb7c5e3b-d410-4714-8938-bf1a16f0690e\",\"type\":\"TeeHead\"},{\"attributes\":{\"axis_label\":\"Energy /MeV\",\"formatter\":{\"id\":\"96f93fec-367f-481f-9ec9-2db673d18f23\",\"type\":\"LogTickFormatter\"},\"plot\":{\"id\":\"9fa53ccc-409c-493d-b6e7-cf6b6ed0b452\",\"subtype\":\"Figure\",\"type\":\"Plot\"},\"ticker\":{\"id\":\"ab33d8f3-b662-444a-a254-acb10d1c0b98\",\"type\":\"LogTicker\"}},\"id\":\"7918bc69-bf97-46ac-8460-8450a94fd2c2\",\"type\":\"LogAxis\"},{\"attributes\":{\"level\":\"underlay\",\"plot\":null,\"size\":10},\"id\":\"11dd19f3-669a-458d-b660-0212cb027520\",\"type\":\"TeeHead\"},{\"attributes\":{},\"id\":\"c17fb75b-d160-4b06-9110-b414ba0ce4b5\",\"type\":\"CrosshairTool\"},{\"attributes\":{\"items\":[{\"id\":\"677a53d2-3fec-42be-8f05-84fb41c55e10\",\"type\":\"LegendItem\"},{\"id\":\"78d0d3a4-ba97-4ed8-b469-e3a032ed2ea7\",\"type\":\"LegendItem\"}],\"plot\":{\"id\":\"9fa53ccc-409c-493d-b6e7-cf6b6ed0b452\",\"subtype\":\"Figure\",\"type\":\"Plot\"}},\"id\":\"4d743205-2ce4-4f17-98ac-2f5d1d426ec8\",\"type\":\"Legend\"},{\"attributes\":{\"active_drag\":\"auto\",\"active_inspect\":\"auto\",\"active_scroll\":\"auto\",\"active_tap\":\"auto\",\"tools\":[{\"id\":\"c17fb75b-d160-4b06-9110-b414ba0ce4b5\",\"type\":\"CrosshairTool\"},{\"id\":\"580228d4-0b61-47be-b098-eab76c01654f\",\"type\":\"PanTool\"},{\"id\":\"6002e714-c934-4fdb-9b31-e99c4ad7d3ed\",\"type\":\"WheelZoomTool\"},{\"id\":\"fd647af0-bbee-4d49-a7be-ac1ff744ddce\",\"type\":\"BoxZoomTool\"},{\"id\":\"9ebfd470-7e7f-4bf0-908c-786a90d87ce4\",\"type\":\"ResetTool\"},{\"id\":\"06b851c5-1c23-40bf-afc3-f34aeef838a3\",\"type\":\"HoverTool\"}]},\"id\":\"2e6f3505-9baa-4e60-bd97-0647470f5232\",\"type\":\"Toolbar\"},{\"attributes\":{\"line_alpha\":0.1,\"line_color\":\"#1f77b4\",\"x\":{\"field\":\"x\"},\"y\":{\"field\":\"y\"}},\"id\":\"1529763e-443b-4232-ac6e-465251b652f1\",\"type\":\"Line\"},{\"attributes\":{\"num_minor_ticks\":10},\"id\":\"ab33d8f3-b662-444a-a254-acb10d1c0b98\",\"type\":\"LogTicker\"},{\"attributes\":{},\"id\":\"6002e714-c934-4fdb-9b31-e99c4ad7d3ed\",\"type\":\"WheelZoomTool\"},{\"attributes\":{\"data_source\":{\"id\":\"c3ba1d6f-ad4f-4ad3-ab81-d7b981874d24\",\"type\":\"ColumnDataSource\"},\"glyph\":{\"id\":\"bde8c3e6-91f6-43ec-b6fd-d9e4870d9c72\",\"type\":\"Line\"},\"hover_glyph\":null,\"muted_glyph\":null,\"nonselection_glyph\":{\"id\":\"1529763e-443b-4232-ac6e-465251b652f1\",\"type\":\"Line\"},\"selection_glyph\":null,\"view\":{\"id\":\"32dbf36c-d31e-452f-a9f6-f061ba7f5983\",\"type\":\"CDSView\"}},\"id\":\"38e5bc31-0b6e-449c-a99c-014f3a790c38\",\"type\":\"GlyphRenderer\"},{\"attributes\":{\"bottom_units\":\"screen\",\"fill_alpha\":{\"value\":0.5},\"fill_color\":{\"value\":\"lightgrey\"},\"left_units\":\"screen\",\"level\":\"overlay\",\"line_alpha\":{\"value\":1.0},\"line_color\":{\"value\":\"black\"},\"line_dash\":[4,4],\"line_width\":{\"value\":2},\"plot\":null,\"render_mode\":\"css\",\"right_units\":\"screen\",\"top_units\":\"screen\"},\"id\":\"9f47e0ed-22c3-40ff-98cf-e28b3f057723\",\"type\":\"BoxAnnotation\"},{\"attributes\":{\"callback\":null,\"column_names\":[\"x\",\"y\"],\"data\":{\"x\":{\"__ndarray__\":\"ldYm6AsuAT4NZzVfUJ83Ps/AAnckh20+grhhynZ0oj6jJvp8lBHXPkuwOJz51Qw/L26jAbwFQj+6SQwCK4d2Pylcj8L1KKw/mpmZmZmZ4T8AAAAAAAAWQA==\",\"dtype\":\"float64\",\"shape\":[11]},\"y\":{\"__ndarray__\":\"AAAAAAAAAADPDtygKp6/PtTN3aCRngY/LZVLrJIk7T7m3t/ZogvjPt6oB6DnQ+Y+qDeC2MLB6D6ulQktliPuPtMhe3JJpOg+sIb/xCXfBT/Fn1iTnfETPw==\",\"dtype\":\"float64\",\"shape\":[11]}},\"selected\":null,\"selection_policy\":null},\"id\":\"c3ba1d6f-ad4f-4ad3-ab81-d7b981874d24\",\"type\":\"ColumnDataSource\"},{\"attributes\":{\"callback\":null,\"column_names\":[\"base\",\"lower\",\"upper\"],\"data\":{\"base\":{\"__ndarray__\":\"ldYm6AsuAT4NZzVfUJ83Ps/AAnckh20+grhhynZ0oj6jJvp8lBHXPkuwOJz51Qw/L26jAbwFQj+6SQwCK4d2Pylcj8L1KKw/mpmZmZmZ4T8AAAAAAAAWQA==\",\"dtype\":\"float64\",\"shape\":[11]},\"lower\":{\"__ndarray__\":\"AAAAAAAAAABBBZEwkuW3PllptkTCGwU/YNEOOIfZ6T4qX2wpPvjfPmJhVoc16+I+wCPEWI815T6Mok+4is7nPiNpwR7g+uQ+i/NSZni/Az+iaKKxw9YSPw==\",\"dtype\":\"float64\",\"shape\":[11]},\"upper\":{\"__ndarray__\":\"AAAAAAAAAAAujJOIYavDPk8yBf1gIQg/fSxEEM838D43jgmfJhvmPlvwuLiZnOk+kEtAWPZN7D5oxOHQUDzyPoPaNMayTew+1RmsI9P+Bz/n1g51dwwVPw==\",\"dtype\":\"float64\",\"shape\":[11]}},\"selected\":null,\"selection_policy\":null},\"id\":\"545f7201-9ead-4125-83e5-0b691a91f08e\",\"type\":\"ColumnDataSource\"},{\"attributes\":{\"ticker\":null},\"id\":\"96f93fec-367f-481f-9ec9-2db673d18f23\",\"type\":\"LogTickFormatter\"},{\"attributes\":{\"level\":\"underlay\",\"plot\":null,\"size\":10},\"id\":\"13a82cc7-af9d-4049-9a62-231238e35bbe\",\"type\":\"TeeHead\"},{\"attributes\":{\"callback\":null},\"id\":\"06b851c5-1c23-40bf-afc3-f34aeef838a3\",\"type\":\"HoverTool\"},{\"attributes\":{\"data_source\":{\"id\":\"e82b39c2-529d-4a0e-bcc5-598b3f6f891c\",\"type\":\"ColumnDataSource\"},\"glyph\":{\"id\":\"d004fe2a-1e11-48c3-a848-9463a5634def\",\"type\":\"Line\"},\"hover_glyph\":null,\"muted_glyph\":null,\"nonselection_glyph\":{\"id\":\"86349c67-6149-405f-8fb1-43d8ae7f6869\",\"type\":\"Line\"},\"selection_glyph\":null,\"view\":{\"id\":\"3a14bf09-f9db-47cc-a518-abbf55805f53\",\"type\":\"CDSView\"}},\"id\":\"9b0348e4-ebb8-4772-997a-7554593fe9b7\",\"type\":\"GlyphRenderer\"},{\"attributes\":{\"callback\":null,\"column_names\":[\"base\",\"lower\",\"upper\"],\"data\":{\"base\":{\"__ndarray__\":\"ldYm6AsuAT4NZzVfUJ83Ps/AAnckh20+grhhynZ0oj6jJvp8lBHXPkuwOJz51Qw/L26jAbwFQj+6SQwCK4d2Pylcj8L1KKw/mpmZmZmZ4T8AAAAAAAAWQA==\",\"dtype\":\"float64\",\"shape\":[11]},\"lower\":{\"__ndarray__\":\"AAAAAAAAAACnuKPgpDrSPgm3GVN0rh4/q0h1ciHgCD9MEAHZTIj/PsPFh4wUFAA/xtR9gddPAT8qQ6eiMZcCP03lqiaq3gk/3+sC1yMTIj+PM4zXczwsPw==\",\"dtype\":\"float64\",\"shape\":[11]},\"upper\":{\"__ndarray__\":\"AAAAAAAAAAAbCuvPovjWPs4Z1GWlPSA/TOtQ6xOVCz/uLXv+YjcCP/3IdAe9kwI/QO/RES7yAz+b19ATGUcFPzQFJmny6ww/iJMZze5QIz+P6nk+858tPw==\",\"dtype\":\"float64\",\"shape\":[11]}},\"selected\":null,\"selection_policy\":null},\"id\":\"1ed9477e-1a0b-43bf-98c1-fc5069e0e067\",\"type\":\"ColumnDataSource\"},{\"attributes\":{\"level\":\"underlay\",\"plot\":null,\"size\":10},\"id\":\"de9cc45d-f43e-48cb-a468-c0b5bb83327a\",\"type\":\"TeeHead\"},{\"attributes\":{\"plot\":null,\"text\":\"\"},\"id\":\"5310b2e2-8fe5-4bf8-bd35-34cfb9a781f3\",\"type\":\"Title\"},{\"attributes\":{\"callback\":null,\"column_names\":[\"x\",\"y\"],\"data\":{\"x\":{\"__ndarray__\":\"ldYm6AsuAT4NZzVfUJ83Ps/AAnckh20+grhhynZ0oj6jJvp8lBHXPkuwOJz51Qw/L26jAbwFQj+6SQwCK4d2Pylcj8L1KKw/mpmZmZmZ4T8AAAAAAAAWQA==\",\"dtype\":\"float64\",\"shape\":[11]},\"y\":{\"__ndarray__\":\"AAAAAAAAAABhYUfYo5nUPlL1YI/flB8/+xnjrpo6Cj8K2321xP0AP2BH/snoUwE/A+KnyQKhAj9jDTxbJe8DP0B16EdOZQs/tD8OUgmyIj8PDwOLM+4sPw==\",\"dtype\":\"float64\",\"shape\":[11]}},\"selected\":null,\"selection_policy\":null},\"id\":\"e82b39c2-529d-4a0e-bcc5-598b3f6f891c\",\"type\":\"ColumnDataSource\"},{\"attributes\":{\"label\":{\"value\":\"Tally 12\"},\"renderers\":[{\"id\":\"9b0348e4-ebb8-4772-997a-7554593fe9b7\",\"type\":\"GlyphRenderer\"}]},\"id\":\"677a53d2-3fec-42be-8f05-84fb41c55e10\",\"type\":\"LegendItem\"},{\"attributes\":{},\"id\":\"0879b750-1ca9-4676-b044-0ab5dddc051f\",\"type\":\"LinearScale\"},{\"attributes\":{\"below\":[{\"id\":\"7918bc69-bf97-46ac-8460-8450a94fd2c2\",\"type\":\"LogAxis\"}],\"left\":[{\"id\":\"8c2165de-a207-4d89-9fc6-7fc8c4b8b703\",\"type\":\"LinearAxis\"}],\"output_backend\":\"svg\",\"plot_height\":400,\"plot_width\":1200,\"renderers\":[{\"id\":\"7918bc69-bf97-46ac-8460-8450a94fd2c2\",\"type\":\"LogAxis\"},{\"id\":\"839df724-1797-4afb-bdb5-712d6e4a131f\",\"type\":\"Grid\"},{\"id\":\"8c2165de-a207-4d89-9fc6-7fc8c4b8b703\",\"type\":\"LinearAxis\"},{\"id\":\"40640121-58e4-4e02-83dc-9648fc6cc96b\",\"type\":\"Grid\"},{\"id\":\"9f47e0ed-22c3-40ff-98cf-e28b3f057723\",\"type\":\"BoxAnnotation\"},{\"id\":\"d586007d-edaf-4dd3-abf3-20f75fa2471c\",\"type\":\"Whisker\"},{\"id\":\"4d743205-2ce4-4f17-98ac-2f5d1d426ec8\",\"type\":\"Legend\"},{\"id\":\"9b0348e4-ebb8-4772-997a-7554593fe9b7\",\"type\":\"GlyphRenderer\"},{\"id\":\"5e3c767c-97bd-4dea-ad56-5264f4a37765\",\"type\":\"Whisker\"},{\"id\":\"38e5bc31-0b6e-449c-a99c-014f3a790c38\",\"type\":\"GlyphRenderer\"}],\"title\":{\"id\":\"5310b2e2-8fe5-4bf8-bd35-34cfb9a781f3\",\"type\":\"Title\"},\"toolbar\":{\"id\":\"2e6f3505-9baa-4e60-bd97-0647470f5232\",\"type\":\"Toolbar\"},\"x_range\":{\"id\":\"1e14412a-69ab-4803-b779-27f28f2b59ca\",\"type\":\"DataRange1d\"},\"x_scale\":{\"id\":\"74496f76-b52a-4889-80c7-bb4d9fa86249\",\"type\":\"LogScale\"},\"y_range\":{\"id\":\"0fd5dbcc-57ce-4b2a-90e7-08053e25fa74\",\"type\":\"DataRange1d\"},\"y_scale\":{\"id\":\"0879b750-1ca9-4676-b044-0ab5dddc051f\",\"type\":\"LinearScale\"}},\"id\":\"9fa53ccc-409c-493d-b6e7-cf6b6ed0b452\",\"subtype\":\"Figure\",\"type\":\"Plot\"},{\"attributes\":{\"plot\":{\"id\":\"9fa53ccc-409c-493d-b6e7-cf6b6ed0b452\",\"subtype\":\"Figure\",\"type\":\"Plot\"},\"ticker\":{\"id\":\"ab33d8f3-b662-444a-a254-acb10d1c0b98\",\"type\":\"LogTicker\"}},\"id\":\"839df724-1797-4afb-bdb5-712d6e4a131f\",\"type\":\"Grid\"}],\"root_ids\":[\"9fa53ccc-409c-493d-b6e7-cf6b6ed0b452\"]},\"title\":\"Bokeh Application\",\"version\":\"0.12.15\"}};\n",
       "  var render_items = [{\"docid\":\"acfe2c84-f5fd-4b04-a13b-c85f8eaeaaff\",\"elementid\":\"f1262259-8c2e-4f29-ba45-7c3e3dfd89a1\",\"modelid\":\"9fa53ccc-409c-493d-b6e7-cf6b6ed0b452\"}];\n",
       "  root.Bokeh.embed.embed_items_notebook(docs_json, render_items);\n",
       "\n",
       "  }\n",
       "  if (root.Bokeh !== undefined) {\n",
       "    embed_document(root);\n",
       "  } else {\n",
       "    var attempts = 0;\n",
       "    var timer = setInterval(function(root) {\n",
       "      if (root.Bokeh !== undefined) {\n",
       "        embed_document(root);\n",
       "        clearInterval(timer);\n",
       "      }\n",
       "      attempts++;\n",
       "      if (attempts > 100) {\n",
       "        console.log(\"Bokeh: ERROR: Unable to run BokehJS code because BokehJS library is missing\")\n",
       "        clearInterval(timer);\n",
       "      }\n",
       "    }, 10, root)\n",
       "  }\n",
       "})(window);"
      ],
      "application/vnd.bokehjs_exec.v0+json": ""
     },
     "metadata": {
      "application/vnd.bokehjs_exec.v0+json": {
       "id": "9fa53ccc-409c-493d-b6e7-cf6b6ed0b452"
      }
     },
     "output_type": "display_data"
    },
    {
     "name": "stderr",
     "output_type": "stream",
     "text": [
      "/home/angus/.local/share/virtualenvs/mcnp_project-EYhqo_wP/lib/python3.6/site-packages/selenium/webdriver/phantomjs/webdriver.py:49: UserWarning: Selenium support for PhantomJS has been deprecated, please use headless versions of Chrome or Firefox instead\n",
      "  warnings.warn('Selenium support for PhantomJS has been deprecated, please use headless '\n",
      "WARNING:bokeh.io.export:The webdriver raised a TimeoutException while waiting for                      a 'bokeh:idle' event to signify that the layout has rendered.                      Something may have gone wrong.\n"
     ]
    },
    {
     "name": "stdout",
     "output_type": "stream",
     "text": [
      "ln: failed to create symbolic link '/home/angus/snap/inkscape/4019/.config/gtk-2.0/gtkfilechooser.ini': File exists\n",
      "Gtk-Message: Failed to load module \"gail\"\n",
      "Gtk-Message: Failed to load module \"atk-bridge\"\n",
      "Gtk-Message: Failed to load module \"canberra-gtk-module\"\n",
      "\n",
      "(inkscape:12595): libgnomevfs-WARNING **: Unable to create ~/.gnome2 directory: Permission denied\n",
      "\n",
      "** (inkscape:12595): WARNING **: SPIStyle::readIfUnset(): Invalid style property id: 8 value: 400px\n",
      "\n",
      "** (inkscape:12595): WARNING **: SPIStyle::readIfUnset(): Invalid style property id: 7 value: 1200px\n",
      "Background RRGGBBAA: ffffff00\n",
      "Area 0:0:1200:400 exported to 1200 x 400 pixels (96 dpi)\n",
      "Bitmap saved as: tallies_20k.png\n"
     ]
    },
    {
     "data": {
      "text/html": [
       "\n",
       "<div class=\"bk-root\">\n",
       "    <div class=\"bk-plotdiv\" id=\"46769a6e-74c6-4d82-8bdd-0f49efdd87d8\"></div>\n",
       "</div>"
      ]
     },
     "metadata": {},
     "output_type": "display_data"
    },
    {
     "data": {
      "application/javascript": [
       "(function(root) {\n",
       "  function embed_document(root) {\n",
       "    \n",
       "  var docs_json = {\"a24b7175-a0ea-4826-90f9-0f5e688f6f46\":{\"roots\":{\"references\":[{\"attributes\":{\"base\":{\"field\":\"base\",\"units\":\"data\"},\"lower\":{\"field\":\"lower\",\"units\":\"data\"},\"lower_head\":{\"id\":\"818a2e62-949f-450d-b418-bd6abc3bb288\",\"type\":\"TeeHead\"},\"plot\":{\"id\":\"f657d245-4170-4936-a9eb-bd50d707a845\",\"subtype\":\"Figure\",\"type\":\"Plot\"},\"source\":{\"id\":\"73cea24f-1fa7-4ba6-a41f-22ad7221ddea\",\"type\":\"ColumnDataSource\"},\"upper\":{\"field\":\"upper\",\"units\":\"data\"},\"upper_head\":{\"id\":\"1e18ffd8-8908-45d4-85c1-67563bd81038\",\"type\":\"TeeHead\"}},\"id\":\"d50a22e1-a838-4822-b030-76b23e1e8cf1\",\"type\":\"Whisker\"},{\"attributes\":{\"source\":{\"id\":\"42daa51b-8cac-4d3f-a2d3-3537d460acca\",\"type\":\"ColumnDataSource\"}},\"id\":\"56f82ef4-4817-48b3-8be2-ee4c8c78b227\",\"type\":\"CDSView\"},{\"attributes\":{\"label\":{\"value\":\"Tally 12\"},\"renderers\":[{\"id\":\"d341c687-2967-4959-8d9f-0d23e6abe1b1\",\"type\":\"GlyphRenderer\"}]},\"id\":\"59696251-a6d7-4d6c-bbb2-7809c2971264\",\"type\":\"LegendItem\"},{\"attributes\":{\"callback\":null},\"id\":\"c1d31bc9-52b5-49d2-8484-a50f1946961a\",\"type\":\"DataRange1d\"},{\"attributes\":{\"level\":\"underlay\",\"plot\":null,\"size\":10},\"id\":\"1e18ffd8-8908-45d4-85c1-67563bd81038\",\"type\":\"TeeHead\"},{\"attributes\":{\"line_color\":\"#5e4fa2\",\"x\":{\"field\":\"x\"},\"y\":{\"field\":\"y\"}},\"id\":\"69ad68e3-a64c-4712-bbed-be38b3843d4d\",\"type\":\"Line\"},{\"attributes\":{\"num_minor_ticks\":10},\"id\":\"a6f98916-d337-46d5-9ea8-a92ceb6ec6b2\",\"type\":\"LogTicker\"},{\"attributes\":{\"source\":{\"id\":\"76ea5c1c-6826-4960-b446-92346749c30c\",\"type\":\"ColumnDataSource\"}},\"id\":\"d040179e-8d0e-4941-b3ac-d00424888a39\",\"type\":\"CDSView\"},{\"attributes\":{\"line_color\":\"#3288bd\",\"x\":{\"field\":\"x\"},\"y\":{\"field\":\"y\"}},\"id\":\"c387e3b4-4c27-4c69-80c2-482a91374362\",\"type\":\"Line\"},{\"attributes\":{\"ticker\":null},\"id\":\"484f892c-2f82-4033-a009-ba70ee9b38fa\",\"type\":\"LogTickFormatter\"},{\"attributes\":{\"label\":{\"value\":\"Tally 22\"},\"renderers\":[{\"id\":\"acc1097d-02da-4c5e-9d20-c8a681a0e8f9\",\"type\":\"GlyphRenderer\"}]},\"id\":\"f28eab9b-c04b-46c8-ae3c-5d5a7ea7147e\",\"type\":\"LegendItem\"},{\"attributes\":{\"callback\":null,\"column_names\":[\"base\",\"lower\",\"upper\"],\"data\":{\"base\":{\"__ndarray__\":\"ldYm6AsuAT4NZzVfUJ83Ps/AAnckh20+grhhynZ0oj6jJvp8lBHXPkuwOJz51Qw/L26jAbwFQj+6SQwCK4d2Pylcj8L1KKw/mpmZmZmZ4T8AAAAAAAAWQA==\",\"dtype\":\"float64\",\"shape\":[11]},\"lower\":{\"__ndarray__\":\"AAAAAAAAAADVXrpn8TpeP35mP5a6cKk/4BjX3U2glD8ep9yIXCWKP/5m3fXpqYo/zKfB2Y61jD9E9UFcbNSOP6cf+5Zbc5U/kdVXa275rT+h2DiuqWm3Pw==\",\"dtype\":\"float64\",\"shape\":[11]},\"upper\":{\"__ndarray__\":\"AAAAAAAAAADn6wrGFQxjPwrWWj7Y7qo/Y/jSMOHelj8goDmIijWOP0wn+l6xzo4/SCn0oOyJkD+9rzgDm6SRP947GLwt+5c/KXmG1DgEsD/f78HgbpC4Pw==\",\"dtype\":\"float64\",\"shape\":[11]}},\"selected\":null,\"selection_policy\":null},\"id\":\"73cea24f-1fa7-4ba6-a41f-22ad7221ddea\",\"type\":\"ColumnDataSource\"},{\"attributes\":{},\"id\":\"5b060847-8dbd-4c24-b7ce-573daeaf5f34\",\"type\":\"CrosshairTool\"},{\"attributes\":{\"base\":{\"field\":\"base\",\"units\":\"data\"},\"lower\":{\"field\":\"lower\",\"units\":\"data\"},\"lower_head\":{\"id\":\"654086d7-0cea-4c83-86c3-c0a31956a8e9\",\"type\":\"TeeHead\"},\"plot\":{\"id\":\"f657d245-4170-4936-a9eb-bd50d707a845\",\"subtype\":\"Figure\",\"type\":\"Plot\"},\"source\":{\"id\":\"3297e9fd-f3f9-4582-80a2-ca9308e14af0\",\"type\":\"ColumnDataSource\"},\"upper\":{\"field\":\"upper\",\"units\":\"data\"},\"upper_head\":{\"id\":\"03a6f6d7-544d-486b-bae9-85532c0581df\",\"type\":\"TeeHead\"}},\"id\":\"c3e9e830-0d77-4321-8c17-5bcbecdc0c14\",\"type\":\"Whisker\"},{\"attributes\":{\"level\":\"underlay\",\"plot\":null,\"size\":10},\"id\":\"03a6f6d7-544d-486b-bae9-85532c0581df\",\"type\":\"TeeHead\"},{\"attributes\":{\"line_alpha\":0.1,\"line_color\":\"#1f77b4\",\"x\":{\"field\":\"x\"},\"y\":{\"field\":\"y\"}},\"id\":\"b9d741de-dac8-4fc4-b8ea-1bc7e123fc26\",\"type\":\"Line\"},{\"attributes\":{\"callback\":null,\"column_names\":[\"x\",\"y\"],\"data\":{\"x\":{\"__ndarray__\":\"ldYm6AsuAT4NZzVfUJ83Ps/AAnckh20+grhhynZ0oj6jJvp8lBHXPkuwOJz51Qw/L26jAbwFQj+6SQwCK4d2Pylcj8L1KKw/mpmZmZmZ4T8AAAAAAAAWQA==\",\"dtype\":\"float64\",\"shape\":[11]},\"y\":{\"__ndarray__\":\"AAAAAAAAAAC/ZtywqDRjP3/QghrCeqs/3VUBL8uzkT8uDkAZPSOHP3GFfBadDIs/J6yU14UTjj+EdYN/sk6SP3lo/jO3740/zdx4CjWSqj9js6rtoTq4Pw==\",\"dtype\":\"float64\",\"shape\":[11]}},\"selected\":null,\"selection_policy\":null},\"id\":\"76ea5c1c-6826-4960-b446-92346749c30c\",\"type\":\"ColumnDataSource\"},{\"attributes\":{\"data_source\":{\"id\":\"76ea5c1c-6826-4960-b446-92346749c30c\",\"type\":\"ColumnDataSource\"},\"glyph\":{\"id\":\"c387e3b4-4c27-4c69-80c2-482a91374362\",\"type\":\"Line\"},\"hover_glyph\":null,\"muted_glyph\":null,\"nonselection_glyph\":{\"id\":\"a841d1a1-de15-4a0a-bc4e-dd0b495c7e11\",\"type\":\"Line\"},\"selection_glyph\":null,\"view\":{\"id\":\"d040179e-8d0e-4941-b3ac-d00424888a39\",\"type\":\"CDSView\"}},\"id\":\"acc1097d-02da-4c5e-9d20-c8a681a0e8f9\",\"type\":\"GlyphRenderer\"},{\"attributes\":{\"axis_label\":\"Flux (1/cm^2)\",\"formatter\":{\"id\":\"54116474-33a0-4105-9e2a-4212df62eee1\",\"type\":\"BasicTickFormatter\"},\"plot\":{\"id\":\"f657d245-4170-4936-a9eb-bd50d707a845\",\"subtype\":\"Figure\",\"type\":\"Plot\"},\"ticker\":{\"id\":\"85d211d5-6f99-458a-a803-ccbfeea4dffe\",\"type\":\"BasicTicker\"}},\"id\":\"f88c98ca-92bd-4662-a393-e9f2e1dde0ac\",\"type\":\"LinearAxis\"},{\"attributes\":{\"line_alpha\":0.1,\"line_color\":\"#1f77b4\",\"x\":{\"field\":\"x\"},\"y\":{\"field\":\"y\"}},\"id\":\"a841d1a1-de15-4a0a-bc4e-dd0b495c7e11\",\"type\":\"Line\"},{\"attributes\":{\"overlay\":{\"id\":\"85acd9e4-cc09-489b-8d89-6939e07bc167\",\"type\":\"BoxAnnotation\"}},\"id\":\"73394c35-6b1c-4782-b1c8-29ea1e13de10\",\"type\":\"BoxZoomTool\"},{\"attributes\":{\"items\":[{\"id\":\"59696251-a6d7-4d6c-bbb2-7809c2971264\",\"type\":\"LegendItem\"},{\"id\":\"f28eab9b-c04b-46c8-ae3c-5d5a7ea7147e\",\"type\":\"LegendItem\"}],\"plot\":{\"id\":\"f657d245-4170-4936-a9eb-bd50d707a845\",\"subtype\":\"Figure\",\"type\":\"Plot\"}},\"id\":\"cd80e044-4b87-4ef0-9a5c-c70131182b79\",\"type\":\"Legend\"},{\"attributes\":{\"dimension\":1,\"plot\":{\"id\":\"f657d245-4170-4936-a9eb-bd50d707a845\",\"subtype\":\"Figure\",\"type\":\"Plot\"},\"ticker\":{\"id\":\"85d211d5-6f99-458a-a803-ccbfeea4dffe\",\"type\":\"BasicTicker\"}},\"id\":\"0b95e417-bae1-41e7-8a17-8ab3fd211d32\",\"type\":\"Grid\"},{\"attributes\":{\"callback\":null},\"id\":\"de55fb09-eadb-43a4-81b7-06455d1b7380\",\"type\":\"DataRange1d\"},{\"attributes\":{\"plot\":{\"id\":\"f657d245-4170-4936-a9eb-bd50d707a845\",\"subtype\":\"Figure\",\"type\":\"Plot\"},\"ticker\":{\"id\":\"a6f98916-d337-46d5-9ea8-a92ceb6ec6b2\",\"type\":\"LogTicker\"}},\"id\":\"5c77e51b-e112-4cce-a17f-1b793b7d7888\",\"type\":\"Grid\"},{\"attributes\":{\"active_drag\":\"auto\",\"active_inspect\":\"auto\",\"active_scroll\":\"auto\",\"active_tap\":\"auto\",\"tools\":[{\"id\":\"5b060847-8dbd-4c24-b7ce-573daeaf5f34\",\"type\":\"CrosshairTool\"},{\"id\":\"1ecf1892-8c72-4bb8-aeed-2eed464140ac\",\"type\":\"PanTool\"},{\"id\":\"31e73750-90e2-4cdb-94f2-aedda22859b7\",\"type\":\"WheelZoomTool\"},{\"id\":\"73394c35-6b1c-4782-b1c8-29ea1e13de10\",\"type\":\"BoxZoomTool\"},{\"id\":\"34c47713-803a-4b39-9eeb-73ff3fe7178b\",\"type\":\"ResetTool\"},{\"id\":\"f17d2d5e-aeb4-455b-a8ad-5e2cc4ceb33b\",\"type\":\"HoverTool\"}]},\"id\":\"5efde1f7-dfa4-4e44-867c-04b7cafc0fdd\",\"type\":\"Toolbar\"},{\"attributes\":{},\"id\":\"34c47713-803a-4b39-9eeb-73ff3fe7178b\",\"type\":\"ResetTool\"},{\"attributes\":{\"axis_label\":\"Energy /MeV\",\"formatter\":{\"id\":\"484f892c-2f82-4033-a009-ba70ee9b38fa\",\"type\":\"LogTickFormatter\"},\"plot\":{\"id\":\"f657d245-4170-4936-a9eb-bd50d707a845\",\"subtype\":\"Figure\",\"type\":\"Plot\"},\"ticker\":{\"id\":\"a6f98916-d337-46d5-9ea8-a92ceb6ec6b2\",\"type\":\"LogTicker\"}},\"id\":\"dcc2af9d-d2a1-4eea-934b-e8be9a7bd7d9\",\"type\":\"LogAxis\"},{\"attributes\":{\"plot\":null,\"text\":\"\"},\"id\":\"f1a867bf-6725-449b-82b9-ea4a1e399961\",\"type\":\"Title\"},{\"attributes\":{\"level\":\"underlay\",\"plot\":null,\"size\":10},\"id\":\"818a2e62-949f-450d-b418-bd6abc3bb288\",\"type\":\"TeeHead\"},{\"attributes\":{\"callback\":null,\"column_names\":[\"x\",\"y\"],\"data\":{\"x\":{\"__ndarray__\":\"ldYm6AsuAT4NZzVfUJ83Ps/AAnckh20+grhhynZ0oj6jJvp8lBHXPkuwOJz51Qw/L26jAbwFQj+6SQwCK4d2Pylcj8L1KKw/mpmZmZmZ4T8AAAAAAAAWQA==\",\"dtype\":\"float64\",\"shape\":[11]},\"y\":{\"__ndarray__\":\"AAAAAAAAAACpDfQ8xxRhP0QeTWrJL6o/oQhVh5e/lT+fI4uIcy2MPyXHa6pNvIw/Lv3UDbTkjj8w1ayYaIeQP8KtialEt5Y/8mMyCvAArz9AZH1HDP23Pw==\",\"dtype\":\"float64\",\"shape\":[11]}},\"selected\":null,\"selection_policy\":null},\"id\":\"42daa51b-8cac-4d3f-a2d3-3537d460acca\",\"type\":\"ColumnDataSource\"},{\"attributes\":{},\"id\":\"31e73750-90e2-4cdb-94f2-aedda22859b7\",\"type\":\"WheelZoomTool\"},{\"attributes\":{\"below\":[{\"id\":\"dcc2af9d-d2a1-4eea-934b-e8be9a7bd7d9\",\"type\":\"LogAxis\"}],\"left\":[{\"id\":\"f88c98ca-92bd-4662-a393-e9f2e1dde0ac\",\"type\":\"LinearAxis\"}],\"output_backend\":\"svg\",\"plot_height\":400,\"plot_width\":1200,\"renderers\":[{\"id\":\"dcc2af9d-d2a1-4eea-934b-e8be9a7bd7d9\",\"type\":\"LogAxis\"},{\"id\":\"5c77e51b-e112-4cce-a17f-1b793b7d7888\",\"type\":\"Grid\"},{\"id\":\"f88c98ca-92bd-4662-a393-e9f2e1dde0ac\",\"type\":\"LinearAxis\"},{\"id\":\"0b95e417-bae1-41e7-8a17-8ab3fd211d32\",\"type\":\"Grid\"},{\"id\":\"85acd9e4-cc09-489b-8d89-6939e07bc167\",\"type\":\"BoxAnnotation\"},{\"id\":\"d50a22e1-a838-4822-b030-76b23e1e8cf1\",\"type\":\"Whisker\"},{\"id\":\"cd80e044-4b87-4ef0-9a5c-c70131182b79\",\"type\":\"Legend\"},{\"id\":\"d341c687-2967-4959-8d9f-0d23e6abe1b1\",\"type\":\"GlyphRenderer\"},{\"id\":\"c3e9e830-0d77-4321-8c17-5bcbecdc0c14\",\"type\":\"Whisker\"},{\"id\":\"acc1097d-02da-4c5e-9d20-c8a681a0e8f9\",\"type\":\"GlyphRenderer\"}],\"title\":{\"id\":\"f1a867bf-6725-449b-82b9-ea4a1e399961\",\"type\":\"Title\"},\"toolbar\":{\"id\":\"5efde1f7-dfa4-4e44-867c-04b7cafc0fdd\",\"type\":\"Toolbar\"},\"x_range\":{\"id\":\"de55fb09-eadb-43a4-81b7-06455d1b7380\",\"type\":\"DataRange1d\"},\"x_scale\":{\"id\":\"9e052796-27df-462c-85b5-be5bf0d38c06\",\"type\":\"LogScale\"},\"y_range\":{\"id\":\"c1d31bc9-52b5-49d2-8484-a50f1946961a\",\"type\":\"DataRange1d\"},\"y_scale\":{\"id\":\"72102c3c-797b-46de-9eb6-cd79920b720c\",\"type\":\"LinearScale\"}},\"id\":\"f657d245-4170-4936-a9eb-bd50d707a845\",\"subtype\":\"Figure\",\"type\":\"Plot\"},{\"attributes\":{\"data_source\":{\"id\":\"42daa51b-8cac-4d3f-a2d3-3537d460acca\",\"type\":\"ColumnDataSource\"},\"glyph\":{\"id\":\"69ad68e3-a64c-4712-bbed-be38b3843d4d\",\"type\":\"Line\"},\"hover_glyph\":null,\"muted_glyph\":null,\"nonselection_glyph\":{\"id\":\"b9d741de-dac8-4fc4-b8ea-1bc7e123fc26\",\"type\":\"Line\"},\"selection_glyph\":null,\"view\":{\"id\":\"56f82ef4-4817-48b3-8be2-ee4c8c78b227\",\"type\":\"CDSView\"}},\"id\":\"d341c687-2967-4959-8d9f-0d23e6abe1b1\",\"type\":\"GlyphRenderer\"},{\"attributes\":{},\"id\":\"72102c3c-797b-46de-9eb6-cd79920b720c\",\"type\":\"LinearScale\"},{\"attributes\":{},\"id\":\"9e052796-27df-462c-85b5-be5bf0d38c06\",\"type\":\"LogScale\"},{\"attributes\":{\"callback\":null,\"column_names\":[\"base\",\"lower\",\"upper\"],\"data\":{\"base\":{\"__ndarray__\":\"ldYm6AsuAT4NZzVfUJ83Ps/AAnckh20+grhhynZ0oj6jJvp8lBHXPkuwOJz51Qw/L26jAbwFQj+6SQwCK4d2Pylcj8L1KKw/mpmZmZmZ4T8AAAAAAAAWQA==\",\"dtype\":\"float64\",\"shape\":[11]},\"lower\":{\"__ndarray__\":\"AAAAAAAAAAA9GPWLBQhdP66+OBzWpKk/pjtn6WZnjz+aZWnMX2uDP2YYRR3Y+4Y/4I4oYy7EiT+X8BxZC+yMP4kYxTLjfIk/iM7Ufrb9pz8AAXe2AeO2Pw==\",\"dtype\":\"float64\",\"shape\":[11]},\"upper\":{\"__ndarray__\":\"AAAAAAAAAABfQb6bTuVnP1DizBiuUK0/5w1P6eKzkz/CthZmGtuKP3zysw9iHY8/t2QApm4xkT+8cnhSXyeWPzTcm5pFMZE/EusclrMmrT/FZd4kQpK5Pw==\",\"dtype\":\"float64\",\"shape\":[11]}},\"selected\":null,\"selection_policy\":null},\"id\":\"3297e9fd-f3f9-4582-80a2-ca9308e14af0\",\"type\":\"ColumnDataSource\"},{\"attributes\":{},\"id\":\"1ecf1892-8c72-4bb8-aeed-2eed464140ac\",\"type\":\"PanTool\"},{\"attributes\":{\"bottom_units\":\"screen\",\"fill_alpha\":{\"value\":0.5},\"fill_color\":{\"value\":\"lightgrey\"},\"left_units\":\"screen\",\"level\":\"overlay\",\"line_alpha\":{\"value\":1.0},\"line_color\":{\"value\":\"black\"},\"line_dash\":[4,4],\"line_width\":{\"value\":2},\"plot\":null,\"render_mode\":\"css\",\"right_units\":\"screen\",\"top_units\":\"screen\"},\"id\":\"85acd9e4-cc09-489b-8d89-6939e07bc167\",\"type\":\"BoxAnnotation\"},{\"attributes\":{\"level\":\"underlay\",\"plot\":null,\"size\":10},\"id\":\"654086d7-0cea-4c83-86c3-c0a31956a8e9\",\"type\":\"TeeHead\"},{\"attributes\":{},\"id\":\"85d211d5-6f99-458a-a803-ccbfeea4dffe\",\"type\":\"BasicTicker\"},{\"attributes\":{},\"id\":\"54116474-33a0-4105-9e2a-4212df62eee1\",\"type\":\"BasicTickFormatter\"},{\"attributes\":{\"callback\":null},\"id\":\"f17d2d5e-aeb4-455b-a8ad-5e2cc4ceb33b\",\"type\":\"HoverTool\"}],\"root_ids\":[\"f657d245-4170-4936-a9eb-bd50d707a845\"]},\"title\":\"Bokeh Application\",\"version\":\"0.12.15\"}};\n",
       "  var render_items = [{\"docid\":\"a24b7175-a0ea-4826-90f9-0f5e688f6f46\",\"elementid\":\"46769a6e-74c6-4d82-8bdd-0f49efdd87d8\",\"modelid\":\"f657d245-4170-4936-a9eb-bd50d707a845\"}];\n",
       "  root.Bokeh.embed.embed_items_notebook(docs_json, render_items);\n",
       "\n",
       "  }\n",
       "  if (root.Bokeh !== undefined) {\n",
       "    embed_document(root);\n",
       "  } else {\n",
       "    var attempts = 0;\n",
       "    var timer = setInterval(function(root) {\n",
       "      if (root.Bokeh !== undefined) {\n",
       "        embed_document(root);\n",
       "        clearInterval(timer);\n",
       "      }\n",
       "      attempts++;\n",
       "      if (attempts > 100) {\n",
       "        console.log(\"Bokeh: ERROR: Unable to run BokehJS code because BokehJS library is missing\")\n",
       "        clearInterval(timer);\n",
       "      }\n",
       "    }, 10, root)\n",
       "  }\n",
       "})(window);"
      ],
      "application/vnd.bokehjs_exec.v0+json": ""
     },
     "metadata": {
      "application/vnd.bokehjs_exec.v0+json": {
       "id": "f657d245-4170-4936-a9eb-bd50d707a845"
      }
     },
     "output_type": "display_data"
    },
    {
     "name": "stderr",
     "output_type": "stream",
     "text": [
      "WARNING:bokeh.io.export:The webdriver raised a TimeoutException while waiting for                      a 'bokeh:idle' event to signify that the layout has rendered.                      Something may have gone wrong.\n"
     ]
    },
    {
     "name": "stdout",
     "output_type": "stream",
     "text": [
      "ln: failed to create symbolic link '/home/angus/snap/inkscape/4019/.config/gtk-2.0/gtkfilechooser.ini': File exists\n",
      "Gtk-Message: Failed to load module \"gail\"\n",
      "Gtk-Message: Failed to load module \"atk-bridge\"\n",
      "Gtk-Message: Failed to load module \"canberra-gtk-module\"\n",
      "\n",
      "(inkscape:12725): libgnomevfs-WARNING **: Unable to create ~/.gnome2 directory: Permission denied\n",
      "\n",
      "** (inkscape:12725): WARNING **: SPIStyle::readIfUnset(): Invalid style property id: 8 value: 400px\n",
      "\n",
      "** (inkscape:12725): WARNING **: SPIStyle::readIfUnset(): Invalid style property id: 7 value: 1200px\n",
      "Background RRGGBBAA: ffffff00\n",
      "Area 0:0:1200:400 exported to 1200 x 400 pixels (96 dpi)\n",
      "Bitmap saved as: tallies_20k_norm.png\n"
     ]
    }
   ],
   "source": [
    "plot_tallies(pathlib.Path(\"tallies_20k.png\"), mctal_1_a)\n",
    "plot_tallies(pathlib.Path(\"tallies_20k_norm.png\"), mctal_1_a, normalise=True)"
   ]
  },
  {
   "cell_type": "code",
   "execution_count": 79,
   "metadata": {},
   "outputs": [
    {
     "data": {
      "text/html": [
       "\n",
       "<div class=\"bk-root\">\n",
       "    <div class=\"bk-plotdiv\" id=\"5cd13af6-e262-4923-bd71-20ea9c1b63f1\"></div>\n",
       "</div>"
      ]
     },
     "metadata": {},
     "output_type": "display_data"
    },
    {
     "data": {
      "application/javascript": [
       "(function(root) {\n",
       "  function embed_document(root) {\n",
       "    \n",
       "  var docs_json = {\"b0cf2e18-3faa-4f29-8e04-20ab84415df7\":{\"roots\":{\"references\":[{\"attributes\":{},\"id\":\"dbbc09da-6b83-41e2-a2b9-2af0f24f3cab\",\"type\":\"BasicTicker\"},{\"attributes\":{\"callback\":null,\"column_names\":[\"x\",\"y\"],\"data\":{\"x\":{\"__ndarray__\":\"ldYm6AsuAT4NZzVfUJ83Ps/AAnckh20+grhhynZ0oj6jJvp8lBHXPkuwOJz51Qw/L26jAbwFQj+6SQwCK4d2Pylcj8L1KKw/mpmZmZmZ4T8AAAAAAAAWQA==\",\"dtype\":\"float64\",\"shape\":[11]},\"y\":{\"__ndarray__\":\"RF5vCUECXz6cjJvze3bTPgDFcpKArR8/DJI2hXn+CT8Y16jh/MEAP7DFtXThFAE/f/PbwVNCAz/LFLsKJasEP71LtnXIsQs/Air2eYc5Iz8Xo8dSmLUsPw==\",\"dtype\":\"float64\",\"shape\":[11]}},\"selected\":null,\"selection_policy\":null},\"id\":\"3367bb4e-40de-4ac7-be3b-d758823dfadf\",\"type\":\"ColumnDataSource\"},{\"attributes\":{},\"id\":\"8ba66b4f-b18a-4f23-9056-820c50c9451e\",\"type\":\"PanTool\"},{\"attributes\":{\"num_minor_ticks\":10},\"id\":\"24ff3041-0dea-4ce9-b21f-521f1ef61af9\",\"type\":\"LogTicker\"},{\"attributes\":{\"line_alpha\":0.1,\"line_color\":\"#1f77b4\",\"x\":{\"field\":\"x\"},\"y\":{\"field\":\"y\"}},\"id\":\"c8b03d24-bc04-49ce-a3d1-2dc5997e6d8f\",\"type\":\"Line\"},{\"attributes\":{\"bottom_units\":\"screen\",\"fill_alpha\":{\"value\":0.5},\"fill_color\":{\"value\":\"lightgrey\"},\"left_units\":\"screen\",\"level\":\"overlay\",\"line_alpha\":{\"value\":1.0},\"line_color\":{\"value\":\"black\"},\"line_dash\":[4,4],\"line_width\":{\"value\":2},\"plot\":null,\"render_mode\":\"css\",\"right_units\":\"screen\",\"top_units\":\"screen\"},\"id\":\"f2f875a3-2025-46a3-b0e8-3e1068dde711\",\"type\":\"BoxAnnotation\"},{\"attributes\":{},\"id\":\"c2f21f3f-2fc5-4941-b660-90d84eb00297\",\"type\":\"CrosshairTool\"},{\"attributes\":{\"plot\":null,\"text\":\"\"},\"id\":\"04b95abb-6dcc-45d3-a070-ec267631a75e\",\"type\":\"Title\"},{\"attributes\":{\"active_drag\":\"auto\",\"active_inspect\":\"auto\",\"active_scroll\":\"auto\",\"active_tap\":\"auto\",\"tools\":[{\"id\":\"c2f21f3f-2fc5-4941-b660-90d84eb00297\",\"type\":\"CrosshairTool\"},{\"id\":\"8ba66b4f-b18a-4f23-9056-820c50c9451e\",\"type\":\"PanTool\"},{\"id\":\"907effc8-b3ff-4354-b53c-f03c1f0f4f9c\",\"type\":\"WheelZoomTool\"},{\"id\":\"d2ae105e-3a9c-424c-8116-b3fce2fc6feb\",\"type\":\"BoxZoomTool\"},{\"id\":\"ed866900-4345-4e82-a9b3-6871bee1a5d0\",\"type\":\"ResetTool\"},{\"id\":\"d540479e-d61c-4f11-8716-44e8d5ce3372\",\"type\":\"HoverTool\"}]},\"id\":\"acac6a22-473c-4e4a-8787-726e7de86bee\",\"type\":\"Toolbar\"},{\"attributes\":{\"dimension\":1,\"plot\":{\"id\":\"1c439511-dab3-460f-93f4-a9f6f65457ff\",\"subtype\":\"Figure\",\"type\":\"Plot\"},\"ticker\":{\"id\":\"dbbc09da-6b83-41e2-a2b9-2af0f24f3cab\",\"type\":\"BasicTicker\"}},\"id\":\"66c5451c-38d6-4b90-aea9-5d1b6145d2f5\",\"type\":\"Grid\"},{\"attributes\":{\"data_source\":{\"id\":\"3367bb4e-40de-4ac7-be3b-d758823dfadf\",\"type\":\"ColumnDataSource\"},\"glyph\":{\"id\":\"93ce5dee-f11f-45c9-8987-4da85a63fac2\",\"type\":\"Line\"},\"hover_glyph\":null,\"muted_glyph\":null,\"nonselection_glyph\":{\"id\":\"e3c81a2e-ec7f-4f23-9641-ef5bf3098e0e\",\"type\":\"Line\"},\"selection_glyph\":null,\"view\":{\"id\":\"84d7cc7a-338f-4af6-9998-7f5a80848dda\",\"type\":\"CDSView\"}},\"id\":\"c3a84019-ff7b-47c9-8796-34e140cb67ee\",\"type\":\"GlyphRenderer\"},{\"attributes\":{\"data_source\":{\"id\":\"ebc030eb-4268-4474-ad3c-7af8d0837431\",\"type\":\"ColumnDataSource\"},\"glyph\":{\"id\":\"17619ffc-cd13-4153-af69-478248ecdb80\",\"type\":\"Line\"},\"hover_glyph\":null,\"muted_glyph\":null,\"nonselection_glyph\":{\"id\":\"c8b03d24-bc04-49ce-a3d1-2dc5997e6d8f\",\"type\":\"Line\"},\"selection_glyph\":null,\"view\":{\"id\":\"94ac805d-bfe7-47d4-a374-91a5c4c1a143\",\"type\":\"CDSView\"}},\"id\":\"a3c85bde-2af8-4afb-826a-1db96891a1d3\",\"type\":\"GlyphRenderer\"},{\"attributes\":{\"level\":\"underlay\",\"plot\":null,\"size\":10},\"id\":\"7d08a08b-9803-468e-a65d-2e89aa0f1178\",\"type\":\"TeeHead\"},{\"attributes\":{\"level\":\"underlay\",\"plot\":null,\"size\":10},\"id\":\"f8cd59a8-7494-4249-810e-32785ba81601\",\"type\":\"TeeHead\"},{\"attributes\":{},\"id\":\"907effc8-b3ff-4354-b53c-f03c1f0f4f9c\",\"type\":\"WheelZoomTool\"},{\"attributes\":{\"overlay\":{\"id\":\"f2f875a3-2025-46a3-b0e8-3e1068dde711\",\"type\":\"BoxAnnotation\"}},\"id\":\"d2ae105e-3a9c-424c-8116-b3fce2fc6feb\",\"type\":\"BoxZoomTool\"},{\"attributes\":{\"ticker\":null},\"id\":\"e75471a8-2f89-4f7f-986d-f002821baf75\",\"type\":\"LogTickFormatter\"},{\"attributes\":{\"axis_label\":\"Energy /MeV\",\"formatter\":{\"id\":\"e75471a8-2f89-4f7f-986d-f002821baf75\",\"type\":\"LogTickFormatter\"},\"plot\":{\"id\":\"1c439511-dab3-460f-93f4-a9f6f65457ff\",\"subtype\":\"Figure\",\"type\":\"Plot\"},\"ticker\":{\"id\":\"24ff3041-0dea-4ce9-b21f-521f1ef61af9\",\"type\":\"LogTicker\"}},\"id\":\"c7807476-393a-4a20-836b-f5d8962362e6\",\"type\":\"LogAxis\"},{\"attributes\":{},\"id\":\"fd7e7ae7-ab87-4a88-ab17-3a7fce9e3222\",\"type\":\"BasicTickFormatter\"},{\"attributes\":{\"callback\":null},\"id\":\"d540479e-d61c-4f11-8716-44e8d5ce3372\",\"type\":\"HoverTool\"},{\"attributes\":{\"callback\":null,\"column_names\":[\"base\",\"lower\",\"upper\"],\"data\":{\"base\":{\"__ndarray__\":\"ldYm6AsuAT4NZzVfUJ83Ps/AAnckh20+grhhynZ0oj6jJvp8lBHXPkuwOJz51Qw/L26jAbwFQj+6SQwCK4d2Pylcj8L1KKw/mpmZmZmZ4T8AAAAAAAAWQA==\",\"dtype\":\"float64\",\"shape\":[11]},\"lower\":{\"__ndarray__\":\"GH+SY1a0UD6mmRhIOKXSPpvr96y0Yx8/AlKzX1eRCT/M13Ejml0AP7EBb1A+rQA/5NZcltjWAj9y+OkI6jkEPxw/Ur0qMgs/QJOlZVgGIz+rY3Nm8X8sPw==\",\"dtype\":\"float64\",\"shape\":[11]},\"upper\":{\"__ndarray__\":\"uB6m1xWoZj6Sfx6fv0fUPmae7XdM9x8/FtK5qptrCj9l1t+fXyYBP6+J/JiEfAE/GhBb7c6tAz8lMYwMYBwFP15YGi5mMQw/xMBGjrZsIz+E4hs/P+ssPw==\",\"dtype\":\"float64\",\"shape\":[11]}},\"selected\":null,\"selection_policy\":null},\"id\":\"61ae2cb4-47e3-4123-ae14-c7834a32a78d\",\"type\":\"ColumnDataSource\"},{\"attributes\":{\"below\":[{\"id\":\"c7807476-393a-4a20-836b-f5d8962362e6\",\"type\":\"LogAxis\"}],\"left\":[{\"id\":\"667410a2-a19a-415a-808f-bf311b543623\",\"type\":\"LinearAxis\"}],\"output_backend\":\"svg\",\"plot_height\":400,\"plot_width\":1200,\"renderers\":[{\"id\":\"c7807476-393a-4a20-836b-f5d8962362e6\",\"type\":\"LogAxis\"},{\"id\":\"64793b59-49b1-4719-8d59-c9fb5abc0b84\",\"type\":\"Grid\"},{\"id\":\"667410a2-a19a-415a-808f-bf311b543623\",\"type\":\"LinearAxis\"},{\"id\":\"66c5451c-38d6-4b90-aea9-5d1b6145d2f5\",\"type\":\"Grid\"},{\"id\":\"f2f875a3-2025-46a3-b0e8-3e1068dde711\",\"type\":\"BoxAnnotation\"},{\"id\":\"0cc9804f-1ea5-45c7-a5ba-ac5f0ecc5701\",\"type\":\"Whisker\"},{\"id\":\"55ed9971-ba88-4603-88ae-878c1a9dda4e\",\"type\":\"Legend\"},{\"id\":\"c3a84019-ff7b-47c9-8796-34e140cb67ee\",\"type\":\"GlyphRenderer\"},{\"id\":\"456a8db0-4711-4475-b2a8-5f96552f303b\",\"type\":\"Whisker\"},{\"id\":\"a3c85bde-2af8-4afb-826a-1db96891a1d3\",\"type\":\"GlyphRenderer\"}],\"title\":{\"id\":\"04b95abb-6dcc-45d3-a070-ec267631a75e\",\"type\":\"Title\"},\"toolbar\":{\"id\":\"acac6a22-473c-4e4a-8787-726e7de86bee\",\"type\":\"Toolbar\"},\"x_range\":{\"id\":\"043362b0-9fe4-4f11-aecd-610b420cc027\",\"type\":\"DataRange1d\"},\"x_scale\":{\"id\":\"eacf360b-4e77-42b1-a36e-015ca4f3640c\",\"type\":\"LogScale\"},\"y_range\":{\"id\":\"e0a3b3cd-693a-4939-9f08-46b1d7427094\",\"type\":\"DataRange1d\"},\"y_scale\":{\"id\":\"f1b91ca9-374e-45c5-84f3-b0d259d63218\",\"type\":\"LinearScale\"}},\"id\":\"1c439511-dab3-460f-93f4-a9f6f65457ff\",\"subtype\":\"Figure\",\"type\":\"Plot\"},{\"attributes\":{\"callback\":null},\"id\":\"043362b0-9fe4-4f11-aecd-610b420cc027\",\"type\":\"DataRange1d\"},{\"attributes\":{},\"id\":\"ed866900-4345-4e82-a9b3-6871bee1a5d0\",\"type\":\"ResetTool\"},{\"attributes\":{\"line_color\":\"#3288bd\",\"x\":{\"field\":\"x\"},\"y\":{\"field\":\"y\"}},\"id\":\"17619ffc-cd13-4153-af69-478248ecdb80\",\"type\":\"Line\"},{\"attributes\":{\"level\":\"underlay\",\"plot\":null,\"size\":10},\"id\":\"28cc24a1-6923-4165-bfe1-4ca3db84d6af\",\"type\":\"TeeHead\"},{\"attributes\":{\"line_color\":\"#5e4fa2\",\"x\":{\"field\":\"x\"},\"y\":{\"field\":\"y\"}},\"id\":\"93ce5dee-f11f-45c9-8987-4da85a63fac2\",\"type\":\"Line\"},{\"attributes\":{\"callback\":null},\"id\":\"e0a3b3cd-693a-4939-9f08-46b1d7427094\",\"type\":\"DataRange1d\"},{\"attributes\":{\"source\":{\"id\":\"3367bb4e-40de-4ac7-be3b-d758823dfadf\",\"type\":\"ColumnDataSource\"}},\"id\":\"84d7cc7a-338f-4af6-9998-7f5a80848dda\",\"type\":\"CDSView\"},{\"attributes\":{\"axis_label\":\"Flux (1/cm^2)\",\"formatter\":{\"id\":\"fd7e7ae7-ab87-4a88-ab17-3a7fce9e3222\",\"type\":\"BasicTickFormatter\"},\"plot\":{\"id\":\"1c439511-dab3-460f-93f4-a9f6f65457ff\",\"subtype\":\"Figure\",\"type\":\"Plot\"},\"ticker\":{\"id\":\"dbbc09da-6b83-41e2-a2b9-2af0f24f3cab\",\"type\":\"BasicTicker\"}},\"id\":\"667410a2-a19a-415a-808f-bf311b543623\",\"type\":\"LinearAxis\"},{\"attributes\":{\"label\":{\"value\":\"Tally 12\"},\"renderers\":[{\"id\":\"c3a84019-ff7b-47c9-8796-34e140cb67ee\",\"type\":\"GlyphRenderer\"}]},\"id\":\"6ce62b85-cb46-42d2-a002-ff73a7e435fd\",\"type\":\"LegendItem\"},{\"attributes\":{\"callback\":null,\"column_names\":[\"x\",\"y\"],\"data\":{\"x\":{\"__ndarray__\":\"ldYm6AsuAT4NZzVfUJ83Ps/AAnckh20+grhhynZ0oj6jJvp8lBHXPkuwOJz51Qw/L26jAbwFQj+6SQwCK4d2Pylcj8L1KKw/mpmZmZmZ4T8AAAAAAAAWQA==\",\"dtype\":\"float64\",\"shape\":[11]},\"y\":{\"__ndarray__\":\"psFWC/zeWj6MpjyxOQG9PgZLoIGLJwg/WsANuytX8T4FAPtr6BTjPqmX9xRAn+Q+SsNd93414z7vOZJ9p7jnPsDtm1CHW+4+9E9nZFR9BT/gTBRtA4ESPw==\",\"dtype\":\"float64\",\"shape\":[11]}},\"selected\":null,\"selection_policy\":null},\"id\":\"ebc030eb-4268-4474-ad3c-7af8d0837431\",\"type\":\"ColumnDataSource\"},{\"attributes\":{},\"id\":\"f1b91ca9-374e-45c5-84f3-b0d259d63218\",\"type\":\"LinearScale\"},{\"attributes\":{\"items\":[{\"id\":\"6ce62b85-cb46-42d2-a002-ff73a7e435fd\",\"type\":\"LegendItem\"},{\"id\":\"235227ec-51e7-4856-aea2-bfbfae04c161\",\"type\":\"LegendItem\"}],\"plot\":{\"id\":\"1c439511-dab3-460f-93f4-a9f6f65457ff\",\"subtype\":\"Figure\",\"type\":\"Plot\"}},\"id\":\"55ed9971-ba88-4603-88ae-878c1a9dda4e\",\"type\":\"Legend\"},{\"attributes\":{},\"id\":\"eacf360b-4e77-42b1-a36e-015ca4f3640c\",\"type\":\"LogScale\"},{\"attributes\":{\"level\":\"underlay\",\"plot\":null,\"size\":10},\"id\":\"3446abc1-0348-4b59-bd13-a5c66d144615\",\"type\":\"TeeHead\"},{\"attributes\":{\"source\":{\"id\":\"ebc030eb-4268-4474-ad3c-7af8d0837431\",\"type\":\"ColumnDataSource\"}},\"id\":\"94ac805d-bfe7-47d4-a374-91a5c4c1a143\",\"type\":\"CDSView\"},{\"attributes\":{\"base\":{\"field\":\"base\",\"units\":\"data\"},\"lower\":{\"field\":\"lower\",\"units\":\"data\"},\"lower_head\":{\"id\":\"f8cd59a8-7494-4249-810e-32785ba81601\",\"type\":\"TeeHead\"},\"plot\":{\"id\":\"1c439511-dab3-460f-93f4-a9f6f65457ff\",\"subtype\":\"Figure\",\"type\":\"Plot\"},\"source\":{\"id\":\"61ae2cb4-47e3-4123-ae14-c7834a32a78d\",\"type\":\"ColumnDataSource\"},\"upper\":{\"field\":\"upper\",\"units\":\"data\"},\"upper_head\":{\"id\":\"7d08a08b-9803-468e-a65d-2e89aa0f1178\",\"type\":\"TeeHead\"}},\"id\":\"0cc9804f-1ea5-45c7-a5ba-ac5f0ecc5701\",\"type\":\"Whisker\"},{\"attributes\":{\"callback\":null,\"column_names\":[\"base\",\"lower\",\"upper\"],\"data\":{\"base\":{\"__ndarray__\":\"ldYm6AsuAT4NZzVfUJ83Ps/AAnckh20+grhhynZ0oj6jJvp8lBHXPkuwOJz51Qw/L26jAbwFQj+6SQwCK4d2Pylcj8L1KKw/mpmZmZmZ4T8AAAAAAAAWQA==\",\"dtype\":\"float64\",\"shape\":[11]},\"lower\":{\"__ndarray__\":\"X9z9/dQ2PT5+Pycw4oS6PiusRRFPpgc/woY9+l+r8D5ep1SwWxjiPtJ5zbyLUOM+4NsbhRkj4j40sFaLCSbmPry+vI0P2uw+3SnP4H7wBD8BVZt6bjESPw==\",\"dtype\":\"float64\",\"shape\":[11]},\"upper\":{\"__ndarray__\":\"GgaXayE4Zz6bDVIykX2/PuDp+vHHqAg/8vnde/cC8j6tWKEndRHkPn+1IW307eU+taqfaeRH5D6qw81vRUvpPsUcexP/3O8+DHb/5ykKBj+/RI1fmNASPw==\",\"dtype\":\"float64\",\"shape\":[11]}},\"selected\":null,\"selection_policy\":null},\"id\":\"30bb6ce1-a2ca-4f3d-86d2-ca52c646feba\",\"type\":\"ColumnDataSource\"},{\"attributes\":{\"base\":{\"field\":\"base\",\"units\":\"data\"},\"lower\":{\"field\":\"lower\",\"units\":\"data\"},\"lower_head\":{\"id\":\"3446abc1-0348-4b59-bd13-a5c66d144615\",\"type\":\"TeeHead\"},\"plot\":{\"id\":\"1c439511-dab3-460f-93f4-a9f6f65457ff\",\"subtype\":\"Figure\",\"type\":\"Plot\"},\"source\":{\"id\":\"30bb6ce1-a2ca-4f3d-86d2-ca52c646feba\",\"type\":\"ColumnDataSource\"},\"upper\":{\"field\":\"upper\",\"units\":\"data\"},\"upper_head\":{\"id\":\"28cc24a1-6923-4165-bfe1-4ca3db84d6af\",\"type\":\"TeeHead\"}},\"id\":\"456a8db0-4711-4475-b2a8-5f96552f303b\",\"type\":\"Whisker\"},{\"attributes\":{\"line_alpha\":0.1,\"line_color\":\"#1f77b4\",\"x\":{\"field\":\"x\"},\"y\":{\"field\":\"y\"}},\"id\":\"e3c81a2e-ec7f-4f23-9641-ef5bf3098e0e\",\"type\":\"Line\"},{\"attributes\":{\"label\":{\"value\":\"Tally 22\"},\"renderers\":[{\"id\":\"a3c85bde-2af8-4afb-826a-1db96891a1d3\",\"type\":\"GlyphRenderer\"}]},\"id\":\"235227ec-51e7-4856-aea2-bfbfae04c161\",\"type\":\"LegendItem\"},{\"attributes\":{\"plot\":{\"id\":\"1c439511-dab3-460f-93f4-a9f6f65457ff\",\"subtype\":\"Figure\",\"type\":\"Plot\"},\"ticker\":{\"id\":\"24ff3041-0dea-4ce9-b21f-521f1ef61af9\",\"type\":\"LogTicker\"}},\"id\":\"64793b59-49b1-4719-8d59-c9fb5abc0b84\",\"type\":\"Grid\"}],\"root_ids\":[\"1c439511-dab3-460f-93f4-a9f6f65457ff\"]},\"title\":\"Bokeh Application\",\"version\":\"0.12.15\"}};\n",
       "  var render_items = [{\"docid\":\"b0cf2e18-3faa-4f29-8e04-20ab84415df7\",\"elementid\":\"5cd13af6-e262-4923-bd71-20ea9c1b63f1\",\"modelid\":\"1c439511-dab3-460f-93f4-a9f6f65457ff\"}];\n",
       "  root.Bokeh.embed.embed_items_notebook(docs_json, render_items);\n",
       "\n",
       "  }\n",
       "  if (root.Bokeh !== undefined) {\n",
       "    embed_document(root);\n",
       "  } else {\n",
       "    var attempts = 0;\n",
       "    var timer = setInterval(function(root) {\n",
       "      if (root.Bokeh !== undefined) {\n",
       "        embed_document(root);\n",
       "        clearInterval(timer);\n",
       "      }\n",
       "      attempts++;\n",
       "      if (attempts > 100) {\n",
       "        console.log(\"Bokeh: ERROR: Unable to run BokehJS code because BokehJS library is missing\")\n",
       "        clearInterval(timer);\n",
       "      }\n",
       "    }, 10, root)\n",
       "  }\n",
       "})(window);"
      ],
      "application/vnd.bokehjs_exec.v0+json": ""
     },
     "metadata": {
      "application/vnd.bokehjs_exec.v0+json": {
       "id": "1c439511-dab3-460f-93f4-a9f6f65457ff"
      }
     },
     "output_type": "display_data"
    },
    {
     "name": "stderr",
     "output_type": "stream",
     "text": [
      "/home/angus/.local/share/virtualenvs/mcnp_project-EYhqo_wP/lib/python3.6/site-packages/selenium/webdriver/phantomjs/webdriver.py:49: UserWarning: Selenium support for PhantomJS has been deprecated, please use headless versions of Chrome or Firefox instead\n",
      "  warnings.warn('Selenium support for PhantomJS has been deprecated, please use headless '\n",
      "WARNING:bokeh.io.export:The webdriver raised a TimeoutException while waiting for                      a 'bokeh:idle' event to signify that the layout has rendered.                      Something may have gone wrong.\n"
     ]
    },
    {
     "name": "stdout",
     "output_type": "stream",
     "text": [
      "ln: failed to create symbolic link '/home/angus/snap/inkscape/4019/.config/gtk-2.0/gtkfilechooser.ini': File exists\n",
      "Gtk-Message: Failed to load module \"gail\"\n",
      "Gtk-Message: Failed to load module \"atk-bridge\"\n",
      "Gtk-Message: Failed to load module \"canberra-gtk-module\"\n",
      "\n",
      "(inkscape:12862): libgnomevfs-WARNING **: Unable to create ~/.gnome2 directory: Permission denied\n",
      "\n",
      "** (inkscape:12862): WARNING **: SPIStyle::readIfUnset(): Invalid style property id: 8 value: 400px\n",
      "\n",
      "** (inkscape:12862): WARNING **: SPIStyle::readIfUnset(): Invalid style property id: 7 value: 1200px\n",
      "Background RRGGBBAA: ffffff00\n",
      "Area 0:0:1200:400 exported to 1200 x 400 pixels (96 dpi)\n",
      "Bitmap saved as: tallies_210k.png\n"
     ]
    },
    {
     "data": {
      "text/html": [
       "\n",
       "<div class=\"bk-root\">\n",
       "    <div class=\"bk-plotdiv\" id=\"c6985c10-ae9f-471e-8fff-c04c39b619ad\"></div>\n",
       "</div>"
      ]
     },
     "metadata": {},
     "output_type": "display_data"
    },
    {
     "data": {
      "application/javascript": [
       "(function(root) {\n",
       "  function embed_document(root) {\n",
       "    \n",
       "  var docs_json = {\"8470a117-9a42-4ec4-b97e-5f6072f67cfe\":{\"roots\":{\"references\":[{\"attributes\":{\"line_color\":\"#3288bd\",\"x\":{\"field\":\"x\"},\"y\":{\"field\":\"y\"}},\"id\":\"7fb7dbe4-3d07-4785-88d7-31a56fb639cd\",\"type\":\"Line\"},{\"attributes\":{},\"id\":\"b54945ff-1ba5-4c24-9897-f09248573d1e\",\"type\":\"BasicTickFormatter\"},{\"attributes\":{},\"id\":\"fcded78e-968d-4358-ba60-8eece39467ce\",\"type\":\"LinearScale\"},{\"attributes\":{\"level\":\"underlay\",\"plot\":null,\"size\":10},\"id\":\"7076bf1c-cd8c-4df2-8e1c-67ac4b51e845\",\"type\":\"TeeHead\"},{\"attributes\":{\"active_drag\":\"auto\",\"active_inspect\":\"auto\",\"active_scroll\":\"auto\",\"active_tap\":\"auto\",\"tools\":[{\"id\":\"71624a9b-3db4-47d7-ba71-6e12c8451d40\",\"type\":\"CrosshairTool\"},{\"id\":\"31e2ec04-58b6-4ab0-82c6-39a9054dde55\",\"type\":\"PanTool\"},{\"id\":\"ed63ab8e-2c9c-4c39-a5de-a9ea7741c191\",\"type\":\"WheelZoomTool\"},{\"id\":\"332f2860-5972-40d2-a6db-53b6c382d52a\",\"type\":\"BoxZoomTool\"},{\"id\":\"075e8810-d853-47dd-919a-4eb8fe131333\",\"type\":\"ResetTool\"},{\"id\":\"0582ebf8-0826-4193-b2f3-8d8ae21585f0\",\"type\":\"HoverTool\"}]},\"id\":\"7d063102-3959-4d26-b728-c91f042a1518\",\"type\":\"Toolbar\"},{\"attributes\":{\"base\":{\"field\":\"base\",\"units\":\"data\"},\"lower\":{\"field\":\"lower\",\"units\":\"data\"},\"lower_head\":{\"id\":\"56fda1f5-b3a0-4329-8ae9-18d05a6d4a17\",\"type\":\"TeeHead\"},\"plot\":{\"id\":\"4c6edaf1-1493-4ff9-b1df-a7e767e73083\",\"subtype\":\"Figure\",\"type\":\"Plot\"},\"source\":{\"id\":\"38624711-6357-466c-9cda-ec825acdb152\",\"type\":\"ColumnDataSource\"},\"upper\":{\"field\":\"upper\",\"units\":\"data\"},\"upper_head\":{\"id\":\"7076bf1c-cd8c-4df2-8e1c-67ac4b51e845\",\"type\":\"TeeHead\"}},\"id\":\"8dc68596-9a97-45bc-83be-7d684ca7e8ef\",\"type\":\"Whisker\"},{\"attributes\":{\"data_source\":{\"id\":\"11b83262-5c4c-4548-8b62-d7d6ade7a7db\",\"type\":\"ColumnDataSource\"},\"glyph\":{\"id\":\"7fb7dbe4-3d07-4785-88d7-31a56fb639cd\",\"type\":\"Line\"},\"hover_glyph\":null,\"muted_glyph\":null,\"nonselection_glyph\":{\"id\":\"f7a1779c-b94c-4e20-84ac-f7b16414aeec\",\"type\":\"Line\"},\"selection_glyph\":null,\"view\":{\"id\":\"8e68a636-242e-4524-a972-f362e838f52d\",\"type\":\"CDSView\"}},\"id\":\"0b8a7bdf-2b54-4ab7-965f-1ecf5127d5c6\",\"type\":\"GlyphRenderer\"},{\"attributes\":{\"callback\":null,\"column_names\":[\"base\",\"lower\",\"upper\"],\"data\":{\"base\":{\"__ndarray__\":\"ldYm6AsuAT4NZzVfUJ83Ps/AAnckh20+grhhynZ0oj6jJvp8lBHXPkuwOJz51Qw/L26jAbwFQj+6SQwCK4d2Pylcj8L1KKw/mpmZmZmZ4T8AAAAAAAAWQA==\",\"dtype\":\"float64\",\"shape\":[11]},\"lower\":{\"__ndarray__\":\"M0iGVk3a2z7zuo/myxZfP1d/zghPK6o/flmph81QlT+wWjVMrkmLP7Jp3j15zos/Yn5334ppjz9cnRj4ydyQPxg/zqxOrJY/8ZLm9b24rz+pCUftksK3Pw==\",\"dtype\":\"float64\",\"shape\":[11]},\"upper\":{\"__ndarray__\":\"IRuBCX3j8j62mFyQUuhgP4L2sBpbpqo/0AkdL8UGlj9RFoS1cZiMP1IS+oIUKI0/R5tY0/tnkD9PHVd6lpmRP4Kxfa8XgZc/ERGh3LYxsD/UCeJVCBy4Pw==\",\"dtype\":\"float64\",\"shape\":[11]}},\"selected\":null,\"selection_policy\":null},\"id\":\"287fb793-7127-40fa-81ca-6df4f894d0af\",\"type\":\"ColumnDataSource\"},{\"attributes\":{\"line_alpha\":0.1,\"line_color\":\"#1f77b4\",\"x\":{\"field\":\"x\"},\"y\":{\"field\":\"y\"}},\"id\":\"f7a1779c-b94c-4e20-84ac-f7b16414aeec\",\"type\":\"Line\"},{\"attributes\":{},\"id\":\"2a55895a-80f8-451e-8534-4d0295a42a2c\",\"type\":\"LogScale\"},{\"attributes\":{\"callback\":null,\"column_names\":[\"base\",\"lower\",\"upper\"],\"data\":{\"base\":{\"__ndarray__\":\"ldYm6AsuAT4NZzVfUJ83Ps/AAnckh20+grhhynZ0oj6jJvp8lBHXPkuwOJz51Qw/L26jAbwFQj+6SQwCK4d2Pylcj8L1KKw/mpmZmZmZ4T8AAAAAAAAWQA==\",\"dtype\":\"float64\",\"shape\":[11]},\"lower\":{\"__ndarray__\":\"Oyb9YEAP4z4ow5CZH01hPw80cQHD264/TCE2FSTAlT+i5AKJYJyHPx1PX4e5M4k/LsZjj2Sqhz/IrHqdW+aMPzZgyQy60pI/1i5De3ZSqz8sAMzgF723Pw==\",\"dtype\":\"float64\",\"shape\":[11]},\"upper\":{\"__ndarray__\":\"91A80P9LDj/AC0fFbotkP/tBZZ+CFrA/TlHMF3eAlz/xzepucC+KP1srJzYunYw/qiMCY3d2ij+kEQYrhYCQPxgaXQaxyZQ/9V/U6vzBrD8v53vKxYy4Pw==\",\"dtype\":\"float64\",\"shape\":[11]}},\"selected\":null,\"selection_policy\":null},\"id\":\"38624711-6357-466c-9cda-ec825acdb152\",\"type\":\"ColumnDataSource\"},{\"attributes\":{\"below\":[{\"id\":\"9a8a2483-9076-48fc-91ee-59657a2a60be\",\"type\":\"LogAxis\"}],\"left\":[{\"id\":\"46830f41-9bf0-49e0-aa8d-b441aee80956\",\"type\":\"LinearAxis\"}],\"output_backend\":\"svg\",\"plot_height\":400,\"plot_width\":1200,\"renderers\":[{\"id\":\"9a8a2483-9076-48fc-91ee-59657a2a60be\",\"type\":\"LogAxis\"},{\"id\":\"e45eddf0-0e11-4fc9-90fb-01021192ab96\",\"type\":\"Grid\"},{\"id\":\"46830f41-9bf0-49e0-aa8d-b441aee80956\",\"type\":\"LinearAxis\"},{\"id\":\"2fd96c7f-081f-4334-b1dd-a0dafb93c263\",\"type\":\"Grid\"},{\"id\":\"2aa0123a-d913-4789-8f01-208bf03a732e\",\"type\":\"BoxAnnotation\"},{\"id\":\"f501b31b-34a7-4246-8a45-310a82bc3909\",\"type\":\"Whisker\"},{\"id\":\"e078ec92-c462-45c8-ab19-d1588c32ba5d\",\"type\":\"Legend\"},{\"id\":\"5bb5d4d5-d796-49c4-a441-95418f3ea65e\",\"type\":\"GlyphRenderer\"},{\"id\":\"8dc68596-9a97-45bc-83be-7d684ca7e8ef\",\"type\":\"Whisker\"},{\"id\":\"0b8a7bdf-2b54-4ab7-965f-1ecf5127d5c6\",\"type\":\"GlyphRenderer\"}],\"title\":{\"id\":\"dbe2608f-1e33-40e7-96f2-c4a684e23474\",\"type\":\"Title\"},\"toolbar\":{\"id\":\"7d063102-3959-4d26-b728-c91f042a1518\",\"type\":\"Toolbar\"},\"x_range\":{\"id\":\"dba6e1d8-eccd-4b28-90ad-5663beb0aa58\",\"type\":\"DataRange1d\"},\"x_scale\":{\"id\":\"2a55895a-80f8-451e-8534-4d0295a42a2c\",\"type\":\"LogScale\"},\"y_range\":{\"id\":\"d8f2e13d-f0f3-4465-9801-946f1d8b8b6a\",\"type\":\"DataRange1d\"},\"y_scale\":{\"id\":\"fcded78e-968d-4358-ba60-8eece39467ce\",\"type\":\"LinearScale\"}},\"id\":\"4c6edaf1-1493-4ff9-b1df-a7e767e73083\",\"subtype\":\"Figure\",\"type\":\"Plot\"},{\"attributes\":{\"axis_label\":\"Flux (1/cm^2)\",\"formatter\":{\"id\":\"b54945ff-1ba5-4c24-9897-f09248573d1e\",\"type\":\"BasicTickFormatter\"},\"plot\":{\"id\":\"4c6edaf1-1493-4ff9-b1df-a7e767e73083\",\"subtype\":\"Figure\",\"type\":\"Plot\"},\"ticker\":{\"id\":\"842f7389-2bc8-477a-9680-a34afe97f8e0\",\"type\":\"BasicTicker\"}},\"id\":\"46830f41-9bf0-49e0-aa8d-b441aee80956\",\"type\":\"LinearAxis\"},{\"attributes\":{\"line_color\":\"#5e4fa2\",\"x\":{\"field\":\"x\"},\"y\":{\"field\":\"y\"}},\"id\":\"7931f8b5-5e9c-4647-9298-b87a35ee32e9\",\"type\":\"Line\"},{\"attributes\":{\"callback\":null,\"column_names\":[\"x\",\"y\"],\"data\":{\"x\":{\"__ndarray__\":\"ldYm6AsuAT4NZzVfUJ83Ps/AAnckh20+grhhynZ0oj6jJvp8lBHXPkuwOJz51Qw/L26jAbwFQj+6SQwCK4d2Pylcj8L1KKw/mpmZmZmZ4T8AAAAAAAAWQA==\",\"dtype\":\"float64\",\"shape\":[11]},\"y\":{\"__ndarray__\":\"Q8099OeHAT9052svR+xiPwPcHSBkhK8/TTmBlk2glj9J2fZ76OWIPzw9w95z6Io/7PQy+W0QiT8IaMP5svOOPyc9k4k1zpM/ZccLszkKrD+u86PV7iS4Pw==\",\"dtype\":\"float64\",\"shape\":[11]}},\"selected\":null,\"selection_policy\":null},\"id\":\"11b83262-5c4c-4548-8b62-d7d6ade7a7db\",\"type\":\"ColumnDataSource\"},{\"attributes\":{\"callback\":null},\"id\":\"d8f2e13d-f0f3-4465-9801-946f1d8b8b6a\",\"type\":\"DataRange1d\"},{\"attributes\":{\"level\":\"underlay\",\"plot\":null,\"size\":10},\"id\":\"2ec28650-d696-4884-b0d3-617b09420ec3\",\"type\":\"TeeHead\"},{\"attributes\":{\"level\":\"underlay\",\"plot\":null,\"size\":10},\"id\":\"7c52a968-3903-41f4-9e81-2b802372e9cd\",\"type\":\"TeeHead\"},{\"attributes\":{\"source\":{\"id\":\"11b83262-5c4c-4548-8b62-d7d6ade7a7db\",\"type\":\"ColumnDataSource\"}},\"id\":\"8e68a636-242e-4524-a972-f362e838f52d\",\"type\":\"CDSView\"},{\"attributes\":{\"bottom_units\":\"screen\",\"fill_alpha\":{\"value\":0.5},\"fill_color\":{\"value\":\"lightgrey\"},\"left_units\":\"screen\",\"level\":\"overlay\",\"line_alpha\":{\"value\":1.0},\"line_color\":{\"value\":\"black\"},\"line_dash\":[4,4],\"line_width\":{\"value\":2},\"plot\":null,\"render_mode\":\"css\",\"right_units\":\"screen\",\"top_units\":\"screen\"},\"id\":\"2aa0123a-d913-4789-8f01-208bf03a732e\",\"type\":\"BoxAnnotation\"},{\"attributes\":{\"dimension\":1,\"plot\":{\"id\":\"4c6edaf1-1493-4ff9-b1df-a7e767e73083\",\"subtype\":\"Figure\",\"type\":\"Plot\"},\"ticker\":{\"id\":\"842f7389-2bc8-477a-9680-a34afe97f8e0\",\"type\":\"BasicTicker\"}},\"id\":\"2fd96c7f-081f-4334-b1dd-a0dafb93c263\",\"type\":\"Grid\"},{\"attributes\":{\"overlay\":{\"id\":\"2aa0123a-d913-4789-8f01-208bf03a732e\",\"type\":\"BoxAnnotation\"}},\"id\":\"332f2860-5972-40d2-a6db-53b6c382d52a\",\"type\":\"BoxZoomTool\"},{\"attributes\":{},\"id\":\"075e8810-d853-47dd-919a-4eb8fe131333\",\"type\":\"ResetTool\"},{\"attributes\":{},\"id\":\"842f7389-2bc8-477a-9680-a34afe97f8e0\",\"type\":\"BasicTicker\"},{\"attributes\":{\"level\":\"underlay\",\"plot\":null,\"size\":10},\"id\":\"56fda1f5-b3a0-4329-8ae9-18d05a6d4a17\",\"type\":\"TeeHead\"},{\"attributes\":{\"axis_label\":\"Energy /MeV\",\"formatter\":{\"id\":\"a0f92026-45d1-462e-90d0-2e021ef202c8\",\"type\":\"LogTickFormatter\"},\"plot\":{\"id\":\"4c6edaf1-1493-4ff9-b1df-a7e767e73083\",\"subtype\":\"Figure\",\"type\":\"Plot\"},\"ticker\":{\"id\":\"b4351ac0-8093-486f-a3c2-21e03708ce53\",\"type\":\"LogTicker\"}},\"id\":\"9a8a2483-9076-48fc-91ee-59657a2a60be\",\"type\":\"LogAxis\"},{\"attributes\":{\"callback\":null},\"id\":\"0582ebf8-0826-4193-b2f3-8d8ae21585f0\",\"type\":\"HoverTool\"},{\"attributes\":{},\"id\":\"ed63ab8e-2c9c-4c39-a5de-a9ea7741c191\",\"type\":\"WheelZoomTool\"},{\"attributes\":{},\"id\":\"71624a9b-3db4-47d7-ba71-6e12c8451d40\",\"type\":\"CrosshairTool\"},{\"attributes\":{\"items\":[{\"id\":\"6439c40b-9a55-4129-8b33-662b82b2aff6\",\"type\":\"LegendItem\"},{\"id\":\"3251a29d-0423-4b92-9546-6924e6d290c5\",\"type\":\"LegendItem\"}],\"plot\":{\"id\":\"4c6edaf1-1493-4ff9-b1df-a7e767e73083\",\"subtype\":\"Figure\",\"type\":\"Plot\"}},\"id\":\"e078ec92-c462-45c8-ab19-d1588c32ba5d\",\"type\":\"Legend\"},{\"attributes\":{\"label\":{\"value\":\"Tally 22\"},\"renderers\":[{\"id\":\"0b8a7bdf-2b54-4ab7-965f-1ecf5127d5c6\",\"type\":\"GlyphRenderer\"}]},\"id\":\"3251a29d-0423-4b92-9546-6924e6d290c5\",\"type\":\"LegendItem\"},{\"attributes\":{},\"id\":\"31e2ec04-58b6-4ab0-82c6-39a9054dde55\",\"type\":\"PanTool\"},{\"attributes\":{\"data_source\":{\"id\":\"1fbab310-8c79-4acb-8b8d-41405f6520c3\",\"type\":\"ColumnDataSource\"},\"glyph\":{\"id\":\"7931f8b5-5e9c-4647-9298-b87a35ee32e9\",\"type\":\"Line\"},\"hover_glyph\":null,\"muted_glyph\":null,\"nonselection_glyph\":{\"id\":\"c500eec7-7e2c-4f91-ba04-79310da06119\",\"type\":\"Line\"},\"selection_glyph\":null,\"view\":{\"id\":\"d443c9d4-5718-4593-b91d-8b4323b075de\",\"type\":\"CDSView\"}},\"id\":\"5bb5d4d5-d796-49c4-a441-95418f3ea65e\",\"type\":\"GlyphRenderer\"},{\"attributes\":{\"line_alpha\":0.1,\"line_color\":\"#1f77b4\",\"x\":{\"field\":\"x\"},\"y\":{\"field\":\"y\"}},\"id\":\"c500eec7-7e2c-4f91-ba04-79310da06119\",\"type\":\"Line\"},{\"attributes\":{\"base\":{\"field\":\"base\",\"units\":\"data\"},\"lower\":{\"field\":\"lower\",\"units\":\"data\"},\"lower_head\":{\"id\":\"7c52a968-3903-41f4-9e81-2b802372e9cd\",\"type\":\"TeeHead\"},\"plot\":{\"id\":\"4c6edaf1-1493-4ff9-b1df-a7e767e73083\",\"subtype\":\"Figure\",\"type\":\"Plot\"},\"source\":{\"id\":\"287fb793-7127-40fa-81ca-6df4f894d0af\",\"type\":\"ColumnDataSource\"},\"upper\":{\"field\":\"upper\",\"units\":\"data\"},\"upper_head\":{\"id\":\"2ec28650-d696-4884-b0d3-617b09420ec3\",\"type\":\"TeeHead\"}},\"id\":\"f501b31b-34a7-4246-8a45-310a82bc3909\",\"type\":\"Whisker\"},{\"attributes\":{\"callback\":null,\"column_names\":[\"x\",\"y\"],\"data\":{\"x\":{\"__ndarray__\":\"ldYm6AsuAT4NZzVfUJ83Ps/AAnckh20+grhhynZ0oj6jJvp8lBHXPkuwOJz51Qw/L26jAbwFQj+6SQwCK4d2Pylcj8L1KKw/mpmZmZmZ4T8AAAAAAAAWQA==\",\"dtype\":\"float64\",\"shape\":[11]},\"y\":{\"__ndarray__\":\"Lq0iXxDa6T4YO9JB3DlgP+y6vxHVaKo/pzFjW8mrlT+AuNwAEPGLPwI+bOBGe4w/PC2KoWAOkD9V3Tc5MDuRP034JS6zFpc/RS3K6woHsD++iZShTe+3Pw==\",\"dtype\":\"float64\",\"shape\":[11]}},\"selected\":null,\"selection_policy\":null},\"id\":\"1fbab310-8c79-4acb-8b8d-41405f6520c3\",\"type\":\"ColumnDataSource\"},{\"attributes\":{\"plot\":{\"id\":\"4c6edaf1-1493-4ff9-b1df-a7e767e73083\",\"subtype\":\"Figure\",\"type\":\"Plot\"},\"ticker\":{\"id\":\"b4351ac0-8093-486f-a3c2-21e03708ce53\",\"type\":\"LogTicker\"}},\"id\":\"e45eddf0-0e11-4fc9-90fb-01021192ab96\",\"type\":\"Grid\"},{\"attributes\":{\"plot\":null,\"text\":\"\"},\"id\":\"dbe2608f-1e33-40e7-96f2-c4a684e23474\",\"type\":\"Title\"},{\"attributes\":{\"callback\":null},\"id\":\"dba6e1d8-eccd-4b28-90ad-5663beb0aa58\",\"type\":\"DataRange1d\"},{\"attributes\":{\"ticker\":null},\"id\":\"a0f92026-45d1-462e-90d0-2e021ef202c8\",\"type\":\"LogTickFormatter\"},{\"attributes\":{\"num_minor_ticks\":10},\"id\":\"b4351ac0-8093-486f-a3c2-21e03708ce53\",\"type\":\"LogTicker\"},{\"attributes\":{\"source\":{\"id\":\"1fbab310-8c79-4acb-8b8d-41405f6520c3\",\"type\":\"ColumnDataSource\"}},\"id\":\"d443c9d4-5718-4593-b91d-8b4323b075de\",\"type\":\"CDSView\"},{\"attributes\":{\"label\":{\"value\":\"Tally 12\"},\"renderers\":[{\"id\":\"5bb5d4d5-d796-49c4-a441-95418f3ea65e\",\"type\":\"GlyphRenderer\"}]},\"id\":\"6439c40b-9a55-4129-8b33-662b82b2aff6\",\"type\":\"LegendItem\"}],\"root_ids\":[\"4c6edaf1-1493-4ff9-b1df-a7e767e73083\"]},\"title\":\"Bokeh Application\",\"version\":\"0.12.15\"}};\n",
       "  var render_items = [{\"docid\":\"8470a117-9a42-4ec4-b97e-5f6072f67cfe\",\"elementid\":\"c6985c10-ae9f-471e-8fff-c04c39b619ad\",\"modelid\":\"4c6edaf1-1493-4ff9-b1df-a7e767e73083\"}];\n",
       "  root.Bokeh.embed.embed_items_notebook(docs_json, render_items);\n",
       "\n",
       "  }\n",
       "  if (root.Bokeh !== undefined) {\n",
       "    embed_document(root);\n",
       "  } else {\n",
       "    var attempts = 0;\n",
       "    var timer = setInterval(function(root) {\n",
       "      if (root.Bokeh !== undefined) {\n",
       "        embed_document(root);\n",
       "        clearInterval(timer);\n",
       "      }\n",
       "      attempts++;\n",
       "      if (attempts > 100) {\n",
       "        console.log(\"Bokeh: ERROR: Unable to run BokehJS code because BokehJS library is missing\")\n",
       "        clearInterval(timer);\n",
       "      }\n",
       "    }, 10, root)\n",
       "  }\n",
       "})(window);"
      ],
      "application/vnd.bokehjs_exec.v0+json": ""
     },
     "metadata": {
      "application/vnd.bokehjs_exec.v0+json": {
       "id": "4c6edaf1-1493-4ff9-b1df-a7e767e73083"
      }
     },
     "output_type": "display_data"
    },
    {
     "name": "stderr",
     "output_type": "stream",
     "text": [
      "WARNING:bokeh.io.export:The webdriver raised a TimeoutException while waiting for                      a 'bokeh:idle' event to signify that the layout has rendered.                      Something may have gone wrong.\n"
     ]
    },
    {
     "name": "stdout",
     "output_type": "stream",
     "text": [
      "ln: failed to create symbolic link '/home/angus/snap/inkscape/4019/.config/gtk-2.0/gtkfilechooser.ini': File exists\n",
      "Gtk-Message: Failed to load module \"gail\"\n",
      "Gtk-Message: Failed to load module \"atk-bridge\"\n",
      "Gtk-Message: Failed to load module \"canberra-gtk-module\"\n",
      "\n",
      "(inkscape:12988): libgnomevfs-WARNING **: Unable to create ~/.gnome2 directory: Permission denied\n",
      "\n",
      "** (inkscape:12988): WARNING **: SPIStyle::readIfUnset(): Invalid style property id: 8 value: 400px\n",
      "\n",
      "** (inkscape:12988): WARNING **: SPIStyle::readIfUnset(): Invalid style property id: 7 value: 1200px\n",
      "Background RRGGBBAA: ffffff00\n",
      "Area 0:0:1200:400 exported to 1200 x 400 pixels (96 dpi)\n",
      "Bitmap saved as: tallies_210k_norm.png\n"
     ]
    }
   ],
   "source": [
    "plot_tallies(pathlib.Path(\"tallies_210k.png\"), mctal_1_b)\n",
    "plot_tallies(pathlib.Path(\"tallies_210k_norm.png\"), mctal_1_b, normalise=True)"
   ]
  },
  {
   "cell_type": "code",
   "execution_count": 186,
   "metadata": {},
   "outputs": [
    {
     "name": "stdout",
     "output_type": "stream",
     "text": [
      "Entering 'py_cfg_parsing'\n",
      "Already up-to-date.\n",
      "Entering 'texy'\n",
      "remote: Counting objects: 3, done.\u001b[K\n",
      "remote: Compressing objects: 100% (3/3), done.\u001b[K\n",
      "remote: Total 3 (delta 1), reused 0 (delta 0), pack-reused 0\u001b[K\n",
      "Unpacking objects: 100% (3/3), done.\n",
      "From https://github.com/agoose77/texy\n",
      "   de9a05b..56a73c7  master     -> origin/master\n",
      "Updating de9a05b..56a73c7\n",
      "Fast-forward\n",
      " texy.py | 1 \u001b[1;31m-\u001b[m\n",
      " 1 file changed, 1 deletion(-)\n"
     ]
    }
   ],
   "source": [
    "!git submodule foreach git pull "
   ]
  },
  {
   "cell_type": "code",
   "execution_count": 258,
   "metadata": {},
   "outputs": [
    {
     "data": {
      "text/html": [
       "\n",
       "<div class=\"bk-root\">\n",
       "    <div class=\"bk-plotdiv\" id=\"b69bfcf1-211f-49f7-81c5-d06cb2f619ab\"></div>\n",
       "</div>"
      ]
     },
     "metadata": {},
     "output_type": "display_data"
    },
    {
     "data": {
      "application/javascript": [
       "(function(root) {\n",
       "  function embed_document(root) {\n",
       "    \n",
       "  var docs_json = {\"7307ec5c-0c9e-4a73-994b-0f0e0961dec5\":{\"roots\":{\"references\":[{\"attributes\":{\"label\":{\"value\":\"Tally 22\"},\"renderers\":[{\"id\":\"a87b8dfb-8768-4439-bc97-19db04950601\",\"type\":\"GlyphRenderer\"}]},\"id\":\"4371d927-0b21-4ea5-9d16-6f589db8d72b\",\"type\":\"LegendItem\"},{\"attributes\":{},\"id\":\"69cad48e-a1c8-4084-a4e0-309e2bb50165\",\"type\":\"WheelZoomTool\"},{\"attributes\":{},\"id\":\"e7fb2b61-1822-4b8d-b870-e685fe0e9b8c\",\"type\":\"BasicTicker\"},{\"attributes\":{\"callback\":null,\"column_names\":[\"x\",\"y\"],\"data\":{\"x\":{\"__ndarray__\":\"ldYm6AsuAT4NZzVfUJ83Ps/AAnckh20+grhhynZ0oj6jJvp8lBHXPkuwOJz51Qw/L26jAbwFQj+6SQwCK4d2Pylcj8L1KKw/mpmZmZmZ4T8AAAAAAAAWQA==\",\"dtype\":\"float64\",\"shape\":[11]},\"y\":{\"__ndarray__\":\"AAAAAAAAAADPDtygKp6/PtTN3aCRngY/LZVLrJIk7T7m3t/ZogvjPt6oB6DnQ+Y+qDeC2MLB6D6ulQktliPuPtMhe3JJpOg+sIb/xCXfBT/Fn1iTnfETPw==\",\"dtype\":\"float64\",\"shape\":[11]}},\"selected\":null,\"selection_policy\":null},\"id\":\"d2b462a9-8d63-4890-bcfb-683223b15fea\",\"type\":\"ColumnDataSource\"},{\"attributes\":{\"source\":{\"id\":\"d2b462a9-8d63-4890-bcfb-683223b15fea\",\"type\":\"ColumnDataSource\"}},\"id\":\"6146929d-3cad-4c86-8308-baa0065e94c5\",\"type\":\"CDSView\"},{\"attributes\":{\"callback\":null},\"id\":\"ed161a3f-5b7d-415a-991d-b6f54d502eee\",\"type\":\"HoverTool\"},{\"attributes\":{\"data_source\":{\"id\":\"1043c28f-5620-451a-a270-b145b148ecfd\",\"type\":\"ColumnDataSource\"},\"glyph\":{\"id\":\"11c279fc-acd7-409d-ade6-294babed3ab7\",\"type\":\"Line\"},\"hover_glyph\":null,\"muted_glyph\":null,\"nonselection_glyph\":{\"id\":\"2e62ff78-adaa-4897-bdb3-32424c4dde28\",\"type\":\"Line\"},\"selection_glyph\":null,\"view\":{\"id\":\"af3b02af-c918-4fdb-96b2-a135f4808e4e\",\"type\":\"CDSView\"}},\"id\":\"6e1ff39d-5a82-4770-94d1-1962e1271350\",\"type\":\"GlyphRenderer\"},{\"attributes\":{\"plot\":null,\"text\":\"\"},\"id\":\"3668aeb1-d96b-4010-90df-105e1c3b839f\",\"type\":\"Title\"},{\"attributes\":{\"bottom_units\":\"screen\",\"fill_alpha\":{\"value\":0.5},\"fill_color\":{\"value\":\"lightgrey\"},\"left_units\":\"screen\",\"level\":\"overlay\",\"line_alpha\":{\"value\":1.0},\"line_color\":{\"value\":\"black\"},\"line_dash\":[4,4],\"line_width\":{\"value\":2},\"plot\":null,\"render_mode\":\"css\",\"right_units\":\"screen\",\"top_units\":\"screen\"},\"id\":\"555f5885-b91d-4407-b881-4270d969f72a\",\"type\":\"BoxAnnotation\"},{\"attributes\":{},\"id\":\"3deccf7a-eb2b-4b31-a670-492083f9443b\",\"type\":\"ResetTool\"},{\"attributes\":{\"base\":{\"field\":\"base\",\"units\":\"data\"},\"lower\":{\"field\":\"lower\",\"units\":\"data\"},\"lower_head\":{\"id\":\"606abb44-49ee-4455-8a54-89d48ddae2e6\",\"type\":\"TeeHead\"},\"plot\":{\"id\":\"d8b97f59-aa1f-4297-bb48-b05fa932a19e\",\"subtype\":\"Figure\",\"type\":\"Plot\"},\"source\":{\"id\":\"d295c9d8-fefe-4eda-81c5-2bde45f1b57c\",\"type\":\"ColumnDataSource\"},\"upper\":{\"field\":\"upper\",\"units\":\"data\"},\"upper_head\":{\"id\":\"31656a08-313e-4129-a24a-eda705ec268d\",\"type\":\"TeeHead\"}},\"id\":\"95983fa3-6a0b-45c5-9d67-f016ad394902\",\"type\":\"Whisker\"},{\"attributes\":{\"plot\":{\"id\":\"d8b97f59-aa1f-4297-bb48-b05fa932a19e\",\"subtype\":\"Figure\",\"type\":\"Plot\"},\"ticker\":{\"id\":\"4f57ac7c-849b-4c97-842c-d67766c932a6\",\"type\":\"LogTicker\"}},\"id\":\"7af2445a-01cf-4a85-8efb-49747eaea2d3\",\"type\":\"Grid\"},{\"attributes\":{\"callback\":null,\"column_names\":[\"base\",\"lower\",\"upper\"],\"data\":{\"base\":{\"__ndarray__\":\"ldYm6AsuAT4NZzVfUJ83Ps/AAnckh20+grhhynZ0oj6jJvp8lBHXPkuwOJz51Qw/L26jAbwFQj+6SQwCK4d2Pylcj8L1KKw/mpmZmZmZ4T8AAAAAAAAWQA==\",\"dtype\":\"float64\",\"shape\":[11]},\"lower\":{\"__ndarray__\":\"AAAAAAAAAACnuKPgpDrSPgm3GVN0rh4/q0h1ciHgCD9MEAHZTIj/PsPFh4wUFAA/xtR9gddPAT8qQ6eiMZcCP03lqiaq3gk/3+sC1yMTIj+PM4zXczwsPw==\",\"dtype\":\"float64\",\"shape\":[11]},\"upper\":{\"__ndarray__\":\"AAAAAAAAAAAbCuvPovjWPs4Z1GWlPSA/TOtQ6xOVCz/uLXv+YjcCP/3IdAe9kwI/QO/RES7yAz+b19ATGUcFPzQFJmny6ww/iJMZze5QIz+P6nk+858tPw==\",\"dtype\":\"float64\",\"shape\":[11]}},\"selected\":null,\"selection_policy\":null},\"id\":\"02f66810-9bdf-4894-af78-11c3722d5ba7\",\"type\":\"ColumnDataSource\"},{\"attributes\":{\"items\":[{\"id\":\"72b3be0c-1151-448a-bd43-cdf2892ea0c6\",\"type\":\"LegendItem\"},{\"id\":\"4371d927-0b21-4ea5-9d16-6f589db8d72b\",\"type\":\"LegendItem\"}],\"plot\":{\"id\":\"d8b97f59-aa1f-4297-bb48-b05fa932a19e\",\"subtype\":\"Figure\",\"type\":\"Plot\"}},\"id\":\"651a1dc1-49c1-44d6-9bf8-570993167135\",\"type\":\"Legend\"},{\"attributes\":{\"overlay\":{\"id\":\"555f5885-b91d-4407-b881-4270d969f72a\",\"type\":\"BoxAnnotation\"}},\"id\":\"c3bdf312-ed90-4d3b-a0ef-d78ced12d801\",\"type\":\"BoxZoomTool\"},{\"attributes\":{},\"id\":\"f490390b-1024-4d47-a855-9217e07fbeff\",\"type\":\"PanTool\"},{\"attributes\":{\"ticker\":null},\"id\":\"207c46e4-1bf8-4501-b7d3-66be027d0b4f\",\"type\":\"LogTickFormatter\"},{\"attributes\":{\"callback\":null},\"id\":\"223cf94f-b631-4ae1-bd11-1fac4442065f\",\"type\":\"DataRange1d\"},{\"attributes\":{\"line_color\":\"#3288bd\",\"x\":{\"field\":\"x\"},\"y\":{\"field\":\"y\"}},\"id\":\"a6760a67-4f00-429c-9cfc-34b25cbfada0\",\"type\":\"Line\"},{\"attributes\":{},\"id\":\"9619447c-daab-441f-aa77-2d9e43c95776\",\"type\":\"CrosshairTool\"},{\"attributes\":{\"line_alpha\":0.1,\"line_color\":\"#1f77b4\",\"x\":{\"field\":\"x\"},\"y\":{\"field\":\"y\"}},\"id\":\"7615e557-5161-43bd-ba66-1d583451d404\",\"type\":\"Line\"},{\"attributes\":{\"callback\":null,\"column_names\":[\"base\",\"lower\",\"upper\"],\"data\":{\"base\":{\"__ndarray__\":\"ldYm6AsuAT4NZzVfUJ83Ps/AAnckh20+grhhynZ0oj6jJvp8lBHXPkuwOJz51Qw/L26jAbwFQj+6SQwCK4d2Pylcj8L1KKw/mpmZmZmZ4T8AAAAAAAAWQA==\",\"dtype\":\"float64\",\"shape\":[11]},\"lower\":{\"__ndarray__\":\"AAAAAAAAAABBBZEwkuW3PllptkTCGwU/YNEOOIfZ6T4qX2wpPvjfPmJhVoc16+I+wCPEWI815T6Mok+4is7nPiNpwR7g+uQ+i/NSZni/Az+iaKKxw9YSPw==\",\"dtype\":\"float64\",\"shape\":[11]},\"upper\":{\"__ndarray__\":\"AAAAAAAAAAAujJOIYavDPk8yBf1gIQg/fSxEEM838D43jgmfJhvmPlvwuLiZnOk+kEtAWPZN7D5oxOHQUDzyPoPaNMayTew+1RmsI9P+Bz/n1g51dwwVPw==\",\"dtype\":\"float64\",\"shape\":[11]}},\"selected\":null,\"selection_policy\":null},\"id\":\"d295c9d8-fefe-4eda-81c5-2bde45f1b57c\",\"type\":\"ColumnDataSource\"},{\"attributes\":{\"data_source\":{\"id\":\"d2b462a9-8d63-4890-bcfb-683223b15fea\",\"type\":\"ColumnDataSource\"},\"glyph\":{\"id\":\"a6760a67-4f00-429c-9cfc-34b25cbfada0\",\"type\":\"Line\"},\"hover_glyph\":null,\"muted_glyph\":null,\"nonselection_glyph\":{\"id\":\"7615e557-5161-43bd-ba66-1d583451d404\",\"type\":\"Line\"},\"selection_glyph\":null,\"view\":{\"id\":\"6146929d-3cad-4c86-8308-baa0065e94c5\",\"type\":\"CDSView\"}},\"id\":\"a87b8dfb-8768-4439-bc97-19db04950601\",\"type\":\"GlyphRenderer\"},{\"attributes\":{\"level\":\"underlay\",\"plot\":null,\"size\":10},\"id\":\"31656a08-313e-4129-a24a-eda705ec268d\",\"type\":\"TeeHead\"},{\"attributes\":{\"line_color\":\"#5e4fa2\",\"x\":{\"field\":\"x\"},\"y\":{\"field\":\"y\"}},\"id\":\"11c279fc-acd7-409d-ade6-294babed3ab7\",\"type\":\"Line\"},{\"attributes\":{\"active_drag\":\"auto\",\"active_inspect\":\"auto\",\"active_scroll\":\"auto\",\"active_tap\":\"auto\",\"tools\":[{\"id\":\"9619447c-daab-441f-aa77-2d9e43c95776\",\"type\":\"CrosshairTool\"},{\"id\":\"f490390b-1024-4d47-a855-9217e07fbeff\",\"type\":\"PanTool\"},{\"id\":\"69cad48e-a1c8-4084-a4e0-309e2bb50165\",\"type\":\"WheelZoomTool\"},{\"id\":\"c3bdf312-ed90-4d3b-a0ef-d78ced12d801\",\"type\":\"BoxZoomTool\"},{\"id\":\"3deccf7a-eb2b-4b31-a670-492083f9443b\",\"type\":\"ResetTool\"},{\"id\":\"ed161a3f-5b7d-415a-991d-b6f54d502eee\",\"type\":\"HoverTool\"}]},\"id\":\"6ccb37b3-75b1-4edb-b1d1-e38a095b6ce5\",\"type\":\"Toolbar\"},{\"attributes\":{\"level\":\"underlay\",\"plot\":null,\"size\":10},\"id\":\"5b18d8f2-959d-4d5b-95d0-4d12e8609518\",\"type\":\"TeeHead\"},{\"attributes\":{\"base\":{\"field\":\"base\",\"units\":\"data\"},\"lower\":{\"field\":\"lower\",\"units\":\"data\"},\"lower_head\":{\"id\":\"5b18d8f2-959d-4d5b-95d0-4d12e8609518\",\"type\":\"TeeHead\"},\"plot\":{\"id\":\"d8b97f59-aa1f-4297-bb48-b05fa932a19e\",\"subtype\":\"Figure\",\"type\":\"Plot\"},\"source\":{\"id\":\"02f66810-9bdf-4894-af78-11c3722d5ba7\",\"type\":\"ColumnDataSource\"},\"upper\":{\"field\":\"upper\",\"units\":\"data\"},\"upper_head\":{\"id\":\"d5937496-7d39-4726-abba-071fc6061b88\",\"type\":\"TeeHead\"}},\"id\":\"738a41f4-9cab-4624-a84a-f74ae3610de4\",\"type\":\"Whisker\"},{\"attributes\":{\"line_alpha\":0.1,\"line_color\":\"#1f77b4\",\"x\":{\"field\":\"x\"},\"y\":{\"field\":\"y\"}},\"id\":\"2e62ff78-adaa-4897-bdb3-32424c4dde28\",\"type\":\"Line\"},{\"attributes\":{\"callback\":null},\"id\":\"548cf95b-ee85-4d74-9135-a6b3e23597eb\",\"type\":\"DataRange1d\"},{\"attributes\":{\"level\":\"underlay\",\"plot\":null,\"size\":10},\"id\":\"606abb44-49ee-4455-8a54-89d48ddae2e6\",\"type\":\"TeeHead\"},{\"attributes\":{\"callback\":null,\"column_names\":[\"x\",\"y\"],\"data\":{\"x\":{\"__ndarray__\":\"ldYm6AsuAT4NZzVfUJ83Ps/AAnckh20+grhhynZ0oj6jJvp8lBHXPkuwOJz51Qw/L26jAbwFQj+6SQwCK4d2Pylcj8L1KKw/mpmZmZmZ4T8AAAAAAAAWQA==\",\"dtype\":\"float64\",\"shape\":[11]},\"y\":{\"__ndarray__\":\"AAAAAAAAAABhYUfYo5nUPlL1YI/flB8/+xnjrpo6Cj8K2321xP0AP2BH/snoUwE/A+KnyQKhAj9jDTxbJe8DP0B16EdOZQs/tD8OUgmyIj8PDwOLM+4sPw==\",\"dtype\":\"float64\",\"shape\":[11]}},\"selected\":null,\"selection_policy\":null},\"id\":\"1043c28f-5620-451a-a270-b145b148ecfd\",\"type\":\"ColumnDataSource\"},{\"attributes\":{\"source\":{\"id\":\"1043c28f-5620-451a-a270-b145b148ecfd\",\"type\":\"ColumnDataSource\"}},\"id\":\"af3b02af-c918-4fdb-96b2-a135f4808e4e\",\"type\":\"CDSView\"},{\"attributes\":{\"below\":[{\"id\":\"53a69fac-b1c4-4a4a-83af-a325bbe5f89b\",\"type\":\"LogAxis\"}],\"left\":[{\"id\":\"b29fc20d-b40c-4a47-8a1d-c51166897d1b\",\"type\":\"LinearAxis\"}],\"output_backend\":\"svg\",\"plot_height\":400,\"plot_width\":1200,\"renderers\":[{\"id\":\"53a69fac-b1c4-4a4a-83af-a325bbe5f89b\",\"type\":\"LogAxis\"},{\"id\":\"7af2445a-01cf-4a85-8efb-49747eaea2d3\",\"type\":\"Grid\"},{\"id\":\"b29fc20d-b40c-4a47-8a1d-c51166897d1b\",\"type\":\"LinearAxis\"},{\"id\":\"9b61cab9-e4f1-4269-a36f-0726313a2313\",\"type\":\"Grid\"},{\"id\":\"555f5885-b91d-4407-b881-4270d969f72a\",\"type\":\"BoxAnnotation\"},{\"id\":\"738a41f4-9cab-4624-a84a-f74ae3610de4\",\"type\":\"Whisker\"},{\"id\":\"651a1dc1-49c1-44d6-9bf8-570993167135\",\"type\":\"Legend\"},{\"id\":\"6e1ff39d-5a82-4770-94d1-1962e1271350\",\"type\":\"GlyphRenderer\"},{\"id\":\"95983fa3-6a0b-45c5-9d67-f016ad394902\",\"type\":\"Whisker\"},{\"id\":\"a87b8dfb-8768-4439-bc97-19db04950601\",\"type\":\"GlyphRenderer\"}],\"title\":{\"id\":\"3668aeb1-d96b-4010-90df-105e1c3b839f\",\"type\":\"Title\"},\"toolbar\":{\"id\":\"6ccb37b3-75b1-4edb-b1d1-e38a095b6ce5\",\"type\":\"Toolbar\"},\"x_range\":{\"id\":\"548cf95b-ee85-4d74-9135-a6b3e23597eb\",\"type\":\"DataRange1d\"},\"x_scale\":{\"id\":\"0f6a28db-56ba-4ab0-9a57-0ee5f6d26c86\",\"type\":\"LogScale\"},\"y_range\":{\"id\":\"223cf94f-b631-4ae1-bd11-1fac4442065f\",\"type\":\"DataRange1d\"},\"y_scale\":{\"id\":\"d9e51bb0-5e11-4a6a-900f-f3585d847656\",\"type\":\"LinearScale\"}},\"id\":\"d8b97f59-aa1f-4297-bb48-b05fa932a19e\",\"subtype\":\"Figure\",\"type\":\"Plot\"},{\"attributes\":{},\"id\":\"49a57214-7aca-43b2-84cc-173005692518\",\"type\":\"BasicTickFormatter\"},{\"attributes\":{\"level\":\"underlay\",\"plot\":null,\"size\":10},\"id\":\"d5937496-7d39-4726-abba-071fc6061b88\",\"type\":\"TeeHead\"},{\"attributes\":{},\"id\":\"0f6a28db-56ba-4ab0-9a57-0ee5f6d26c86\",\"type\":\"LogScale\"},{\"attributes\":{\"axis_label\":\"Flux (1/cm^2)\",\"formatter\":{\"id\":\"49a57214-7aca-43b2-84cc-173005692518\",\"type\":\"BasicTickFormatter\"},\"plot\":{\"id\":\"d8b97f59-aa1f-4297-bb48-b05fa932a19e\",\"subtype\":\"Figure\",\"type\":\"Plot\"},\"ticker\":{\"id\":\"e7fb2b61-1822-4b8d-b870-e685fe0e9b8c\",\"type\":\"BasicTicker\"}},\"id\":\"b29fc20d-b40c-4a47-8a1d-c51166897d1b\",\"type\":\"LinearAxis\"},{\"attributes\":{\"axis_label\":\"Energy /MeV\",\"formatter\":{\"id\":\"207c46e4-1bf8-4501-b7d3-66be027d0b4f\",\"type\":\"LogTickFormatter\"},\"plot\":{\"id\":\"d8b97f59-aa1f-4297-bb48-b05fa932a19e\",\"subtype\":\"Figure\",\"type\":\"Plot\"},\"ticker\":{\"id\":\"4f57ac7c-849b-4c97-842c-d67766c932a6\",\"type\":\"LogTicker\"}},\"id\":\"53a69fac-b1c4-4a4a-83af-a325bbe5f89b\",\"type\":\"LogAxis\"},{\"attributes\":{\"num_minor_ticks\":10},\"id\":\"4f57ac7c-849b-4c97-842c-d67766c932a6\",\"type\":\"LogTicker\"},{\"attributes\":{},\"id\":\"d9e51bb0-5e11-4a6a-900f-f3585d847656\",\"type\":\"LinearScale\"},{\"attributes\":{\"dimension\":1,\"plot\":{\"id\":\"d8b97f59-aa1f-4297-bb48-b05fa932a19e\",\"subtype\":\"Figure\",\"type\":\"Plot\"},\"ticker\":{\"id\":\"e7fb2b61-1822-4b8d-b870-e685fe0e9b8c\",\"type\":\"BasicTicker\"}},\"id\":\"9b61cab9-e4f1-4269-a36f-0726313a2313\",\"type\":\"Grid\"},{\"attributes\":{\"label\":{\"value\":\"Tally 12\"},\"renderers\":[{\"id\":\"6e1ff39d-5a82-4770-94d1-1962e1271350\",\"type\":\"GlyphRenderer\"}]},\"id\":\"72b3be0c-1151-448a-bd43-cdf2892ea0c6\",\"type\":\"LegendItem\"}],\"root_ids\":[\"d8b97f59-aa1f-4297-bb48-b05fa932a19e\"]},\"title\":\"Bokeh Application\",\"version\":\"0.12.15\"}};\n",
       "  var render_items = [{\"docid\":\"7307ec5c-0c9e-4a73-994b-0f0e0961dec5\",\"elementid\":\"b69bfcf1-211f-49f7-81c5-d06cb2f619ab\",\"modelid\":\"d8b97f59-aa1f-4297-bb48-b05fa932a19e\"}];\n",
       "  root.Bokeh.embed.embed_items_notebook(docs_json, render_items);\n",
       "\n",
       "  }\n",
       "  if (root.Bokeh !== undefined) {\n",
       "    embed_document(root);\n",
       "  } else {\n",
       "    var attempts = 0;\n",
       "    var timer = setInterval(function(root) {\n",
       "      if (root.Bokeh !== undefined) {\n",
       "        embed_document(root);\n",
       "        clearInterval(timer);\n",
       "      }\n",
       "      attempts++;\n",
       "      if (attempts > 100) {\n",
       "        console.log(\"Bokeh: ERROR: Unable to run BokehJS code because BokehJS library is missing\")\n",
       "        clearInterval(timer);\n",
       "      }\n",
       "    }, 10, root)\n",
       "  }\n",
       "})(window);"
      ],
      "application/vnd.bokehjs_exec.v0+json": ""
     },
     "metadata": {
      "application/vnd.bokehjs_exec.v0+json": {
       "id": "d8b97f59-aa1f-4297-bb48-b05fa932a19e"
      }
     },
     "output_type": "display_data"
    },
    {
     "name": "stderr",
     "output_type": "stream",
     "text": [
      "/home/angus/.local/share/virtualenvs/mcnp_project-EYhqo_wP/lib/python3.6/site-packages/selenium/webdriver/phantomjs/webdriver.py:49: UserWarning: Selenium support for PhantomJS has been deprecated, please use headless versions of Chrome or Firefox instead\n",
      "  warnings.warn('Selenium support for PhantomJS has been deprecated, please use headless '\n",
      "WARNING:bokeh.io.export:The webdriver raised a TimeoutException while waiting for                      a 'bokeh:idle' event to signify that the layout has rendered.                      Something may have gone wrong.\n"
     ]
    },
    {
     "name": "stdout",
     "output_type": "stream",
     "text": [
      "ln: failed to create symbolic link '/home/angus/snap/inkscape/4019/.config/gtk-2.0/gtkfilechooser.ini': File exists\n",
      "Gtk-Message: Failed to load module \"gail\"\n",
      "Gtk-Message: Failed to load module \"atk-bridge\"\n",
      "Gtk-Message: Failed to load module \"canberra-gtk-module\"\n",
      "\n",
      "(inkscape:4736): libgnomevfs-WARNING **: Unable to create ~/.gnome2 directory: Permission denied\n",
      "\n",
      "** (inkscape:4736): WARNING **: SPIStyle::readIfUnset(): Invalid style property id: 8 value: 400px\n",
      "\n",
      "** (inkscape:4736): WARNING **: SPIStyle::readIfUnset(): Invalid style property id: 7 value: 1200px\n",
      "Background RRGGBBAA: ffffff00\n",
      "Area 0:0:1200:400 exported to 1200 x 400 pixels (96 dpi)\n",
      "Bitmap saved as: /home/angus/Git/mcnp_project/tallies_20k.png\n"
     ]
    },
    {
     "data": {
      "text/html": [
       "\n",
       "<div class=\"bk-root\">\n",
       "    <div class=\"bk-plotdiv\" id=\"6e8fa28a-39c1-43ce-b791-9b923c28a3b6\"></div>\n",
       "</div>"
      ]
     },
     "metadata": {},
     "output_type": "display_data"
    },
    {
     "data": {
      "application/javascript": [
       "(function(root) {\n",
       "  function embed_document(root) {\n",
       "    \n",
       "  var docs_json = {\"c009d4a0-4a23-4129-81f9-1311fcaeef20\":{\"roots\":{\"references\":[{\"attributes\":{\"label\":{\"value\":\"Tally 12\"},\"renderers\":[{\"id\":\"1209f01d-e09e-416c-91bc-604402bdab54\",\"type\":\"GlyphRenderer\"}]},\"id\":\"090565c1-b623-4cbc-aae1-e1cd9ea2639e\",\"type\":\"LegendItem\"},{\"attributes\":{},\"id\":\"5e5b9501-b1e0-44c2-97c3-9e456fa77653\",\"type\":\"PanTool\"},{\"attributes\":{\"bottom_units\":\"screen\",\"fill_alpha\":{\"value\":0.5},\"fill_color\":{\"value\":\"lightgrey\"},\"left_units\":\"screen\",\"level\":\"overlay\",\"line_alpha\":{\"value\":1.0},\"line_color\":{\"value\":\"black\"},\"line_dash\":[4,4],\"line_width\":{\"value\":2},\"plot\":null,\"render_mode\":\"css\",\"right_units\":\"screen\",\"top_units\":\"screen\"},\"id\":\"d2cea1c6-8167-441f-9ee5-e6d3e533d726\",\"type\":\"BoxAnnotation\"},{\"attributes\":{\"line_color\":\"#3288bd\",\"x\":{\"field\":\"x\"},\"y\":{\"field\":\"y\"}},\"id\":\"4a5e4793-ed52-4e45-8d9b-5567105a0fba\",\"type\":\"Line\"},{\"attributes\":{\"line_alpha\":0.1,\"line_color\":\"#1f77b4\",\"x\":{\"field\":\"x\"},\"y\":{\"field\":\"y\"}},\"id\":\"826974a7-7175-4eff-b12b-b8749333d6aa\",\"type\":\"Line\"},{\"attributes\":{\"data_source\":{\"id\":\"e4b1fb01-c635-4bbe-9736-89c2c6f02174\",\"type\":\"ColumnDataSource\"},\"glyph\":{\"id\":\"4a5e4793-ed52-4e45-8d9b-5567105a0fba\",\"type\":\"Line\"},\"hover_glyph\":null,\"muted_glyph\":null,\"nonselection_glyph\":{\"id\":\"ccc254b0-31d8-48dd-b1ba-ace7cf5e212a\",\"type\":\"Line\"},\"selection_glyph\":null,\"view\":{\"id\":\"1c9d4d56-933f-42b4-8357-93aaa6ac2f21\",\"type\":\"CDSView\"}},\"id\":\"36d38f80-7d22-4f0a-a1ab-bddf3f240786\",\"type\":\"GlyphRenderer\"},{\"attributes\":{\"callback\":null},\"id\":\"f5a5d07b-931d-4de8-b6ae-f48315492790\",\"type\":\"HoverTool\"},{\"attributes\":{\"axis_label\":\"Energy /MeV\",\"formatter\":{\"id\":\"eba82347-0453-49be-856e-514ab5519066\",\"type\":\"LogTickFormatter\"},\"plot\":{\"id\":\"70b75f99-e4f0-4088-bf97-218971e53ed1\",\"subtype\":\"Figure\",\"type\":\"Plot\"},\"ticker\":{\"id\":\"efc2f51b-d328-4cc6-b107-5e654ecdfec8\",\"type\":\"LogTicker\"}},\"id\":\"239f4fd5-3730-4930-a89d-f4ce4d6c42aa\",\"type\":\"LogAxis\"},{\"attributes\":{\"level\":\"underlay\",\"plot\":null,\"size\":10},\"id\":\"5ed6f18e-99ed-4d16-b5e9-2485085883da\",\"type\":\"TeeHead\"},{\"attributes\":{\"level\":\"underlay\",\"plot\":null,\"size\":10},\"id\":\"8760d86e-a017-4f35-bdb6-80f549c00663\",\"type\":\"TeeHead\"},{\"attributes\":{\"level\":\"underlay\",\"plot\":null,\"size\":10},\"id\":\"6e2fb979-7754-4d69-b25d-253e1a016a2e\",\"type\":\"TeeHead\"},{\"attributes\":{\"base\":{\"field\":\"base\",\"units\":\"data\"},\"lower\":{\"field\":\"lower\",\"units\":\"data\"},\"lower_head\":{\"id\":\"6e2fb979-7754-4d69-b25d-253e1a016a2e\",\"type\":\"TeeHead\"},\"plot\":{\"id\":\"70b75f99-e4f0-4088-bf97-218971e53ed1\",\"subtype\":\"Figure\",\"type\":\"Plot\"},\"source\":{\"id\":\"17915779-0b05-42b8-87c6-e2c6a8a53615\",\"type\":\"ColumnDataSource\"},\"upper\":{\"field\":\"upper\",\"units\":\"data\"},\"upper_head\":{\"id\":\"8760d86e-a017-4f35-bdb6-80f549c00663\",\"type\":\"TeeHead\"}},\"id\":\"f717fa0b-9c51-4f33-a22b-3e4beea02013\",\"type\":\"Whisker\"},{\"attributes\":{},\"id\":\"8ba03bd9-fb56-4679-b5b9-cc88d29ff694\",\"type\":\"ResetTool\"},{\"attributes\":{\"source\":{\"id\":\"1abbbe15-c6db-48c0-87f3-f63e340c152e\",\"type\":\"ColumnDataSource\"}},\"id\":\"bad27195-92a3-4b54-815e-f0860fa1e7c2\",\"type\":\"CDSView\"},{\"attributes\":{},\"id\":\"b7d0dfa1-6f29-421f-85ca-243b7429632c\",\"type\":\"LogScale\"},{\"attributes\":{\"source\":{\"id\":\"e4b1fb01-c635-4bbe-9736-89c2c6f02174\",\"type\":\"ColumnDataSource\"}},\"id\":\"1c9d4d56-933f-42b4-8357-93aaa6ac2f21\",\"type\":\"CDSView\"},{\"attributes\":{\"plot\":{\"id\":\"70b75f99-e4f0-4088-bf97-218971e53ed1\",\"subtype\":\"Figure\",\"type\":\"Plot\"},\"ticker\":{\"id\":\"efc2f51b-d328-4cc6-b107-5e654ecdfec8\",\"type\":\"LogTicker\"}},\"id\":\"bc0b45c9-7311-41ba-9d26-24063fcd3808\",\"type\":\"Grid\"},{\"attributes\":{},\"id\":\"9d8cac7a-a5f3-4601-ad48-2740a7f4f446\",\"type\":\"BasicTickFormatter\"},{\"attributes\":{\"level\":\"underlay\",\"plot\":null,\"size\":10},\"id\":\"0ed71ae9-2371-4546-8c8f-164be78183ba\",\"type\":\"TeeHead\"},{\"attributes\":{\"items\":[{\"id\":\"090565c1-b623-4cbc-aae1-e1cd9ea2639e\",\"type\":\"LegendItem\"},{\"id\":\"0178ae83-be44-4265-b092-ce627e4ab0d0\",\"type\":\"LegendItem\"}],\"plot\":{\"id\":\"70b75f99-e4f0-4088-bf97-218971e53ed1\",\"subtype\":\"Figure\",\"type\":\"Plot\"}},\"id\":\"33de5d8f-9254-4a78-abfa-304017e8765c\",\"type\":\"Legend\"},{\"attributes\":{\"ticker\":null},\"id\":\"eba82347-0453-49be-856e-514ab5519066\",\"type\":\"LogTickFormatter\"},{\"attributes\":{\"base\":{\"field\":\"base\",\"units\":\"data\"},\"lower\":{\"field\":\"lower\",\"units\":\"data\"},\"lower_head\":{\"id\":\"0ed71ae9-2371-4546-8c8f-164be78183ba\",\"type\":\"TeeHead\"},\"plot\":{\"id\":\"70b75f99-e4f0-4088-bf97-218971e53ed1\",\"subtype\":\"Figure\",\"type\":\"Plot\"},\"source\":{\"id\":\"6771473b-db24-410a-af65-f12d8e20709d\",\"type\":\"ColumnDataSource\"},\"upper\":{\"field\":\"upper\",\"units\":\"data\"},\"upper_head\":{\"id\":\"5ed6f18e-99ed-4d16-b5e9-2485085883da\",\"type\":\"TeeHead\"}},\"id\":\"e6297773-a79f-49d1-ae08-a79568a77d51\",\"type\":\"Whisker\"},{\"attributes\":{\"callback\":null},\"id\":\"0413c596-dac4-4b2b-a4f3-cea575855d89\",\"type\":\"DataRange1d\"},{\"attributes\":{\"axis_label\":\"Flux (1/cm^2)\",\"formatter\":{\"id\":\"9d8cac7a-a5f3-4601-ad48-2740a7f4f446\",\"type\":\"BasicTickFormatter\"},\"plot\":{\"id\":\"70b75f99-e4f0-4088-bf97-218971e53ed1\",\"subtype\":\"Figure\",\"type\":\"Plot\"},\"ticker\":{\"id\":\"757ec251-a2ce-42c3-a29c-70146d8084e2\",\"type\":\"BasicTicker\"}},\"id\":\"99ff1b8f-23f1-4770-9515-d936e55b6b7a\",\"type\":\"LinearAxis\"},{\"attributes\":{\"overlay\":{\"id\":\"d2cea1c6-8167-441f-9ee5-e6d3e533d726\",\"type\":\"BoxAnnotation\"}},\"id\":\"3d8073f4-1af0-4da0-9fc5-db8b6465a4fb\",\"type\":\"BoxZoomTool\"},{\"attributes\":{\"num_minor_ticks\":10},\"id\":\"efc2f51b-d328-4cc6-b107-5e654ecdfec8\",\"type\":\"LogTicker\"},{\"attributes\":{},\"id\":\"b52a2201-3f4a-4e93-8302-598a1adcd0a9\",\"type\":\"WheelZoomTool\"},{\"attributes\":{\"data_source\":{\"id\":\"1abbbe15-c6db-48c0-87f3-f63e340c152e\",\"type\":\"ColumnDataSource\"},\"glyph\":{\"id\":\"cdc45242-ae00-4406-bb0d-9ceb1dc97596\",\"type\":\"Line\"},\"hover_glyph\":null,\"muted_glyph\":null,\"nonselection_glyph\":{\"id\":\"826974a7-7175-4eff-b12b-b8749333d6aa\",\"type\":\"Line\"},\"selection_glyph\":null,\"view\":{\"id\":\"bad27195-92a3-4b54-815e-f0860fa1e7c2\",\"type\":\"CDSView\"}},\"id\":\"1209f01d-e09e-416c-91bc-604402bdab54\",\"type\":\"GlyphRenderer\"},{\"attributes\":{\"below\":[{\"id\":\"239f4fd5-3730-4930-a89d-f4ce4d6c42aa\",\"type\":\"LogAxis\"}],\"left\":[{\"id\":\"99ff1b8f-23f1-4770-9515-d936e55b6b7a\",\"type\":\"LinearAxis\"}],\"output_backend\":\"svg\",\"plot_height\":400,\"plot_width\":1200,\"renderers\":[{\"id\":\"239f4fd5-3730-4930-a89d-f4ce4d6c42aa\",\"type\":\"LogAxis\"},{\"id\":\"bc0b45c9-7311-41ba-9d26-24063fcd3808\",\"type\":\"Grid\"},{\"id\":\"99ff1b8f-23f1-4770-9515-d936e55b6b7a\",\"type\":\"LinearAxis\"},{\"id\":\"2fb3e458-3650-482f-a37f-4b95a47cd3c8\",\"type\":\"Grid\"},{\"id\":\"d2cea1c6-8167-441f-9ee5-e6d3e533d726\",\"type\":\"BoxAnnotation\"},{\"id\":\"e6297773-a79f-49d1-ae08-a79568a77d51\",\"type\":\"Whisker\"},{\"id\":\"33de5d8f-9254-4a78-abfa-304017e8765c\",\"type\":\"Legend\"},{\"id\":\"1209f01d-e09e-416c-91bc-604402bdab54\",\"type\":\"GlyphRenderer\"},{\"id\":\"f717fa0b-9c51-4f33-a22b-3e4beea02013\",\"type\":\"Whisker\"},{\"id\":\"36d38f80-7d22-4f0a-a1ab-bddf3f240786\",\"type\":\"GlyphRenderer\"}],\"title\":{\"id\":\"1a603acb-cac7-4442-aa94-89e977ca8aac\",\"type\":\"Title\"},\"toolbar\":{\"id\":\"e9de5f1e-da66-4786-840c-d4e1b3df105c\",\"type\":\"Toolbar\"},\"x_range\":{\"id\":\"0413c596-dac4-4b2b-a4f3-cea575855d89\",\"type\":\"DataRange1d\"},\"x_scale\":{\"id\":\"b7d0dfa1-6f29-421f-85ca-243b7429632c\",\"type\":\"LogScale\"},\"y_range\":{\"id\":\"02a577ab-8a57-4134-a451-cace3f19f3ba\",\"type\":\"DataRange1d\"},\"y_scale\":{\"id\":\"8dc35474-f88c-4cc8-b6cc-6f28eb4e8603\",\"type\":\"LinearScale\"}},\"id\":\"70b75f99-e4f0-4088-bf97-218971e53ed1\",\"subtype\":\"Figure\",\"type\":\"Plot\"},{\"attributes\":{\"callback\":null,\"column_names\":[\"x\",\"y\"],\"data\":{\"x\":{\"__ndarray__\":\"ldYm6AsuAT4NZzVfUJ83Ps/AAnckh20+grhhynZ0oj6jJvp8lBHXPkuwOJz51Qw/L26jAbwFQj+6SQwCK4d2Pylcj8L1KKw/mpmZmZmZ4T8AAAAAAAAWQA==\",\"dtype\":\"float64\",\"shape\":[11]},\"y\":{\"__ndarray__\":\"AAAAAAAAAAC/ZtywqDRjP3/QghrCeqs/3VUBL8uzkT8uDkAZPSOHP3GFfBadDIs/J6yU14UTjj+EdYN/sk6SP3lo/jO3740/zdx4CjWSqj9js6rtoTq4Pw==\",\"dtype\":\"float64\",\"shape\":[11]}},\"selected\":null,\"selection_policy\":null},\"id\":\"e4b1fb01-c635-4bbe-9736-89c2c6f02174\",\"type\":\"ColumnDataSource\"},{\"attributes\":{\"dimension\":1,\"plot\":{\"id\":\"70b75f99-e4f0-4088-bf97-218971e53ed1\",\"subtype\":\"Figure\",\"type\":\"Plot\"},\"ticker\":{\"id\":\"757ec251-a2ce-42c3-a29c-70146d8084e2\",\"type\":\"BasicTicker\"}},\"id\":\"2fb3e458-3650-482f-a37f-4b95a47cd3c8\",\"type\":\"Grid\"},{\"attributes\":{\"callback\":null,\"column_names\":[\"x\",\"y\"],\"data\":{\"x\":{\"__ndarray__\":\"ldYm6AsuAT4NZzVfUJ83Ps/AAnckh20+grhhynZ0oj6jJvp8lBHXPkuwOJz51Qw/L26jAbwFQj+6SQwCK4d2Pylcj8L1KKw/mpmZmZmZ4T8AAAAAAAAWQA==\",\"dtype\":\"float64\",\"shape\":[11]},\"y\":{\"__ndarray__\":\"AAAAAAAAAACpDfQ8xxRhP0QeTWrJL6o/oQhVh5e/lT+fI4uIcy2MPyXHa6pNvIw/Lv3UDbTkjj8w1ayYaIeQP8KtialEt5Y/8mMyCvAArz9AZH1HDP23Pw==\",\"dtype\":\"float64\",\"shape\":[11]}},\"selected\":null,\"selection_policy\":null},\"id\":\"1abbbe15-c6db-48c0-87f3-f63e340c152e\",\"type\":\"ColumnDataSource\"},{\"attributes\":{\"callback\":null},\"id\":\"02a577ab-8a57-4134-a451-cace3f19f3ba\",\"type\":\"DataRange1d\"},{\"attributes\":{\"line_color\":\"#5e4fa2\",\"x\":{\"field\":\"x\"},\"y\":{\"field\":\"y\"}},\"id\":\"cdc45242-ae00-4406-bb0d-9ceb1dc97596\",\"type\":\"Line\"},{\"attributes\":{\"line_alpha\":0.1,\"line_color\":\"#1f77b4\",\"x\":{\"field\":\"x\"},\"y\":{\"field\":\"y\"}},\"id\":\"ccc254b0-31d8-48dd-b1ba-ace7cf5e212a\",\"type\":\"Line\"},{\"attributes\":{},\"id\":\"86f13904-8d48-482d-b13f-16275a199d97\",\"type\":\"CrosshairTool\"},{\"attributes\":{\"plot\":null,\"text\":\"\"},\"id\":\"1a603acb-cac7-4442-aa94-89e977ca8aac\",\"type\":\"Title\"},{\"attributes\":{},\"id\":\"757ec251-a2ce-42c3-a29c-70146d8084e2\",\"type\":\"BasicTicker\"},{\"attributes\":{\"callback\":null,\"column_names\":[\"base\",\"lower\",\"upper\"],\"data\":{\"base\":{\"__ndarray__\":\"ldYm6AsuAT4NZzVfUJ83Ps/AAnckh20+grhhynZ0oj6jJvp8lBHXPkuwOJz51Qw/L26jAbwFQj+6SQwCK4d2Pylcj8L1KKw/mpmZmZmZ4T8AAAAAAAAWQA==\",\"dtype\":\"float64\",\"shape\":[11]},\"lower\":{\"__ndarray__\":\"AAAAAAAAAADVXrpn8TpeP35mP5a6cKk/4BjX3U2glD8ep9yIXCWKP/5m3fXpqYo/zKfB2Y61jD9E9UFcbNSOP6cf+5Zbc5U/kdVXa275rT+h2DiuqWm3Pw==\",\"dtype\":\"float64\",\"shape\":[11]},\"upper\":{\"__ndarray__\":\"AAAAAAAAAADn6wrGFQxjPwrWWj7Y7qo/Y/jSMOHelj8goDmIijWOP0wn+l6xzo4/SCn0oOyJkD+9rzgDm6SRP947GLwt+5c/KXmG1DgEsD/f78HgbpC4Pw==\",\"dtype\":\"float64\",\"shape\":[11]}},\"selected\":null,\"selection_policy\":null},\"id\":\"6771473b-db24-410a-af65-f12d8e20709d\",\"type\":\"ColumnDataSource\"},{\"attributes\":{\"label\":{\"value\":\"Tally 22\"},\"renderers\":[{\"id\":\"36d38f80-7d22-4f0a-a1ab-bddf3f240786\",\"type\":\"GlyphRenderer\"}]},\"id\":\"0178ae83-be44-4265-b092-ce627e4ab0d0\",\"type\":\"LegendItem\"},{\"attributes\":{},\"id\":\"8dc35474-f88c-4cc8-b6cc-6f28eb4e8603\",\"type\":\"LinearScale\"},{\"attributes\":{\"callback\":null,\"column_names\":[\"base\",\"lower\",\"upper\"],\"data\":{\"base\":{\"__ndarray__\":\"ldYm6AsuAT4NZzVfUJ83Ps/AAnckh20+grhhynZ0oj6jJvp8lBHXPkuwOJz51Qw/L26jAbwFQj+6SQwCK4d2Pylcj8L1KKw/mpmZmZmZ4T8AAAAAAAAWQA==\",\"dtype\":\"float64\",\"shape\":[11]},\"lower\":{\"__ndarray__\":\"AAAAAAAAAAA9GPWLBQhdP66+OBzWpKk/pjtn6WZnjz+aZWnMX2uDP2YYRR3Y+4Y/4I4oYy7EiT+X8BxZC+yMP4kYxTLjfIk/iM7Ufrb9pz8AAXe2AeO2Pw==\",\"dtype\":\"float64\",\"shape\":[11]},\"upper\":{\"__ndarray__\":\"AAAAAAAAAABfQb6bTuVnP1DizBiuUK0/5w1P6eKzkz/CthZmGtuKP3zysw9iHY8/t2QApm4xkT+8cnhSXyeWPzTcm5pFMZE/EusclrMmrT/FZd4kQpK5Pw==\",\"dtype\":\"float64\",\"shape\":[11]}},\"selected\":null,\"selection_policy\":null},\"id\":\"17915779-0b05-42b8-87c6-e2c6a8a53615\",\"type\":\"ColumnDataSource\"},{\"attributes\":{\"active_drag\":\"auto\",\"active_inspect\":\"auto\",\"active_scroll\":\"auto\",\"active_tap\":\"auto\",\"tools\":[{\"id\":\"86f13904-8d48-482d-b13f-16275a199d97\",\"type\":\"CrosshairTool\"},{\"id\":\"5e5b9501-b1e0-44c2-97c3-9e456fa77653\",\"type\":\"PanTool\"},{\"id\":\"b52a2201-3f4a-4e93-8302-598a1adcd0a9\",\"type\":\"WheelZoomTool\"},{\"id\":\"3d8073f4-1af0-4da0-9fc5-db8b6465a4fb\",\"type\":\"BoxZoomTool\"},{\"id\":\"8ba03bd9-fb56-4679-b5b9-cc88d29ff694\",\"type\":\"ResetTool\"},{\"id\":\"f5a5d07b-931d-4de8-b6ae-f48315492790\",\"type\":\"HoverTool\"}]},\"id\":\"e9de5f1e-da66-4786-840c-d4e1b3df105c\",\"type\":\"Toolbar\"}],\"root_ids\":[\"70b75f99-e4f0-4088-bf97-218971e53ed1\"]},\"title\":\"Bokeh Application\",\"version\":\"0.12.15\"}};\n",
       "  var render_items = [{\"docid\":\"c009d4a0-4a23-4129-81f9-1311fcaeef20\",\"elementid\":\"6e8fa28a-39c1-43ce-b791-9b923c28a3b6\",\"modelid\":\"70b75f99-e4f0-4088-bf97-218971e53ed1\"}];\n",
       "  root.Bokeh.embed.embed_items_notebook(docs_json, render_items);\n",
       "\n",
       "  }\n",
       "  if (root.Bokeh !== undefined) {\n",
       "    embed_document(root);\n",
       "  } else {\n",
       "    var attempts = 0;\n",
       "    var timer = setInterval(function(root) {\n",
       "      if (root.Bokeh !== undefined) {\n",
       "        embed_document(root);\n",
       "        clearInterval(timer);\n",
       "      }\n",
       "      attempts++;\n",
       "      if (attempts > 100) {\n",
       "        console.log(\"Bokeh: ERROR: Unable to run BokehJS code because BokehJS library is missing\")\n",
       "        clearInterval(timer);\n",
       "      }\n",
       "    }, 10, root)\n",
       "  }\n",
       "})(window);"
      ],
      "application/vnd.bokehjs_exec.v0+json": ""
     },
     "metadata": {
      "application/vnd.bokehjs_exec.v0+json": {
       "id": "70b75f99-e4f0-4088-bf97-218971e53ed1"
      }
     },
     "output_type": "display_data"
    },
    {
     "name": "stderr",
     "output_type": "stream",
     "text": [
      "WARNING:bokeh.io.export:The webdriver raised a TimeoutException while waiting for                      a 'bokeh:idle' event to signify that the layout has rendered.                      Something may have gone wrong.\n"
     ]
    },
    {
     "name": "stdout",
     "output_type": "stream",
     "text": [
      "ln: failed to create symbolic link '/home/angus/snap/inkscape/4019/.config/gtk-2.0/gtkfilechooser.ini': File exists\n",
      "Gtk-Message: Failed to load module \"gail\"\n",
      "Gtk-Message: Failed to load module \"atk-bridge\"\n",
      "Gtk-Message: Failed to load module \"canberra-gtk-module\"\n",
      "\n",
      "(inkscape:4833): libgnomevfs-WARNING **: Unable to create ~/.gnome2 directory: Permission denied\n",
      "\n",
      "** (inkscape:4833): WARNING **: SPIStyle::readIfUnset(): Invalid style property id: 8 value: 400px\n",
      "\n",
      "** (inkscape:4833): WARNING **: SPIStyle::readIfUnset(): Invalid style property id: 7 value: 1200px\n",
      "Background RRGGBBAA: ffffff00\n",
      "Area 0:0:1200:400 exported to 1200 x 400 pixels (96 dpi)\n",
      "Bitmap saved as: /home/angus/Git/mcnp_project/tallies_20k_norm.png\n"
     ]
    },
    {
     "data": {
      "text/html": [
       "\n",
       "<div class=\"bk-root\">\n",
       "    <div class=\"bk-plotdiv\" id=\"cfa079b6-2262-4d76-8bfc-f354bc223041\"></div>\n",
       "</div>"
      ]
     },
     "metadata": {},
     "output_type": "display_data"
    },
    {
     "data": {
      "application/javascript": [
       "(function(root) {\n",
       "  function embed_document(root) {\n",
       "    \n",
       "  var docs_json = {\"fd601e86-8978-4d82-ace0-150729cc7928\":{\"roots\":{\"references\":[{\"attributes\":{},\"id\":\"6e1337db-9271-4096-b677-924de035bbdb\",\"type\":\"LinearScale\"},{\"attributes\":{\"axis_label\":\"Energy /MeV\",\"formatter\":{\"id\":\"cbb63fc6-eaf7-42b1-b347-78f5fa1145da\",\"type\":\"LogTickFormatter\"},\"plot\":{\"id\":\"19fdf191-f176-4b61-bd92-8e0f9385a8d0\",\"subtype\":\"Figure\",\"type\":\"Plot\"},\"ticker\":{\"id\":\"82039009-adb6-4e6c-a7b6-63aa0b518b18\",\"type\":\"LogTicker\"}},\"id\":\"79d37ffb-8b70-4ab4-b1c1-8f6ed2e75be1\",\"type\":\"LogAxis\"},{\"attributes\":{\"dimension\":1,\"plot\":{\"id\":\"19fdf191-f176-4b61-bd92-8e0f9385a8d0\",\"subtype\":\"Figure\",\"type\":\"Plot\"},\"ticker\":{\"id\":\"029bf94b-53b3-48b0-87c1-e7709f9eb38e\",\"type\":\"BasicTicker\"}},\"id\":\"7ef8f26e-7982-48cb-bcb1-7f44860eb458\",\"type\":\"Grid\"},{\"attributes\":{\"callback\":null},\"id\":\"d649550b-111f-43ab-abd8-428ade0f3489\",\"type\":\"DataRange1d\"},{\"attributes\":{\"base\":{\"field\":\"base\",\"units\":\"data\"},\"lower\":{\"field\":\"lower\",\"units\":\"data\"},\"lower_head\":{\"id\":\"6dcd07dc-fb62-483f-98a7-ef6e5a789f91\",\"type\":\"TeeHead\"},\"plot\":{\"id\":\"19fdf191-f176-4b61-bd92-8e0f9385a8d0\",\"subtype\":\"Figure\",\"type\":\"Plot\"},\"source\":{\"id\":\"640dc973-9376-4f24-bb7c-40b12d6b63ad\",\"type\":\"ColumnDataSource\"},\"upper\":{\"field\":\"upper\",\"units\":\"data\"},\"upper_head\":{\"id\":\"fe745a0e-d073-45df-8ebd-71c7257fcd06\",\"type\":\"TeeHead\"}},\"id\":\"9a8a77a4-e2e2-490e-b2d0-0525a457cab7\",\"type\":\"Whisker\"},{\"attributes\":{\"base\":{\"field\":\"base\",\"units\":\"data\"},\"lower\":{\"field\":\"lower\",\"units\":\"data\"},\"lower_head\":{\"id\":\"b82b7879-70e9-4b17-9654-13f43b8f2f3f\",\"type\":\"TeeHead\"},\"plot\":{\"id\":\"19fdf191-f176-4b61-bd92-8e0f9385a8d0\",\"subtype\":\"Figure\",\"type\":\"Plot\"},\"source\":{\"id\":\"7043d542-19cd-48c4-8fa4-c2a9b049055e\",\"type\":\"ColumnDataSource\"},\"upper\":{\"field\":\"upper\",\"units\":\"data\"},\"upper_head\":{\"id\":\"7991c438-5134-4446-9cdb-51c6aaf24a5f\",\"type\":\"TeeHead\"}},\"id\":\"01141d87-33ba-4f42-8857-602421d980bb\",\"type\":\"Whisker\"},{\"attributes\":{\"num_minor_ticks\":10},\"id\":\"82039009-adb6-4e6c-a7b6-63aa0b518b18\",\"type\":\"LogTicker\"},{\"attributes\":{},\"id\":\"029bf94b-53b3-48b0-87c1-e7709f9eb38e\",\"type\":\"BasicTicker\"},{\"attributes\":{},\"id\":\"beb3e3be-7630-4366-9fca-17ac1dd2263a\",\"type\":\"WheelZoomTool\"},{\"attributes\":{\"plot\":{\"id\":\"19fdf191-f176-4b61-bd92-8e0f9385a8d0\",\"subtype\":\"Figure\",\"type\":\"Plot\"},\"ticker\":{\"id\":\"82039009-adb6-4e6c-a7b6-63aa0b518b18\",\"type\":\"LogTicker\"}},\"id\":\"f478b1e6-2f18-44ca-882f-b71af7d2c163\",\"type\":\"Grid\"},{\"attributes\":{\"level\":\"underlay\",\"plot\":null,\"size\":10},\"id\":\"fe745a0e-d073-45df-8ebd-71c7257fcd06\",\"type\":\"TeeHead\"},{\"attributes\":{\"source\":{\"id\":\"f25ffe7c-bfae-4243-b1d6-a89c3efb83b4\",\"type\":\"ColumnDataSource\"}},\"id\":\"b545f095-6379-4d16-8c03-97452050789a\",\"type\":\"CDSView\"},{\"attributes\":{\"below\":[{\"id\":\"79d37ffb-8b70-4ab4-b1c1-8f6ed2e75be1\",\"type\":\"LogAxis\"}],\"left\":[{\"id\":\"18ef5c97-c8eb-44c9-ae8d-6efdc2f92fbf\",\"type\":\"LinearAxis\"}],\"output_backend\":\"svg\",\"plot_height\":400,\"plot_width\":1200,\"renderers\":[{\"id\":\"79d37ffb-8b70-4ab4-b1c1-8f6ed2e75be1\",\"type\":\"LogAxis\"},{\"id\":\"f478b1e6-2f18-44ca-882f-b71af7d2c163\",\"type\":\"Grid\"},{\"id\":\"18ef5c97-c8eb-44c9-ae8d-6efdc2f92fbf\",\"type\":\"LinearAxis\"},{\"id\":\"7ef8f26e-7982-48cb-bcb1-7f44860eb458\",\"type\":\"Grid\"},{\"id\":\"39f05c2b-05f6-456d-b327-1b83b2090f51\",\"type\":\"BoxAnnotation\"},{\"id\":\"9a8a77a4-e2e2-490e-b2d0-0525a457cab7\",\"type\":\"Whisker\"},{\"id\":\"e15a7bb6-2b20-4d21-aee2-e8653b0e1207\",\"type\":\"Legend\"},{\"id\":\"70efcc75-5533-4339-b7be-c35c17316efe\",\"type\":\"GlyphRenderer\"},{\"id\":\"01141d87-33ba-4f42-8857-602421d980bb\",\"type\":\"Whisker\"},{\"id\":\"b0d18318-dedf-415f-aa68-adfcac5b4720\",\"type\":\"GlyphRenderer\"}],\"title\":{\"id\":\"a03465e1-2820-49c4-a2e0-5008512cc00e\",\"type\":\"Title\"},\"toolbar\":{\"id\":\"0cb8b069-bcfd-423d-8747-4b5462d35957\",\"type\":\"Toolbar\"},\"x_range\":{\"id\":\"1d66cf5f-0f42-48e8-9796-65c3a824c720\",\"type\":\"DataRange1d\"},\"x_scale\":{\"id\":\"2a3b7f8b-0385-4818-9dd1-58172b1a92fc\",\"type\":\"LogScale\"},\"y_range\":{\"id\":\"d649550b-111f-43ab-abd8-428ade0f3489\",\"type\":\"DataRange1d\"},\"y_scale\":{\"id\":\"6e1337db-9271-4096-b677-924de035bbdb\",\"type\":\"LinearScale\"}},\"id\":\"19fdf191-f176-4b61-bd92-8e0f9385a8d0\",\"subtype\":\"Figure\",\"type\":\"Plot\"},{\"attributes\":{\"line_color\":\"#5e4fa2\",\"x\":{\"field\":\"x\"},\"y\":{\"field\":\"y\"}},\"id\":\"3743d1c0-342a-417b-a867-7f531dde1ec8\",\"type\":\"Line\"},{\"attributes\":{\"callback\":null},\"id\":\"1d66cf5f-0f42-48e8-9796-65c3a824c720\",\"type\":\"DataRange1d\"},{\"attributes\":{\"line_alpha\":0.1,\"line_color\":\"#1f77b4\",\"x\":{\"field\":\"x\"},\"y\":{\"field\":\"y\"}},\"id\":\"c287029c-7922-4087-854c-f4397a1870c6\",\"type\":\"Line\"},{\"attributes\":{},\"id\":\"1debd800-d49d-4c52-ae19-19ee7fa4b7ff\",\"type\":\"PanTool\"},{\"attributes\":{},\"id\":\"5a7fd1b6-c875-4d9f-b086-98c8e0529e3d\",\"type\":\"BasicTickFormatter\"},{\"attributes\":{\"data_source\":{\"id\":\"f25ffe7c-bfae-4243-b1d6-a89c3efb83b4\",\"type\":\"ColumnDataSource\"},\"glyph\":{\"id\":\"c0eb28ca-a753-42ec-a8b8-c79e90293d86\",\"type\":\"Line\"},\"hover_glyph\":null,\"muted_glyph\":null,\"nonselection_glyph\":{\"id\":\"c287029c-7922-4087-854c-f4397a1870c6\",\"type\":\"Line\"},\"selection_glyph\":null,\"view\":{\"id\":\"b545f095-6379-4d16-8c03-97452050789a\",\"type\":\"CDSView\"}},\"id\":\"b0d18318-dedf-415f-aa68-adfcac5b4720\",\"type\":\"GlyphRenderer\"},{\"attributes\":{\"callback\":null,\"column_names\":[\"base\",\"lower\",\"upper\"],\"data\":{\"base\":{\"__ndarray__\":\"ldYm6AsuAT4NZzVfUJ83Ps/AAnckh20+grhhynZ0oj6jJvp8lBHXPkuwOJz51Qw/L26jAbwFQj+6SQwCK4d2Pylcj8L1KKw/mpmZmZmZ4T8AAAAAAAAWQA==\",\"dtype\":\"float64\",\"shape\":[11]},\"lower\":{\"__ndarray__\":\"X9z9/dQ2PT5+Pycw4oS6PiusRRFPpgc/woY9+l+r8D5ep1SwWxjiPtJ5zbyLUOM+4NsbhRkj4j40sFaLCSbmPry+vI0P2uw+3SnP4H7wBD8BVZt6bjESPw==\",\"dtype\":\"float64\",\"shape\":[11]},\"upper\":{\"__ndarray__\":\"GgaXayE4Zz6bDVIykX2/PuDp+vHHqAg/8vnde/cC8j6tWKEndRHkPn+1IW307eU+taqfaeRH5D6qw81vRUvpPsUcexP/3O8+DHb/5ykKBj+/RI1fmNASPw==\",\"dtype\":\"float64\",\"shape\":[11]}},\"selected\":null,\"selection_policy\":null},\"id\":\"7043d542-19cd-48c4-8fa4-c2a9b049055e\",\"type\":\"ColumnDataSource\"},{\"attributes\":{\"line_color\":\"#3288bd\",\"x\":{\"field\":\"x\"},\"y\":{\"field\":\"y\"}},\"id\":\"c0eb28ca-a753-42ec-a8b8-c79e90293d86\",\"type\":\"Line\"},{\"attributes\":{\"plot\":null,\"text\":\"\"},\"id\":\"a03465e1-2820-49c4-a2e0-5008512cc00e\",\"type\":\"Title\"},{\"attributes\":{\"callback\":null},\"id\":\"f521ba1e-9d4d-4112-8e73-da5ae882fee5\",\"type\":\"HoverTool\"},{\"attributes\":{\"level\":\"underlay\",\"plot\":null,\"size\":10},\"id\":\"7991c438-5134-4446-9cdb-51c6aaf24a5f\",\"type\":\"TeeHead\"},{\"attributes\":{\"bottom_units\":\"screen\",\"fill_alpha\":{\"value\":0.5},\"fill_color\":{\"value\":\"lightgrey\"},\"left_units\":\"screen\",\"level\":\"overlay\",\"line_alpha\":{\"value\":1.0},\"line_color\":{\"value\":\"black\"},\"line_dash\":[4,4],\"line_width\":{\"value\":2},\"plot\":null,\"render_mode\":\"css\",\"right_units\":\"screen\",\"top_units\":\"screen\"},\"id\":\"39f05c2b-05f6-456d-b327-1b83b2090f51\",\"type\":\"BoxAnnotation\"},{\"attributes\":{},\"id\":\"72169279-991b-44a3-b305-67aae70067b5\",\"type\":\"ResetTool\"},{\"attributes\":{},\"id\":\"51e12275-3dc6-4e51-8b89-baf61897142b\",\"type\":\"CrosshairTool\"},{\"attributes\":{\"axis_label\":\"Flux (1/cm^2)\",\"formatter\":{\"id\":\"5a7fd1b6-c875-4d9f-b086-98c8e0529e3d\",\"type\":\"BasicTickFormatter\"},\"plot\":{\"id\":\"19fdf191-f176-4b61-bd92-8e0f9385a8d0\",\"subtype\":\"Figure\",\"type\":\"Plot\"},\"ticker\":{\"id\":\"029bf94b-53b3-48b0-87c1-e7709f9eb38e\",\"type\":\"BasicTicker\"}},\"id\":\"18ef5c97-c8eb-44c9-ae8d-6efdc2f92fbf\",\"type\":\"LinearAxis\"},{\"attributes\":{\"items\":[{\"id\":\"ff873f8d-a971-4204-8f58-3df59562694f\",\"type\":\"LegendItem\"},{\"id\":\"e59777de-1c45-4392-9ff5-aff504875425\",\"type\":\"LegendItem\"}],\"plot\":{\"id\":\"19fdf191-f176-4b61-bd92-8e0f9385a8d0\",\"subtype\":\"Figure\",\"type\":\"Plot\"}},\"id\":\"e15a7bb6-2b20-4d21-aee2-e8653b0e1207\",\"type\":\"Legend\"},{\"attributes\":{\"callback\":null,\"column_names\":[\"base\",\"lower\",\"upper\"],\"data\":{\"base\":{\"__ndarray__\":\"ldYm6AsuAT4NZzVfUJ83Ps/AAnckh20+grhhynZ0oj6jJvp8lBHXPkuwOJz51Qw/L26jAbwFQj+6SQwCK4d2Pylcj8L1KKw/mpmZmZmZ4T8AAAAAAAAWQA==\",\"dtype\":\"float64\",\"shape\":[11]},\"lower\":{\"__ndarray__\":\"GH+SY1a0UD6mmRhIOKXSPpvr96y0Yx8/AlKzX1eRCT/M13Ejml0AP7EBb1A+rQA/5NZcltjWAj9y+OkI6jkEPxw/Ur0qMgs/QJOlZVgGIz+rY3Nm8X8sPw==\",\"dtype\":\"float64\",\"shape\":[11]},\"upper\":{\"__ndarray__\":\"uB6m1xWoZj6Sfx6fv0fUPmae7XdM9x8/FtK5qptrCj9l1t+fXyYBP6+J/JiEfAE/GhBb7c6tAz8lMYwMYBwFP15YGi5mMQw/xMBGjrZsIz+E4hs/P+ssPw==\",\"dtype\":\"float64\",\"shape\":[11]}},\"selected\":null,\"selection_policy\":null},\"id\":\"640dc973-9376-4f24-bb7c-40b12d6b63ad\",\"type\":\"ColumnDataSource\"},{\"attributes\":{\"data_source\":{\"id\":\"c25bbd6f-e75f-41c0-8056-dd08f6e2227b\",\"type\":\"ColumnDataSource\"},\"glyph\":{\"id\":\"3743d1c0-342a-417b-a867-7f531dde1ec8\",\"type\":\"Line\"},\"hover_glyph\":null,\"muted_glyph\":null,\"nonselection_glyph\":{\"id\":\"71b20836-e074-4309-883b-156bb8c4bc67\",\"type\":\"Line\"},\"selection_glyph\":null,\"view\":{\"id\":\"afd12458-b8fe-4b66-9f26-a615a0974a0f\",\"type\":\"CDSView\"}},\"id\":\"70efcc75-5533-4339-b7be-c35c17316efe\",\"type\":\"GlyphRenderer\"},{\"attributes\":{\"callback\":null,\"column_names\":[\"x\",\"y\"],\"data\":{\"x\":{\"__ndarray__\":\"ldYm6AsuAT4NZzVfUJ83Ps/AAnckh20+grhhynZ0oj6jJvp8lBHXPkuwOJz51Qw/L26jAbwFQj+6SQwCK4d2Pylcj8L1KKw/mpmZmZmZ4T8AAAAAAAAWQA==\",\"dtype\":\"float64\",\"shape\":[11]},\"y\":{\"__ndarray__\":\"psFWC/zeWj6MpjyxOQG9PgZLoIGLJwg/WsANuytX8T4FAPtr6BTjPqmX9xRAn+Q+SsNd93414z7vOZJ9p7jnPsDtm1CHW+4+9E9nZFR9BT/gTBRtA4ESPw==\",\"dtype\":\"float64\",\"shape\":[11]}},\"selected\":null,\"selection_policy\":null},\"id\":\"f25ffe7c-bfae-4243-b1d6-a89c3efb83b4\",\"type\":\"ColumnDataSource\"},{\"attributes\":{\"overlay\":{\"id\":\"39f05c2b-05f6-456d-b327-1b83b2090f51\",\"type\":\"BoxAnnotation\"}},\"id\":\"1f9ec8ff-bdd0-4fbb-b601-7d80b51d79a1\",\"type\":\"BoxZoomTool\"},{\"attributes\":{\"callback\":null,\"column_names\":[\"x\",\"y\"],\"data\":{\"x\":{\"__ndarray__\":\"ldYm6AsuAT4NZzVfUJ83Ps/AAnckh20+grhhynZ0oj6jJvp8lBHXPkuwOJz51Qw/L26jAbwFQj+6SQwCK4d2Pylcj8L1KKw/mpmZmZmZ4T8AAAAAAAAWQA==\",\"dtype\":\"float64\",\"shape\":[11]},\"y\":{\"__ndarray__\":\"RF5vCUECXz6cjJvze3bTPgDFcpKArR8/DJI2hXn+CT8Y16jh/MEAP7DFtXThFAE/f/PbwVNCAz/LFLsKJasEP71LtnXIsQs/Air2eYc5Iz8Xo8dSmLUsPw==\",\"dtype\":\"float64\",\"shape\":[11]}},\"selected\":null,\"selection_policy\":null},\"id\":\"c25bbd6f-e75f-41c0-8056-dd08f6e2227b\",\"type\":\"ColumnDataSource\"},{\"attributes\":{\"label\":{\"value\":\"Tally 22\"},\"renderers\":[{\"id\":\"b0d18318-dedf-415f-aa68-adfcac5b4720\",\"type\":\"GlyphRenderer\"}]},\"id\":\"e59777de-1c45-4392-9ff5-aff504875425\",\"type\":\"LegendItem\"},{\"attributes\":{\"line_alpha\":0.1,\"line_color\":\"#1f77b4\",\"x\":{\"field\":\"x\"},\"y\":{\"field\":\"y\"}},\"id\":\"71b20836-e074-4309-883b-156bb8c4bc67\",\"type\":\"Line\"},{\"attributes\":{},\"id\":\"2a3b7f8b-0385-4818-9dd1-58172b1a92fc\",\"type\":\"LogScale\"},{\"attributes\":{\"level\":\"underlay\",\"plot\":null,\"size\":10},\"id\":\"b82b7879-70e9-4b17-9654-13f43b8f2f3f\",\"type\":\"TeeHead\"},{\"attributes\":{\"label\":{\"value\":\"Tally 12\"},\"renderers\":[{\"id\":\"70efcc75-5533-4339-b7be-c35c17316efe\",\"type\":\"GlyphRenderer\"}]},\"id\":\"ff873f8d-a971-4204-8f58-3df59562694f\",\"type\":\"LegendItem\"},{\"attributes\":{\"level\":\"underlay\",\"plot\":null,\"size\":10},\"id\":\"6dcd07dc-fb62-483f-98a7-ef6e5a789f91\",\"type\":\"TeeHead\"},{\"attributes\":{\"source\":{\"id\":\"c25bbd6f-e75f-41c0-8056-dd08f6e2227b\",\"type\":\"ColumnDataSource\"}},\"id\":\"afd12458-b8fe-4b66-9f26-a615a0974a0f\",\"type\":\"CDSView\"},{\"attributes\":{\"ticker\":null},\"id\":\"cbb63fc6-eaf7-42b1-b347-78f5fa1145da\",\"type\":\"LogTickFormatter\"},{\"attributes\":{\"active_drag\":\"auto\",\"active_inspect\":\"auto\",\"active_scroll\":\"auto\",\"active_tap\":\"auto\",\"tools\":[{\"id\":\"51e12275-3dc6-4e51-8b89-baf61897142b\",\"type\":\"CrosshairTool\"},{\"id\":\"1debd800-d49d-4c52-ae19-19ee7fa4b7ff\",\"type\":\"PanTool\"},{\"id\":\"beb3e3be-7630-4366-9fca-17ac1dd2263a\",\"type\":\"WheelZoomTool\"},{\"id\":\"1f9ec8ff-bdd0-4fbb-b601-7d80b51d79a1\",\"type\":\"BoxZoomTool\"},{\"id\":\"72169279-991b-44a3-b305-67aae70067b5\",\"type\":\"ResetTool\"},{\"id\":\"f521ba1e-9d4d-4112-8e73-da5ae882fee5\",\"type\":\"HoverTool\"}]},\"id\":\"0cb8b069-bcfd-423d-8747-4b5462d35957\",\"type\":\"Toolbar\"}],\"root_ids\":[\"19fdf191-f176-4b61-bd92-8e0f9385a8d0\"]},\"title\":\"Bokeh Application\",\"version\":\"0.12.15\"}};\n",
       "  var render_items = [{\"docid\":\"fd601e86-8978-4d82-ace0-150729cc7928\",\"elementid\":\"cfa079b6-2262-4d76-8bfc-f354bc223041\",\"modelid\":\"19fdf191-f176-4b61-bd92-8e0f9385a8d0\"}];\n",
       "  root.Bokeh.embed.embed_items_notebook(docs_json, render_items);\n",
       "\n",
       "  }\n",
       "  if (root.Bokeh !== undefined) {\n",
       "    embed_document(root);\n",
       "  } else {\n",
       "    var attempts = 0;\n",
       "    var timer = setInterval(function(root) {\n",
       "      if (root.Bokeh !== undefined) {\n",
       "        embed_document(root);\n",
       "        clearInterval(timer);\n",
       "      }\n",
       "      attempts++;\n",
       "      if (attempts > 100) {\n",
       "        console.log(\"Bokeh: ERROR: Unable to run BokehJS code because BokehJS library is missing\")\n",
       "        clearInterval(timer);\n",
       "      }\n",
       "    }, 10, root)\n",
       "  }\n",
       "})(window);"
      ],
      "application/vnd.bokehjs_exec.v0+json": ""
     },
     "metadata": {
      "application/vnd.bokehjs_exec.v0+json": {
       "id": "19fdf191-f176-4b61-bd92-8e0f9385a8d0"
      }
     },
     "output_type": "display_data"
    },
    {
     "name": "stderr",
     "output_type": "stream",
     "text": [
      "WARNING:bokeh.io.export:The webdriver raised a TimeoutException while waiting for                      a 'bokeh:idle' event to signify that the layout has rendered.                      Something may have gone wrong.\n"
     ]
    },
    {
     "name": "stdout",
     "output_type": "stream",
     "text": [
      "ln: failed to create symbolic link '/home/angus/snap/inkscape/4019/.config/gtk-2.0/gtkfilechooser.ini': File exists\n",
      "Gtk-Message: Failed to load module \"gail\"\n",
      "Gtk-Message: Failed to load module \"atk-bridge\"\n",
      "Gtk-Message: Failed to load module \"canberra-gtk-module\"\n",
      "\n",
      "(inkscape:4922): libgnomevfs-WARNING **: Unable to create ~/.gnome2 directory: Permission denied\n",
      "\n",
      "** (inkscape:4922): WARNING **: SPIStyle::readIfUnset(): Invalid style property id: 8 value: 400px\n",
      "\n",
      "** (inkscape:4922): WARNING **: SPIStyle::readIfUnset(): Invalid style property id: 7 value: 1200px\n",
      "Background RRGGBBAA: ffffff00\n",
      "Area 0:0:1200:400 exported to 1200 x 400 pixels (96 dpi)\n",
      "Bitmap saved as: /home/angus/Git/mcnp_project/tallies_210k.png\n"
     ]
    },
    {
     "data": {
      "text/html": [
       "\n",
       "<div class=\"bk-root\">\n",
       "    <div class=\"bk-plotdiv\" id=\"6ab5fef2-7679-43ed-acf1-4ed1a70d9e59\"></div>\n",
       "</div>"
      ]
     },
     "metadata": {},
     "output_type": "display_data"
    },
    {
     "data": {
      "application/javascript": [
       "(function(root) {\n",
       "  function embed_document(root) {\n",
       "    \n",
       "  var docs_json = {\"eae70e9d-2efd-4461-9cec-b3bc0338d75e\":{\"roots\":{\"references\":[{\"attributes\":{\"data_source\":{\"id\":\"419a9995-f4b5-4424-bad9-0cb45295275c\",\"type\":\"ColumnDataSource\"},\"glyph\":{\"id\":\"a9f1bfb9-cf91-4ab2-b32a-4521781370e3\",\"type\":\"Line\"},\"hover_glyph\":null,\"muted_glyph\":null,\"nonselection_glyph\":{\"id\":\"b6ae614c-c692-43b1-9077-b72cf3ccd44a\",\"type\":\"Line\"},\"selection_glyph\":null,\"view\":{\"id\":\"0a95ebdc-4f4e-4478-ac20-940783bb25bd\",\"type\":\"CDSView\"}},\"id\":\"038e6c3e-5a15-49b0-9989-e54a49de4a6e\",\"type\":\"GlyphRenderer\"},{\"attributes\":{\"num_minor_ticks\":10},\"id\":\"595664a7-5fb2-48f7-bffb-0fff6bb7f1f3\",\"type\":\"LogTicker\"},{\"attributes\":{},\"id\":\"dfabf852-875b-4c17-8e5a-dc15ab217f93\",\"type\":\"WheelZoomTool\"},{\"attributes\":{},\"id\":\"b64a9fe1-4c29-4e0e-ad8d-4249d0c384af\",\"type\":\"BasicTicker\"},{\"attributes\":{\"callback\":null,\"column_names\":[\"x\",\"y\"],\"data\":{\"x\":{\"__ndarray__\":\"ldYm6AsuAT4NZzVfUJ83Ps/AAnckh20+grhhynZ0oj6jJvp8lBHXPkuwOJz51Qw/L26jAbwFQj+6SQwCK4d2Pylcj8L1KKw/mpmZmZmZ4T8AAAAAAAAWQA==\",\"dtype\":\"float64\",\"shape\":[11]},\"y\":{\"__ndarray__\":\"Lq0iXxDa6T4YO9JB3DlgP+y6vxHVaKo/pzFjW8mrlT+AuNwAEPGLPwI+bOBGe4w/PC2KoWAOkD9V3Tc5MDuRP034JS6zFpc/RS3K6woHsD++iZShTe+3Pw==\",\"dtype\":\"float64\",\"shape\":[11]}},\"selected\":null,\"selection_policy\":null},\"id\":\"419a9995-f4b5-4424-bad9-0cb45295275c\",\"type\":\"ColumnDataSource\"},{\"attributes\":{\"line_alpha\":0.1,\"line_color\":\"#1f77b4\",\"x\":{\"field\":\"x\"},\"y\":{\"field\":\"y\"}},\"id\":\"b6ae614c-c692-43b1-9077-b72cf3ccd44a\",\"type\":\"Line\"},{\"attributes\":{\"base\":{\"field\":\"base\",\"units\":\"data\"},\"lower\":{\"field\":\"lower\",\"units\":\"data\"},\"lower_head\":{\"id\":\"e11048f3-d4b4-48ee-95dd-93abbe5e1f67\",\"type\":\"TeeHead\"},\"plot\":{\"id\":\"7346819d-7cac-4ded-a0ee-8ffe85f6e7de\",\"subtype\":\"Figure\",\"type\":\"Plot\"},\"source\":{\"id\":\"2e19e281-966b-4090-a2aa-50b6011d4593\",\"type\":\"ColumnDataSource\"},\"upper\":{\"field\":\"upper\",\"units\":\"data\"},\"upper_head\":{\"id\":\"92af3fb8-afe2-4bbb-843c-e6ade4d019dd\",\"type\":\"TeeHead\"}},\"id\":\"844070da-7859-4026-a59a-0c7c96f4059e\",\"type\":\"Whisker\"},{\"attributes\":{\"label\":{\"value\":\"Tally 22\"},\"renderers\":[{\"id\":\"f4bfc03a-b8d0-44ae-a782-cc886ff64f0a\",\"type\":\"GlyphRenderer\"}]},\"id\":\"1c782060-ae3e-4896-9577-48ca9f711a23\",\"type\":\"LegendItem\"},{\"attributes\":{},\"id\":\"6669b85b-3827-4310-bb8b-54592776a279\",\"type\":\"CrosshairTool\"},{\"attributes\":{},\"id\":\"6a5034e6-3908-4370-9fee-efa8baa93f79\",\"type\":\"PanTool\"},{\"attributes\":{\"plot\":null,\"text\":\"\"},\"id\":\"d6cecc83-dd30-41de-9456-2a66eb7bc785\",\"type\":\"Title\"},{\"attributes\":{\"callback\":null,\"column_names\":[\"base\",\"lower\",\"upper\"],\"data\":{\"base\":{\"__ndarray__\":\"ldYm6AsuAT4NZzVfUJ83Ps/AAnckh20+grhhynZ0oj6jJvp8lBHXPkuwOJz51Qw/L26jAbwFQj+6SQwCK4d2Pylcj8L1KKw/mpmZmZmZ4T8AAAAAAAAWQA==\",\"dtype\":\"float64\",\"shape\":[11]},\"lower\":{\"__ndarray__\":\"M0iGVk3a2z7zuo/myxZfP1d/zghPK6o/flmph81QlT+wWjVMrkmLP7Jp3j15zos/Yn5334ppjz9cnRj4ydyQPxg/zqxOrJY/8ZLm9b24rz+pCUftksK3Pw==\",\"dtype\":\"float64\",\"shape\":[11]},\"upper\":{\"__ndarray__\":\"IRuBCX3j8j62mFyQUuhgP4L2sBpbpqo/0AkdL8UGlj9RFoS1cZiMP1IS+oIUKI0/R5tY0/tnkD9PHVd6lpmRP4Kxfa8XgZc/ERGh3LYxsD/UCeJVCBy4Pw==\",\"dtype\":\"float64\",\"shape\":[11]}},\"selected\":null,\"selection_policy\":null},\"id\":\"33f590a9-353b-4f46-86c2-c8ca4f1f2b4c\",\"type\":\"ColumnDataSource\"},{\"attributes\":{\"items\":[{\"id\":\"c6d26a05-4e14-4ab8-a539-7fd6b7a3e2fd\",\"type\":\"LegendItem\"},{\"id\":\"1c782060-ae3e-4896-9577-48ca9f711a23\",\"type\":\"LegendItem\"}],\"plot\":{\"id\":\"7346819d-7cac-4ded-a0ee-8ffe85f6e7de\",\"subtype\":\"Figure\",\"type\":\"Plot\"}},\"id\":\"618f5554-57cf-4652-8a6c-354ab4b10b48\",\"type\":\"Legend\"},{\"attributes\":{\"line_color\":\"#3288bd\",\"x\":{\"field\":\"x\"},\"y\":{\"field\":\"y\"}},\"id\":\"6c7cc9bd-3189-4bcd-a87c-196420a39074\",\"type\":\"Line\"},{\"attributes\":{},\"id\":\"b78a7ec4-0cb4-420e-a4dd-fa01dc7f68c2\",\"type\":\"BasicTickFormatter\"},{\"attributes\":{\"active_drag\":\"auto\",\"active_inspect\":\"auto\",\"active_scroll\":\"auto\",\"active_tap\":\"auto\",\"tools\":[{\"id\":\"6669b85b-3827-4310-bb8b-54592776a279\",\"type\":\"CrosshairTool\"},{\"id\":\"6a5034e6-3908-4370-9fee-efa8baa93f79\",\"type\":\"PanTool\"},{\"id\":\"dfabf852-875b-4c17-8e5a-dc15ab217f93\",\"type\":\"WheelZoomTool\"},{\"id\":\"7b437dad-333d-4451-8d73-191c50c7f8c0\",\"type\":\"BoxZoomTool\"},{\"id\":\"7edfad80-fa49-4882-8c3e-06a8417bd8b3\",\"type\":\"ResetTool\"},{\"id\":\"a6750d77-45c5-4ffa-a28e-f131cfb679af\",\"type\":\"HoverTool\"}]},\"id\":\"8bb61901-e7c9-4940-83c4-fbf6a166e93a\",\"type\":\"Toolbar\"},{\"attributes\":{\"ticker\":null},\"id\":\"ca36fab5-3587-4237-a7e0-6a6b578bdf21\",\"type\":\"LogTickFormatter\"},{\"attributes\":{\"level\":\"underlay\",\"plot\":null,\"size\":10},\"id\":\"92af3fb8-afe2-4bbb-843c-e6ade4d019dd\",\"type\":\"TeeHead\"},{\"attributes\":{\"overlay\":{\"id\":\"640c6c8e-675f-4bfb-8aa4-7f264421f686\",\"type\":\"BoxAnnotation\"}},\"id\":\"7b437dad-333d-4451-8d73-191c50c7f8c0\",\"type\":\"BoxZoomTool\"},{\"attributes\":{\"axis_label\":\"Energy /MeV\",\"formatter\":{\"id\":\"ca36fab5-3587-4237-a7e0-6a6b578bdf21\",\"type\":\"LogTickFormatter\"},\"plot\":{\"id\":\"7346819d-7cac-4ded-a0ee-8ffe85f6e7de\",\"subtype\":\"Figure\",\"type\":\"Plot\"},\"ticker\":{\"id\":\"595664a7-5fb2-48f7-bffb-0fff6bb7f1f3\",\"type\":\"LogTicker\"}},\"id\":\"fd2f2c75-3509-4de6-b56d-87ae4e8cfb72\",\"type\":\"LogAxis\"},{\"attributes\":{\"callback\":null,\"column_names\":[\"base\",\"lower\",\"upper\"],\"data\":{\"base\":{\"__ndarray__\":\"ldYm6AsuAT4NZzVfUJ83Ps/AAnckh20+grhhynZ0oj6jJvp8lBHXPkuwOJz51Qw/L26jAbwFQj+6SQwCK4d2Pylcj8L1KKw/mpmZmZmZ4T8AAAAAAAAWQA==\",\"dtype\":\"float64\",\"shape\":[11]},\"lower\":{\"__ndarray__\":\"Oyb9YEAP4z4ow5CZH01hPw80cQHD264/TCE2FSTAlT+i5AKJYJyHPx1PX4e5M4k/LsZjj2Sqhz/IrHqdW+aMPzZgyQy60pI/1i5De3ZSqz8sAMzgF723Pw==\",\"dtype\":\"float64\",\"shape\":[11]},\"upper\":{\"__ndarray__\":\"91A80P9LDj/AC0fFbotkP/tBZZ+CFrA/TlHMF3eAlz/xzepucC+KP1srJzYunYw/qiMCY3d2ij+kEQYrhYCQPxgaXQaxyZQ/9V/U6vzBrD8v53vKxYy4Pw==\",\"dtype\":\"float64\",\"shape\":[11]}},\"selected\":null,\"selection_policy\":null},\"id\":\"2e19e281-966b-4090-a2aa-50b6011d4593\",\"type\":\"ColumnDataSource\"},{\"attributes\":{},\"id\":\"e27ddd22-0c83-4883-804a-027b6bd948c7\",\"type\":\"LogScale\"},{\"attributes\":{\"callback\":null,\"column_names\":[\"x\",\"y\"],\"data\":{\"x\":{\"__ndarray__\":\"ldYm6AsuAT4NZzVfUJ83Ps/AAnckh20+grhhynZ0oj6jJvp8lBHXPkuwOJz51Qw/L26jAbwFQj+6SQwCK4d2Pylcj8L1KKw/mpmZmZmZ4T8AAAAAAAAWQA==\",\"dtype\":\"float64\",\"shape\":[11]},\"y\":{\"__ndarray__\":\"Q8099OeHAT9052svR+xiPwPcHSBkhK8/TTmBlk2glj9J2fZ76OWIPzw9w95z6Io/7PQy+W0QiT8IaMP5svOOPyc9k4k1zpM/ZccLszkKrD+u86PV7iS4Pw==\",\"dtype\":\"float64\",\"shape\":[11]}},\"selected\":null,\"selection_policy\":null},\"id\":\"6c1ae92e-3d1f-4e9f-baec-a29696f21a18\",\"type\":\"ColumnDataSource\"},{\"attributes\":{\"axis_label\":\"Flux (1/cm^2)\",\"formatter\":{\"id\":\"b78a7ec4-0cb4-420e-a4dd-fa01dc7f68c2\",\"type\":\"BasicTickFormatter\"},\"plot\":{\"id\":\"7346819d-7cac-4ded-a0ee-8ffe85f6e7de\",\"subtype\":\"Figure\",\"type\":\"Plot\"},\"ticker\":{\"id\":\"b64a9fe1-4c29-4e0e-ad8d-4249d0c384af\",\"type\":\"BasicTicker\"}},\"id\":\"5a96e082-9b6d-48ae-90e1-3cd1bf8a9930\",\"type\":\"LinearAxis\"},{\"attributes\":{\"callback\":null},\"id\":\"a6750d77-45c5-4ffa-a28e-f131cfb679af\",\"type\":\"HoverTool\"},{\"attributes\":{\"source\":{\"id\":\"419a9995-f4b5-4424-bad9-0cb45295275c\",\"type\":\"ColumnDataSource\"}},\"id\":\"0a95ebdc-4f4e-4478-ac20-940783bb25bd\",\"type\":\"CDSView\"},{\"attributes\":{\"callback\":null},\"id\":\"068d8124-3a5a-486e-b749-a781e71fc34e\",\"type\":\"DataRange1d\"},{\"attributes\":{\"callback\":null},\"id\":\"41c9c34b-66ab-48f3-be38-bf46dcacdde9\",\"type\":\"DataRange1d\"},{\"attributes\":{},\"id\":\"7edfad80-fa49-4882-8c3e-06a8417bd8b3\",\"type\":\"ResetTool\"},{\"attributes\":{\"line_color\":\"#5e4fa2\",\"x\":{\"field\":\"x\"},\"y\":{\"field\":\"y\"}},\"id\":\"a9f1bfb9-cf91-4ab2-b32a-4521781370e3\",\"type\":\"Line\"},{\"attributes\":{\"source\":{\"id\":\"6c1ae92e-3d1f-4e9f-baec-a29696f21a18\",\"type\":\"ColumnDataSource\"}},\"id\":\"a16b8f8f-34ea-421a-9256-0da5b9a8a18e\",\"type\":\"CDSView\"},{\"attributes\":{\"dimension\":1,\"plot\":{\"id\":\"7346819d-7cac-4ded-a0ee-8ffe85f6e7de\",\"subtype\":\"Figure\",\"type\":\"Plot\"},\"ticker\":{\"id\":\"b64a9fe1-4c29-4e0e-ad8d-4249d0c384af\",\"type\":\"BasicTicker\"}},\"id\":\"492c1589-8d7b-4ae9-8cf8-0adaf3c6e1f1\",\"type\":\"Grid\"},{\"attributes\":{\"line_alpha\":0.1,\"line_color\":\"#1f77b4\",\"x\":{\"field\":\"x\"},\"y\":{\"field\":\"y\"}},\"id\":\"91291bd6-3750-4111-8ae9-e7a8a8680f4a\",\"type\":\"Line\"},{\"attributes\":{\"below\":[{\"id\":\"fd2f2c75-3509-4de6-b56d-87ae4e8cfb72\",\"type\":\"LogAxis\"}],\"left\":[{\"id\":\"5a96e082-9b6d-48ae-90e1-3cd1bf8a9930\",\"type\":\"LinearAxis\"}],\"output_backend\":\"svg\",\"plot_height\":400,\"plot_width\":1200,\"renderers\":[{\"id\":\"fd2f2c75-3509-4de6-b56d-87ae4e8cfb72\",\"type\":\"LogAxis\"},{\"id\":\"36169127-8b09-43e0-bc93-7b3853fbd18c\",\"type\":\"Grid\"},{\"id\":\"5a96e082-9b6d-48ae-90e1-3cd1bf8a9930\",\"type\":\"LinearAxis\"},{\"id\":\"492c1589-8d7b-4ae9-8cf8-0adaf3c6e1f1\",\"type\":\"Grid\"},{\"id\":\"640c6c8e-675f-4bfb-8aa4-7f264421f686\",\"type\":\"BoxAnnotation\"},{\"id\":\"399d1b94-17ea-48e7-9a9e-204b243f60e4\",\"type\":\"Whisker\"},{\"id\":\"618f5554-57cf-4652-8a6c-354ab4b10b48\",\"type\":\"Legend\"},{\"id\":\"038e6c3e-5a15-49b0-9989-e54a49de4a6e\",\"type\":\"GlyphRenderer\"},{\"id\":\"844070da-7859-4026-a59a-0c7c96f4059e\",\"type\":\"Whisker\"},{\"id\":\"f4bfc03a-b8d0-44ae-a782-cc886ff64f0a\",\"type\":\"GlyphRenderer\"}],\"title\":{\"id\":\"d6cecc83-dd30-41de-9456-2a66eb7bc785\",\"type\":\"Title\"},\"toolbar\":{\"id\":\"8bb61901-e7c9-4940-83c4-fbf6a166e93a\",\"type\":\"Toolbar\"},\"x_range\":{\"id\":\"41c9c34b-66ab-48f3-be38-bf46dcacdde9\",\"type\":\"DataRange1d\"},\"x_scale\":{\"id\":\"e27ddd22-0c83-4883-804a-027b6bd948c7\",\"type\":\"LogScale\"},\"y_range\":{\"id\":\"068d8124-3a5a-486e-b749-a781e71fc34e\",\"type\":\"DataRange1d\"},\"y_scale\":{\"id\":\"006dbeb1-5054-4839-91cc-3ff5a632d98e\",\"type\":\"LinearScale\"}},\"id\":\"7346819d-7cac-4ded-a0ee-8ffe85f6e7de\",\"subtype\":\"Figure\",\"type\":\"Plot\"},{\"attributes\":{\"label\":{\"value\":\"Tally 12\"},\"renderers\":[{\"id\":\"038e6c3e-5a15-49b0-9989-e54a49de4a6e\",\"type\":\"GlyphRenderer\"}]},\"id\":\"c6d26a05-4e14-4ab8-a539-7fd6b7a3e2fd\",\"type\":\"LegendItem\"},{\"attributes\":{\"plot\":{\"id\":\"7346819d-7cac-4ded-a0ee-8ffe85f6e7de\",\"subtype\":\"Figure\",\"type\":\"Plot\"},\"ticker\":{\"id\":\"595664a7-5fb2-48f7-bffb-0fff6bb7f1f3\",\"type\":\"LogTicker\"}},\"id\":\"36169127-8b09-43e0-bc93-7b3853fbd18c\",\"type\":\"Grid\"},{\"attributes\":{\"data_source\":{\"id\":\"6c1ae92e-3d1f-4e9f-baec-a29696f21a18\",\"type\":\"ColumnDataSource\"},\"glyph\":{\"id\":\"6c7cc9bd-3189-4bcd-a87c-196420a39074\",\"type\":\"Line\"},\"hover_glyph\":null,\"muted_glyph\":null,\"nonselection_glyph\":{\"id\":\"91291bd6-3750-4111-8ae9-e7a8a8680f4a\",\"type\":\"Line\"},\"selection_glyph\":null,\"view\":{\"id\":\"a16b8f8f-34ea-421a-9256-0da5b9a8a18e\",\"type\":\"CDSView\"}},\"id\":\"f4bfc03a-b8d0-44ae-a782-cc886ff64f0a\",\"type\":\"GlyphRenderer\"},{\"attributes\":{\"level\":\"underlay\",\"plot\":null,\"size\":10},\"id\":\"3620498f-89b3-447a-8243-3a093ed4065e\",\"type\":\"TeeHead\"},{\"attributes\":{\"level\":\"underlay\",\"plot\":null,\"size\":10},\"id\":\"e11048f3-d4b4-48ee-95dd-93abbe5e1f67\",\"type\":\"TeeHead\"},{\"attributes\":{\"level\":\"underlay\",\"plot\":null,\"size\":10},\"id\":\"033c8c19-1c64-425f-ad4c-7ffc3f01a6d6\",\"type\":\"TeeHead\"},{\"attributes\":{\"base\":{\"field\":\"base\",\"units\":\"data\"},\"lower\":{\"field\":\"lower\",\"units\":\"data\"},\"lower_head\":{\"id\":\"033c8c19-1c64-425f-ad4c-7ffc3f01a6d6\",\"type\":\"TeeHead\"},\"plot\":{\"id\":\"7346819d-7cac-4ded-a0ee-8ffe85f6e7de\",\"subtype\":\"Figure\",\"type\":\"Plot\"},\"source\":{\"id\":\"33f590a9-353b-4f46-86c2-c8ca4f1f2b4c\",\"type\":\"ColumnDataSource\"},\"upper\":{\"field\":\"upper\",\"units\":\"data\"},\"upper_head\":{\"id\":\"3620498f-89b3-447a-8243-3a093ed4065e\",\"type\":\"TeeHead\"}},\"id\":\"399d1b94-17ea-48e7-9a9e-204b243f60e4\",\"type\":\"Whisker\"},{\"attributes\":{\"bottom_units\":\"screen\",\"fill_alpha\":{\"value\":0.5},\"fill_color\":{\"value\":\"lightgrey\"},\"left_units\":\"screen\",\"level\":\"overlay\",\"line_alpha\":{\"value\":1.0},\"line_color\":{\"value\":\"black\"},\"line_dash\":[4,4],\"line_width\":{\"value\":2},\"plot\":null,\"render_mode\":\"css\",\"right_units\":\"screen\",\"top_units\":\"screen\"},\"id\":\"640c6c8e-675f-4bfb-8aa4-7f264421f686\",\"type\":\"BoxAnnotation\"},{\"attributes\":{},\"id\":\"006dbeb1-5054-4839-91cc-3ff5a632d98e\",\"type\":\"LinearScale\"}],\"root_ids\":[\"7346819d-7cac-4ded-a0ee-8ffe85f6e7de\"]},\"title\":\"Bokeh Application\",\"version\":\"0.12.15\"}};\n",
       "  var render_items = [{\"docid\":\"eae70e9d-2efd-4461-9cec-b3bc0338d75e\",\"elementid\":\"6ab5fef2-7679-43ed-acf1-4ed1a70d9e59\",\"modelid\":\"7346819d-7cac-4ded-a0ee-8ffe85f6e7de\"}];\n",
       "  root.Bokeh.embed.embed_items_notebook(docs_json, render_items);\n",
       "\n",
       "  }\n",
       "  if (root.Bokeh !== undefined) {\n",
       "    embed_document(root);\n",
       "  } else {\n",
       "    var attempts = 0;\n",
       "    var timer = setInterval(function(root) {\n",
       "      if (root.Bokeh !== undefined) {\n",
       "        embed_document(root);\n",
       "        clearInterval(timer);\n",
       "      }\n",
       "      attempts++;\n",
       "      if (attempts > 100) {\n",
       "        console.log(\"Bokeh: ERROR: Unable to run BokehJS code because BokehJS library is missing\")\n",
       "        clearInterval(timer);\n",
       "      }\n",
       "    }, 10, root)\n",
       "  }\n",
       "})(window);"
      ],
      "application/vnd.bokehjs_exec.v0+json": ""
     },
     "metadata": {
      "application/vnd.bokehjs_exec.v0+json": {
       "id": "7346819d-7cac-4ded-a0ee-8ffe85f6e7de"
      }
     },
     "output_type": "display_data"
    },
    {
     "name": "stderr",
     "output_type": "stream",
     "text": [
      "WARNING:bokeh.io.export:The webdriver raised a TimeoutException while waiting for                      a 'bokeh:idle' event to signify that the layout has rendered.                      Something may have gone wrong.\n"
     ]
    },
    {
     "name": "stdout",
     "output_type": "stream",
     "text": [
      "ln: failed to create symbolic link '/home/angus/snap/inkscape/4019/.config/gtk-2.0/gtkfilechooser.ini': File exists\n",
      "Gtk-Message: Failed to load module \"gail\"\n",
      "Gtk-Message: Failed to load module \"atk-bridge\"\n",
      "Gtk-Message: Failed to load module \"canberra-gtk-module\"\n",
      "\n",
      "(inkscape:5018): libgnomevfs-WARNING **: Unable to create ~/.gnome2 directory: Permission denied\n",
      "\n",
      "** (inkscape:5018): WARNING **: SPIStyle::readIfUnset(): Invalid style property id: 8 value: 400px\n",
      "\n",
      "** (inkscape:5018): WARNING **: SPIStyle::readIfUnset(): Invalid style property id: 7 value: 1200px\n",
      "Background RRGGBBAA: ffffff00\n",
      "Area 0:0:1200:400 exported to 1200 x 400 pixels (96 dpi)\n",
      "Bitmap saved as: /home/angus/Git/mcnp_project/tallies_210k_norm.png\n"
     ]
    }
   ],
   "source": [
    "plot_tallies(this_dir/\"tallies_20k.png\", mctal_1_a)\n",
    "plot_tallies(this_dir/\"tallies_20k_norm.png\", mctal_1_a, normalise=True)\n",
    "plot_tallies(this_dir/\"tallies_210k.png\", mctal_1_b)\n",
    "plot_tallies(this_dir/\"tallies_210k_norm.png\", mctal_1_b, normalise=True)"
   ]
  },
  {
   "cell_type": "code",
   "execution_count": 188,
   "metadata": {},
   "outputs": [],
   "source": [
    "def find_tallies(it):\n",
    "    try:\n",
    "        while True:\n",
    "            next(l for l in it if l == \"vals\")\n",
    "            l = next(it)\n",
    "            ls = []\n",
    "            while not l.startswith(\"tfc\"):\n",
    "                ls.append(l)\n",
    "                l = next(it)\n",
    "            tot = ''.join(ls)\n",
    "            q = tot.split()\n",
    "            yield [(*xi.split(\"E\"),dxi) for xi, dxi in zip(q[::2], q[1::2])]\n",
    "    except StopIteration:\n",
    "        return"
   ]
  },
  {
   "cell_type": "code",
   "execution_count": 213,
   "metadata": {},
   "outputs": [],
   "source": [
    "def find_energies(it):\n",
    "    next(l for l in it if l.startswith(\"et\"))\n",
    "    l = next(it)\n",
    "    ls = []\n",
    "    while not l.startswith(\"t \"):\n",
    "        ls.append(l)\n",
    "        l = next(it)\n",
    "    tot = ''.join(ls)\n",
    "    q = tot.split()\n",
    "    return q"
   ]
  },
  {
   "cell_type": "code",
   "execution_count": 254,
   "metadata": {},
   "outputs": [
    {
     "name": "stdout",
     "output_type": "stream",
     "text": [
      "-\\infty \\num{1e-9}\n",
      "\\num{1e-9} \\num{1e-8}\n",
      "\\num{1e-8} \\num{1e-7}\n",
      "\\num{1e-7} \\num{1e-6}\n",
      "\\num{1e-6} \\num{1e-5}\n",
      "\\num{1e-5} \\num{1e-4}\n",
      "\\num{1e-4} \\num{1e-3}\n",
      "\\num{1e-3} \\num{1e-2}\n",
      "\\num{1e-2} \\num{1e-1}\n",
      "\\num{1e-1} \\num{1e0}\n",
      "\\num{1e0} \\num{1e1}\n",
      "\n",
      "\\begin{table}\n",
      "    \\centering\n",
      "    \\caption{Normalised tally fluence data for \\num{20000} and \\num{210000} particles.}\n",
      "    \\label{table:tally_norm_fluence}\n",
      "    \\begin{tabular}{l|ll|ll}\n",
      "        \\multicolumn{2}{c}{Multi-column}\n",
      "        &\\\n",
      "        \\cline{2-3}\n",
      "        Energy & Fluence(21) & Fluence(22) & Fluence(21) & Fluence(22)\\\\\n",
      "        \\midrule\n",
      "        $-\\infty<E<\\num{1e-9}$ & \\num{0.00000\\pm0.0000e+00} & \\num{0.00000\\pm0.0000e+00} & \\num{2.88792\\pm0.4613e-08} & \\num{2.50256\\pm0.7282e-08}\\\\\n",
      "        $\\num{1e-9}<E<\\num{1e-8}$ & \\num{4.91146\\pm0.1151e-06} & \\num{1.88457\\pm0.2442e-06} & \\num{4.64030\\pm0.0420e-06} & \\num{1.72882\\pm0.0857e-06}\\\\\n",
      "        $\\num{1e-8}<E<\\num{1e-7}$ & \\num{1.20474\\pm0.0285e-04} & \\num{4.31431\\pm0.0668e-05} & \\num{1.20841\\pm0.0091e-04} & \\num{4.60710\\pm0.0209e-05}\\\\\n",
      "        $\\num{1e-7}<E<\\num{1e-6}$ & \\num{5.00277\\pm0.0516e-05} & \\num{1.38964\\pm0.1130e-05} & \\num{4.95797\\pm0.0164e-05} & \\num{1.65372\\pm0.0387e-05}\\\\\n",
      "        $\\num{1e-6}<E<\\num{1e-5}$ & \\num{3.24083\\pm0.0721e-05} & \\num{9.08158\\pm0.1607e-06} & \\num{3.19629\\pm0.0234e-05} & \\num{9.09885\\pm0.0517e-06}\\\\\n",
      "        $\\num{1e-5}<E<\\num{1e-4}$ & \\num{3.30501\\pm0.0721e-05} & \\num{1.06169\\pm0.1503e-05} & \\num{3.25805\\pm0.0237e-05} & \\num{9.83337\\pm0.0634e-06}\\\\\n",
      "        $\\num{1e-4}<E<\\num{1e-3}$ & \\num{3.55319\\pm0.0707e-05} & \\num{1.18050\\pm0.1433e-05} & \\num{3.67338\\pm0.0218e-05} & \\num{9.15955\\pm0.0558e-06}\\\\\n",
      "        $\\num{1e-3}<E<\\num{1e-2}$ & \\num{3.80214\\pm0.0674e-05} & \\num{1.43714\\pm0.2101e-05} & \\num{3.94221\\pm0.0214e-05} & \\num{1.13112\\pm0.0663e-05}\\\\\n",
      "        $\\num{1e-2}<E<\\num{1e-1}$ & \\num{5.22532\\pm0.0557e-05} & \\num{1.17501\\pm0.1486e-05} & \\num{5.28230\\pm0.0180e-05} & \\num{1.44756\\pm0.0496e-05}\\\\\n",
      "        $\\num{1e-1}<E<\\num{1e0}$ & \\num{1.42635\\pm0.0332e-04} & \\num{4.17169\\pm0.0971e-05} & \\num{1.46673\\pm0.0104e-04} & \\num{4.09881\\pm0.0256e-05}\\\\\n",
      "        $\\num{1e0}<E<\\num{1e1}$ & \\num{2.20722\\pm0.0240e-04} & \\num{7.60796\\pm0.0554e-05} & \\num{2.19035\\pm0.0073e-04} & \\num{7.05870\\pm0.0168e-05}\\\\\n",
      "        \\bottomrule\n",
      "    \\end{tabular}\n",
      "\\end{table}\n"
     ]
    }
   ],
   "source": [
    "import texy\n",
    "\n",
    "\"\"\"\n",
    "\\begin{table}[]\n",
    "\\centering\n",
    "\\caption{Criticality inequalities in $k$}\n",
    "\\label{table:k}\n",
    "\\begin{tabular}{@{}ll@{}}\n",
    "\\toprule\n",
    "Condition & State          \\\\ \\midrule\n",
    "$k < 1$   & Sub-critical   \\\\\n",
    "$k = 1$   & Critical       \\\\\n",
    "$k > 1$   & Super-critical \\\\ \\bottomrule\n",
    "\\end{tabular}\n",
    "\\end{table}\n",
    "\"\"\"\n",
    "\n",
    "la = (mcnp_dir/\"1.a.ta\").read_text().splitlines()\n",
    "ta = iter(la)\n",
    "tb = iter((mcnp_dir/\"1.b.ta\").read_text().splitlines())\n",
    "tallies = [*find_tallies(ta), *find_tallies(tb)]\n",
    "energies = [rf\"\\num{{1e{int(np.log10(eval(e)))}}}\" for e in find_energies(iter(la))]\n",
    "energies.insert(0, r\"-\\infty\")\n",
    "\n",
    "# for (x, exp, dx) in zip(tallies):\n",
    "#     print(x,exp,dx)\n",
    "with texy.latex() as l:\n",
    "    with l.table:\n",
    "        l.centering\n",
    "        l.caption(r\"Normalised tally fluence data for \\num{20000} and \\num{210000} particles.\")\n",
    "        l.label(\"table:tally_norm_fluence\")\n",
    "        with l.tabular(\"l|ll|ll\"):       \n",
    "            #l.toprule\n",
    "            l.multicolumn(2)('c')('Multi-column')\n",
    "            l(\"&\\\\\")\n",
    "            l.cline(\"2-3\")\n",
    "            l(r\"Energy & Fluence(21) & Fluence(22) & Fluence(21) & Fluence(22)\\\\\")     \n",
    "            l.midrule\n",
    "            e2 = iter(energies)\n",
    "            next(e2)\n",
    "            for e, ne, row in zip(energies, e2, zip(*tallies)):      \n",
    "                print(e,ne)\n",
    "                l(rf\"${e}<E<{ne}$ & \" +\" & \".join(rf\"\\num{{{x}\\pm{dx}e{exp}}}\" for x, exp, dx in row) + r\"\\\\\")\n",
    "#                 print(x,exp,dx)     \n",
    "            l.bottomrule\n"
   ]
  },
  {
   "cell_type": "markdown",
   "metadata": {},
   "source": [
    "# Part 3"
   ]
  },
  {
   "cell_type": "code",
   "execution_count": null,
   "metadata": {},
   "outputs": [],
   "source": [
    "part_3_template =\\\n",
    "\"\"\"MESSAGE:\n",
    "\n",
    "{description}\n",
    "C Cells\n",
    "1 4 -19.2 -3 -2 11 $ Uranium source 1\n",
    "2 4 -19.2 -4 -2 11 $ Uranium source 2\n",
    "3 4 -19.2 -5 -2 11 $ Uranium source 3\n",
    "4 4 -19.2 -6 -2 11 $ Uranium source 4\n",
    "5 3 -{moderator_density} 13 -14 15 -16 11 -12 ((3 4 5 6):2) $ Moderator\n",
    "6 1 -7.92 7 -8 9 -10 17 -18 (-13:14:-15:16:-11) $ Wall\n",
    "7 2 -2.3 -17 19 -20 $ Concrete floor\n",
    "C Void region within bounding volume, outside of the bucket, including air gap:\n",
    "8 0      (17 -18 -20 (-7:8:-9:10)):(13 -14 15 -16 12 -18) \n",
    "9 0      (20:-19:18) $ Bounding cylindrical void region of 0 neutron importance\n",
    "\n",
    "C Source surfaces\n",
    "2 PZ 25.2\n",
    "3 C/Z -20 0 7.5\n",
    "4 C/Z 0 20 7.5\n",
    "5 C/Z 20 0 7.5\n",
    "6 C/Z 0 -20 7.5\n",
    "C External surfaces\n",
    "7 PX -50.2\n",
    "8 PX 50.2\n",
    "9 PY -50.2\n",
    "10 PY 50.2\n",
    "11 PZ 0.2\n",
    "12 PZ 58.0\n",
    "C Internal surfaces\n",
    "13 PX -50\n",
    "14 PX 50\n",
    "15 PY -50\n",
    "16 PY 50\n",
    "17 PZ 0\n",
    "18 PZ 60\n",
    "C Concrete floor lower surface\n",
    "19 PZ -150.0 \n",
    "20 CZ 200\n",
    "\n",
    "MODE N\n",
    "KCODE 1000 1.0 200 1000\n",
    "KSRC 20 0 12.7 -20 0 12.7 0 20 12.7 0 -20 12.7\n",
    "M1  26000.42c -0.74 24000.42c -0.18 28000.42c -0.08 $ Stainless steel\n",
    "M2  8016.42c -0.53 14000.42c -0.34 20000.42c -0.10 1001.42c -0.03 $ Concrete\n",
    "M3  {moderator_def}\n",
    "MT3 {moderator_treatment}\n",
    "M4  92238.42c -{x_238} 92235.42c -{x_235} $ 80% 238U, 20% 235U\n",
    "IMP:N 1 1 1 1 1 1 1 1 0\"\"\""
   ]
  },
  {
   "cell_type": "markdown",
   "metadata": {},
   "source": [
    "# Define async running tools"
   ]
  },
  {
   "cell_type": "code",
   "execution_count": null,
   "metadata": {},
   "outputs": [],
   "source": [
    "import ipywidgets as widgets \n",
    "from plumbum import BG\n",
    "from re import compile\n",
    "import asyncio\n",
    "\n",
    "tab = widgets.Tab()\n",
    "\n",
    "k_pattern = compile(f\"final k\\(col\\/abs\\/trk len\\) = (\\d+\\.\\d+)     std dev = (\\d+\\.\\d+)\") \n",
    "err_pattern = compile(f\"fatal error.  (.+)\\n\") \n",
    "\n",
    "def parse_stdout_for_k_eff(string):\n",
    "    match = k_pattern.search(string)\n",
    "    if match is None:\n",
    "        return err_pattern.search(string).group()\n",
    "    return match.group() \n",
    "\n",
    "\n",
    "async def wait_proc(proc, sleep_interval=0.2):\n",
    "    while not proc.poll():\n",
    "        await asyncio.sleep(sleep_interval)\n",
    "\n",
    "\n",
    "def run_mcnp_async(input_name, tally_name):\n",
    "    async def coro():\n",
    "        try:\n",
    "            label = widgets.Label('Waiting ...')\n",
    "            tab.children = [*tab.children, label]\n",
    "            tab.set_title(len(tab.children)-1, input_name)\n",
    "\n",
    "            process = mcnp[f\"inp={input_name}\", f\"mctal={tally_name}\"] & BG\n",
    "            await wait_proc(process)\n",
    "\n",
    "            result = parse_stdout_for_k_eff(process.stdout)\n",
    "            label.value = result\n",
    "            return result\n",
    "        \n",
    "        finally:\n",
    "            import traceback\n",
    "            traceback.print_exc()\n",
    "    return asyncio.ensure_future(coro())"
   ]
  },
  {
   "cell_type": "markdown",
   "metadata": {},
   "source": [
    "# 3.a"
   ]
  },
  {
   "cell_type": "code",
   "execution_count": null,
   "metadata": {},
   "outputs": [],
   "source": [
    "x_235 = 0.2\n",
    "source_info = dict(x_235=x_235, x_238=1-x_235)\n",
    "water_info = dict(moderator_def=\"1001.42c 2 8016.42c 1\",\n",
    "                  moderator_treatment=\"lwtr.01\",\n",
    "                  moderator_density=1.0)\n",
    "\n",
    "(mcnp_dir/\"3.a.ip\").write_text(\n",
    "    part_3_template.format(**water_info, **source_info, description=\"Water moderated example\")\n",
    ")"
   ]
  },
  {
   "cell_type": "markdown",
   "metadata": {},
   "source": [
    "# 3.c Replace water with graphite"
   ]
  },
  {
   "cell_type": "code",
   "execution_count": null,
   "metadata": {},
   "outputs": [],
   "source": [
    "graphite_info = dict(moderator_def=\"6012.42c 1.0   $ Graphite\", \n",
    "                     moderator_treatment=\"GRPH.01\",\n",
    "                     moderator_density=1.7)\n",
    "\n",
    "(mcnp_dir/\"3.c.ip\").write_text(\n",
    "    part_3_template.format(**graphite_info, **source_info, description=\"Graphite moderated example\")\n",
    ")"
   ]
  },
  {
   "cell_type": "markdown",
   "metadata": {},
   "source": [
    "# 3.d Graphite and Uranium increased enrichment"
   ]
  },
  {
   "cell_type": "code",
   "execution_count": null,
   "metadata": {},
   "outputs": [],
   "source": [
    "x_235 = 0.25\n",
    "source_info = dict(x_235=x_235, x_238=1-x_235)\n",
    "\n",
    "(mcnp_dir/\"3.d.1.ip\").write_text(\n",
    "    part_3_template.format(**water_info, **source_info, description=\"Water moderated example\")\n",
    ")\n",
    "\n",
    "(mcnp_dir/\"3.d.2.ip\").write_text(\n",
    "    part_3_template.format(**graphite_info, **source_info, description=\"Graphite moderated example\")\n",
    ")"
   ]
  },
  {
   "cell_type": "markdown",
   "metadata": {},
   "source": [
    "# Run simulations"
   ]
  },
  {
   "cell_type": "code",
   "execution_count": null,
   "metadata": {},
   "outputs": [],
   "source": [
    "async def as_finished(futures):\n",
    "    pending = set(futures)\n",
    "    \n",
    "    queue = asyncio.Queue()\n",
    "    def _on_done(fut):\n",
    "        queue.put_nowait(fut)\n",
    "    \n",
    "    for f in futures:\n",
    "        f.add_done_callback(_on_done)\n",
    "        \n",
    "    while pending:\n",
    "        fut = await queue.get()\n",
    "        yield fut\n",
    "        pending.remove(fut)\n",
    "        \n",
    "\n",
    "async def print_as_finished(*tasks):\n",
    "    import re\n",
    "    p = re.compile(r\"final k\\(col/abs/trk len\\) = ([^ ]+)     std dev = ([^ ]+)\")\n",
    "    async for t in as_finished(tasks):\n",
    "        i = tasks.index(t)\n",
    "\n",
    "        x, dx = p.match(t.result()).groups((1,2))\n",
    "        print(rf\"result[{i}] = \\num{{{x} \\pm {dx}}}\")"
   ]
  },
  {
   "cell_type": "code",
   "execution_count": null,
   "metadata": {},
   "outputs": [],
   "source": [
    "f1 = run_mcnp_async(\"3.a.ip\", \"tal3.a\")\n",
    "f2 = run_mcnp_async(\"3.c.ip\", \"tal3.c\")\n",
    "f3 = run_mcnp_async(\"3.d.1.ip\", \"tal3.d.1\")\n",
    "f4 = run_mcnp_async(\"3.d.2.ip\", \"tal3.d.2\")\n",
    "asyncio.ensure_future(print_as_finished(f1, f2, f3, f4))\n",
    "tab"
   ]
  },
  {
   "cell_type": "code",
   "execution_count": null,
   "metadata": {},
   "outputs": [],
   "source": [
    "def f(E, a, b):\n",
    "    return np.exp(-E/a)*np.sinh(np.sqrt(b*E))\n",
    "def fm(E, Em, Km):\n",
    "    return Km * np.sqrt(E)*np.exp(-E/Em)\n",
    "def fw(E,aw,bw,Kw):\n",
    "    return Kw * np.exp(-E/aw)*np.sinh(np.sqrt(bw*E))\n",
    "def f(E,aw,bw,Kw,Km,Em,wm):\n",
    "    return wm*fm(E,Em,Km) + (1-wm)*fw(E,aw,bw,Kw)\n",
    "\n",
    "x = np.logspace(np.log10(0.1*MeV), np.log10(14*MeV), 1000) \n",
    "y = f(x,\n",
    "      aw=.6859*MeV,\n",
    "      bw=9.366/MeV,\n",
    "      Km=1,\n",
    "      Kw=1,\n",
    "      Em=1.316 * MeV,\n",
    "      wm=.7424\n",
    "     )\n",
    "\n",
    "\n",
    "fig = plt.figure(x_axis_type='log', x_axis_label=\"Energy /MeV\", y_axis_label=\"f(x)\", \n",
    "                 plot_width=1200, plot_height=400, \n",
    "                 tools='crosshair,pan,wheel_zoom,box_zoom,reset,hover',\n",
    "                 output_backend='svg')\n",
    "fig.line(x, y)\n",
    "plt.show(fig)\n",
    "export_svgs(fig, 'watt_spectrum_235_u.svg')\n",
    "!inkscape 'watt_spectrum_235_u.svg' -e 'watt_spectrum_235_u.png' --without-gui\n",
    "# !inkscape {name} -e {name[:-4]}.png --without-gui!"
   ]
  },
  {
   "cell_type": "code",
   "execution_count": null,
   "metadata": {},
   "outputs": [],
   "source": [
    "from contextlib import contextmanager\n",
    "\n",
    "@contextmanager\n",
    "def preserve_fs():\n",
    "    files = remote['ls']().split()\n",
    "    yield\n",
    "    new_files = set(remote['ls']().split()).difference(files)\n",
    "    if new_files:\n",
    "        remote['rm'](*new_files)"
   ]
  },
  {
   "cell_type": "markdown",
   "metadata": {},
   "source": [
    "## Emin's work"
   ]
  },
  {
   "cell_type": "code",
   "execution_count": null,
   "metadata": {},
   "outputs": [],
   "source": [
    "%%writefile mcnp/hc.ip\n",
    "Hazel Carter - Problem 1\n",
    "C\n",
    "C\n",
    "C CELL CARDS\n",
    "C FORMAT: [Cell id number][Material id number][Material density][Surfaces]$[Comment]\n",
    "C  \n",
    "1 1 -7.92 6 -8 2 -4 9 -11 (-5:7:-1:3:-10) $Bucket Walls - Stainless Steel [density 7.92g/cm^3]\n",
    "C\n",
    "2 0 (-6:8:-2:4:11:-13)  $Void outside Bucket\n",
    "C\n",
    "3 2 -1.0 5 -7 1 -3 10 -12  $Water inside Bucket - Pure Water [density 1 g/cm^3]\n",
    "C\n",
    "4 0 5 -7 1 -3 12 -11  $Air gap - void\n",
    "C\n",
    "5 3 -2.3 -9 13 6 -8 2 -4 $Concrete floor - Concrete [density 2.3 g/cm^3]\n",
    "C\n",
    "6 4 -19.2 10 -14 -18 $Uranium Rod 1\n",
    "7 4 -19.2 10 -15 -18 $Uranium Rod 2\n",
    "8 4 -19.2 10 -16 -18 $Uranium Rod 3\n",
    "9 4 -19.2 10 -17 -18 $Uranium Rod 4\n",
    "C\n",
    "\n",
    "C\n",
    "C SURFACE CARDS\n",
    "C FORMAT: [Surface id number][Surface type][Characteristic dimensions, cm]\n",
    "C\n",
    "C Stainless Steel Bucket:\n",
    "1     PX   -50.0\n",
    "2     PX   -50.2\n",
    "3     PX   50.0\n",
    "4     PX   50.2\n",
    "5     PY   -50.0\n",
    "6     PY   -50.2\n",
    "7     PY   50.0\n",
    "8     PY   50.2\n",
    "9     PZ   0.0\n",
    "10    PZ   0.2\n",
    "11    PZ   60.0 $Bucket Top\n",
    "C Water Level:\n",
    "12    PZ   58.0 $Water Surface\n",
    "C\n",
    "C Concrete floor:\n",
    "13    PZ -60.0\n",
    "C\n",
    "C Uranium Rods:\n",
    "14 C/Z 0 -20 7.5  $Cylinder of radius 7.5 parrel to z axis \n",
    "15 C/Z 0 20 7.5\n",
    "16 C/Z 20 0 7.5\n",
    "17 C/Z -20 0 7.5\n",
    "18 PZ 25.2\n",
    "C\n",
    "\n",
    "C\n",
    "C CELL IMPORTANCE MAP  \n",
    "C FORMAT: [Particle type][Importance of Cell in order they appear in file]\n",
    "IMP:N 1 0 1 1 1 1 1 1 1\n",
    "C\n",
    "C\n",
    "C MATERIAL CARDS\n",
    "C FORMAT: M[Material id number][ZZ][AAA][id][Concentration]\n",
    "C\n",
    "M1   26000.42c -0.74 24000.42c -0.18 28000.42c -0.08 $Stainless Steel: 74% iron, 18% chromium, 8% nickel.\n",
    "M2   1001.42c 2.0 8016.42c 1.0 $Pure Water: 2 hyrdogen, 1 oxygen.\n",
    "M3   8016.42c -0.53 14000.42c -0.34 20000.42c -0.10 1001.42c -0.03 $Concrete: 53% oxygen, 34% silicon, 10% calcium, 3% hydrogen.\n",
    "M4   92238.42c -0.8 92235.42c -0.2 $Enriched Uranium: 80% U-238, 20% U-235.\n",
    "C\n",
    "C\n",
    "C MODE CARD\n",
    "C FORMAT: MODE[Particle Type]\n",
    "MODE N $Neutrons Only                        \n",
    "C\n",
    "C\n",
    "C SOURCE DEFINITION (KCODE)\n",
    "C FORMAT: [NSRCK][RKK][IKZ][KCT][MSRK][KNRM][MRKP][KC8]\n",
    "C\n",
    "C KCODE 1000 0.8 100 1100\n",
    "C KSRC 20 20 12.5 20 -20 12.5 -20 20 12.5 -20 -20 12.5 "
   ]
  },
  {
   "cell_type": "code",
   "execution_count": null,
   "metadata": {},
   "outputs": [],
   "source": [
    "tab.children = []\n",
    "tab"
   ]
  },
  {
   "cell_type": "code",
   "execution_count": null,
   "metadata": {},
   "outputs": [],
   "source": [
    "from itertools import count\n",
    "\n",
    "async def launch():\n",
    "    counter = count()\n",
    "\n",
    "    futs = []\n",
    "    for x_235 in [0.2, 0.25]:\n",
    "        source_info = dict(x_235=x_235, x_238=1-x_235)\n",
    "\n",
    "        for mod_info in (water_info, graphite_info):\n",
    "            i = next(counter)\n",
    "            f_name = f\"em.{i}.ip\"\n",
    "\n",
    "            (mcnp_dir/f_name).write_text(\n",
    "                emin_template.format(**mod_info, **source_info, description=\"Water moderated example\")\n",
    "            )\n",
    "            fut = run_mcnp_async(f_name, \"emin.tal\")\n",
    "            futs.append(fut)\n",
    "            await asyncio.sleep(3.0)\n",
    "    await print_as_finished(futs)\n",
    "            \n",
    "asyncio.ensure_future(launch())"
   ]
  },
  {
   "cell_type": "code",
   "execution_count": 13,
   "metadata": {},
   "outputs": [
    {
     "name": "stdout",
     "output_type": "stream",
     "text": [
      "Overwriting mcnp/eman.ip\n"
     ]
    }
   ],
   "source": [
    "%%writefile mcnp/eman.ip\n",
    "C    CELL CARDS                                                                 \n",
    "C                                                                               \n",
    "2   1 -7.92 8 -15 10 -11 6 -13 (-1:2:-4:5:-7) $Steel Bucket                     \n",
    "C                                                                               \n",
    "1   2 -1.00 1 -2 4 -5 7 -37  $water                                             \n",
    "3   0 1 -2 4 -5 37 -13 $water to bucket rim gap                                 \n",
    "98  0 #1 #2 #3 -99 $Air within universe                                         \n",
    "99  0 99 $ void cell (material 0) outside surface 99                            \n",
    "C                                                                               \n",
    "C blank line delimiter. This tells the code that the CELL card entries are finis\n",
    "                                                                                \n",
    "C    SURFACE CARDS                                                              \n",
    "C                                                                               \n",
    "C                                                                               \n",
    "C Inner Wall of Bucket                                                          \n",
    "1  PX -5.0                                                                      \n",
    "2  PX 5.0                                                                       \n",
    "4  PY -10.0                                                                     \n",
    "5  PY 10.0                                                                      \n",
    "7  PZ 0.0                                                                       \n",
    "C                                                                               \n",
    "C for the water:                                                                \n",
    "37 PZ 18.8                                                                      \n",
    "C                                                                               \n",
    "C                                                                               \n",
    "C Outer Wall of Bucket:                                                         \n",
    "8  PX -5.2                                                                      \n",
    "15 PX 5.2                                                                       \n",
    "10 PY -10.2                                                                     \n",
    "11 PY 10.2                                                                      \n",
    "13 PZ 19.8                                                                      \n",
    "6  PZ -0.2                                                                      \n",
    "C for the void(tm)                                                              \n",
    "99 SZ 30 460.0 $ sphere centred on origin, radius = 230cm                       \n",
    "C                                                                               \n",
    "C END SURF                                                                      \n",
    "                                                                                \n",
    "MODE N                                                                          \n",
    "C    CELL IMPORTANCE MAP                                                        \n",
    "C    defines the importance of each cell in the order it appears in the file.   \n",
    "C    an importance of zero kills of any particles entering that cell.           \n",
    "IMP:N 1 1 1 1 0 $ There are 8 cells, each requires an importance.               \n",
    "C                                                                               \n",
    "C MATERIAL CARDS                                                                \n",
    "C    material card format is M[id number] [ZZ][AAA][.id] [fraction]             \n",
    "C    If [.id] is not defined the code uses the default nuclear (atomic) data for\n",
    "C    If [fraction] is +ve it is atom fraction                                   \n",
    "C    If [fraction] is -ve it is weight fraction                                 \n",
    "M1   26000.42c -0.74 24000.42c -0.18 28000.42c -0.08 $  steel                   \n",
    "M2   1001.42c -0.11190 8016.42c -0.88810 $ water                                \n",
    "C                                                                               \n",
    "MT2 LWTR.01                                                                     \n",
    "C Source Definition                                                             \n",
    "SDEF POS=0.0 0.0 2.0 ERG=D1                                                     \n",
    "SP1 -3 0.988 2.249                                                              \n",
    "F12:N (8 15) \n",
    "F22:N (10 11) \n",
    "E0 1e-9 1e-8 1e-7 1e-6 1e-5 1e-4 1e-3 1e-2 1e-1 1.0 10.0                        \n",
    "NPS  20000 $ Run for no longer than 20,000 source particles                     \n",
    "PRINT                                                                           "
   ]
  },
  {
   "cell_type": "code",
   "execution_count": 14,
   "metadata": {},
   "outputs": [
    {
     "name": "stdout",
     "output_type": "stream",
     "text": [
      " mcnp     ver=4c2  ld=01/20/01     04/09/18 18:41:03                  \n",
      " outp already exists.  outq is created instead.\n",
      " outq already exists.  outr is created instead.\n",
      " outr already exists.  outs is created instead.\n",
      " outs already exists.  outt is created instead.\n",
      " outt already exists.  outu is created instead.\n",
      " outu already exists.  outv is created instead.\n",
      " outv already exists.  outw is created instead.\n",
      " outw already exists.  outx is created instead.\n",
      " outx already exists.  outy is created instead.\n",
      " outy already exists.  outz is created instead.\n",
      " outz already exists.  outa is created instead.\n",
      " outa already exists.  outb is created instead.\n",
      " outb already exists.  outc is created instead.\n",
      " outc already exists.  outd is created instead.\n",
      " imcn   is done\n",
      " runtpe already exists.  runtpf is created instead.\n",
      " runtpf already exists.  runtpg is created instead.\n",
      " runtpg already exists.  runtph is created instead.\n",
      " runtph already exists.  runtpi is created instead.\n",
      " runtpi already exists.  runtpj is created instead.\n",
      " runtpj already exists.  runtpk is created instead.\n",
      " runtpk already exists.  runtpl is created instead.\n",
      " runtpl already exists.  runtpm is created instead.\n",
      " runtpm already exists.  runtpn is created instead.\n",
      " runtpn already exists.  runtpo is created instead.\n",
      " runtpo already exists.  runtpp is created instead.\n",
      " runtpp already exists.  runtpq is created instead.\n",
      " runtpq already exists.  runtpr is created instead.\n",
      " \u001b[33mwarning.\u001b[39m  neutron energy cutoff is below some cross-section tables.\n",
      " \u001b[33mwarning.\u001b[39m     5 cross sections modified by free gas thermal treatment.\n",
      " dump    1 on file runtpr     nps =         0    coll =              0\n",
      "                              ctm =      0.00     nrn =              0\n",
      " xact   is done\n",
      " dynamic storage =    203034 words,     812136 bytes.      cp0 =  0.00\n",
      " \u001b[33mwarning.\u001b[39m tally not scored beyond last energy bin.                    \n",
      " nps =      2946     tal =   12     erg = 1.0309E+01      \n",
      " \u001b[33mwarning.\u001b[39m tally not scored beyond last energy bin.                    \n",
      " nps =     16331     tal =   22     erg = 1.1372E+01      \n",
      " run terminated when     20000 particle histories were done.\n",
      " \u001b[33mwarning.\u001b[39m  tally  22 tfc bin did not pass  2 of 10 statistical checks.\n",
      " \u001b[33mwarning.\u001b[39m     1 of   2 tallies did not pass all 10 statistical checks.\n",
      " \u001b[33mwarning.\u001b[39m     2 of   2 tallies had bins with large relative errors.\n",
      " dump    2 on file runtpr     nps =     20000    coll =         804580\n",
      "                              ctm =      0.01     nrn =        6745401\n",
      " mcrun  is done\n",
      "\n"
     ]
    }
   ],
   "source": [
    "prettify(mcnp(\"inp=eman.ip\"))"
   ]
  },
  {
   "cell_type": "code",
   "execution_count": 18,
   "metadata": {},
   "outputs": [
    {
     "name": "stdout",
     "output_type": "stream",
     "text": [
      "Overwriting mcnp/hc.ip\n"
     ]
    }
   ],
   "source": [
    "%%writefile mcnp/hc.ip\n",
    "Hazel Carter - Problem 3\n",
    "C\n",
    "C\n",
    "C CELL CARDS\n",
    "C FORMAT: [Cell id number][Material id number][Material density][Surfaces]$[Comment]\n",
    "C\n",
    "1 1 -7.92 6 -8 2 -4 9 -11 (-5:7:-1:3:-10) $Bucket Walls - Stainless Steel [density 7.92g/cm^3]\n",
    "C\n",
    "2 2 -1.0 5 -7 1 -3 10 -12 ((14 15 16 17):18) $Water inside Bucket - Pure Water [density 1 g/cm^3]\n",
    "C\n",
    "3 3 -2.3 -9 13 6 -8 2 -4 $Concrete floor - Concrete [density 2.3 g/cm^3]\n",
    "C\n",
    "4 4 -19.2 10 -14 -18 $Uranium Rod 1\n",
    "5 4 -19.2 10 -15 -18 $Uranium Rod 2\n",
    "6 4 -19.2 10 -16 -18 $Uranium Rod 3\n",
    "7 4 -19.2 10 -17 -18 $Uranium Rod 4\n",
    "C\n",
    "C 8 0  ((-6:8:-2:4:-9:11):(1 -3 5 -7 12 -11)) (9:-13:-6:8:-2:4)  -19 $Void outside of bucket - including air gap\n",
    "C 8 0  (-6:8:-2:4)  -19 $Void outside of bucket - including air gap\n",
    "9 0 19 $Boundary of the problem\n",
    "C\n",
    "\n",
    "C\n",
    "C SURFACE CARDS\n",
    "C FORMAT: [Surface id number][Surface type][Characteristic dimensions, cm]\n",
    "C\n",
    "C Stainless Steel Bucket:\n",
    "1     PX   -50.0\n",
    "2     PX   -50.2\n",
    "3     PX   50.0\n",
    "4     PX   50.2\n",
    "5     PY   -50.0\n",
    "6     PY   -50.2\n",
    "7     PY   50.0\n",
    "8     PY   50.2\n",
    "9     PZ   0.0\n",
    "10    PZ   0.2\n",
    "11    PZ   60.0 $Bucket Top\n",
    "C Water Level:\n",
    "12    PZ   58.0 $Water Surface\n",
    "C\n",
    "C Concrete floor:\n",
    "13    PZ -60.0\n",
    "C\n",
    "C Uranium Rods:\n",
    "14 C/Z -20 0 7.5  $Cylinder of radius 7.5 parrel to z axis \n",
    "15 C/Z 0 20 7.5\n",
    "16 C/Z 20 0 7.5\n",
    "17 C/Z 0 -20 7.5\n",
    "18 PZ 25.2\n",
    "C\n",
    "19 SO 100 $Boundary of problem\n",
    "C\n",
    "\n",
    "C\n",
    "C CELL IMPORTANCE MAP  \n",
    "C FORMAT: [Particle type][Importance of Cell in order they appear in file]\n",
    "IMP:N 1 1 1 1 1 1 1 1 0\n",
    "C\n",
    "C\n",
    "C MATERIAL CARDS\n",
    "C FORMAT: M[Material id number][ZZ][AAA][id][Concentration]\n",
    "C\n",
    "M1   26000.42c -0.74 24000.42c -0.18 28000.42c -0.08 $Stainless Steel: 74% iron, 18% chromium, 8% nickel.\n",
    "M2   1001.42c 2.0 8016.42c 1.0 $Pure Water: 2 hyrdogen, 1 oxygen.\n",
    "MT2 lwtr.01\n",
    "M3   8016.42c -0.53 14000.42c -0.34 20000.42c -0.10 1001.42c -0.03 $Concrete: 53% oxygen, 34% silicon, 10% calcium, 3% hydrogen.\n",
    "M4   92238.42c -0.8 92235.42c -0.2 $Enriched Uranium: 80% U-238, 20% U-235.\n",
    "C\n",
    "C\n",
    "C MODE CARD\n",
    "C FORMAT: MODE[Particle Type]\n",
    "MODE N $Neutrons Only                        \n",
    "C\n",
    "C\n",
    "C SOURCE DEFINITION (KCODE)\n",
    "C FORMAT: [NSRCK][RKK][IKZ][KCT][MSRK][KNRM][MRKP][KC8]\n",
    "C\n",
    "KCODE 1000 0.8 200 1000\n",
    "# KSRC 20 0 12.7 -20 0 12.7 0 20 12.7 0 -20 12.7"
   ]
  },
  {
   "cell_type": "code",
   "execution_count": 10,
   "metadata": {},
   "outputs": [],
   "source": [
    "clean()"
   ]
  },
  {
   "cell_type": "code",
   "execution_count": 11,
   "metadata": {},
   "outputs": [
    {
     "name": "stdout",
     "output_type": "stream",
     "text": [
      " mcnp     ver=4c2  ld=01/20/01     04/11/18 10:35:13                  \n",
      " \u001b[31mfatal error.\u001b[39m  the entire source was rejected.\n",
      "  total fission nubar data are being used.\n",
      "\n",
      " bad trouble in subroutine skcode  of imcn                            \n",
      " no source points in kcode                                            \n",
      "\n",
      "\n"
     ]
    }
   ],
   "source": [
    "prettify(mcnp(\"inp=hc.ip\"))"
   ]
  },
  {
   "cell_type": "code",
   "execution_count": 8,
   "metadata": {},
   "outputs": [
    {
     "name": "stdout",
     "output_type": "stream",
     "text": [
      "Writing mcnp/sanj.ip\n"
     ]
    }
   ],
   "source": [
    "%%writefile mcnp/sanj.ip\n",
    "MESSAGE:\n",
    "\n",
    "MCNP Tutorial Exercise 1 - Sanchit Nardekar , Submission - 30/04/18\n",
    "C\n",
    "C\n",
    "C\n",
    "C\n",
    "C    *** Here we define the problem geometry and materials ***\n",
    "C\n",
    "C   \n",
    "C    CELL CARDS\n",
    "C\n",
    "C    Cell label 1 filled with Stainless steel, label 2 filled with water, other labels are filled with void:\n",
    "1    2 -7.92 10 -12 -20 22 -30 32 (-11:21:-23:31:-33) $Bucket\n",
    "2    1 -1.0  -40 11 -21 23 -31 33 $water limits\n",
    "3    0       -10 12 20 -22 30 -32 $void outside bucket spatial limits\n",
    "4    0       40 -12 -21 23 -31 33 $cuboid shaped void between bucket and water \n",
    "C\n",
    "C\n",
    "C\n",
    "\n",
    "C    SURFACE CARDS\n",
    "C    Base and top\n",
    "C    99    SO   50.0                $ sphere centred on origin, radius = 50.0 cm\n",
    "10   PZ   0 $ base external\n",
    "11   PZ   0.2 $ base internal\n",
    "12   PZ   20 $ top of bucket\n",
    "C    Short Sides\n",
    "20   PY   10.2 $ positive short external\n",
    "21   PY   10 $ postive short internal\n",
    "22   PY   -10.2 $ negative short external\n",
    "23   PY   -10 $ negative short internal\n",
    "C    Long Sides\n",
    "30   PX   5.2 $ postive long external\n",
    "31   PX   5 $ positive long internal\n",
    "32   PX   -5.2 $ negative long external\n",
    "33   PX   -5 $ negative long internal\n",
    "C    Water Boundary\n",
    "40   PZ   19 $ boundary of water surface \n",
    "\n",
    "C    CELL IMPORTANCE MAP       $ lists importance of neutrons in ascending cell order\n",
    "IMP:N 1 1 0 1 $ bucket, water and bucket-water void have importance 1, everything else has importance 0      \n",
    "C\n",
    "C\n",
    "C\n",
    "C    MATERIAL CARDS\n",
    "M1   1001.42c 2.0 8016.42c 1.0 $ water \n",
    "M2   26000.42c -0.74 24000.42c -0.18 28000.42c -0.08 $ stainless steel by weight percent\n",
    "C\n",
    "C\n",
    "C\n",
    "C    *** Here we define the problem physics ***\n",
    "C\n",
    "C\n",
    "C    MODE CARD\n",
    "MODE N $ sets simulation to run neutrons only\n",
    "C\n",
    "C    SOURCE DEFINITION\n",
    "SDEF POS=0.0 0.0 2.2 ERG=D1 $ Point neutron source, 2.2cm above origin \n",
    "SP1  -3 0.965 2.29 $ Defines Watt fission spectrum and coefficients\n",
    "C    TALLY CARDS\n",
    "C    FC12 Dose rate for short sides of bucket\n",
    "F12:N (20 22) $ short side tallies\n",
    "C    FC22 Dose rate for long side of bucket\n",
    "F22:N (30 32) $ long side tallies \n",
    "E0   1e-9 1e-8 1e-7 1e-6 1e-5 1e-4 1e-3 1e-2 0.1 1 10\n",
    "C\n",
    "C    NUMBER OF PARTICLE HISTORIES TO RUN\n",
    "NPS  20000\n",
    "C    OUTPUT INFORMATION - Facilitates analysis\n",
    "PRDMP 0 0 1 1 0"
   ]
  },
  {
   "cell_type": "code",
   "execution_count": 10,
   "metadata": {},
   "outputs": [
    {
     "name": "stdout",
     "output_type": "stream",
     "text": [
      " mcnp     ver=4c2  ld=01/20/01     04/11/18 20:30:22                  \n",
      " \u001b[33mwarning.\u001b[39m    1 materials had unnormalized fractions. print table 40.\n",
      " imcn   is done\n",
      " \u001b[33mwarning.\u001b[39m  neutron energy cutoff is below some cross-section tables.\n",
      " \u001b[33mwarning.\u001b[39m     5 cross sections modified by free gas thermal treatment.\n",
      " dump    1 on file runtpe     nps =         0    coll =              0\n",
      "                              ctm =      0.00     nrn =              0\n",
      " xact   is done\n",
      " dynamic storage =    176912 words,     707648 bytes.      cp0 =  0.00\n",
      " geometry error in newcel \n",
      " run terminated because  \u001b[31m10 particles got lost.\u001b[39m\n",
      " \u001b[33mwarning.\u001b[39m     2 of   2 tallies did not pass all 10 statistical checks.\n",
      " \u001b[33mwarning.\u001b[39m     2 of   2 tallies were all zeros.\n",
      " dump    2 on file runtpe     nps =        10    coll =              0\n",
      "                              ctm =      0.00     nrn =           3971\n",
      " tally data written to file mctal   \n",
      " mcrun  is done\n",
      "\n"
     ]
    }
   ],
   "source": [
    "clean()\n",
    "prettify(mcnp(\"inp=sanj.ip\"))"
   ]
  },
  {
   "cell_type": "code",
   "execution_count": 22,
   "metadata": {},
   "outputs": [
    {
     "name": "stdout",
     "output_type": "stream",
     "text": [
      "Overwriting mcnp/en.ip\n"
     ]
    }
   ],
   "source": [
    "%%writefile mcnp/en.ip\n",
    "MESSAGE:\n",
    "\n",
    "Bucket filled with water with stainless steel sides\n",
    "C\n",
    "C\n",
    "C\n",
    "C\n",
    "C    ***CELL CARDS**\n",
    "1  1 -1     1 -2 3 -4   5 -12 $ water\n",
    "2  2 -7.92 -7 -1 9 -10 11 -6  $ left SS wall\n",
    "3  2 -7.92  2 -8 9 -10 11 -6  $ right SS wall\n",
    "4  2 -7.92  1 -2 9 -3  11 -6  $ front SS\n",
    "5  2 -7.92  1 -2 4 -10 11 -6  $ back\n",
    "6  2 -7.92  1 -2 3 -4  11 -5  $ bottom\n",
    "98 0        1 -2 3 -4  -6  12  $ void area above waterline\n",
    "99 0 #1 #2 #3 #4 #5 #6 #98        $ void everywhere else\n",
    "\n",
    "C    ***SURFACE CARDS*** \n",
    "1 PX -10.0 $ left (inside bucket x=20cm y=20cm z=10cm)\n",
    "2 PX 10.0 $ right\n",
    "3 PY -5.0 $ front\n",
    "4 PY 5.0 $ back\n",
    "5 PZ 0.0 $ bottom\n",
    "6 PZ 20.0 $ top\n",
    "7 PX -10.2 $ outer left\n",
    "8 PX 10.2 $ outer right\n",
    "9 PY -5.2 $ outer front\n",
    "10 PY 5.2 $ outer back\n",
    "11 PZ -0.2 $ outer bottom\n",
    "12 PZ 19.0 $ water height\n",
    "\n",
    "C    ***MATERIAL CARDS***\n",
    "M1   1001.42c 0.6667  8016.42c 0.3333                $ Pure water in at%\n",
    "M2   26000.42c -0.74 24000.42c -0.18 28000.42c -0.08 $ Stainless steel in wt%\n",
    "C\n",
    "C\n",
    "C    ***MODE CARD***\n",
    "MODE N\n",
    "IMP:N 1 1 1 1 1 1 1 0\n",
    "C\n",
    "C    ***SOURCE DEFINITION***\n",
    "SDEF POS=0.0 0.0 0.2 PAR=1 ERG=D4                 $ position (10,5,0.2), energy type spectrum, neutrons\n",
    "SP4 -3 0.988 2.249                           $ watt fission spectrum, a and b found from appendix H\n",
    "C\n",
    "C    ***TALLY CARDS***\n",
    "F12:N (7 8)                  $ surface integrated neutron fluences av over 7 and 8, 9 and 10, and 7 through 10\n",
    "F22:N (9 10)\n",
    "E0  10E-9 10E-8 10E-7 10E-6 10E-5 10E-4 10E-3 10E-2 10E-1 10  $ energy bins for all tallies\n",
    "C\n",
    "C    ***NUMBER OF PARTICLE HISTORIES TO RUN***\n",
    "NPS  20000"
   ]
  },
  {
   "cell_type": "code",
   "execution_count": 23,
   "metadata": {},
   "outputs": [
    {
     "name": "stdout",
     "output_type": "stream",
     "text": [
      " mcnp     ver=4c2  ld=01/20/01     04/20/18 16:08:56                  \n",
      " \u001b[31mfatal error.\u001b[39m     1 tally volumes or areas were not input nor calculated.\n",
      " imcn   is done\n",
      " \u001b[33mwarning.\u001b[39m  neutron energy cutoff is below some cross-section tables.\n",
      " \u001b[33mwarning.\u001b[39m     5 cross sections modified by free gas thermal treatment.\n",
      " xact   is done\n",
      "\n"
     ]
    }
   ],
   "source": [
    "clean()\n",
    "prettify(mcnp(\"inp=en.ip\"))"
   ]
  },
  {
   "cell_type": "code",
   "execution_count": 15,
   "metadata": {},
   "outputs": [
    {
     "name": "stdout",
     "output_type": "stream",
     "text": [
      "Overwriting mcnp/js.ip\n"
     ]
    }
   ],
   "source": [
    "%%writefile mcnp/js.ip\n",
    "C    TITLE CARD\n",
    "C    Jonathon Stewart\n",
    "C    Practical Monte Carlo using MCNP - Assessed Exercises\n",
    "C    Exercise 3\n",
    "C\n",
    "C\n",
    "C \n",
    "C    CELL CARDS\n",
    "C\n",
    "1    1  -7.92  1 -7 8 -11 3 -6        $ Cuboid for side 1 of the stainless steel bucket. Density = 7.92 g/cc.\n",
    "2    1  -7.92  1 -4 2 -8 3 -6         $ Cuboid for side 2 of the stainless steel bucket. Density = 7.92 g/cc.\n",
    "3    1  -7.92  10 -4 8 -11 3 -6       $ Cuboid for side 3 of the stainless steel bucket. Density = 7.92 g/cc.\n",
    "4    1  -7.92  1 -4 11 -5 3 -6        $ Cuboid for side 4 of the stainless steel bucket. Density = 7.92 g/cc.\n",
    "5    1  -7.92  7 -10 8 -11 3 -9       $ Cuboid for base of the stainless steel bucket. Density = 7.92 g/cc.\n",
    "6    2  -1     7 -10 8 -11 9 -12  ((15 16 17 18):14)    $ Cuboid for the water in the bucket. Density = 1 g/cc.\n",
    "7    3  -2.3   -3 13 -99              $ Concrete floor, bound in x and y by the exterior sphere. Density = 2.3 g/cc.\n",
    "8    4  -19.2   -15 9 -14             $ Cylinder 1, 25 cm high from the bucket floor. Density = 19.2 g/cc.\n",
    "9    4  -19.2   -16 9 -14             $ Cylinder 2, 25 cm high from the bucket floor. Density = 19.2 g/cc.\n",
    "10   4  -19.2   -17 9 -14             $ Cylinder 3, 25 cm high from the bucket floor. Density = 19.2 g/cc.\n",
    "11   4  -19.2   -18 9 -14             $ Cylinder 4, 25 cm high from the bucket floor. Density = 19.2 g/cc.\n",
    "C\n",
    "98   0         -99 #1 #2 #3 #4 #5 #6 #7 #8 #9 #10 #11  $ Void cell inside surface 99, excluding the bucket and water\n",
    "99   0         99                        $ Void cell outside surface 99.\n",
    "C\n",
    "C\n",
    "C Blank line delimiter\n",
    "\n",
    "C\n",
    "C    SURFACE CARDS\n",
    "C\n",
    "C for the exterior planes of the bucket:\n",
    "1     PX   0.0       $ Plane perpendicular to x axis at x = 0.\n",
    "2     PY   0.0       $ Plane perpendicular to y axis at y = 0.\n",
    "3     PZ   0.0       $ Plane perpendicular to z axis at z = 0.\n",
    "4     PX   100.4     $ Plane perpendicular to x axis at x = 100.4. 100.4 cm from 100 cm base plus 2 x 0.2 cm sides.\n",
    "5     PY   100.4     $ Plane perpendicular to y axis at y = 100.4. 100.4 cm from 100 cm base plus 2 x 0.2 cm sides.\n",
    "6     PZ   60.0      $ Plane perpendicular to z axis at z = 60. 60 cm exterior height.\n",
    "C\n",
    "C for the interior planes of the bucket:\n",
    "7     PX   0.2       $ Plane perpendicular to x axis at x = 0.2. 0.2 cm from the x = 0 exterior plane.\n",
    "8     PY   0.2       $ Plane perpendicular to y axis at y = 0.2. 0.2 cm from the y = 0 exterior plane.\n",
    "9     PZ   0.2       $ Plane perpendicular to z axis at z = 0.2. 0.2 cm from the z = 0 exterior plane.\n",
    "10    PX   100.2     $ Plane perpendicular to x axis at x = 100.2. 0.2 cm from the x = 100.4 exterior plane.\n",
    "11    PY   100.2     $ Plane perpendicular to y axis at y = 100.2. 0.2 cm from the y = 100.4 exterior plane.\n",
    "C\n",
    "C for the water:\n",
    "12    PZ   58.0      $ Plane perpendicular to z axis at z = 58. 2 cm from the z = 60 \"top\" exterior plane.\n",
    "C\n",
    "C for the concrete floor:\n",
    "13    PZ   -350      $ Plane perpendicular to z axis at z = -350. 3.5 m thick concrete floor.\n",
    "C\n",
    "C for the cylinders:\n",
    "14    PZ   25.2      $ Plane perpendicular to z axis at z = 25.2. 25cm tall cylinders.\n",
    "15    C/Z  30.2 50.2 7.5  $ Cylinder centred on (30.2, 50.2) parallel to the z-axis with radius = 7.5 cm.\n",
    "16    C/Z  50.2 30.2 7.5  $ Cylinder centred on (50.2, 30.2) parallel to the z-axis with radius = 7.5 cm.\n",
    "17    C/Z  70.2 50.2 7.5  $ Cylinder centred on (70.2, 50.2) parallel to the z-axis with radius = 7.5 cm.\n",
    "18    C/Z  50.2 70.2 7.5  $ Cylinder centred on (50.2, 70.2) parallel to the z-axis with radius = 7.5 cm.\n",
    "C\n",
    "C for an arbitrary exterior sphere:\n",
    "99    SO   500.0     $ Sphere centres on the origin, radius = 500 cm.   \n",
    "C\n",
    "C\n",
    "C Blank line delimiter\n",
    "\n",
    "C \n",
    "C    CELL IMPORTANCE MAP\n",
    "C\n",
    "IMP:N 1 1 1 1 1 1 1 1 1 1 1 0 0          $ Importance the same for all the cells, apart from the void cells.\n",
    "C\n",
    "C\n",
    "C \n",
    "C\n",
    "C\n",
    "C    MATERIAL CARDS\n",
    "C\n",
    "M1   26000.42c 0.74 24000.42c 0.18 28000.42c 0.08       $ Stainless steel; 74% iron, 18% chromium, 8% nickel by weight.\n",
    "M2   1001.42c 0.667 8016.42c 0.333                 $ Water; 66.7% hydrogen, 33.3% water by weight.\n",
    "M3   8016.42c 0.53 14000.42c 0.34 20000.42c 0.10 1001.42c 0.03     $ Concrete; 53% oxygen, 34% silicon, 10% calcium, 1% hydrogen.\n",
    "M4   92238.42c 0.80 92235.42c 0.20               $ Enriched uranium; 80% uranium 238, 20% uranium 235 by weight.\n",
    "C\n",
    "C\n",
    "C\n",
    "C\n",
    "C\n",
    "C    MODE CARD\n",
    "C\n",
    "MODE N               $ Sets the simulation to run neutrons only.\n",
    "C\n",
    "C\n",
    "C\n",
    "C\n",
    "C\n",
    "C    SDEF CARDS\n",
    "C\n",
    "SDEF PAR=1 ERG=D4 POS=7.0 12.0 4.0     $ Neutron source 2 cm up from the centre of the base, with energy distribution defined by D4.\n",
    "SP4  -3 0.988 2.249          $ Watt fission spectrum with a = 0.988 MeV and b = 2.249 MeV from Appendix H.\n",
    "C\n",
    "C\n",
    "C\n",
    "C\n",
    "C\n",
    "C    TALLY CARDS\n",
    "C\n",
    "F12:N 1 4            $ Tally of neutron fluence over the short (x) sides of the bucket.\n",
    "E12   10e-9 10e-8 10e-7 10e-6 10e-5 10e-4 10e-3 10e-2 10e-1 10  $ Energy bins from 10e-9 MeV to 10 MeV.\n",
    "F22:N 2 5            $ Tally of neutron fluence over the long (y) sides of the bucket.\n",
    "E22   10e-9 10e-8 10e-7 10e-6 10e-5 10e-4 10e-3 10e-2 10e-1 10  $ Energy bins from 10e-9 MeV to 10 MeV.\n",
    "C\n",
    "C\n",
    "C\n",
    "C\n",
    "C\n",
    "C    NUMBER OF PARTICLE HISTORIES TO RUN\n",
    "C\n",
    "NPS  20000"
   ]
  },
  {
   "cell_type": "code",
   "execution_count": 13,
   "metadata": {},
   "outputs": [
    {
     "name": "stdout",
     "output_type": "stream",
     "text": [
      " mcnp     ver=4c2  ld=01/20/01     04/28/18 10:34:29                  \n",
      " outp already exists.  outq is created instead.\n",
      " outq already exists.  outr is created instead.\n",
      " outr already exists.  outs is created instead.\n",
      " outs already exists.  outt is created instead.\n",
      " outt already exists.  outu is created instead.\n",
      " outu already exists.  outv is created instead.\n",
      " imcn   is done\n",
      " runtpe already exists.  runtpf is created instead.\n",
      " runtpf already exists.  runtpg is created instead.\n",
      " runtpg already exists.  runtph is created instead.\n",
      " runtph already exists.  runtpi is created instead.\n",
      " runtpi already exists.  runtpj is created instead.\n",
      " runtpj already exists.  runtpk is created instead.\n",
      " \u001b[33mwarning.\u001b[39m  neutron energy cutoff is below some cross-section tables.\n",
      " \u001b[33mwarning.\u001b[39m     9 cross sections modified by free gas thermal treatment.\n",
      " dump    1 on file runtpk     nps =         0    coll =              0\n",
      "                              ctm =      0.00     nrn =              0\n",
      " xact   is done\n",
      " dynamic storage =    398902 words,    1595608 bytes.      cp0 =  0.01\n",
      " run terminated when     20000 particle histories were done.\n",
      " \u001b[33mwarning.\u001b[39m  tally  12 tfc bin did not pass  1 of 10 statistical checks.\n",
      " \u001b[33mwarning.\u001b[39m  tally  22 tfc bin did not pass  1 of 10 statistical checks.\n",
      " \u001b[33mwarning.\u001b[39m     2 of   2 tallies did not pass all 10 statistical checks.\n",
      " \u001b[33mwarning.\u001b[39m     2 of   2 tallies had bins with large relative errors.\n",
      " dump    2 on file runtpk     nps =     20000    coll =        2362709\n",
      "                              ctm =      0.05     nrn =       39307971\n",
      " mcrun  is done\n",
      "\n"
     ]
    }
   ],
   "source": [
    "prettify(mcnp(\"inp=js.ip\"))"
   ]
  },
  {
   "cell_type": "code",
   "execution_count": null,
   "metadata": {},
   "outputs": [],
   "source": []
  }
 ],
 "metadata": {
  "kernelspec": {
   "display_name": "Python 3",
   "language": "python",
   "name": "python3"
  },
  "language_info": {
   "codemirror_mode": {
    "name": "ipython",
    "version": 3
   },
   "file_extension": ".py",
   "mimetype": "text/x-python",
   "name": "python",
   "nbconvert_exporter": "python",
   "pygments_lexer": "ipython3",
   "version": "3.6.3"
  }
 },
 "nbformat": 4,
 "nbformat_minor": 2
}
